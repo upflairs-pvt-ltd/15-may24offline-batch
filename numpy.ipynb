{
 "cells": [
  {
   "cell_type": "code",
   "execution_count": 1,
   "id": "de2ca334-3087-4f38-9e51-7bae84325da2",
   "metadata": {},
   "outputs": [],
   "source": [
    "import numpy as np \n"
   ]
  },
  {
   "cell_type": "code",
   "execution_count": 5,
   "id": "d911b27b-b2ad-4fbe-9d9d-58988796dfe2",
   "metadata": {},
   "outputs": [
    {
     "data": {
      "text/plain": [
       "array([10, 20, 30, 40, 50, 60])"
      ]
     },
     "execution_count": 5,
     "metadata": {},
     "output_type": "execute_result"
    }
   ],
   "source": [
    "arr = np.array([10,20,30,40,50,60])\n",
    "arr "
   ]
  },
  {
   "cell_type": "code",
   "execution_count": 6,
   "id": "feeda6ed-2dc2-4061-9054-b5399cbae76c",
   "metadata": {},
   "outputs": [
    {
     "data": {
      "text/plain": [
       "numpy.ndarray"
      ]
     },
     "execution_count": 6,
     "metadata": {},
     "output_type": "execute_result"
    }
   ],
   "source": [
    "type(arr)"
   ]
  },
  {
   "cell_type": "code",
   "execution_count": 9,
   "id": "3983d16a-e084-4dbe-8f38-7268c2f54e58",
   "metadata": {},
   "outputs": [
    {
     "data": {
      "text/plain": [
       "array(['10', '20', '30', '40', '50', '60', '100.25', 'upflairs'],\n",
       "      dtype='<U32')"
      ]
     },
     "execution_count": 9,
     "metadata": {},
     "output_type": "execute_result"
    }
   ],
   "source": [
    "## similar type data insert \n",
    "arr = np.array([10,20,30,40,50,60,100.25,'upflairs'])\n",
    "arr "
   ]
  },
  {
   "cell_type": "code",
   "execution_count": 10,
   "id": "fbde710a-6d69-4e2b-9838-39a40cd816bc",
   "metadata": {},
   "outputs": [
    {
     "data": {
      "text/plain": [
       "array([ 10,  20,  30,  40,  50,  60,  70,  80,  90, 100])"
      ]
     },
     "execution_count": 10,
     "metadata": {},
     "output_type": "execute_result"
    }
   ],
   "source": [
    "arr = np.array([10,20,30,40,50,60,70,80,90,100])\n",
    "arr "
   ]
  },
  {
   "cell_type": "code",
   "execution_count": 11,
   "id": "ce768c21-e3dc-43c0-95ac-0f561d9042e7",
   "metadata": {},
   "outputs": [
    {
     "data": {
      "text/plain": [
       "1"
      ]
     },
     "execution_count": 11,
     "metadata": {},
     "output_type": "execute_result"
    }
   ],
   "source": [
    "### dimesion \n",
    "arr.ndim "
   ]
  },
  {
   "cell_type": "code",
   "execution_count": 13,
   "id": "b6cef1f9-2d90-4146-86f6-90eb48676dff",
   "metadata": {},
   "outputs": [
    {
     "data": {
      "text/plain": [
       "(10,)"
      ]
     },
     "execution_count": 13,
     "metadata": {},
     "output_type": "execute_result"
    }
   ],
   "source": [
    "arr.shape "
   ]
  },
  {
   "cell_type": "code",
   "execution_count": 17,
   "id": "3e6c47be-ebde-4da5-8cca-8d89c51a13b5",
   "metadata": {},
   "outputs": [
    {
     "data": {
      "text/plain": [
       "array([[1, 2, 3],\n",
       "       [4, 5, 6]])"
      ]
     },
     "execution_count": 17,
     "metadata": {},
     "output_type": "execute_result"
    }
   ],
   "source": [
    "arr = [[1,2,3],[4,5,6]]\n",
    "arr2 = np.array(arr)\n",
    "arr2"
   ]
  },
  {
   "cell_type": "code",
   "execution_count": 18,
   "id": "c0bd68e2-37f0-4c39-a9e2-e6c0ca4a6f9f",
   "metadata": {},
   "outputs": [
    {
     "data": {
      "text/plain": [
       "2"
      ]
     },
     "execution_count": 18,
     "metadata": {},
     "output_type": "execute_result"
    }
   ],
   "source": [
    "arr2.ndim"
   ]
  },
  {
   "cell_type": "code",
   "execution_count": 19,
   "id": "e8e69575-127c-43bb-b5ef-6cdd3f00ebc4",
   "metadata": {},
   "outputs": [
    {
     "data": {
      "text/plain": [
       "(2, 3)"
      ]
     },
     "execution_count": 19,
     "metadata": {},
     "output_type": "execute_result"
    }
   ],
   "source": [
    "arr2.shape "
   ]
  },
  {
   "cell_type": "code",
   "execution_count": null,
   "id": "444d2d39-101b-411c-b5af-e6a61b926fef",
   "metadata": {},
   "outputs": [],
   "source": [
    "# 2d \n",
    "# [1d,1d,1d]\n",
    "\n",
    "# 3d \n",
    "# [2d,2d,2d]\n",
    "\n"
   ]
  },
  {
   "cell_type": "code",
   "execution_count": 3,
   "id": "a64afe63-66a0-4e00-b8aa-2fc4ac775237",
   "metadata": {},
   "outputs": [
    {
     "data": {
      "text/plain": [
       "array([10, 20, 30, 40, 50, 60])"
      ]
     },
     "execution_count": 3,
     "metadata": {},
     "output_type": "execute_result"
    }
   ],
   "source": [
    "arr = np.array([10,20,30,40,50,60])\n",
    "arr "
   ]
  },
  {
   "cell_type": "code",
   "execution_count": 7,
   "id": "4f91a001-f297-4881-85d1-c635d09d1861",
   "metadata": {},
   "outputs": [
    {
     "data": {
      "text/plain": [
       "50"
      ]
     },
     "execution_count": 7,
     "metadata": {},
     "output_type": "execute_result"
    }
   ],
   "source": [
    "arr[-2] "
   ]
  },
  {
   "cell_type": "code",
   "execution_count": 8,
   "id": "d7d5a59d-3209-48ba-be17-c8f5e0ca72cb",
   "metadata": {},
   "outputs": [
    {
     "data": {
      "text/plain": [
       "array([ 0,  1,  2,  3,  4,  5,  6,  7,  8,  9, 10, 11, 12, 13, 14, 15, 16,\n",
       "       17, 18, 19, 20])"
      ]
     },
     "execution_count": 8,
     "metadata": {},
     "output_type": "execute_result"
    }
   ],
   "source": [
    "np.arange(21)  # single dimension "
   ]
  },
  {
   "cell_type": "code",
   "execution_count": 9,
   "id": "9783605b-57f5-4ae5-8b65-8abf1814d424",
   "metadata": {},
   "outputs": [
    {
     "data": {
      "text/plain": [
       "array([0., 0., 0., 0., 0., 0., 0., 0., 0., 0.])"
      ]
     },
     "execution_count": 9,
     "metadata": {},
     "output_type": "execute_result"
    }
   ],
   "source": [
    "np.zeros(10)"
   ]
  },
  {
   "cell_type": "code",
   "execution_count": 15,
   "id": "4ba56d2a-c078-47d6-9588-b3f7d60df83c",
   "metadata": {},
   "outputs": [
    {
     "data": {
      "text/plain": [
       "array([[0., 0., 0., 0., 0.],\n",
       "       [0., 0., 0., 0., 0.]])"
      ]
     },
     "execution_count": 15,
     "metadata": {},
     "output_type": "execute_result"
    }
   ],
   "source": [
    "np.zeros((2,5))\n"
   ]
  },
  {
   "cell_type": "code",
   "execution_count": 18,
   "id": "0bbffd73-a25e-41d6-bd50-47306919659a",
   "metadata": {},
   "outputs": [
    {
     "data": {
      "text/plain": [
       "array([[1., 1., 1., 1., 1.],\n",
       "       [1., 1., 1., 1., 1.],\n",
       "       [1., 1., 1., 1., 1.],\n",
       "       [1., 1., 1., 1., 1.],\n",
       "       [1., 1., 1., 1., 1.],\n",
       "       [1., 1., 1., 1., 1.],\n",
       "       [1., 1., 1., 1., 1.],\n",
       "       [1., 1., 1., 1., 1.],\n",
       "       [1., 1., 1., 1., 1.],\n",
       "       [1., 1., 1., 1., 1.]])"
      ]
     },
     "execution_count": 18,
     "metadata": {},
     "output_type": "execute_result"
    }
   ],
   "source": [
    "np.ones((10,5))"
   ]
  },
  {
   "cell_type": "code",
   "execution_count": 31,
   "id": "5f55e129-daa0-4225-b185-0496ed595a40",
   "metadata": {},
   "outputs": [
    {
     "data": {
      "text/plain": [
       "array([2.        , 2.66666667, 3.33333333, 4.        , 4.66666667,\n",
       "       5.33333333, 6.        , 6.66666667, 7.33333333, 8.        ])"
      ]
     },
     "execution_count": 31,
     "metadata": {},
     "output_type": "execute_result"
    }
   ],
   "source": [
    "np.linspace(2,8,10)  # in between 2 to 8 , create array with 10 items"
   ]
  },
  {
   "cell_type": "code",
   "execution_count": 21,
   "id": "a7f6e7d9-359c-4c5e-9918-352286622e81",
   "metadata": {},
   "outputs": [
    {
     "data": {
      "text/plain": [
       "array([ 5.        ,  5.10204082,  5.20408163,  5.30612245,  5.40816327,\n",
       "        5.51020408,  5.6122449 ,  5.71428571,  5.81632653,  5.91836735,\n",
       "        6.02040816,  6.12244898,  6.2244898 ,  6.32653061,  6.42857143,\n",
       "        6.53061224,  6.63265306,  6.73469388,  6.83673469,  6.93877551,\n",
       "        7.04081633,  7.14285714,  7.24489796,  7.34693878,  7.44897959,\n",
       "        7.55102041,  7.65306122,  7.75510204,  7.85714286,  7.95918367,\n",
       "        8.06122449,  8.16326531,  8.26530612,  8.36734694,  8.46938776,\n",
       "        8.57142857,  8.67346939,  8.7755102 ,  8.87755102,  8.97959184,\n",
       "        9.08163265,  9.18367347,  9.28571429,  9.3877551 ,  9.48979592,\n",
       "        9.59183673,  9.69387755,  9.79591837,  9.89795918, 10.        ])"
      ]
     },
     "execution_count": 21,
     "metadata": {},
     "output_type": "execute_result"
    }
   ],
   "source": [
    "np.linspace(5,10)"
   ]
  },
  {
   "cell_type": "code",
   "execution_count": 32,
   "id": "c3d502da-81eb-41c7-9859-446f80e29728",
   "metadata": {},
   "outputs": [],
   "source": [
    "import random"
   ]
  },
  {
   "cell_type": "code",
   "execution_count": 36,
   "id": "c0c34da8-4b9f-4e64-bf79-ae64e0600356",
   "metadata": {},
   "outputs": [
    {
     "data": {
      "text/plain": [
       "array([3, 0])"
      ]
     },
     "execution_count": 36,
     "metadata": {},
     "output_type": "execute_result"
    }
   ],
   "source": [
    "np.random.randint((5,2))"
   ]
  },
  {
   "cell_type": "code",
   "execution_count": 37,
   "id": "9d7d1782-6e3f-4460-a760-c919a928b85d",
   "metadata": {},
   "outputs": [
    {
     "data": {
      "text/plain": [
       "array([0.40858092, 0.0246191 , 0.52670341, 0.65067157, 0.98827069,\n",
       "       0.94153516, 0.72219973, 0.51200833, 0.37687931, 0.17759757])"
      ]
     },
     "execution_count": 37,
     "metadata": {},
     "output_type": "execute_result"
    }
   ],
   "source": [
    "np.random.random(10)"
   ]
  },
  {
   "cell_type": "code",
   "execution_count": 42,
   "id": "68a440c1-b45e-4469-b713-698f9a513467",
   "metadata": {},
   "outputs": [
    {
     "data": {
      "text/plain": [
       "array([[ 0,  1,  2,  3,  4,  5,  6,  7,  8,  9, 10],\n",
       "       [11, 12, 13, 14, 15, 16, 17, 18, 19, 20, 21]])"
      ]
     },
     "execution_count": 42,
     "metadata": {},
     "output_type": "execute_result"
    }
   ],
   "source": [
    "np.arange(22).reshape(2,11)"
   ]
  },
  {
   "cell_type": "code",
   "execution_count": null,
   "id": "c666ebe2-b628-4486-8297-15a051706378",
   "metadata": {},
   "outputs": [],
   "source": [
    "11 * 2 "
   ]
  },
  {
   "cell_type": "code",
   "execution_count": 43,
   "id": "2c71cc6d-6a4e-47d6-a3a6-6bd4b9395f19",
   "metadata": {},
   "outputs": [
    {
     "data": {
      "text/plain": [
       "60"
      ]
     },
     "execution_count": 43,
     "metadata": {},
     "output_type": "execute_result"
    }
   ],
   "source": [
    "12*5"
   ]
  },
  {
   "cell_type": "code",
   "execution_count": 49,
   "id": "c294acb2-55a1-4f02-b99b-cd0a36da903b",
   "metadata": {},
   "outputs": [
    {
     "data": {
      "text/plain": [
       "array([[ 0,  1,  2,  3,  4],\n",
       "       [ 5,  6,  7,  8,  9],\n",
       "       [10, 11, 12, 13, 14],\n",
       "       [15, 16, 17, 18, 19],\n",
       "       [20, 21, 22, 23, 24],\n",
       "       [25, 26, 27, 28, 29],\n",
       "       [30, 31, 32, 33, 34],\n",
       "       [35, 36, 37, 38, 39],\n",
       "       [40, 41, 42, 43, 44],\n",
       "       [45, 46, 47, 48, 49],\n",
       "       [50, 51, 52, 53, 54],\n",
       "       [55, 56, 57, 58, 59]])"
      ]
     },
     "execution_count": 49,
     "metadata": {},
     "output_type": "execute_result"
    }
   ],
   "source": [
    "arr = np.arange(60).reshape(12,5)\n",
    "arr "
   ]
  },
  {
   "cell_type": "code",
   "execution_count": 54,
   "id": "58eca3d3-68ae-4658-a6dd-98d794a157ff",
   "metadata": {},
   "outputs": [
    {
     "data": {
      "text/plain": [
       "array([ 0,  1,  2,  3,  4,  5,  6,  7,  8,  9, 10, 11, 12, 13, 14, 15, 16,\n",
       "       17, 18, 19, 20, 21, 22, 23, 24, 25, 26, 27, 28, 29, 30, 31, 32, 33,\n",
       "       34, 35, 36, 37, 38, 39, 40, 41, 42, 43, 44, 45, 46, 47, 48, 49, 50,\n",
       "       51, 52, 53, 54, 55, 56, 57, 58, 59])"
      ]
     },
     "execution_count": 54,
     "metadata": {},
     "output_type": "execute_result"
    }
   ],
   "source": [
    "b =  arr.ravel() \n",
    "b "
   ]
  },
  {
   "cell_type": "code",
   "execution_count": 56,
   "id": "ba63acc3-e170-48cc-bb3d-70cdff99aaaf",
   "metadata": {},
   "outputs": [
    {
     "data": {
      "text/plain": [
       "array([ 0,  1,  2,  3,  4,  5,  6,  7,  8,  9, 10, 11, 12, 13, 14, 15, 16,\n",
       "       17, 18, 19, 20, 21, 22, 23, 24, 25, 26, 27, 28, 29, 30, 31, 32, 33,\n",
       "       34, 35, 36, 37, 38, 39, 40, 41, 42, 43, 44, 45, 46, 47, 48, 49, 50,\n",
       "       51, 52, 53, 54, 55, 56, 57, 58, 59])"
      ]
     },
     "execution_count": 56,
     "metadata": {},
     "output_type": "execute_result"
    }
   ],
   "source": [
    "arr.flatten()"
   ]
  },
  {
   "cell_type": "code",
   "execution_count": 60,
   "id": "4c794f2f-86d4-4720-a6a3-f697932e685c",
   "metadata": {},
   "outputs": [
    {
     "data": {
      "text/plain": [
       "array([ 0,  1,  2,  3,  4,  5,  6,  7,  8,  9, 10, 11, 12, 13, 14, 15, 16,\n",
       "       17, 18, 19, 20, 21, 22, 23, 24, 25, 26, 27, 28, 29, 30, 31, 32, 33,\n",
       "       34, 35, 36, 37, 38, 39, 40, 41, 42, 43, 44, 45, 46, 47, 48, 49, 50,\n",
       "       51, 52, 53, 54, 55, 56, 57, 58, 59])"
      ]
     },
     "execution_count": 60,
     "metadata": {},
     "output_type": "execute_result"
    }
   ],
   "source": [
    "arr.reshape(60,) "
   ]
  },
  {
   "cell_type": "code",
   "execution_count": 63,
   "id": "35acf883-2272-4b6e-aff8-3d2f4540c266",
   "metadata": {},
   "outputs": [
    {
     "data": {
      "text/plain": [
       "array([10, 45, 63, 85, 96,  4, 52,  2, 36, 41])"
      ]
     },
     "execution_count": 63,
     "metadata": {},
     "output_type": "execute_result"
    }
   ],
   "source": [
    "arr = np.array([10,45,63,85,96,4,52,2,36,41])\n",
    "arr "
   ]
  },
  {
   "cell_type": "code",
   "execution_count": 66,
   "id": "f662bb1a-02f9-4355-8955-187029094ac1",
   "metadata": {},
   "outputs": [
    {
     "data": {
      "text/plain": [
       "array([45, 10])"
      ]
     },
     "execution_count": 66,
     "metadata": {},
     "output_type": "execute_result"
    }
   ],
   "source": [
    "arr[1::-1]"
   ]
  },
  {
   "cell_type": "code",
   "execution_count": 2,
   "id": "8aecede7-506c-45cc-a6eb-ca48b183ef23",
   "metadata": {},
   "outputs": [
    {
     "data": {
      "text/plain": [
       "array([[ 0,  1,  2,  3,  4],\n",
       "       [ 5,  6,  7,  8,  9],\n",
       "       [10, 11, 12, 13, 14],\n",
       "       [15, 16, 17, 18, 19],\n",
       "       [20, 21, 22, 23, 24],\n",
       "       [25, 26, 27, 28, 29],\n",
       "       [30, 31, 32, 33, 34],\n",
       "       [35, 36, 37, 38, 39],\n",
       "       [40, 41, 42, 43, 44],\n",
       "       [45, 46, 47, 48, 49],\n",
       "       [50, 51, 52, 53, 54],\n",
       "       [55, 56, 57, 58, 59]])"
      ]
     },
     "execution_count": 2,
     "metadata": {},
     "output_type": "execute_result"
    }
   ],
   "source": [
    "arr = np.arange(60).reshape(12,5)\n",
    "arr "
   ]
  },
  {
   "cell_type": "code",
   "execution_count": 5,
   "id": "ffa5fd33-d0ae-4162-8538-36bcd051dd3b",
   "metadata": {},
   "outputs": [
    {
     "data": {
      "text/plain": [
       "array([10, 11, 12, 13, 14])"
      ]
     },
     "execution_count": 5,
     "metadata": {},
     "output_type": "execute_result"
    }
   ],
   "source": [
    "arr[2]  # row "
   ]
  },
  {
   "cell_type": "code",
   "execution_count": 9,
   "id": "49d81063-c8b9-4242-a209-71e03af88027",
   "metadata": {},
   "outputs": [
    {
     "data": {
      "text/plain": [
       "array([[ 3,  4],\n",
       "       [ 8,  9],\n",
       "       [13, 14]])"
      ]
     },
     "execution_count": 9,
     "metadata": {},
     "output_type": "execute_result"
    }
   ],
   "source": [
    "arr[0:3,3:5]    # [starting:stoping:step  point,starting:ending:step ]"
   ]
  },
  {
   "cell_type": "code",
   "execution_count": 11,
   "id": "f53b4ebc-7ef6-4548-ba7b-4459c502425e",
   "metadata": {},
   "outputs": [
    {
     "data": {
      "text/plain": [
       "array([[20, 21],\n",
       "       [25, 26]])"
      ]
     },
     "execution_count": 11,
     "metadata": {},
     "output_type": "execute_result"
    }
   ],
   "source": [
    "arr[4:6,0:2]   "
   ]
  },
  {
   "cell_type": "code",
   "execution_count": 13,
   "id": "74eb24ef-d407-4ab4-a6b4-80d60731541f",
   "metadata": {},
   "outputs": [
    {
     "data": {
      "text/plain": [
       "array([[47, 48],\n",
       "       [52, 53]])"
      ]
     },
     "execution_count": 13,
     "metadata": {},
     "output_type": "execute_result"
    }
   ],
   "source": [
    "arr[9:11,2:4]"
   ]
  },
  {
   "cell_type": "code",
   "execution_count": 31,
   "id": "3c5c5da2-dcdd-4747-81a5-6349b2ca029b",
   "metadata": {},
   "outputs": [
    {
     "data": {
      "text/plain": [
       "array([[ 0,  1,  2,  3,  4],\n",
       "       [ 5,  6,  7,  8,  9],\n",
       "       [10, 11, 12, 13, 14],\n",
       "       [15, 16, 17, 18, 19],\n",
       "       [20, 21, 22, 23, 24],\n",
       "       [25, 26, 27, 28, 29],\n",
       "       [30, 31, 32, 33, 34],\n",
       "       [35, 36, 37, 38, 39],\n",
       "       [40, 41, 42, 43, 44],\n",
       "       [45, 46, 47, 48, 49],\n",
       "       [50, 51, 52, 53, 54],\n",
       "       [55, 56, 57, 58, 59]])"
      ]
     },
     "execution_count": 31,
     "metadata": {},
     "output_type": "execute_result"
    }
   ],
   "source": [
    "arr[row,column]"
   ]
  },
  {
   "cell_type": "code",
   "execution_count": 27,
   "id": "f7c5684b-c779-4a34-8af2-22733c3ba8a5",
   "metadata": {},
   "outputs": [
    {
     "data": {
      "text/plain": [
       "59"
      ]
     },
     "execution_count": 27,
     "metadata": {},
     "output_type": "execute_result"
    }
   ],
   "source": [
    "arr[-1][-1]\n"
   ]
  },
  {
   "cell_type": "code",
   "execution_count": 28,
   "id": "2ae462a1-c648-4e53-b359-33a7124a22a8",
   "metadata": {},
   "outputs": [
    {
     "data": {
      "text/plain": [
       "59"
      ]
     },
     "execution_count": 28,
     "metadata": {},
     "output_type": "execute_result"
    }
   ],
   "source": [
    "arr[-1,-1]"
   ]
  },
  {
   "cell_type": "code",
   "execution_count": 34,
   "id": "787a4bca-a7d2-473e-b98c-1e49fc66a5be",
   "metadata": {},
   "outputs": [
    {
     "data": {
      "text/plain": [
       "array([[[34, 34, 32],\n",
       "        [23, 40, 36],\n",
       "        [22, 21, 20]],\n",
       "\n",
       "       [[39, 16, 16],\n",
       "        [42, 36, 47],\n",
       "        [11, 31, 23]],\n",
       "\n",
       "       [[47, 33, 49],\n",
       "        [30, 13, 16],\n",
       "        [32, 23, 13]],\n",
       "\n",
       "       [[30, 49, 43],\n",
       "        [25, 17, 20],\n",
       "        [37, 18, 46]],\n",
       "\n",
       "       [[27, 37, 13],\n",
       "        [35, 14, 25],\n",
       "        [24, 33, 34]]])"
      ]
     },
     "execution_count": 34,
     "metadata": {},
     "output_type": "execute_result"
    }
   ],
   "source": [
    "# arr[row,column] \n",
    "\n",
    "# 3d  = [2d,2d,2d,2d]\n",
    "\n",
    "arr = np.random.randint(10,50,(5,3,3))\n",
    "arr "
   ]
  },
  {
   "cell_type": "code",
   "execution_count": 38,
   "id": "00cf9864-58f2-448d-8920-d34a1b437495",
   "metadata": {},
   "outputs": [
    {
     "data": {
      "text/plain": [
       "(5, 3, 3)"
      ]
     },
     "execution_count": 38,
     "metadata": {},
     "output_type": "execute_result"
    }
   ],
   "source": [
    "arr.shape    # (5, 3, 3)   (5,3)\n",
    "# (table , row , column )"
   ]
  },
  {
   "cell_type": "code",
   "execution_count": 44,
   "id": "7a2f5447-2ff4-4178-81b7-94e945227aa5",
   "metadata": {},
   "outputs": [
    {
     "data": {
      "text/plain": [
       "array([[27, 37, 13],\n",
       "       [35, 14, 25],\n",
       "       [24, 33, 34]])"
      ]
     },
     "execution_count": 44,
     "metadata": {},
     "output_type": "execute_result"
    }
   ],
   "source": [
    "arr[4][row,column]"
   ]
  },
  {
   "cell_type": "code",
   "execution_count": 53,
   "id": "3f0221d0-9213-4440-9756-e353c8c4badf",
   "metadata": {
    "scrolled": true
   },
   "outputs": [
    {
     "data": {
      "text/plain": [
       "array([[34, 34, 32],\n",
       "       [23, 40, 36],\n",
       "       [22, 21, 20]])"
      ]
     },
     "execution_count": 53,
     "metadata": {},
     "output_type": "execute_result"
    }
   ],
   "source": [
    "# arr[table,row,column]\n",
    "arr[0]"
   ]
  },
  {
   "cell_type": "code",
   "execution_count": 51,
   "id": "30de6860-267c-4f79-b9f9-9df03e8710d7",
   "metadata": {},
   "outputs": [
    {
     "data": {
      "text/plain": [
       "array([[[34, 34, 32],\n",
       "        [23, 40, 36],\n",
       "        [22, 21, 20]],\n",
       "\n",
       "       [[39, 16, 16],\n",
       "        [42, 36, 47],\n",
       "        [11, 31, 23]],\n",
       "\n",
       "       [[47, 33, 49],\n",
       "        [30, 13, 16],\n",
       "        [32, 23, 13]],\n",
       "\n",
       "       [[30, 49, 43],\n",
       "        [25, 17, 20],\n",
       "        [37, 18, 46]],\n",
       "\n",
       "       [[27, 37, 13],\n",
       "        [35, 14, 25],\n",
       "        [24, 33, 34]]])"
      ]
     },
     "execution_count": 51,
     "metadata": {},
     "output_type": "execute_result"
    }
   ],
   "source": [
    "arr "
   ]
  },
  {
   "cell_type": "code",
   "execution_count": 56,
   "id": "53e944cc-ce11-4e35-8ddb-6064a52ebf10",
   "metadata": {},
   "outputs": [],
   "source": [
    "arr[0,0,0] = 500"
   ]
  },
  {
   "cell_type": "code",
   "execution_count": 57,
   "id": "fb78881e-9cd5-41d8-8274-26b6b8128d0b",
   "metadata": {},
   "outputs": [
    {
     "data": {
      "text/plain": [
       "array([[[500,  34,  32],\n",
       "        [ 23,  40,  36],\n",
       "        [ 22,  21,  20]],\n",
       "\n",
       "       [[ 39,  16,  16],\n",
       "        [ 42,  36,  47],\n",
       "        [ 11,  31,  23]],\n",
       "\n",
       "       [[ 47,  33,  49],\n",
       "        [ 30,  13,  16],\n",
       "        [ 32,  23,  13]],\n",
       "\n",
       "       [[ 30,  49,  43],\n",
       "        [ 25,  17,  20],\n",
       "        [ 37,  18,  46]],\n",
       "\n",
       "       [[ 27,  37,  13],\n",
       "        [ 35,  14,  25],\n",
       "        [ 24,  33,  34]]])"
      ]
     },
     "execution_count": 57,
     "metadata": {},
     "output_type": "execute_result"
    }
   ],
   "source": [
    "arr "
   ]
  },
  {
   "cell_type": "code",
   "execution_count": 73,
   "id": "d772e585-1f73-4f03-8242-2aa39c6216d0",
   "metadata": {},
   "outputs": [
    {
     "data": {
      "text/plain": [
       "array([[2, 5, 3],\n",
       "       [7, 8, 9]])"
      ]
     },
     "execution_count": 73,
     "metadata": {},
     "output_type": "execute_result"
    }
   ],
   "source": [
    "# metrics operation  \n",
    "\n",
    "ar1 = np.array([2,4,6])\n",
    "ar2 = np.array([[2,5,3],[7,8,9]])\n",
    "ar2  # [2,4,6]"
   ]
  },
  {
   "cell_type": "code",
   "execution_count": 74,
   "id": "917c900e-205a-4366-bfe3-c328940499ba",
   "metadata": {},
   "outputs": [
    {
     "data": {
      "text/plain": [
       "array([[ 4,  9,  9],\n",
       "       [ 9, 12, 15]])"
      ]
     },
     "execution_count": 74,
     "metadata": {},
     "output_type": "execute_result"
    }
   ],
   "source": [
    "ar2 + ar1 \n",
    "        "
   ]
  },
  {
   "cell_type": "code",
   "execution_count": 66,
   "id": "cae053df-82dd-4212-b3f2-1f597fff0ab4",
   "metadata": {},
   "outputs": [
    {
     "data": {
      "text/plain": [
       "array([4, 6, 8])"
      ]
     },
     "execution_count": 66,
     "metadata": {},
     "output_type": "execute_result"
    }
   ],
   "source": [
    "ar1 + ar2   "
   ]
  },
  {
   "cell_type": "code",
   "execution_count": 82,
   "id": "ef150cdb-b0e8-493c-ba61-ba403e279a07",
   "metadata": {},
   "outputs": [
    {
     "data": {
      "text/plain": [
       "array([[2, 3, 3],\n",
       "       [8, 7, 9],\n",
       "       [4, 6, 2],\n",
       "       [8, 9, 4],\n",
       "       [4, 9, 5],\n",
       "       [5, 7, 3],\n",
       "       [6, 4, 3]])"
      ]
     },
     "execution_count": 82,
     "metadata": {},
     "output_type": "execute_result"
    }
   ],
   "source": [
    "arr = np.random.randint(2,10,(7,3))\n",
    "arr  "
   ]
  },
  {
   "cell_type": "code",
   "execution_count": 81,
   "id": "7103bce8-3320-4e6c-892e-6c2b1c21b0ab",
   "metadata": {},
   "outputs": [
    {
     "data": {
      "text/plain": [
       "array([[8, 9, 3, 9, 5, 2, 8],\n",
       "       [5, 3, 5, 7, 4, 8, 9],\n",
       "       [6, 6, 5, 6, 9, 8, 7]])"
      ]
     },
     "execution_count": 81,
     "metadata": {},
     "output_type": "execute_result"
    }
   ],
   "source": [
    "arr.T "
   ]
  },
  {
   "cell_type": "code",
   "execution_count": 86,
   "id": "84e6f9b2-b959-414a-b6ea-bce726f7f573",
   "metadata": {},
   "outputs": [],
   "source": [
    "ar1 = np.array([2,4,6])\n",
    "ar2 = np.array([7,8,9])\n",
    "ar3 = np.array([[2,5,3],[7,8,9]])"
   ]
  },
  {
   "cell_type": "code",
   "execution_count": 92,
   "id": "4c0863b9-b79c-4cef-9665-c98ee7284e1b",
   "metadata": {},
   "outputs": [
    {
     "data": {
      "text/plain": [
       "array([7, 8, 9])"
      ]
     },
     "execution_count": 92,
     "metadata": {},
     "output_type": "execute_result"
    }
   ],
   "source": [
    "ar2 "
   ]
  },
  {
   "cell_type": "code",
   "execution_count": 93,
   "id": "c6a6a0d5-5e84-463b-956a-5214660e66d4",
   "metadata": {
    "scrolled": true
   },
   "outputs": [
    {
     "data": {
      "text/plain": [
       "array([[2, 5, 3],\n",
       "       [7, 8, 9]])"
      ]
     },
     "execution_count": 93,
     "metadata": {},
     "output_type": "execute_result"
    }
   ],
   "source": [
    "ar3 "
   ]
  },
  {
   "cell_type": "code",
   "execution_count": null,
   "id": "13940123-3ac2-44cb-a4de-5bde818583da",
   "metadata": {},
   "outputs": [],
   "source": [
    "# np.concatenate()  # axis = 1 horizontally , ver"
   ]
  },
  {
   "cell_type": "code",
   "execution_count": 103,
   "id": "3aa4ccf6-5974-4a65-a868-aea9125b651a",
   "metadata": {},
   "outputs": [
    {
     "data": {
      "text/plain": [
       "array([[7, 8, 9],\n",
       "       [2, 5, 3],\n",
       "       [7, 8, 9]])"
      ]
     },
     "execution_count": 103,
     "metadata": {},
     "output_type": "execute_result"
    }
   ],
   "source": [
    "np.vstack((ar2,ar3))  # np.hstack()"
   ]
  },
  {
   "cell_type": "code",
   "execution_count": 104,
   "id": "91f9bde9-d70e-4f6f-a519-e1964cc80b11",
   "metadata": {},
   "outputs": [],
   "source": [
    "arr1 = np.array([[2,5,6],[7,8,9]])\n",
    "arr2  = np.array([[2,5,6],[7,8,9]])\n"
   ]
  },
  {
   "cell_type": "code",
   "execution_count": 105,
   "id": "8d9568ac-e925-450f-af1b-536a1ed216fb",
   "metadata": {},
   "outputs": [
    {
     "data": {
      "text/plain": [
       "array([[2, 5, 6],\n",
       "       [7, 8, 9]])"
      ]
     },
     "execution_count": 105,
     "metadata": {},
     "output_type": "execute_result"
    }
   ],
   "source": [
    "arr1"
   ]
  },
  {
   "cell_type": "code",
   "execution_count": 106,
   "id": "0736ddb8-ad63-4eaa-8323-b2d678eaa3ca",
   "metadata": {},
   "outputs": [
    {
     "data": {
      "text/plain": [
       "array([[2, 5, 6],\n",
       "       [7, 8, 9]])"
      ]
     },
     "execution_count": 106,
     "metadata": {},
     "output_type": "execute_result"
    }
   ],
   "source": [
    "arr2 "
   ]
  },
  {
   "cell_type": "code",
   "execution_count": 110,
   "id": "fa3ade0e-9fc1-45ed-9002-b3d8795dd0f0",
   "metadata": {},
   "outputs": [
    {
     "data": {
      "text/plain": [
       "array([[2, 7, 2, 7],\n",
       "       [5, 8, 5, 8],\n",
       "       [6, 9, 6, 9]])"
      ]
     },
     "execution_count": 110,
     "metadata": {},
     "output_type": "execute_result"
    }
   ],
   "source": [
    "np.hstack((arr1.T,arr2.T))\n",
    "\n",
    "# arr1.shape , arr2.shape "
   ]
  },
  {
   "cell_type": "code",
   "execution_count": 112,
   "id": "314c7287-f02b-4fb0-8986-c89a604aa222",
   "metadata": {},
   "outputs": [
    {
     "data": {
      "text/plain": [
       "array([162, 157,  97,  31,  57,  46,  39,  58,  21, 197, 148,  41, 136,\n",
       "        62, 183,  77,  74, 120,  83, 112, 100,  73, 133, 117, 154, 145,\n",
       "       122, 111,  95,  78, 132, 124, 194, 127,  74, 151, 161, 181,  45,\n",
       "       143,   9, 171, 121,  66, 182,  14, 161,   9, 146,  32, 131, 140,\n",
       "        45,  26, 153, 174, 168, 128,  83,  83, 193,  19, 179,  27, 134,\n",
       "       158, 163, 195,  83, 161,  41,  76,  63,  33, 143, 193, 147, 178,\n",
       "        65,  34, 135, 181, 145, 187, 192, 158, 121,  33, 122, 107,  99,\n",
       "        84, 171,  58, 158,  24,  29, 107, 184, 119, 199,  41,  71, 199,\n",
       "       162, 133, 193, 175, 130,  74,   8, 123, 186,  44,  24,  82,  89,\n",
       "       138, 156, 141,  98,  96, 114, 194, 107,  41, 157,  98,  76,  49,\n",
       "       139, 152, 149, 177,  50,  96,  86, 137, 156,   4,   1, 135,  42,\n",
       "        62, 145,  46,  95, 117,  67, 155,  58, 161, 118,  37, 158,  73,\n",
       "        97,  56, 126,   6, 141,  87, 198, 124,  34, 189, 195,  99,  63,\n",
       "       190,   4,  58,  28, 188,  22,  45, 126,  17,  85,  35, 146,   8,\n",
       "       101, 199,  42,  62,  70, 137,  79,   5,  51, 142, 138,  45, 125,\n",
       "         3,   2, 103,  64,  81, 197,  30,  13,  63, 179,  76,  51,  15,\n",
       "        26, 151,  84, 144, 197, 198,  98,  69, 132, 181, 184, 126,  60,\n",
       "       143,  83, 102, 183, 147, 126, 193, 111, 194, 155, 123,  24,  54,\n",
       "       193,  39,  42, 155, 158, 160, 124,  28,   2, 189, 101,  55,  84,\n",
       "       165, 163, 138,  25,  16,  68, 178, 138,  33, 164, 136,  75,  98,\n",
       "        38,  88,   4,  62,  62,  53,  23, 135, 166,  81,  71, 181, 136,\n",
       "       123,  28, 117, 141,  90,   2, 159, 181, 105, 147, 172,  44, 103,\n",
       "        30, 180, 153, 115,  67, 172, 176,  69,  90,  17,  63,  92, 196,\n",
       "       164, 135,  50, 162, 137,  87,  18, 187, 136,  67,  52,  88,  39,\n",
       "       100, 100,   2, 163,  73, 173,  15,  47, 129,  95, 173,  13, 143,\n",
       "        28,  67, 138,  19, 140,  47, 136, 126, 176, 103,  43, 151, 169,\n",
       "        64, 158,  32, 160,  48,  34,  35,  60, 156, 176, 159,  25, 149,\n",
       "        30,  92, 161, 179,  96,   4, 155, 169, 176,  71, 105,  52,  37,\n",
       "        75, 153, 122,   9, 190, 143, 136, 155, 143,  90,  18,  90, 175,\n",
       "        34, 180, 127, 106,  39,  99, 189,  56,  40,   6, 124, 196, 147,\n",
       "        54,  65, 132,  15, 152, 173,   5, 125,  59, 188, 101,  25, 113,\n",
       "        98, 158, 186, 186,  50,  76,  98, 140,  95,  88, 113, 141,  25,\n",
       "       153,  52,  65, 186, 166,  91,  14, 117, 109,  37, 124, 125, 190,\n",
       "        22,  70,  55,   3, 141, 153,  67, 112,   7, 163, 121,  89, 141,\n",
       "        91,   2,  94, 125, 183,  38, 123, 158, 188,  11,   5, 166, 172,\n",
       "        15, 194, 133,  64,  47, 103, 190,  90, 155, 112, 111,  55, 129,\n",
       "        24, 159, 102,  91,  61, 182, 160,  52,  36, 155,  69,  90,  77,\n",
       "        21, 175,  85, 117, 129,   2, 151,  53,  79,  66, 184,  10, 145,\n",
       "       191,  54,  40, 193, 135,  11])"
      ]
     },
     "execution_count": 112,
     "metadata": {},
     "output_type": "execute_result"
    }
   ],
   "source": [
    "arr = np.random.randint(1,200,500)\n",
    "arr "
   ]
  },
  {
   "cell_type": "code",
   "execution_count": 116,
   "id": "bef0ee46-6405-4ebf-8e46-c3692f2fba61",
   "metadata": {},
   "outputs": [
    {
     "data": {
      "text/plain": [
       "103.812"
      ]
     },
     "execution_count": 116,
     "metadata": {},
     "output_type": "execute_result"
    }
   ],
   "source": [
    "arr.mean()  # min,max , sum , mean "
   ]
  },
  {
   "cell_type": "code",
   "execution_count": 119,
   "id": "b9b02345-9459-4cc3-b136-8873c321127f",
   "metadata": {},
   "outputs": [
    {
     "name": "stdout",
     "output_type": "stream",
     "text": [
      "162\n",
      "157\n",
      "197\n",
      "148\n",
      "136\n",
      "183\n",
      "120\n",
      "112\n",
      "133\n",
      "117\n",
      "154\n",
      "145\n",
      "122\n",
      "111\n",
      "132\n",
      "124\n",
      "194\n",
      "127\n",
      "151\n",
      "161\n",
      "181\n",
      "143\n",
      "171\n",
      "121\n",
      "182\n",
      "161\n",
      "146\n",
      "131\n",
      "140\n",
      "153\n",
      "174\n",
      "168\n",
      "128\n",
      "193\n",
      "179\n",
      "134\n",
      "158\n",
      "163\n",
      "195\n",
      "161\n",
      "143\n",
      "193\n",
      "147\n",
      "178\n",
      "135\n",
      "181\n",
      "145\n",
      "187\n",
      "192\n",
      "158\n",
      "121\n",
      "122\n",
      "107\n",
      "171\n",
      "158\n",
      "107\n",
      "184\n",
      "119\n",
      "199\n",
      "199\n",
      "162\n",
      "133\n",
      "193\n",
      "175\n",
      "130\n",
      "123\n",
      "186\n",
      "138\n",
      "156\n",
      "141\n",
      "114\n",
      "194\n",
      "107\n",
      "157\n",
      "139\n",
      "152\n",
      "149\n",
      "177\n",
      "137\n",
      "156\n",
      "135\n",
      "145\n",
      "117\n",
      "155\n",
      "161\n",
      "118\n",
      "158\n",
      "126\n",
      "141\n",
      "198\n",
      "124\n",
      "189\n",
      "195\n",
      "190\n",
      "188\n",
      "126\n",
      "146\n",
      "101\n",
      "199\n",
      "137\n",
      "142\n",
      "138\n",
      "125\n",
      "103\n",
      "197\n",
      "179\n",
      "151\n",
      "144\n",
      "197\n",
      "198\n",
      "132\n",
      "181\n",
      "184\n",
      "126\n",
      "143\n",
      "102\n",
      "183\n",
      "147\n",
      "126\n",
      "193\n",
      "111\n",
      "194\n",
      "155\n",
      "123\n",
      "193\n",
      "155\n",
      "158\n",
      "160\n",
      "124\n",
      "189\n",
      "101\n",
      "165\n",
      "163\n",
      "138\n",
      "178\n",
      "138\n",
      "164\n",
      "136\n",
      "135\n",
      "166\n",
      "181\n",
      "136\n",
      "123\n",
      "117\n",
      "141\n",
      "159\n",
      "181\n",
      "105\n",
      "147\n",
      "172\n",
      "103\n",
      "180\n",
      "153\n",
      "115\n",
      "172\n",
      "176\n",
      "196\n",
      "164\n",
      "135\n",
      "162\n",
      "137\n",
      "187\n",
      "136\n",
      "163\n",
      "173\n",
      "129\n",
      "173\n",
      "143\n",
      "138\n",
      "140\n",
      "136\n",
      "126\n",
      "176\n",
      "103\n",
      "151\n",
      "169\n",
      "158\n",
      "160\n",
      "156\n",
      "176\n",
      "159\n",
      "149\n",
      "161\n",
      "179\n",
      "155\n",
      "169\n",
      "176\n",
      "105\n",
      "153\n",
      "122\n",
      "190\n",
      "143\n",
      "136\n",
      "155\n",
      "143\n",
      "175\n",
      "180\n",
      "127\n",
      "106\n",
      "189\n",
      "124\n",
      "196\n",
      "147\n",
      "132\n",
      "152\n",
      "173\n",
      "125\n",
      "188\n",
      "101\n",
      "113\n",
      "158\n",
      "186\n",
      "186\n",
      "140\n",
      "113\n",
      "141\n",
      "153\n",
      "186\n",
      "166\n",
      "117\n",
      "109\n",
      "124\n",
      "125\n",
      "190\n",
      "141\n",
      "153\n",
      "112\n",
      "163\n",
      "121\n",
      "141\n",
      "125\n",
      "183\n",
      "123\n",
      "158\n",
      "188\n",
      "166\n",
      "172\n",
      "194\n",
      "133\n",
      "103\n",
      "190\n",
      "155\n",
      "112\n",
      "111\n",
      "129\n",
      "159\n",
      "102\n",
      "182\n",
      "160\n",
      "155\n",
      "175\n",
      "117\n",
      "129\n",
      "151\n",
      "184\n",
      "145\n",
      "191\n",
      "193\n",
      "135\n"
     ]
    }
   ],
   "source": [
    "# arr   # filter all are item, that > \n",
    "for i in arr:\n",
    "    if i>100:\n",
    "        print(i)"
   ]
  },
  {
   "cell_type": "code",
   "execution_count": 131,
   "id": "1d239c7e-6640-4e23-82d4-414df95b7099",
   "metadata": {},
   "outputs": [
    {
     "data": {
      "text/plain": [
       "array([162, 157, 197, 148, 136, 183, 120, 112, 133, 117, 154, 145, 122,\n",
       "       111, 132, 124, 194, 127, 151, 161, 181, 143, 171, 121, 182, 161,\n",
       "       146, 131, 140, 153, 174, 168, 128, 193, 179, 134, 158, 163, 195,\n",
       "       161, 143, 193, 147, 178, 135, 181, 145, 187, 192, 158, 121, 122,\n",
       "       107, 171, 158, 107, 184, 119, 199, 199, 162, 133, 193, 175, 130,\n",
       "       123, 186, 138, 156, 141, 114, 194, 107, 157, 139, 152, 149, 177,\n",
       "       137, 156, 135, 145, 117, 155, 161, 118, 158, 126, 141, 198, 124,\n",
       "       189, 195, 190, 188, 126, 146, 101, 199, 137, 142, 138, 125, 103,\n",
       "       197, 179, 151, 144, 197, 198, 132, 181, 184, 126, 143, 102, 183,\n",
       "       147, 126, 193, 111, 194, 155, 123, 193, 155, 158, 160, 124, 189,\n",
       "       101, 165, 163, 138, 178, 138, 164, 136, 135, 166, 181, 136, 123,\n",
       "       117, 141, 159, 181, 105, 147, 172, 103, 180, 153, 115, 172, 176,\n",
       "       196, 164, 135, 162, 137, 187, 136, 163, 173, 129, 173, 143, 138,\n",
       "       140, 136, 126, 176, 103, 151, 169, 158, 160, 156, 176, 159, 149,\n",
       "       161, 179, 155, 169, 176, 105, 153, 122, 190, 143, 136, 155, 143,\n",
       "       175, 180, 127, 106, 189, 124, 196, 147, 132, 152, 173, 125, 188,\n",
       "       101, 113, 158, 186, 186, 140, 113, 141, 153, 186, 166, 117, 109,\n",
       "       124, 125, 190, 141, 153, 112, 163, 121, 141, 125, 183, 123, 158,\n",
       "       188, 166, 172, 194, 133, 103, 190, 155, 112, 111, 129, 159, 102,\n",
       "       182, 160, 155, 175, 117, 129, 151, 184, 145, 191, 193, 135])"
      ]
     },
     "execution_count": 131,
     "metadata": {},
     "output_type": "execute_result"
    }
   ],
   "source": [
    "arr[arr>100]"
   ]
  },
  {
   "cell_type": "code",
   "execution_count": 137,
   "id": "7350dd20-2701-466e-af9a-1893de1dbb33",
   "metadata": {},
   "outputs": [
    {
     "data": {
      "text/plain": [
       "1"
      ]
     },
     "execution_count": 137,
     "metadata": {},
     "output_type": "execute_result"
    }
   ],
   "source": [
    "arr.min()"
   ]
  },
  {
   "cell_type": "code",
   "execution_count": 139,
   "id": "1f7caa03-9d5a-40ba-95ce-aee177f3c165",
   "metadata": {},
   "outputs": [
    {
     "data": {
      "text/plain": [
       "(186,)"
      ]
     },
     "execution_count": 139,
     "metadata": {},
     "output_type": "execute_result"
    }
   ],
   "source": [
    "np.unique(arr).shape  ### unique item fetch "
   ]
  },
  {
   "cell_type": "code",
   "execution_count": 142,
   "id": "30ad1a1a-c279-403d-8180-6b7aca650c91",
   "metadata": {},
   "outputs": [
    {
     "data": {
      "text/plain": [
       "186"
      ]
     },
     "execution_count": 142,
     "metadata": {},
     "output_type": "execute_result"
    }
   ],
   "source": [
    "len(set(np.unique(arr)))"
   ]
  },
  {
   "cell_type": "code",
   "execution_count": 144,
   "id": "04fc46be-bdd7-4ee7-a81f-1306250f8e49",
   "metadata": {},
   "outputs": [
    {
     "data": {
      "text/plain": [
       "1"
      ]
     },
     "execution_count": 144,
     "metadata": {},
     "output_type": "execute_result"
    }
   ],
   "source": [
    "arr.min()"
   ]
  },
  {
   "cell_type": "code",
   "execution_count": 145,
   "id": "dd8f40dd-d10c-4381-8180-a952fe3f7c2c",
   "metadata": {},
   "outputs": [
    {
     "data": {
      "text/plain": [
       "140"
      ]
     },
     "execution_count": 145,
     "metadata": {},
     "output_type": "execute_result"
    }
   ],
   "source": [
    "np.argmin(arr)   # minimum item index "
   ]
  },
  {
   "cell_type": "code",
   "execution_count": 146,
   "id": "ac894972-f0bf-4908-8e7b-3dfcbe2ff6de",
   "metadata": {},
   "outputs": [
    {
     "data": {
      "text/plain": [
       "1"
      ]
     },
     "execution_count": 146,
     "metadata": {},
     "output_type": "execute_result"
    }
   ],
   "source": [
    "arr[140]"
   ]
  },
  {
   "cell_type": "code",
   "execution_count": 147,
   "id": "3c923437-e31c-4a34-a2bc-a8893b619a94",
   "metadata": {},
   "outputs": [
    {
     "data": {
      "text/plain": [
       "100"
      ]
     },
     "execution_count": 147,
     "metadata": {},
     "output_type": "execute_result"
    }
   ],
   "source": [
    "np.argmax(arr)   # "
   ]
  },
  {
   "cell_type": "code",
   "execution_count": 157,
   "id": "d84d9e4a-560d-46ab-96bc-88f3022fb26b",
   "metadata": {},
   "outputs": [
    {
     "data": {
      "text/plain": [
       "array([4, 7, 1])"
      ]
     },
     "execution_count": 157,
     "metadata": {},
     "output_type": "execute_result"
    }
   ],
   "source": [
    "arr = np.array([4,7,1])\n",
    "arr "
   ]
  },
  {
   "cell_type": "code",
   "execution_count": 149,
   "id": "148bfab0-f04e-45ad-a027-80f40b56e9af",
   "metadata": {},
   "outputs": [],
   "source": [
    "arr.sort()"
   ]
  },
  {
   "cell_type": "code",
   "execution_count": 153,
   "id": "0615433c-5395-4a7c-8f2f-d739bb1cd968",
   "metadata": {},
   "outputs": [
    {
     "data": {
      "text/plain": [
       "array([1, 4, 7, 8])"
      ]
     },
     "execution_count": 153,
     "metadata": {},
     "output_type": "execute_result"
    }
   ],
   "source": [
    "arr\n"
   ]
  },
  {
   "cell_type": "code",
   "execution_count": 158,
   "id": "b38b6a4d-11e5-49c3-a90a-fb007fb8b12f",
   "metadata": {},
   "outputs": [
    {
     "data": {
      "text/plain": [
       "array([4, 7, 1])"
      ]
     },
     "execution_count": 158,
     "metadata": {},
     "output_type": "execute_result"
    }
   ],
   "source": [
    "arr "
   ]
  },
  {
   "cell_type": "code",
   "execution_count": 159,
   "id": "3020fb5e-6735-4987-a654-907bbf3e2dd0",
   "metadata": {},
   "outputs": [
    {
     "data": {
      "text/plain": [
       "array([2, 0, 1], dtype=int64)"
      ]
     },
     "execution_count": 159,
     "metadata": {},
     "output_type": "execute_result"
    }
   ],
   "source": [
    "np.argsort(arr)"
   ]
  },
  {
   "cell_type": "code",
   "execution_count": 162,
   "id": "6d0537f0-cfab-4d8c-8b52-5c2cc6c8c73f",
   "metadata": {},
   "outputs": [
    {
     "data": {
      "text/plain": [
       "array([1, 2, 3])"
      ]
     },
     "execution_count": 162,
     "metadata": {},
     "output_type": "execute_result"
    }
   ],
   "source": [
    "arr = np.array([1,2,3])\n",
    "arr "
   ]
  },
  {
   "cell_type": "code",
   "execution_count": 163,
   "id": "540e2df6-7472-44f4-a9f8-43e8afae5b53",
   "metadata": {},
   "outputs": [
    {
     "data": {
      "text/plain": [
       "array([0, 1, 2], dtype=int64)"
      ]
     },
     "execution_count": 163,
     "metadata": {},
     "output_type": "execute_result"
    }
   ],
   "source": [
    "np.argsort(arr)"
   ]
  },
  {
   "cell_type": "code",
   "execution_count": 170,
   "id": "327166ea-e273-4d92-aaa2-78530b15bf68",
   "metadata": {},
   "outputs": [
    {
     "data": {
      "text/plain": [
       "array([[180, 158,   9, 117,  90],\n",
       "       [  3,  84,  59, 185,  28],\n",
       "       [168, 176, 194, 113,  11],\n",
       "       [154,  30, 185, 160, 181],\n",
       "       [  9,  11,  43, 128, 142],\n",
       "       [ 20,  21,  80, 120, 128],\n",
       "       [133, 123,  48, 195, 123],\n",
       "       [178,  78, 104,  48, 137],\n",
       "       [154, 139,  77, 152,  80],\n",
       "       [198, 148, 131,   9, 147]])"
      ]
     },
     "execution_count": 170,
     "metadata": {},
     "output_type": "execute_result"
    }
   ],
   "source": [
    "np.random.randint(2,200,(10,5))"
   ]
  },
  {
   "cell_type": "code",
   "execution_count": 171,
   "id": "9f491d65-c1d2-4dc5-9d10-2fa4d89b35d5",
   "metadata": {},
   "outputs": [],
   "source": [
    "import random "
   ]
  },
  {
   "cell_type": "code",
   "execution_count": 177,
   "id": "970e1482-89de-4ce4-9407-9f82438c205f",
   "metadata": {},
   "outputs": [
    {
     "data": {
      "text/plain": [
       "8"
      ]
     },
     "execution_count": 177,
     "metadata": {},
     "output_type": "execute_result"
    }
   ],
   "source": [
    "random.randint(5,10)"
   ]
  },
  {
   "cell_type": "code",
   "execution_count": 173,
   "id": "cec3f98f-eacb-498a-9bdd-bb48a1868262",
   "metadata": {},
   "outputs": [
    {
     "data": {
      "text/plain": [
       "0.42616078569295013"
      ]
     },
     "execution_count": 173,
     "metadata": {},
     "output_type": "execute_result"
    }
   ],
   "source": [
    "random.random()"
   ]
  },
  {
   "cell_type": "code",
   "execution_count": 209,
   "id": "a1e69bc3-4c7d-488a-91b7-ddca2d5f6eda",
   "metadata": {},
   "outputs": [
    {
     "data": {
      "text/plain": [
       "2"
      ]
     },
     "execution_count": 209,
     "metadata": {},
     "output_type": "execute_result"
    }
   ],
   "source": [
    "ls = [2,5,8,7,4,9,6,3,2,5,8,7,4]\n",
    "random.choice(ls)"
   ]
  },
  {
   "cell_type": "code",
   "execution_count": 221,
   "id": "1ec907c6-903a-4ba0-855f-1422b9254cc6",
   "metadata": {},
   "outputs": [
    {
     "data": {
      "text/plain": [
       "[8, 3, 3]"
      ]
     },
     "execution_count": 221,
     "metadata": {},
     "output_type": "execute_result"
    }
   ],
   "source": [
    "random.choices(ls,k=3)"
   ]
  },
  {
   "cell_type": "code",
   "execution_count": 222,
   "id": "c31b9f46-9f3c-4177-b7f0-5b9604ad46f9",
   "metadata": {},
   "outputs": [],
   "source": [
    "# time , datetime \n",
    "import time "
   ]
  },
  {
   "cell_type": "code",
   "execution_count": 223,
   "id": "97ebc35f-5f9f-4a2d-ad5c-9f46533b0b01",
   "metadata": {},
   "outputs": [
    {
     "data": {
      "text/plain": [
       "time.struct_time(tm_year=2024, tm_mon=5, tm_mday=25, tm_hour=18, tm_min=20, tm_sec=16, tm_wday=5, tm_yday=146, tm_isdst=0)"
      ]
     },
     "execution_count": 223,
     "metadata": {},
     "output_type": "execute_result"
    }
   ],
   "source": [
    "time.localtime()"
   ]
  },
  {
   "cell_type": "code",
   "execution_count": null,
   "id": "176401ee-80da-4295-bb7f-ecaa370d6efb",
   "metadata": {},
   "outputs": [],
   "source": [
    "def func1(): \n",
    "    pass \n",
    "\n",
    "def func2(): \n",
    "    pass \n",
    "\n",
    "def func3(): \n",
    "    pass \n",
    "\n",
    "def func4(): \n",
    "    pass \n",
    "func1()\n",
    "func2()\n",
    "func3()\n",
    "func4()\n",
    "\n",
    "##  top to down left to right  \n"
   ]
  },
  {
   "cell_type": "code",
   "execution_count": null,
   "id": "5df9f0f0-e9f1-40f4-bd92-dd9f9910c5a8",
   "metadata": {},
   "outputs": [],
   "source": [
    "data science == > "
   ]
  },
  {
   "cell_type": "code",
   "execution_count": 225,
   "id": "d2482b93-e25c-490e-93f3-b39175db911d",
   "metadata": {},
   "outputs": [
    {
     "data": {
      "text/plain": [
       "3.0"
      ]
     },
     "execution_count": 225,
     "metadata": {},
     "output_type": "execute_result"
    }
   ],
   "source": [
    "np.sqrt(9)  <== \n",
    "\n",
    "def squar_root():\n",
    "    "
   ]
  },
  {
   "cell_type": "code",
   "execution_count": null,
   "id": "81419212-edaf-4304-991b-3e481e652204",
   "metadata": {},
   "outputs": [],
   "source": [
    "project , pandas ,  flask "
   ]
  }
 ],
 "metadata": {
  "kernelspec": {
   "display_name": "Python 3 (ipykernel)",
   "language": "python",
   "name": "python3"
  },
  "language_info": {
   "codemirror_mode": {
    "name": "ipython",
    "version": 3
   },
   "file_extension": ".py",
   "mimetype": "text/x-python",
   "name": "python",
   "nbconvert_exporter": "python",
   "pygments_lexer": "ipython3",
   "version": "3.11.5"
  }
 },
 "nbformat": 4,
 "nbformat_minor": 5
}
