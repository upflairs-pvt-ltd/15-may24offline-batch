{
 "cells": [
  {
   "cell_type": "code",
   "execution_count": 1,
   "id": "f8962700-dee6-445f-9d8f-77274d6c922b",
   "metadata": {},
   "outputs": [],
   "source": [
    "import pandas as pd "
   ]
  },
  {
   "cell_type": "code",
   "execution_count": 2,
   "id": "bb324510-fea4-4fb6-97a4-fd7af23d8961",
   "metadata": {},
   "outputs": [
    {
     "data": {
      "text/html": [
       "<div>\n",
       "<style scoped>\n",
       "    .dataframe tbody tr th:only-of-type {\n",
       "        vertical-align: middle;\n",
       "    }\n",
       "\n",
       "    .dataframe tbody tr th {\n",
       "        vertical-align: top;\n",
       "    }\n",
       "\n",
       "    .dataframe thead th {\n",
       "        text-align: right;\n",
       "    }\n",
       "</style>\n",
       "<table border=\"1\" class=\"dataframe\">\n",
       "  <thead>\n",
       "    <tr style=\"text-align: right;\">\n",
       "      <th></th>\n",
       "      <th>Gender</th>\n",
       "      <th>Customer Type</th>\n",
       "      <th>Type of Travel</th>\n",
       "      <th>Class</th>\n",
       "      <th>satisfaction</th>\n",
       "      <th>Age</th>\n",
       "      <th>Flight Distance</th>\n",
       "      <th>Inflight entertainment</th>\n",
       "      <th>Baggage handling</th>\n",
       "      <th>Cleanliness</th>\n",
       "      <th>Departure Delay in Minutes</th>\n",
       "      <th>Arrival Delay in Minutes</th>\n",
       "    </tr>\n",
       "  </thead>\n",
       "  <tbody>\n",
       "    <tr>\n",
       "      <th>0</th>\n",
       "      <td>Male</td>\n",
       "      <td>Loyal Customer</td>\n",
       "      <td>Personal Travel</td>\n",
       "      <td>Eco Plus</td>\n",
       "      <td>neutral or dissatisfied</td>\n",
       "      <td>13</td>\n",
       "      <td>460</td>\n",
       "      <td>5</td>\n",
       "      <td>4</td>\n",
       "      <td>5</td>\n",
       "      <td>25</td>\n",
       "      <td>18.0</td>\n",
       "    </tr>\n",
       "    <tr>\n",
       "      <th>1</th>\n",
       "      <td>Male</td>\n",
       "      <td>disloyal Customer</td>\n",
       "      <td>Business travel</td>\n",
       "      <td>Business</td>\n",
       "      <td>neutral or dissatisfied</td>\n",
       "      <td>25</td>\n",
       "      <td>235</td>\n",
       "      <td>1</td>\n",
       "      <td>3</td>\n",
       "      <td>1</td>\n",
       "      <td>1</td>\n",
       "      <td>6.0</td>\n",
       "    </tr>\n",
       "    <tr>\n",
       "      <th>2</th>\n",
       "      <td>Female</td>\n",
       "      <td>Loyal Customer</td>\n",
       "      <td>Business travel</td>\n",
       "      <td>Business</td>\n",
       "      <td>satisfied</td>\n",
       "      <td>26</td>\n",
       "      <td>1142</td>\n",
       "      <td>5</td>\n",
       "      <td>4</td>\n",
       "      <td>5</td>\n",
       "      <td>0</td>\n",
       "      <td>0.0</td>\n",
       "    </tr>\n",
       "    <tr>\n",
       "      <th>3</th>\n",
       "      <td>Female</td>\n",
       "      <td>Loyal Customer</td>\n",
       "      <td>Business travel</td>\n",
       "      <td>Business</td>\n",
       "      <td>neutral or dissatisfied</td>\n",
       "      <td>25</td>\n",
       "      <td>562</td>\n",
       "      <td>2</td>\n",
       "      <td>3</td>\n",
       "      <td>2</td>\n",
       "      <td>11</td>\n",
       "      <td>9.0</td>\n",
       "    </tr>\n",
       "    <tr>\n",
       "      <th>4</th>\n",
       "      <td>Male</td>\n",
       "      <td>Loyal Customer</td>\n",
       "      <td>Business travel</td>\n",
       "      <td>Business</td>\n",
       "      <td>satisfied</td>\n",
       "      <td>61</td>\n",
       "      <td>214</td>\n",
       "      <td>3</td>\n",
       "      <td>4</td>\n",
       "      <td>3</td>\n",
       "      <td>0</td>\n",
       "      <td>0.0</td>\n",
       "    </tr>\n",
       "  </tbody>\n",
       "</table>\n",
       "</div>"
      ],
      "text/plain": [
       "   Gender      Customer Type   Type of Travel     Class  \\\n",
       "0    Male     Loyal Customer  Personal Travel  Eco Plus   \n",
       "1    Male  disloyal Customer  Business travel  Business   \n",
       "2  Female     Loyal Customer  Business travel  Business   \n",
       "3  Female     Loyal Customer  Business travel  Business   \n",
       "4    Male     Loyal Customer  Business travel  Business   \n",
       "\n",
       "              satisfaction  Age  Flight Distance  Inflight entertainment  \\\n",
       "0  neutral or dissatisfied   13              460                       5   \n",
       "1  neutral or dissatisfied   25              235                       1   \n",
       "2                satisfied   26             1142                       5   \n",
       "3  neutral or dissatisfied   25              562                       2   \n",
       "4                satisfied   61              214                       3   \n",
       "\n",
       "   Baggage handling  Cleanliness  Departure Delay in Minutes  \\\n",
       "0                 4            5                          25   \n",
       "1                 3            1                           1   \n",
       "2                 4            5                           0   \n",
       "3                 3            2                          11   \n",
       "4                 4            3                           0   \n",
       "\n",
       "   Arrival Delay in Minutes  \n",
       "0                      18.0  \n",
       "1                       6.0  \n",
       "2                       0.0  \n",
       "3                       9.0  \n",
       "4                       0.0  "
      ]
     },
     "execution_count": 2,
     "metadata": {},
     "output_type": "execute_result"
    }
   ],
   "source": [
    "df = pd.read_csv('cust_satisfaction.csv')\n",
    "df.head()"
   ]
  },
  {
   "cell_type": "code",
   "execution_count": 3,
   "id": "fbd5b76f-3c98-4d33-8433-57461451c6a9",
   "metadata": {},
   "outputs": [
    {
     "data": {
      "text/plain": [
       "satisfaction\n",
       "neutral or dissatisfied    58879\n",
       "satisfied                  45025\n",
       "Name: count, dtype: int64"
      ]
     },
     "execution_count": 3,
     "metadata": {},
     "output_type": "execute_result"
    }
   ],
   "source": [
    "df['satisfaction'].value_counts()"
   ]
  },
  {
   "cell_type": "code",
   "execution_count": 4,
   "id": "bd018921-1b1b-4ca4-a87b-02134f9d4ea0",
   "metadata": {},
   "outputs": [
    {
     "name": "stdout",
     "output_type": "stream",
     "text": [
      "<class 'pandas.core.frame.DataFrame'>\n",
      "RangeIndex: 103904 entries, 0 to 103903\n",
      "Data columns (total 12 columns):\n",
      " #   Column                      Non-Null Count   Dtype  \n",
      "---  ------                      --------------   -----  \n",
      " 0   Gender                      103904 non-null  object \n",
      " 1   Customer Type               103904 non-null  object \n",
      " 2   Type of Travel              103904 non-null  object \n",
      " 3   Class                       103904 non-null  object \n",
      " 4   satisfaction                103904 non-null  object \n",
      " 5   Age                         103904 non-null  int64  \n",
      " 6   Flight Distance             103904 non-null  int64  \n",
      " 7   Inflight entertainment      103904 non-null  int64  \n",
      " 8   Baggage handling            103904 non-null  int64  \n",
      " 9   Cleanliness                 103904 non-null  int64  \n",
      " 10  Departure Delay in Minutes  103904 non-null  int64  \n",
      " 11  Arrival Delay in Minutes    103594 non-null  float64\n",
      "dtypes: float64(1), int64(6), object(5)\n",
      "memory usage: 9.5+ MB\n"
     ]
    }
   ],
   "source": [
    "df.info() "
   ]
  },
  {
   "cell_type": "code",
   "execution_count": 5,
   "id": "1165d8a4-feb7-4182-abad-b60a912193dc",
   "metadata": {},
   "outputs": [
    {
     "data": {
      "text/plain": [
       "172"
      ]
     },
     "execution_count": 5,
     "metadata": {},
     "output_type": "execute_result"
    }
   ],
   "source": [
    "df.duplicated().sum() "
   ]
  },
  {
   "cell_type": "code",
   "execution_count": 6,
   "id": "cb3baba3-d366-4274-9784-7d61b46737be",
   "metadata": {},
   "outputs": [],
   "source": [
    "df.drop_duplicates(inplace=True) "
   ]
  },
  {
   "cell_type": "code",
   "execution_count": 7,
   "id": "0afa8799-cd39-4fee-9db4-4a3c44f587d9",
   "metadata": {},
   "outputs": [
    {
     "data": {
      "text/plain": [
       "0"
      ]
     },
     "execution_count": 7,
     "metadata": {},
     "output_type": "execute_result"
    }
   ],
   "source": [
    "df.duplicated().sum() \n"
   ]
  },
  {
   "cell_type": "code",
   "execution_count": 8,
   "id": "127330ad-bc35-42d8-861a-826957f29284",
   "metadata": {},
   "outputs": [
    {
     "data": {
      "text/plain": [
       "Gender                          0\n",
       "Customer Type                   0\n",
       "Type of Travel                  0\n",
       "Class                           0\n",
       "satisfaction                    0\n",
       "Age                             0\n",
       "Flight Distance                 0\n",
       "Inflight entertainment          0\n",
       "Baggage handling                0\n",
       "Cleanliness                     0\n",
       "Departure Delay in Minutes      0\n",
       "Arrival Delay in Minutes      310\n",
       "dtype: int64"
      ]
     },
     "execution_count": 8,
     "metadata": {},
     "output_type": "execute_result"
    }
   ],
   "source": [
    "df.isnull().sum()"
   ]
  },
  {
   "cell_type": "code",
   "execution_count": 9,
   "id": "cdc3c72e-8daa-4138-9d03-5ae1d0fc48c9",
   "metadata": {},
   "outputs": [
    {
     "data": {
      "text/plain": [
       "(103732, 12)"
      ]
     },
     "execution_count": 9,
     "metadata": {},
     "output_type": "execute_result"
    }
   ],
   "source": [
    "df.shape "
   ]
  },
  {
   "cell_type": "code",
   "execution_count": 10,
   "id": "1c750a5d-1fec-4474-9364-926dfa4b00d6",
   "metadata": {},
   "outputs": [],
   "source": [
    "df.dropna(inplace=True)   # each every row delete where the missing is present "
   ]
  },
  {
   "cell_type": "code",
   "execution_count": 11,
   "id": "f8ee70d9-3abd-4938-8253-d625220f472f",
   "metadata": {},
   "outputs": [
    {
     "data": {
      "text/plain": [
       "Gender                        0\n",
       "Customer Type                 0\n",
       "Type of Travel                0\n",
       "Class                         0\n",
       "satisfaction                  0\n",
       "Age                           0\n",
       "Flight Distance               0\n",
       "Inflight entertainment        0\n",
       "Baggage handling              0\n",
       "Cleanliness                   0\n",
       "Departure Delay in Minutes    0\n",
       "Arrival Delay in Minutes      0\n",
       "dtype: int64"
      ]
     },
     "execution_count": 11,
     "metadata": {},
     "output_type": "execute_result"
    }
   ],
   "source": [
    "df.isnull().sum()\n"
   ]
  },
  {
   "cell_type": "code",
   "execution_count": 12,
   "id": "ecaf9dc5-ca6d-4373-9330-7773d4599de3",
   "metadata": {},
   "outputs": [
    {
     "data": {
      "text/plain": [
       "satisfaction\n",
       "neutral or dissatisfied    58636\n",
       "satisfied                  44786\n",
       "Name: count, dtype: int64"
      ]
     },
     "execution_count": 12,
     "metadata": {},
     "output_type": "execute_result"
    }
   ],
   "source": [
    "df['satisfaction'].value_counts() "
   ]
  },
  {
   "cell_type": "code",
   "execution_count": 13,
   "id": "16fea2cc-c6c7-436b-a553-b6e25bf2cfd8",
   "metadata": {},
   "outputs": [
    {
     "data": {
      "text/plain": [
       "Type of Travel\n",
       "Business travel    71331\n",
       "Personal Travel    32091\n",
       "Name: count, dtype: int64"
      ]
     },
     "execution_count": 13,
     "metadata": {},
     "output_type": "execute_result"
    }
   ],
   "source": [
    "df['Type of Travel'].value_counts()"
   ]
  },
  {
   "cell_type": "code",
   "execution_count": 14,
   "id": "45b9bf87-768c-4d77-9736-e44ce04d7a14",
   "metadata": {},
   "outputs": [
    {
     "data": {
      "text/plain": [
       "Class\n",
       "Business    49423\n",
       "Eco         46532\n",
       "Eco Plus     7467\n",
       "Name: count, dtype: int64"
      ]
     },
     "execution_count": 14,
     "metadata": {},
     "output_type": "execute_result"
    }
   ],
   "source": [
    "df['Class'].value_counts()"
   ]
  },
  {
   "cell_type": "code",
   "execution_count": 15,
   "id": "8525a3e6-f1d4-470d-8bf9-5d667f67ff3e",
   "metadata": {},
   "outputs": [
    {
     "data": {
      "text/plain": [
       "5"
      ]
     },
     "execution_count": 15,
     "metadata": {},
     "output_type": "execute_result"
    }
   ],
   "source": [
    "df['Cleanliness'].max()"
   ]
  },
  {
   "cell_type": "code",
   "execution_count": 16,
   "id": "c85f6746-19d0-4435-b3c3-554a8526cd32",
   "metadata": {},
   "outputs": [
    {
     "data": {
      "text/html": [
       "<div>\n",
       "<style scoped>\n",
       "    .dataframe tbody tr th:only-of-type {\n",
       "        vertical-align: middle;\n",
       "    }\n",
       "\n",
       "    .dataframe tbody tr th {\n",
       "        vertical-align: top;\n",
       "    }\n",
       "\n",
       "    .dataframe thead th {\n",
       "        text-align: right;\n",
       "    }\n",
       "</style>\n",
       "<table border=\"1\" class=\"dataframe\">\n",
       "  <thead>\n",
       "    <tr style=\"text-align: right;\">\n",
       "      <th></th>\n",
       "      <th>Gender</th>\n",
       "      <th>Customer Type</th>\n",
       "      <th>Type of Travel</th>\n",
       "      <th>Class</th>\n",
       "      <th>satisfaction</th>\n",
       "      <th>Age</th>\n",
       "      <th>Flight Distance</th>\n",
       "      <th>Inflight entertainment</th>\n",
       "      <th>Baggage handling</th>\n",
       "      <th>Cleanliness</th>\n",
       "      <th>Departure Delay in Minutes</th>\n",
       "      <th>Arrival Delay in Minutes</th>\n",
       "    </tr>\n",
       "  </thead>\n",
       "  <tbody>\n",
       "    <tr>\n",
       "      <th>17</th>\n",
       "      <td>Male</td>\n",
       "      <td>Loyal Customer</td>\n",
       "      <td>Business travel</td>\n",
       "      <td>Business</td>\n",
       "      <td>satisfied</td>\n",
       "      <td>41</td>\n",
       "      <td>2075</td>\n",
       "      <td>5</td>\n",
       "      <td>5</td>\n",
       "      <td>5</td>\n",
       "      <td>0</td>\n",
       "      <td>10.0</td>\n",
       "    </tr>\n",
       "    <tr>\n",
       "      <th>36</th>\n",
       "      <td>Female</td>\n",
       "      <td>disloyal Customer</td>\n",
       "      <td>Business travel</td>\n",
       "      <td>Business</td>\n",
       "      <td>neutral or dissatisfied</td>\n",
       "      <td>34</td>\n",
       "      <td>883</td>\n",
       "      <td>5</td>\n",
       "      <td>5</td>\n",
       "      <td>5</td>\n",
       "      <td>0</td>\n",
       "      <td>0.0</td>\n",
       "    </tr>\n",
       "    <tr>\n",
       "      <th>45</th>\n",
       "      <td>Male</td>\n",
       "      <td>Loyal Customer</td>\n",
       "      <td>Business travel</td>\n",
       "      <td>Business</td>\n",
       "      <td>satisfied</td>\n",
       "      <td>29</td>\n",
       "      <td>529</td>\n",
       "      <td>5</td>\n",
       "      <td>5</td>\n",
       "      <td>5</td>\n",
       "      <td>4</td>\n",
       "      <td>0.0</td>\n",
       "    </tr>\n",
       "    <tr>\n",
       "      <th>56</th>\n",
       "      <td>Female</td>\n",
       "      <td>Loyal Customer</td>\n",
       "      <td>Business travel</td>\n",
       "      <td>Business</td>\n",
       "      <td>satisfied</td>\n",
       "      <td>57</td>\n",
       "      <td>2496</td>\n",
       "      <td>5</td>\n",
       "      <td>5</td>\n",
       "      <td>5</td>\n",
       "      <td>0</td>\n",
       "      <td>5.0</td>\n",
       "    </tr>\n",
       "    <tr>\n",
       "      <th>70</th>\n",
       "      <td>Female</td>\n",
       "      <td>Loyal Customer</td>\n",
       "      <td>Business travel</td>\n",
       "      <td>Business</td>\n",
       "      <td>satisfied</td>\n",
       "      <td>53</td>\n",
       "      <td>1506</td>\n",
       "      <td>5</td>\n",
       "      <td>5</td>\n",
       "      <td>5</td>\n",
       "      <td>0</td>\n",
       "      <td>0.0</td>\n",
       "    </tr>\n",
       "  </tbody>\n",
       "</table>\n",
       "</div>"
      ],
      "text/plain": [
       "    Gender      Customer Type   Type of Travel     Class  \\\n",
       "17    Male     Loyal Customer  Business travel  Business   \n",
       "36  Female  disloyal Customer  Business travel  Business   \n",
       "45    Male     Loyal Customer  Business travel  Business   \n",
       "56  Female     Loyal Customer  Business travel  Business   \n",
       "70  Female     Loyal Customer  Business travel  Business   \n",
       "\n",
       "               satisfaction  Age  Flight Distance  Inflight entertainment  \\\n",
       "17                satisfied   41             2075                       5   \n",
       "36  neutral or dissatisfied   34              883                       5   \n",
       "45                satisfied   29              529                       5   \n",
       "56                satisfied   57             2496                       5   \n",
       "70                satisfied   53             1506                       5   \n",
       "\n",
       "    Baggage handling  Cleanliness  Departure Delay in Minutes  \\\n",
       "17                 5            5                           0   \n",
       "36                 5            5                           0   \n",
       "45                 5            5                           4   \n",
       "56                 5            5                           0   \n",
       "70                 5            5                           0   \n",
       "\n",
       "    Arrival Delay in Minutes  \n",
       "17                      10.0  \n",
       "36                       0.0  \n",
       "45                       0.0  \n",
       "56                       5.0  \n",
       "70                       0.0  "
      ]
     },
     "execution_count": 16,
     "metadata": {},
     "output_type": "execute_result"
    }
   ],
   "source": [
    "df2  = df[(df['Inflight entertainment']==5)&(df['Cleanliness']==5)&(df['Baggage handling']==5)]\n",
    "df2.head()"
   ]
  },
  {
   "cell_type": "code",
   "execution_count": 17,
   "id": "ec610104-f4c6-46f0-bcd1-ea3f67f1d38a",
   "metadata": {},
   "outputs": [
    {
     "data": {
      "text/plain": [
       "(6729, 12)"
      ]
     },
     "execution_count": 17,
     "metadata": {},
     "output_type": "execute_result"
    }
   ],
   "source": [
    "df2.shape "
   ]
  },
  {
   "cell_type": "code",
   "execution_count": 18,
   "id": "b435e163-e1cb-42bb-8cfd-5296858dab2a",
   "metadata": {},
   "outputs": [
    {
     "data": {
      "text/plain": [
       "satisfaction\n",
       "satisfied                  4777\n",
       "neutral or dissatisfied    1952\n",
       "Name: count, dtype: int64"
      ]
     },
     "execution_count": 18,
     "metadata": {},
     "output_type": "execute_result"
    }
   ],
   "source": [
    "df2['satisfaction'].value_counts()"
   ]
  },
  {
   "cell_type": "code",
   "execution_count": 19,
   "id": "bf7f867a-4440-4e8c-bad0-e91ced337ab0",
   "metadata": {},
   "outputs": [
    {
     "data": {
      "text/plain": [
       "Customer Type\n",
       "Loyal Customer       5805\n",
       "disloyal Customer     924\n",
       "Name: count, dtype: int64"
      ]
     },
     "execution_count": 19,
     "metadata": {},
     "output_type": "execute_result"
    }
   ],
   "source": [
    "df2['Customer Type'].value_counts()\n"
   ]
  },
  {
   "cell_type": "code",
   "execution_count": 20,
   "id": "a2818f83-c5ef-4aa1-a5c9-8db0d4c7ea43",
   "metadata": {},
   "outputs": [
    {
     "data": {
      "text/plain": [
       "Customer Type\n",
       "Loyal Customer       42272\n",
       "disloyal Customer    10228\n",
       "Name: count, dtype: int64"
      ]
     },
     "execution_count": 20,
     "metadata": {},
     "output_type": "execute_result"
    }
   ],
   "source": [
    "df[df['Gender'] ==\"Female\"]['Customer Type'].value_counts()\n",
    "# data filter gender == female --> loyal or disloyal "
   ]
  },
  {
   "cell_type": "code",
   "execution_count": 21,
   "id": "04064e72-25a7-416b-8ea2-e5d4f01f8091",
   "metadata": {},
   "outputs": [
    {
     "data": {
      "text/plain": [
       "Customer Type\n",
       "Loyal Customer       42245\n",
       "disloyal Customer     8677\n",
       "Name: count, dtype: int64"
      ]
     },
     "execution_count": 21,
     "metadata": {},
     "output_type": "execute_result"
    }
   ],
   "source": [
    "df[df['Gender'] ==\"Male\"]['Customer Type'].value_counts()\n"
   ]
  },
  {
   "cell_type": "code",
   "execution_count": 22,
   "id": "b05c157b-4c42-45c3-bc5c-778422062a23",
   "metadata": {},
   "outputs": [],
   "source": [
    "df3 = df[(df['Gender'] == \"Female\" ) & (df['satisfaction']==\"satisfied\")]\n"
   ]
  },
  {
   "cell_type": "code",
   "execution_count": 23,
   "id": "633a6b75-bf75-4082-988b-98aa21a2b74e",
   "metadata": {},
   "outputs": [
    {
     "data": {
      "text/plain": [
       "(22415, 12)"
      ]
     },
     "execution_count": 23,
     "metadata": {},
     "output_type": "execute_result"
    }
   ],
   "source": [
    "df3.shape "
   ]
  },
  {
   "cell_type": "code",
   "execution_count": 24,
   "id": "8b68e226-fa17-4c89-a6ac-1dce42561316",
   "metadata": {},
   "outputs": [
    {
     "data": {
      "text/plain": [
       "Inflight entertainment\n",
       "4    8873\n",
       "5    8104\n",
       "3    2619\n",
       "2    1937\n",
       "1     882\n",
       "Name: count, dtype: int64"
      ]
     },
     "execution_count": 24,
     "metadata": {},
     "output_type": "execute_result"
    }
   ],
   "source": [
    "df3['Inflight entertainment'].value_counts()"
   ]
  },
  {
   "cell_type": "code",
   "execution_count": 25,
   "id": "0692accf-4e85-4a25-979b-de00d76bd50e",
   "metadata": {},
   "outputs": [],
   "source": [
    "# matplotlib and seaborn \n",
    "# auto eda --> pandas-profiling "
   ]
  },
  {
   "cell_type": "code",
   "execution_count": 26,
   "id": "9112fbde-0013-4068-9f40-81f5457dc6d7",
   "metadata": {},
   "outputs": [
    {
     "data": {
      "text/plain": [
       "Gender\n",
       "Female    52500\n",
       "Male      50922\n",
       "Name: count, dtype: int64"
      ]
     },
     "execution_count": 26,
     "metadata": {},
     "output_type": "execute_result"
    }
   ],
   "source": [
    "df['Gender'].value_counts()"
   ]
  },
  {
   "cell_type": "code",
   "execution_count": 27,
   "id": "d02c2468-d2b5-4de4-b224-8ec43d68f1f8",
   "metadata": {},
   "outputs": [
    {
     "data": {
      "text/html": [
       "<div>\n",
       "<style scoped>\n",
       "    .dataframe tbody tr th:only-of-type {\n",
       "        vertical-align: middle;\n",
       "    }\n",
       "\n",
       "    .dataframe tbody tr th {\n",
       "        vertical-align: top;\n",
       "    }\n",
       "\n",
       "    .dataframe thead th {\n",
       "        text-align: right;\n",
       "    }\n",
       "</style>\n",
       "<table border=\"1\" class=\"dataframe\">\n",
       "  <thead>\n",
       "    <tr style=\"text-align: right;\">\n",
       "      <th></th>\n",
       "      <th>Gender</th>\n",
       "      <th>Customer Type</th>\n",
       "      <th>Type of Travel</th>\n",
       "      <th>Class</th>\n",
       "      <th>satisfaction</th>\n",
       "      <th>Age</th>\n",
       "      <th>Flight Distance</th>\n",
       "      <th>Inflight entertainment</th>\n",
       "      <th>Baggage handling</th>\n",
       "      <th>Cleanliness</th>\n",
       "      <th>Departure Delay in Minutes</th>\n",
       "      <th>Arrival Delay in Minutes</th>\n",
       "    </tr>\n",
       "  </thead>\n",
       "  <tbody>\n",
       "    <tr>\n",
       "      <th>0</th>\n",
       "      <td>Male</td>\n",
       "      <td>Loyal Customer</td>\n",
       "      <td>Personal Travel</td>\n",
       "      <td>Eco Plus</td>\n",
       "      <td>neutral or dissatisfied</td>\n",
       "      <td>13</td>\n",
       "      <td>460</td>\n",
       "      <td>5</td>\n",
       "      <td>4</td>\n",
       "      <td>5</td>\n",
       "      <td>25</td>\n",
       "      <td>18.0</td>\n",
       "    </tr>\n",
       "    <tr>\n",
       "      <th>1</th>\n",
       "      <td>Male</td>\n",
       "      <td>disloyal Customer</td>\n",
       "      <td>Business travel</td>\n",
       "      <td>Business</td>\n",
       "      <td>neutral or dissatisfied</td>\n",
       "      <td>25</td>\n",
       "      <td>235</td>\n",
       "      <td>1</td>\n",
       "      <td>3</td>\n",
       "      <td>1</td>\n",
       "      <td>1</td>\n",
       "      <td>6.0</td>\n",
       "    </tr>\n",
       "    <tr>\n",
       "      <th>2</th>\n",
       "      <td>Female</td>\n",
       "      <td>Loyal Customer</td>\n",
       "      <td>Business travel</td>\n",
       "      <td>Business</td>\n",
       "      <td>satisfied</td>\n",
       "      <td>26</td>\n",
       "      <td>1142</td>\n",
       "      <td>5</td>\n",
       "      <td>4</td>\n",
       "      <td>5</td>\n",
       "      <td>0</td>\n",
       "      <td>0.0</td>\n",
       "    </tr>\n",
       "    <tr>\n",
       "      <th>3</th>\n",
       "      <td>Female</td>\n",
       "      <td>Loyal Customer</td>\n",
       "      <td>Business travel</td>\n",
       "      <td>Business</td>\n",
       "      <td>neutral or dissatisfied</td>\n",
       "      <td>25</td>\n",
       "      <td>562</td>\n",
       "      <td>2</td>\n",
       "      <td>3</td>\n",
       "      <td>2</td>\n",
       "      <td>11</td>\n",
       "      <td>9.0</td>\n",
       "    </tr>\n",
       "    <tr>\n",
       "      <th>4</th>\n",
       "      <td>Male</td>\n",
       "      <td>Loyal Customer</td>\n",
       "      <td>Business travel</td>\n",
       "      <td>Business</td>\n",
       "      <td>satisfied</td>\n",
       "      <td>61</td>\n",
       "      <td>214</td>\n",
       "      <td>3</td>\n",
       "      <td>4</td>\n",
       "      <td>3</td>\n",
       "      <td>0</td>\n",
       "      <td>0.0</td>\n",
       "    </tr>\n",
       "  </tbody>\n",
       "</table>\n",
       "</div>"
      ],
      "text/plain": [
       "   Gender      Customer Type   Type of Travel     Class  \\\n",
       "0    Male     Loyal Customer  Personal Travel  Eco Plus   \n",
       "1    Male  disloyal Customer  Business travel  Business   \n",
       "2  Female     Loyal Customer  Business travel  Business   \n",
       "3  Female     Loyal Customer  Business travel  Business   \n",
       "4    Male     Loyal Customer  Business travel  Business   \n",
       "\n",
       "              satisfaction  Age  Flight Distance  Inflight entertainment  \\\n",
       "0  neutral or dissatisfied   13              460                       5   \n",
       "1  neutral or dissatisfied   25              235                       1   \n",
       "2                satisfied   26             1142                       5   \n",
       "3  neutral or dissatisfied   25              562                       2   \n",
       "4                satisfied   61              214                       3   \n",
       "\n",
       "   Baggage handling  Cleanliness  Departure Delay in Minutes  \\\n",
       "0                 4            5                          25   \n",
       "1                 3            1                           1   \n",
       "2                 4            5                           0   \n",
       "3                 3            2                          11   \n",
       "4                 4            3                           0   \n",
       "\n",
       "   Arrival Delay in Minutes  \n",
       "0                      18.0  \n",
       "1                       6.0  \n",
       "2                       0.0  \n",
       "3                       9.0  \n",
       "4                       0.0  "
      ]
     },
     "execution_count": 27,
     "metadata": {},
     "output_type": "execute_result"
    }
   ],
   "source": [
    "df.head()"
   ]
  },
  {
   "cell_type": "code",
   "execution_count": 28,
   "id": "c4861be8-7f5f-4f21-8fce-34301286d2f2",
   "metadata": {},
   "outputs": [
    {
     "data": {
      "text/html": [
       "<div>\n",
       "<style scoped>\n",
       "    .dataframe tbody tr th:only-of-type {\n",
       "        vertical-align: middle;\n",
       "    }\n",
       "\n",
       "    .dataframe tbody tr th {\n",
       "        vertical-align: top;\n",
       "    }\n",
       "\n",
       "    .dataframe thead th {\n",
       "        text-align: right;\n",
       "    }\n",
       "</style>\n",
       "<table border=\"1\" class=\"dataframe\">\n",
       "  <thead>\n",
       "    <tr style=\"text-align: right;\">\n",
       "      <th></th>\n",
       "      <th>Age</th>\n",
       "      <th>Flight Distance</th>\n",
       "      <th>Inflight entertainment</th>\n",
       "      <th>Baggage handling</th>\n",
       "      <th>Cleanliness</th>\n",
       "      <th>Departure Delay in Minutes</th>\n",
       "      <th>Arrival Delay in Minutes</th>\n",
       "      <th>Gender_Male</th>\n",
       "      <th>Customer Type_disloyal Customer</th>\n",
       "      <th>Type of Travel_Personal Travel</th>\n",
       "      <th>Class_Eco</th>\n",
       "      <th>Class_Eco Plus</th>\n",
       "      <th>satisfaction_satisfied</th>\n",
       "    </tr>\n",
       "  </thead>\n",
       "  <tbody>\n",
       "    <tr>\n",
       "      <th>0</th>\n",
       "      <td>13</td>\n",
       "      <td>460</td>\n",
       "      <td>5</td>\n",
       "      <td>4</td>\n",
       "      <td>5</td>\n",
       "      <td>25</td>\n",
       "      <td>18</td>\n",
       "      <td>1</td>\n",
       "      <td>0</td>\n",
       "      <td>1</td>\n",
       "      <td>0</td>\n",
       "      <td>1</td>\n",
       "      <td>0</td>\n",
       "    </tr>\n",
       "    <tr>\n",
       "      <th>1</th>\n",
       "      <td>25</td>\n",
       "      <td>235</td>\n",
       "      <td>1</td>\n",
       "      <td>3</td>\n",
       "      <td>1</td>\n",
       "      <td>1</td>\n",
       "      <td>6</td>\n",
       "      <td>1</td>\n",
       "      <td>1</td>\n",
       "      <td>0</td>\n",
       "      <td>0</td>\n",
       "      <td>0</td>\n",
       "      <td>0</td>\n",
       "    </tr>\n",
       "    <tr>\n",
       "      <th>2</th>\n",
       "      <td>26</td>\n",
       "      <td>1142</td>\n",
       "      <td>5</td>\n",
       "      <td>4</td>\n",
       "      <td>5</td>\n",
       "      <td>0</td>\n",
       "      <td>0</td>\n",
       "      <td>0</td>\n",
       "      <td>0</td>\n",
       "      <td>0</td>\n",
       "      <td>0</td>\n",
       "      <td>0</td>\n",
       "      <td>1</td>\n",
       "    </tr>\n",
       "    <tr>\n",
       "      <th>3</th>\n",
       "      <td>25</td>\n",
       "      <td>562</td>\n",
       "      <td>2</td>\n",
       "      <td>3</td>\n",
       "      <td>2</td>\n",
       "      <td>11</td>\n",
       "      <td>9</td>\n",
       "      <td>0</td>\n",
       "      <td>0</td>\n",
       "      <td>0</td>\n",
       "      <td>0</td>\n",
       "      <td>0</td>\n",
       "      <td>0</td>\n",
       "    </tr>\n",
       "    <tr>\n",
       "      <th>4</th>\n",
       "      <td>61</td>\n",
       "      <td>214</td>\n",
       "      <td>3</td>\n",
       "      <td>4</td>\n",
       "      <td>3</td>\n",
       "      <td>0</td>\n",
       "      <td>0</td>\n",
       "      <td>1</td>\n",
       "      <td>0</td>\n",
       "      <td>0</td>\n",
       "      <td>0</td>\n",
       "      <td>0</td>\n",
       "      <td>1</td>\n",
       "    </tr>\n",
       "  </tbody>\n",
       "</table>\n",
       "</div>"
      ],
      "text/plain": [
       "   Age  Flight Distance  Inflight entertainment  Baggage handling  \\\n",
       "0   13              460                       5                 4   \n",
       "1   25              235                       1                 3   \n",
       "2   26             1142                       5                 4   \n",
       "3   25              562                       2                 3   \n",
       "4   61              214                       3                 4   \n",
       "\n",
       "   Cleanliness  Departure Delay in Minutes  Arrival Delay in Minutes  \\\n",
       "0            5                          25                        18   \n",
       "1            1                           1                         6   \n",
       "2            5                           0                         0   \n",
       "3            2                          11                         9   \n",
       "4            3                           0                         0   \n",
       "\n",
       "   Gender_Male  Customer Type_disloyal Customer  \\\n",
       "0            1                                0   \n",
       "1            1                                1   \n",
       "2            0                                0   \n",
       "3            0                                0   \n",
       "4            1                                0   \n",
       "\n",
       "   Type of Travel_Personal Travel  Class_Eco  Class_Eco Plus  \\\n",
       "0                               1          0               1   \n",
       "1                               0          0               0   \n",
       "2                               0          0               0   \n",
       "3                               0          0               0   \n",
       "4                               0          0               0   \n",
       "\n",
       "   satisfaction_satisfied  \n",
       "0                       0  \n",
       "1                       0  \n",
       "2                       1  \n",
       "3                       0  \n",
       "4                       1  "
      ]
     },
     "execution_count": 28,
     "metadata": {},
     "output_type": "execute_result"
    }
   ],
   "source": [
    "df3 = pd.get_dummies(df,drop_first=\"if_binary\").astype(int)\n",
    "df3.head()"
   ]
  },
  {
   "cell_type": "code",
   "execution_count": 29,
   "id": "0470bea3-55ab-48b5-82b2-5d0909d92a89",
   "metadata": {},
   "outputs": [
    {
     "data": {
      "text/plain": [
       "Age                                0\n",
       "Flight Distance                    0\n",
       "Inflight entertainment             0\n",
       "Baggage handling                   0\n",
       "Cleanliness                        0\n",
       "Departure Delay in Minutes         0\n",
       "Arrival Delay in Minutes           0\n",
       "Gender_Male                        0\n",
       "Customer Type_disloyal Customer    0\n",
       "Type of Travel_Personal Travel     0\n",
       "Class_Eco                          0\n",
       "Class_Eco Plus                     0\n",
       "satisfaction_satisfied             0\n",
       "dtype: int64"
      ]
     },
     "execution_count": 29,
     "metadata": {},
     "output_type": "execute_result"
    }
   ],
   "source": [
    "df3.isnull().sum()"
   ]
  },
  {
   "cell_type": "code",
   "execution_count": 30,
   "id": "f296cdbb-a85e-49ab-9e3d-4f1e70e9aa71",
   "metadata": {},
   "outputs": [],
   "source": [
    "## independent variable or dependent variables  ( X or Y)\n",
    "\n",
    "x = df3.drop('satisfaction_satisfied',axis=1)\n",
    "y = df3[['satisfaction_satisfied']]"
   ]
  },
  {
   "cell_type": "code",
   "execution_count": 31,
   "id": "440d57f4-d0b2-4466-b05c-a61642bc6699",
   "metadata": {},
   "outputs": [],
   "source": [
    "# train test split \n",
    "from sklearn.model_selection import train_test_split "
   ]
  },
  {
   "cell_type": "code",
   "execution_count": 32,
   "id": "98af6568-a87a-47b0-9a3a-cad5dc3271e7",
   "metadata": {},
   "outputs": [],
   "source": [
    "x_train,x_test , y_train, y_test = train_test_split(x,y,test_size=0.2)"
   ]
  },
  {
   "cell_type": "code",
   "execution_count": 33,
   "id": "08d705d1-b7b3-4606-a4a2-94393064ae73",
   "metadata": {},
   "outputs": [
    {
     "data": {
      "text/plain": [
       "((82737, 12), (82737, 1))"
      ]
     },
     "execution_count": 33,
     "metadata": {},
     "output_type": "execute_result"
    }
   ],
   "source": [
    "x_train.shape ,y_train.shape "
   ]
  },
  {
   "cell_type": "code",
   "execution_count": null,
   "id": "cf6e0544-2932-4b28-8108-c14f9bdba555",
   "metadata": {},
   "outputs": [],
   "source": [
    "y_train"
   ]
  },
  {
   "cell_type": "code",
   "execution_count": null,
   "id": "d4a4ab7e-7526-4b2e-8cdb-9c2765c021f9",
   "metadata": {},
   "outputs": [],
   "source": [
    "Y_train = y_train.values.ravel()\n",
    "Y_test = y_test.values.ravel()\n"
   ]
  },
  {
   "cell_type": "code",
   "execution_count": 39,
   "id": "0422dc47-bc3b-4d74-bbf5-11e967bcf79a",
   "metadata": {},
   "outputs": [],
   "source": [
    "from sklearn.neighbors import KNeighborsClassifier,KNeighborsRegressor\n",
    "from sklearn.svm import SVC,SVR"
   ]
  },
  {
   "cell_type": "code",
   "execution_count": 41,
   "id": "56cd46a1-df52-45ee-b2ce-4bf44c72459b",
   "metadata": {},
   "outputs": [],
   "source": [
    "knn = KNeighborsClassifier(n_neighbors=7)\n",
    "svm  = SVC(gamma='auto')"
   ]
  },
  {
   "cell_type": "code",
   "execution_count": 43,
   "id": "64fb3640-9e8e-40ba-ad29-25c7f75396ac",
   "metadata": {},
   "outputs": [
    {
     "data": {
      "text/plain": [
       "'KNeighborsClassifier'"
      ]
     },
     "execution_count": 43,
     "metadata": {},
     "output_type": "execute_result"
    }
   ],
   "source": [
    "knn.__class__.__name__"
   ]
  },
  {
   "cell_type": "code",
   "execution_count": null,
   "id": "205e0d88-498e-4b24-848a-ecff23438c36",
   "metadata": {},
   "outputs": [],
   "source": [
    "# knn.fit(x_train,y_train)\n",
    "svm.fit(x_train,Y_train)"
   ]
  },
  {
   "cell_type": "code",
   "execution_count": 1,
   "id": "3b029512-d796-406b-afb4-a5a1398f30ca",
   "metadata": {},
   "outputs": [
    {
     "name": "stdout",
     "output_type": "stream",
     "text": [
      "hellow \n"
     ]
    }
   ],
   "source": [
    "print('hellow ')"
   ]
  },
  {
   "cell_type": "code",
   "execution_count": null,
   "id": "2257bcea-d04d-4a0c-81b6-fb9ecc9c969f",
   "metadata": {},
   "outputs": [],
   "source": []
  },
  {
   "cell_type": "code",
   "execution_count": null,
   "id": "32e67387-dd83-4de4-bed1-7ad792babab4",
   "metadata": {},
   "outputs": [],
   "source": []
  },
  {
   "cell_type": "code",
   "execution_count": null,
   "id": "13221809-fe31-4437-a888-a69371e0a56b",
   "metadata": {},
   "outputs": [],
   "source": []
  },
  {
   "cell_type": "code",
   "execution_count": null,
   "id": "a256d6f2-deea-422f-86d0-eefd573720fc",
   "metadata": {},
   "outputs": [],
   "source": []
  },
  {
   "cell_type": "code",
   "execution_count": null,
   "id": "5d809e86-6baa-47b6-8c7b-b335be7454f1",
   "metadata": {},
   "outputs": [],
   "source": []
  },
  {
   "cell_type": "code",
   "execution_count": null,
   "id": "2bf525ff-9ae9-4be7-befa-4176ca1f6f95",
   "metadata": {},
   "outputs": [],
   "source": []
  },
  {
   "cell_type": "code",
   "execution_count": 33,
   "id": "8c106abc-77eb-424d-837e-0e7d95bb68cb",
   "metadata": {},
   "outputs": [],
   "source": [
    "## MODEL TRAINING \n",
    "# !pip install scikit-learn  \n",
    "from sklearn.linear_model import LogisticRegression "
   ]
  },
  {
   "cell_type": "code",
   "execution_count": 34,
   "id": "0fc1a6fd-d243-4935-96f6-d9d168a7cbb2",
   "metadata": {},
   "outputs": [],
   "source": [
    "lg = LogisticRegression()"
   ]
  },
  {
   "cell_type": "code",
   "execution_count": 35,
   "id": "411fd6bb-bc8a-4a07-812b-2aa8eed264c2",
   "metadata": {},
   "outputs": [
    {
     "name": "stderr",
     "output_type": "stream",
     "text": [
      "C:\\Users\\Ranjit\\AppData\\Local\\Programs\\Python\\Python311\\Lib\\site-packages\\sklearn\\utils\\validation.py:1183: DataConversionWarning: A column-vector y was passed when a 1d array was expected. Please change the shape of y to (n_samples, ), for example using ravel().\n",
      "  y = column_or_1d(y, warn=True)\n",
      "C:\\Users\\Ranjit\\AppData\\Local\\Programs\\Python\\Python311\\Lib\\site-packages\\sklearn\\linear_model\\_logistic.py:460: ConvergenceWarning: lbfgs failed to converge (status=1):\n",
      "STOP: TOTAL NO. of ITERATIONS REACHED LIMIT.\n",
      "\n",
      "Increase the number of iterations (max_iter) or scale the data as shown in:\n",
      "    https://scikit-learn.org/stable/modules/preprocessing.html\n",
      "Please also refer to the documentation for alternative solver options:\n",
      "    https://scikit-learn.org/stable/modules/linear_model.html#logistic-regression\n",
      "  n_iter_i = _check_optimize_result(\n"
     ]
    },
    {
     "data": {
      "text/html": [
       "<style>#sk-container-id-1 {color: black;}#sk-container-id-1 pre{padding: 0;}#sk-container-id-1 div.sk-toggleable {background-color: white;}#sk-container-id-1 label.sk-toggleable__label {cursor: pointer;display: block;width: 100%;margin-bottom: 0;padding: 0.3em;box-sizing: border-box;text-align: center;}#sk-container-id-1 label.sk-toggleable__label-arrow:before {content: \"▸\";float: left;margin-right: 0.25em;color: #696969;}#sk-container-id-1 label.sk-toggleable__label-arrow:hover:before {color: black;}#sk-container-id-1 div.sk-estimator:hover label.sk-toggleable__label-arrow:before {color: black;}#sk-container-id-1 div.sk-toggleable__content {max-height: 0;max-width: 0;overflow: hidden;text-align: left;background-color: #f0f8ff;}#sk-container-id-1 div.sk-toggleable__content pre {margin: 0.2em;color: black;border-radius: 0.25em;background-color: #f0f8ff;}#sk-container-id-1 input.sk-toggleable__control:checked~div.sk-toggleable__content {max-height: 200px;max-width: 100%;overflow: auto;}#sk-container-id-1 input.sk-toggleable__control:checked~label.sk-toggleable__label-arrow:before {content: \"▾\";}#sk-container-id-1 div.sk-estimator input.sk-toggleable__control:checked~label.sk-toggleable__label {background-color: #d4ebff;}#sk-container-id-1 div.sk-label input.sk-toggleable__control:checked~label.sk-toggleable__label {background-color: #d4ebff;}#sk-container-id-1 input.sk-hidden--visually {border: 0;clip: rect(1px 1px 1px 1px);clip: rect(1px, 1px, 1px, 1px);height: 1px;margin: -1px;overflow: hidden;padding: 0;position: absolute;width: 1px;}#sk-container-id-1 div.sk-estimator {font-family: monospace;background-color: #f0f8ff;border: 1px dotted black;border-radius: 0.25em;box-sizing: border-box;margin-bottom: 0.5em;}#sk-container-id-1 div.sk-estimator:hover {background-color: #d4ebff;}#sk-container-id-1 div.sk-parallel-item::after {content: \"\";width: 100%;border-bottom: 1px solid gray;flex-grow: 1;}#sk-container-id-1 div.sk-label:hover label.sk-toggleable__label {background-color: #d4ebff;}#sk-container-id-1 div.sk-serial::before {content: \"\";position: absolute;border-left: 1px solid gray;box-sizing: border-box;top: 0;bottom: 0;left: 50%;z-index: 0;}#sk-container-id-1 div.sk-serial {display: flex;flex-direction: column;align-items: center;background-color: white;padding-right: 0.2em;padding-left: 0.2em;position: relative;}#sk-container-id-1 div.sk-item {position: relative;z-index: 1;}#sk-container-id-1 div.sk-parallel {display: flex;align-items: stretch;justify-content: center;background-color: white;position: relative;}#sk-container-id-1 div.sk-item::before, #sk-container-id-1 div.sk-parallel-item::before {content: \"\";position: absolute;border-left: 1px solid gray;box-sizing: border-box;top: 0;bottom: 0;left: 50%;z-index: -1;}#sk-container-id-1 div.sk-parallel-item {display: flex;flex-direction: column;z-index: 1;position: relative;background-color: white;}#sk-container-id-1 div.sk-parallel-item:first-child::after {align-self: flex-end;width: 50%;}#sk-container-id-1 div.sk-parallel-item:last-child::after {align-self: flex-start;width: 50%;}#sk-container-id-1 div.sk-parallel-item:only-child::after {width: 0;}#sk-container-id-1 div.sk-dashed-wrapped {border: 1px dashed gray;margin: 0 0.4em 0.5em 0.4em;box-sizing: border-box;padding-bottom: 0.4em;background-color: white;}#sk-container-id-1 div.sk-label label {font-family: monospace;font-weight: bold;display: inline-block;line-height: 1.2em;}#sk-container-id-1 div.sk-label-container {text-align: center;}#sk-container-id-1 div.sk-container {/* jupyter's `normalize.less` sets `[hidden] { display: none; }` but bootstrap.min.css set `[hidden] { display: none !important; }` so we also need the `!important` here to be able to override the default hidden behavior on the sphinx rendered scikit-learn.org. See: https://github.com/scikit-learn/scikit-learn/issues/21755 */display: inline-block !important;position: relative;}#sk-container-id-1 div.sk-text-repr-fallback {display: none;}</style><div id=\"sk-container-id-1\" class=\"sk-top-container\"><div class=\"sk-text-repr-fallback\"><pre>LogisticRegression()</pre><b>In a Jupyter environment, please rerun this cell to show the HTML representation or trust the notebook. <br />On GitHub, the HTML representation is unable to render, please try loading this page with nbviewer.org.</b></div><div class=\"sk-container\" hidden><div class=\"sk-item\"><div class=\"sk-estimator sk-toggleable\"><input class=\"sk-toggleable__control sk-hidden--visually\" id=\"sk-estimator-id-1\" type=\"checkbox\" checked><label for=\"sk-estimator-id-1\" class=\"sk-toggleable__label sk-toggleable__label-arrow\">LogisticRegression</label><div class=\"sk-toggleable__content\"><pre>LogisticRegression()</pre></div></div></div></div></div>"
      ],
      "text/plain": [
       "LogisticRegression()"
      ]
     },
     "execution_count": 35,
     "metadata": {},
     "output_type": "execute_result"
    }
   ],
   "source": [
    "## model trainer \n",
    "lg.fit(x_train,y_train)\n"
   ]
  },
  {
   "cell_type": "code",
   "execution_count": 36,
   "id": "d0236a66-ec9e-4e2f-a14b-3c2291c9a1c2",
   "metadata": {},
   "outputs": [
    {
     "name": "stdout",
     "output_type": "stream",
     "text": [
      "Training score :  80.0\n",
      "Testing score :  80.0\n"
     ]
    },
    {
     "data": {
      "text/html": [
       "<div>\n",
       "<style scoped>\n",
       "    .dataframe tbody tr th:only-of-type {\n",
       "        vertical-align: middle;\n",
       "    }\n",
       "\n",
       "    .dataframe tbody tr th {\n",
       "        vertical-align: top;\n",
       "    }\n",
       "\n",
       "    .dataframe thead th {\n",
       "        text-align: right;\n",
       "    }\n",
       "</style>\n",
       "<table border=\"1\" class=\"dataframe\">\n",
       "  <thead>\n",
       "    <tr style=\"text-align: right;\">\n",
       "      <th></th>\n",
       "      <th>satisfaction_satisfied</th>\n",
       "      <th>satisfaction_prediction</th>\n",
       "    </tr>\n",
       "  </thead>\n",
       "  <tbody>\n",
       "    <tr>\n",
       "      <th>91108</th>\n",
       "      <td>0</td>\n",
       "      <td>0</td>\n",
       "    </tr>\n",
       "    <tr>\n",
       "      <th>15244</th>\n",
       "      <td>0</td>\n",
       "      <td>0</td>\n",
       "    </tr>\n",
       "    <tr>\n",
       "      <th>34483</th>\n",
       "      <td>0</td>\n",
       "      <td>0</td>\n",
       "    </tr>\n",
       "    <tr>\n",
       "      <th>8631</th>\n",
       "      <td>1</td>\n",
       "      <td>0</td>\n",
       "    </tr>\n",
       "    <tr>\n",
       "      <th>21177</th>\n",
       "      <td>1</td>\n",
       "      <td>0</td>\n",
       "    </tr>\n",
       "    <tr>\n",
       "      <th>37046</th>\n",
       "      <td>1</td>\n",
       "      <td>1</td>\n",
       "    </tr>\n",
       "    <tr>\n",
       "      <th>50378</th>\n",
       "      <td>0</td>\n",
       "      <td>0</td>\n",
       "    </tr>\n",
       "    <tr>\n",
       "      <th>89262</th>\n",
       "      <td>0</td>\n",
       "      <td>1</td>\n",
       "    </tr>\n",
       "    <tr>\n",
       "      <th>67328</th>\n",
       "      <td>1</td>\n",
       "      <td>0</td>\n",
       "    </tr>\n",
       "    <tr>\n",
       "      <th>1547</th>\n",
       "      <td>1</td>\n",
       "      <td>1</td>\n",
       "    </tr>\n",
       "    <tr>\n",
       "      <th>25560</th>\n",
       "      <td>1</td>\n",
       "      <td>1</td>\n",
       "    </tr>\n",
       "    <tr>\n",
       "      <th>96800</th>\n",
       "      <td>0</td>\n",
       "      <td>0</td>\n",
       "    </tr>\n",
       "    <tr>\n",
       "      <th>73792</th>\n",
       "      <td>0</td>\n",
       "      <td>0</td>\n",
       "    </tr>\n",
       "    <tr>\n",
       "      <th>76220</th>\n",
       "      <td>0</td>\n",
       "      <td>0</td>\n",
       "    </tr>\n",
       "    <tr>\n",
       "      <th>95922</th>\n",
       "      <td>1</td>\n",
       "      <td>1</td>\n",
       "    </tr>\n",
       "    <tr>\n",
       "      <th>50895</th>\n",
       "      <td>0</td>\n",
       "      <td>1</td>\n",
       "    </tr>\n",
       "    <tr>\n",
       "      <th>76615</th>\n",
       "      <td>1</td>\n",
       "      <td>1</td>\n",
       "    </tr>\n",
       "    <tr>\n",
       "      <th>27631</th>\n",
       "      <td>0</td>\n",
       "      <td>0</td>\n",
       "    </tr>\n",
       "    <tr>\n",
       "      <th>25676</th>\n",
       "      <td>1</td>\n",
       "      <td>0</td>\n",
       "    </tr>\n",
       "    <tr>\n",
       "      <th>75350</th>\n",
       "      <td>1</td>\n",
       "      <td>1</td>\n",
       "    </tr>\n",
       "    <tr>\n",
       "      <th>22083</th>\n",
       "      <td>0</td>\n",
       "      <td>0</td>\n",
       "    </tr>\n",
       "    <tr>\n",
       "      <th>63726</th>\n",
       "      <td>0</td>\n",
       "      <td>0</td>\n",
       "    </tr>\n",
       "    <tr>\n",
       "      <th>46303</th>\n",
       "      <td>1</td>\n",
       "      <td>1</td>\n",
       "    </tr>\n",
       "    <tr>\n",
       "      <th>86418</th>\n",
       "      <td>1</td>\n",
       "      <td>0</td>\n",
       "    </tr>\n",
       "    <tr>\n",
       "      <th>12420</th>\n",
       "      <td>0</td>\n",
       "      <td>0</td>\n",
       "    </tr>\n",
       "  </tbody>\n",
       "</table>\n",
       "</div>"
      ],
      "text/plain": [
       "       satisfaction_satisfied  satisfaction_prediction\n",
       "91108                       0                        0\n",
       "15244                       0                        0\n",
       "34483                       0                        0\n",
       "8631                        1                        0\n",
       "21177                       1                        0\n",
       "37046                       1                        1\n",
       "50378                       0                        0\n",
       "89262                       0                        1\n",
       "67328                       1                        0\n",
       "1547                        1                        1\n",
       "25560                       1                        1\n",
       "96800                       0                        0\n",
       "73792                       0                        0\n",
       "76220                       0                        0\n",
       "95922                       1                        1\n",
       "50895                       0                        1\n",
       "76615                       1                        1\n",
       "27631                       0                        0\n",
       "25676                       1                        0\n",
       "75350                       1                        1\n",
       "22083                       0                        0\n",
       "63726                       0                        0\n",
       "46303                       1                        1\n",
       "86418                       1                        0\n",
       "12420                       0                        0"
      ]
     },
     "execution_count": 36,
     "metadata": {},
     "output_type": "execute_result"
    }
   ],
   "source": [
    "# model performance (model evaluation)\n",
    "print(\"Training score : \",round(lg.score(x_train,y_train),2)*100)\n",
    "print(\"Testing score : \",round(lg.score(x_test,y_test),2)*100)\n",
    "\n",
    "###  Get prediction \n",
    "prediction = lg.predict(x_test)\n",
    "\n",
    "# adding prediction column with actual dataset \n",
    "y_test['satisfaction_prediction'] = prediction \n",
    "y_test.head(25)"
   ]
  },
  {
   "cell_type": "code",
   "execution_count": 37,
   "id": "5135fa8f-b742-4ee9-9cca-38aad2cdb9d6",
   "metadata": {},
   "outputs": [],
   "source": [
    "## CONFUSION MATRIX  \n",
    "from sklearn.metrics import confusion_matrix "
   ]
  },
  {
   "cell_type": "code",
   "execution_count": 38,
   "id": "eb0aa034-f2a4-4dc8-bbfe-5f801a57a19f",
   "metadata": {},
   "outputs": [
    {
     "data": {
      "text/plain": [
       "array([[9544, 2128],\n",
       "       [2004, 7009]], dtype=int64)"
      ]
     },
     "execution_count": 38,
     "metadata": {},
     "output_type": "execute_result"
    }
   ],
   "source": [
    "# confusion(actual,prediction) \n",
    "matrix = confusion_matrix(y_test['satisfaction_satisfied'],y_test['satisfaction_prediction'])\n",
    "matrix"
   ]
  },
  {
   "cell_type": "code",
   "execution_count": 39,
   "id": "9d368c3f-0929-4050-b51c-95f32d173e51",
   "metadata": {},
   "outputs": [],
   "source": [
    "import matplotlib.pyplot as  plt \n",
    "import seaborn as sns "
   ]
  },
  {
   "cell_type": "code",
   "execution_count": 40,
   "id": "70a68634-1f05-42f5-8520-634be1f25bd2",
   "metadata": {},
   "outputs": [
    {
     "data": {
      "image/png": "[encoded data removed]",
      "text/plain": [
       "<Figure size 640x480 with 2 Axes>"
      ]
     },
     "metadata": {},
     "output_type": "display_data"
    }
   ],
   "source": [
    "sns.heatmap(matrix,annot=True,fmt='d')\n",
    "plt.title('Confusion matrix ')\n",
    "plt.axis('off')\n",
    "plt.show()"
   ]
  },
  {
   "cell_type": "code",
   "execution_count": 41,
   "id": "3fe39a9f-adea-4752-b9ab-27009b4a3727",
   "metadata": {},
   "outputs": [
    {
     "data": {
      "text/html": [
       "<div>\n",
       "<style scoped>\n",
       "    .dataframe tbody tr th:only-of-type {\n",
       "        vertical-align: middle;\n",
       "    }\n",
       "\n",
       "    .dataframe tbody tr th {\n",
       "        vertical-align: top;\n",
       "    }\n",
       "\n",
       "    .dataframe thead th {\n",
       "        text-align: right;\n",
       "    }\n",
       "</style>\n",
       "<table border=\"1\" class=\"dataframe\">\n",
       "  <thead>\n",
       "    <tr style=\"text-align: right;\">\n",
       "      <th></th>\n",
       "      <th>satisfaction_satisfied</th>\n",
       "      <th>satisfaction_prediction</th>\n",
       "    </tr>\n",
       "  </thead>\n",
       "  <tbody>\n",
       "    <tr>\n",
       "      <th>91108</th>\n",
       "      <td>0</td>\n",
       "      <td>0</td>\n",
       "    </tr>\n",
       "    <tr>\n",
       "      <th>15244</th>\n",
       "      <td>0</td>\n",
       "      <td>0</td>\n",
       "    </tr>\n",
       "    <tr>\n",
       "      <th>34483</th>\n",
       "      <td>0</td>\n",
       "      <td>0</td>\n",
       "    </tr>\n",
       "    <tr>\n",
       "      <th>8631</th>\n",
       "      <td>1</td>\n",
       "      <td>0</td>\n",
       "    </tr>\n",
       "    <tr>\n",
       "      <th>21177</th>\n",
       "      <td>1</td>\n",
       "      <td>0</td>\n",
       "    </tr>\n",
       "    <tr>\n",
       "      <th>...</th>\n",
       "      <td>...</td>\n",
       "      <td>...</td>\n",
       "    </tr>\n",
       "    <tr>\n",
       "      <th>95445</th>\n",
       "      <td>0</td>\n",
       "      <td>1</td>\n",
       "    </tr>\n",
       "    <tr>\n",
       "      <th>22543</th>\n",
       "      <td>0</td>\n",
       "      <td>1</td>\n",
       "    </tr>\n",
       "    <tr>\n",
       "      <th>2663</th>\n",
       "      <td>0</td>\n",
       "      <td>0</td>\n",
       "    </tr>\n",
       "    <tr>\n",
       "      <th>43735</th>\n",
       "      <td>1</td>\n",
       "      <td>1</td>\n",
       "    </tr>\n",
       "    <tr>\n",
       "      <th>73558</th>\n",
       "      <td>1</td>\n",
       "      <td>1</td>\n",
       "    </tr>\n",
       "  </tbody>\n",
       "</table>\n",
       "<p>20685 rows × 2 columns</p>\n",
       "</div>"
      ],
      "text/plain": [
       "       satisfaction_satisfied  satisfaction_prediction\n",
       "91108                       0                        0\n",
       "15244                       0                        0\n",
       "34483                       0                        0\n",
       "8631                        1                        0\n",
       "21177                       1                        0\n",
       "...                       ...                      ...\n",
       "95445                       0                        1\n",
       "22543                       0                        1\n",
       "2663                        0                        0\n",
       "43735                       1                        1\n",
       "73558                       1                        1\n",
       "\n",
       "[20685 rows x 2 columns]"
      ]
     },
     "execution_count": 41,
     "metadata": {},
     "output_type": "execute_result"
    }
   ],
   "source": [
    "y_test"
   ]
  },
  {
   "cell_type": "code",
   "execution_count": 42,
   "id": "56e03c49-063a-4705-93aa-73474a3c2548",
   "metadata": {},
   "outputs": [
    {
     "name": "stdout",
     "output_type": "stream",
     "text": [
      "Testing score :  80.0\n"
     ]
    }
   ],
   "source": [
    "# print(\"Training score : \",round(lg.score(x_train,y_train),2)*100)\n",
    "print(\"Testing score : \",round(lg.score(x_test,y_test['satisfaction_satisfied']),2)*100)"
   ]
  },
  {
   "cell_type": "code",
   "execution_count": 43,
   "id": "11e39b10-52b2-403a-9d91-d34ad98684f8",
   "metadata": {},
   "outputs": [
    {
     "data": {
      "text/plain": [
       "80.0"
      ]
     },
     "execution_count": 43,
     "metadata": {},
     "output_type": "execute_result"
    }
   ],
   "source": [
    "round((9549+7034)/(9549+7034+2065+2037),2)*100"
   ]
  },
  {
   "cell_type": "code",
   "execution_count": 44,
   "id": "9cf116c3-e9f2-4f81-b2e3-b8faedb84d84",
   "metadata": {},
   "outputs": [],
   "source": [
    "from sklearn.metrics import classification_report\n"
   ]
  },
  {
   "cell_type": "code",
   "execution_count": 45,
   "id": "b2854731-1498-4693-816e-6f33721cb338",
   "metadata": {},
   "outputs": [
    {
     "name": "stdout",
     "output_type": "stream",
     "text": [
      "              precision    recall  f1-score   support\n",
      "\n",
      "           0       0.83      0.82      0.82     11672\n",
      "           1       0.77      0.78      0.77      9013\n",
      "\n",
      "    accuracy                           0.80     20685\n",
      "   macro avg       0.80      0.80      0.80     20685\n",
      "weighted avg       0.80      0.80      0.80     20685\n",
      "\n"
     ]
    }
   ],
   "source": [
    "# classification_report(actual,prediction)\n",
    "\n",
    "print(classification_report(y_test['satisfaction_satisfied'],y_test['satisfaction_prediction']))"
   ]
  },
  {
   "cell_type": "code",
   "execution_count": 46,
   "id": "56ff39c3-7df1-429b-9b7f-5a83fa58b38b",
   "metadata": {},
   "outputs": [
    {
     "data": {
      "text/plain": [
       "(20685, 2)"
      ]
     },
     "execution_count": 46,
     "metadata": {},
     "output_type": "execute_result"
    }
   ],
   "source": [
    "y_test.shape"
   ]
  },
  {
   "cell_type": "code",
   "execution_count": 47,
   "id": "ea9f71a3-4c3f-459b-99cc-f48fe8c5746f",
   "metadata": {},
   "outputs": [
    {
     "data": {
      "text/plain": [
       "20685"
      ]
     },
     "execution_count": 47,
     "metadata": {},
     "output_type": "execute_result"
    }
   ],
   "source": [
    "11614 + 9071 "
   ]
  },
  {
   "cell_type": "code",
   "execution_count": null,
   "id": "d93293e2-3e97-4ea4-abd4-1609a59cb996",
   "metadata": {},
   "outputs": [],
   "source": []
  },
  {
   "cell_type": "markdown",
   "id": "0619f8ae-fabe-4686-bfbd-feae555bf508",
   "metadata": {},
   "source": [
    "### Using Decision Tree "
   ]
  },
  {
   "cell_type": "code",
   "execution_count": 83,
   "id": "19d1b1c2-e1a7-4918-9fd5-10ed97314a89",
   "metadata": {},
   "outputs": [
    {
     "data": {
      "text/plain": [
       "(82737, 12)"
      ]
     },
     "execution_count": 83,
     "metadata": {},
     "output_type": "execute_result"
    }
   ],
   "source": [
    "x_train.shape "
   ]
  },
  {
   "cell_type": "code",
   "execution_count": 84,
   "id": "62d44aec-123f-4657-8d39-e735a4612da3",
   "metadata": {},
   "outputs": [
    {
     "data": {
      "text/plain": [
       "(82737, 1)"
      ]
     },
     "execution_count": 84,
     "metadata": {},
     "output_type": "execute_result"
    }
   ],
   "source": [
    "y_train.shape "
   ]
  },
  {
   "cell_type": "code",
   "execution_count": 85,
   "id": "a6ba7bcf-f500-4b9e-a657-0373bfddd9a8",
   "metadata": {},
   "outputs": [
    {
     "data": {
      "text/plain": [
       "(20685, 12)"
      ]
     },
     "execution_count": 85,
     "metadata": {},
     "output_type": "execute_result"
    }
   ],
   "source": [
    "x_test.shape "
   ]
  },
  {
   "cell_type": "code",
   "execution_count": 86,
   "id": "4d36cecd-9b59-4736-8c6a-c953e2ffaa3a",
   "metadata": {},
   "outputs": [
    {
     "data": {
      "text/plain": [
       "(20685, 1)"
      ]
     },
     "execution_count": 86,
     "metadata": {},
     "output_type": "execute_result"
    }
   ],
   "source": [
    "y_test.shape "
   ]
  },
  {
   "cell_type": "code",
   "execution_count": 87,
   "id": "6728ee0f-6c9b-4d1b-b831-d67f34a68505",
   "metadata": {},
   "outputs": [],
   "source": [
    "### MODEL TRAINING \n",
    "from sklearn.tree import DecisionTreeClassifier"
   ]
  },
  {
   "cell_type": "code",
   "execution_count": 89,
   "id": "52a906cf-675f-43ab-bc1e-6c9f7276df00",
   "metadata": {},
   "outputs": [
    {
     "name": "stdout",
     "output_type": "stream",
     "text": [
      "0.9996857512358437\n",
      "0.8126661832245589\n"
     ]
    }
   ],
   "source": [
    "dt = DecisionTreeClassifier()\n",
    "dt.fit(x_train,y_train)\n",
    "\n",
    "# model performance (model evaluation)\n",
    "print(dt.score(x_train,y_train))\n",
    "print(dt.score(x_test,y_test))\n",
    "\n",
    "# over fit train score --=> High \n",
    "# testing score ----> Low  "
   ]
  },
  {
   "cell_type": "code",
   "execution_count": 91,
   "id": "8b75d440-c67a-4106-a538-20923501447e",
   "metadata": {},
   "outputs": [],
   "source": [
    "from sklearn.tree import plot_tree "
   ]
  },
  {
   "cell_type": "code",
   "execution_count": 92,
   "id": "dd348b93-bb30-4fb8-ae63-46a56d4be326",
   "metadata": {},
   "outputs": [
    {
     "data": {
      "text/plain": [
       "[Text(0.5552016797306982, 0.99, 'x[10] <= 0.5\\ngini = 0.491\\nsamples = 82737\\nvalue = [46827, 35910]'),\n",
       " Text(0.3297846882976817, 0.97, 'x[2] <= 3.5\\ngini = 0.463\\nsamples = 45490\\nvalue = [16589, 28901]'),\n",
       " Text(0.22692178260354606, 0.95, 'x[4] <= 4.5\\ngini = 0.444\\nsamples = 17858\\nvalue = [11920, 5938]'),\n",
       " Text(0.1654769394596753, 0.93, 'x[4] <= 2.5\\ngini = 0.413\\nsamples = 16501\\nvalue = [11698, 4803]'),\n",
       " Text(0.07193159292465862, 0.91, 'x[8] <= 0.5\\ngini = 0.315\\nsamples = 8224\\nvalue = [6610, 1614]'),\n",
       " Text(0.0570071552146905, 0.89, 'x[3] <= 4.5\\ngini = 0.225\\nsamples = 5805\\nvalue = [5056, 749]'),\n",
       " Text(0.04134075690742474, 0.87, 'x[6] <= 5.5\\ngini = 0.194\\nsamples = 5378\\nvalue = [4794, 584]'),\n",
       " Text(0.018930115033453047, 0.85, 'x[2] <= 1.5\\ngini = 0.25\\nsamples = 3076\\nvalue = [2625, 451]'),\n",
       " Text(0.00316220421489065, 0.83, 'x[1] <= 143.0\\ngini = 0.164\\nsamples = 954\\nvalue = [868, 86]'),\n",
       " Text(0.00030905737300025693, 0.81, 'x[0] <= 22.5\\ngini = 0.461\\nsamples = 25\\nvalue = [16, 9]'),\n",
       " Text(0.00020603824866683796, 0.79, 'gini = 0.0\\nsamples = 3\\nvalue = [0, 3]'),\n",
       " Text(0.0004120764973336759, 0.79, 'x[6] <= 0.5\\ngini = 0.397\\nsamples = 22\\nvalue = [16, 6]'),\n",
       " Text(0.00030905737300025693, 0.77, 'x[1] <= 117.0\\ngini = 0.32\\nsamples = 20\\nvalue = [16, 4]'),\n",
       " Text(0.00020603824866683796, 0.75, 'gini = 0.0\\nsamples = 11\\nvalue = [11, 0]'),\n",
       " Text(0.0004120764973336759, 0.75, 'x[3] <= 3.5\\ngini = 0.494\\nsamples = 9\\nvalue = [5, 4]'),\n",
       " Text(0.00030905737300025693, 0.73, 'x[0] <= 34.5\\ngini = 0.444\\nsamples = 6\\nvalue = [2, 4]'),\n",
       " Text(0.00020603824866683796, 0.71, 'x[1] <= 127.5\\ngini = 0.444\\nsamples = 3\\nvalue = [2, 1]'),\n",
       " Text(0.00010301912433341898, 0.69, 'gini = 0.0\\nsamples = 1\\nvalue = [0, 1]'),\n",
       " Text(0.00030905737300025693, 0.69, 'gini = 0.0\\nsamples = 2\\nvalue = [2, 0]'),\n",
       " Text(0.0004120764973336759, 0.71, 'gini = 0.0\\nsamples = 3\\nvalue = [0, 3]'),\n",
       " Text(0.0005150956216670949, 0.73, 'gini = 0.0\\nsamples = 3\\nvalue = [3, 0]'),\n",
       " Text(0.0005150956216670949, 0.77, 'gini = 0.0\\nsamples = 2\\nvalue = [0, 2]'),\n",
       " Text(0.006015351056781043, 0.81, 'x[9] <= 0.5\\ngini = 0.152\\nsamples = 929\\nvalue = [852, 77]'),\n",
       " Text(0.0024692396363666363, 0.79, 'x[0] <= 25.5\\ngini = 0.115\\nsamples = 652\\nvalue = [612, 40]'),\n",
       " Text(0.0009271721190007708, 0.77, 'x[3] <= 1.5\\ngini = 0.013\\nsamples = 152\\nvalue = [151, 1]'),\n",
       " Text(0.0008241529946673518, 0.75, 'x[11] <= 0.5\\ngini = 0.375\\nsamples = 4\\nvalue = [3, 1]'),\n",
       " Text(0.0007211338703339328, 0.73, 'gini = 0.0\\nsamples = 3\\nvalue = [3, 0]'),\n",
       " Text(0.0009271721190007708, 0.73, 'gini = 0.0\\nsamples = 1\\nvalue = [0, 1]'),\n",
       " Text(0.0010301912433341898, 0.75, 'gini = 0.0\\nsamples = 148\\nvalue = [148, 0]'),\n",
       " Text(0.004011307153732502, 0.77, 'x[0] <= 37.5\\ngini = 0.144\\nsamples = 500\\nvalue = [461, 39]'),\n",
       " Text(0.0020217503150433474, 0.75, 'x[3] <= 1.5\\ngini = 0.214\\nsamples = 205\\nvalue = [180, 25]'),\n",
       " Text(0.0011332103676676088, 0.73, 'x[0] <= 33.5\\ngini = 0.363\\nsamples = 42\\nvalue = [32, 10]'),\n",
       " Text(0.0008241529946673518, 0.71, 'x[6] <= 1.0\\ngini = 0.494\\nsamples = 9\\nvalue = [4, 5]'),\n",
       " Text(0.0007211338703339328, 0.69, 'x[1] <= 303.0\\ngini = 0.408\\nsamples = 7\\nvalue = [2, 5]'),\n",
       " Text(0.0006181147460005139, 0.67, 'gini = 0.0\\nsamples = 1\\nvalue = [1, 0]'),\n",
       " Text(0.0008241529946673518, 0.67, 'x[1] <= 2516.5\\ngini = 0.278\\nsamples = 6\\nvalue = [1, 5]'),\n",
       " Text(0.0007211338703339328, 0.65, 'gini = 0.0\\nsamples = 3\\nvalue = [0, 3]'),\n",
       " Text(0.0009271721190007708, 0.65, 'x[1] <= 2598.5\\ngini = 0.444\\nsamples = 3\\nvalue = [1, 2]'),\n",
       " Text(0.0008241529946673518, 0.63, 'gini = 0.0\\nsamples = 1\\nvalue = [1, 0]'),\n",
       " Text(0.0010301912433341898, 0.63, 'gini = 0.0\\nsamples = 2\\nvalue = [0, 2]'),\n",
       " Text(0.0009271721190007708, 0.69, 'gini = 0.0\\nsamples = 2\\nvalue = [2, 0]'),\n",
       " Text(0.0014422677406678657, 0.71, 'x[1] <= 320.5\\ngini = 0.257\\nsamples = 33\\nvalue = [28, 5]'),\n",
       " Text(0.0011332103676676088, 0.69, 'x[4] <= 1.5\\ngini = 0.48\\nsamples = 5\\nvalue = [2, 3]'),\n",
       " Text(0.0010301912433341898, 0.67, 'gini = 0.0\\nsamples = 2\\nvalue = [0, 2]'),\n",
       " Text(0.0012362294920010277, 0.67, 'x[1] <= 231.0\\ngini = 0.444\\nsamples = 3\\nvalue = [2, 1]'),\n",
       " Text(0.0011332103676676088, 0.65, 'gini = 0.0\\nsamples = 1\\nvalue = [0, 1]'),\n",
       " Text(0.0013392486163344467, 0.65, 'gini = 0.0\\nsamples = 2\\nvalue = [2, 0]'),\n",
       " Text(0.0017513251136681226, 0.69, 'x[11] <= 0.5\\ngini = 0.133\\nsamples = 28\\nvalue = [26, 2]'),\n",
       " Text(0.0016483059893347037, 0.67, 'x[0] <= 34.5\\ngini = 0.071\\nsamples = 27\\nvalue = [26, 1]'),\n",
       " Text(0.0015452868650012847, 0.65, 'x[1] <= 2541.0\\ngini = 0.375\\nsamples = 4\\nvalue = [3, 1]'),\n",
       " Text(0.0014422677406678657, 0.63, 'x[6] <= 2.5\\ngini = 0.5\\nsamples = 2\\nvalue = [1, 1]'),\n",
       " Text(0.0013392486163344467, 0.61, 'gini = 0.0\\nsamples = 1\\nvalue = [0, 1]'),\n",
       " Text(0.0015452868650012847, 0.61, 'gini = 0.0\\nsamples = 1\\nvalue = [1, 0]'),\n",
       " Text(0.0016483059893347037, 0.63, 'gini = 0.0\\nsamples = 2\\nvalue = [2, 0]'),\n",
       " Text(0.0017513251136681226, 0.65, 'gini = 0.0\\nsamples = 23\\nvalue = [23, 0]'),\n",
       " Text(0.0018543442380015416, 0.67, 'gini = 0.0\\nsamples = 1\\nvalue = [0, 1]'),\n",
       " Text(0.0029102902624190863, 0.73, 'x[1] <= 849.5\\ngini = 0.167\\nsamples = 163\\nvalue = [148, 15]'),\n",
       " Text(0.002420949421835346, 0.71, 'x[1] <= 843.0\\ngini = 0.241\\nsamples = 57\\nvalue = [49, 8]'),\n",
       " Text(0.002317930297501927, 0.69, 'x[3] <= 2.5\\ngini = 0.194\\nsamples = 55\\nvalue = [49, 6]'),\n",
       " Text(0.0020603824866683796, 0.67, 'x[1] <= 403.5\\ngini = 0.408\\nsamples = 7\\nvalue = [5, 2]'),\n",
       " Text(0.001957363362334961, 0.65, 'gini = 0.0\\nsamples = 2\\nvalue = [0, 2]'),\n",
       " Text(0.0021634016110017988, 0.65, 'gini = 0.0\\nsamples = 5\\nvalue = [5, 0]'),\n",
       " Text(0.0025754781083354747, 0.67, 'x[0] <= 26.5\\ngini = 0.153\\nsamples = 48\\nvalue = [44, 4]'),\n",
       " Text(0.0023694398596686367, 0.65, 'x[5] <= 2.0\\ngini = 0.5\\nsamples = 2\\nvalue = [1, 1]'),\n",
       " Text(0.0022664207353352175, 0.63, 'gini = 0.0\\nsamples = 1\\nvalue = [0, 1]'),\n",
       " Text(0.0024724589840020555, 0.63, 'gini = 0.0\\nsamples = 1\\nvalue = [1, 0]'),\n",
       " Text(0.0027815163570023126, 0.65, 'x[1] <= 636.5\\ngini = 0.122\\nsamples = 46\\nvalue = [43, 3]'),\n",
       " Text(0.0026784972326688934, 0.63, 'gini = 0.0\\nsamples = 29\\nvalue = [29, 0]'),\n",
       " Text(0.0028845354813357314, 0.63, 'x[1] <= 732.0\\ngini = 0.291\\nsamples = 17\\nvalue = [14, 3]'),\n",
       " Text(0.0027815163570023126, 0.61, 'x[1] <= 707.5\\ngini = 0.42\\nsamples = 10\\nvalue = [7, 3]'),\n",
       " Text(0.0026784972326688934, 0.59, 'x[0] <= 31.5\\ngini = 0.346\\nsamples = 9\\nvalue = [7, 2]'),\n",
       " Text(0.0025754781083354747, 0.57, 'x[0] <= 28.5\\ngini = 0.219\\nsamples = 8\\nvalue = [7, 1]'),\n",
       " Text(0.0024724589840020555, 0.55, 'x[1] <= 663.5\\ngini = 0.444\\nsamples = 3\\nvalue = [2, 1]'),\n",
       " Text(0.0023694398596686367, 0.53, 'gini = 0.0\\nsamples = 1\\nvalue = [1, 0]'),\n",
       " Text(0.0025754781083354747, 0.53, 'x[1] <= 688.0\\ngini = 0.5\\nsamples = 2\\nvalue = [1, 1]'),\n",
       " Text(0.0024724589840020555, 0.51, 'gini = 0.0\\nsamples = 1\\nvalue = [0, 1]'),\n",
       " Text(0.0026784972326688934, 0.51, 'gini = 0.0\\nsamples = 1\\nvalue = [1, 0]'),\n",
       " Text(0.0026784972326688934, 0.55, 'gini = 0.0\\nsamples = 5\\nvalue = [5, 0]'),\n",
       " Text(0.0027815163570023126, 0.57, 'gini = 0.0\\nsamples = 1\\nvalue = [0, 1]'),\n",
       " Text(0.0028845354813357314, 0.59, 'gini = 0.0\\nsamples = 1\\nvalue = [0, 1]'),\n",
       " Text(0.0029875546056691506, 0.61, 'gini = 0.0\\nsamples = 7\\nvalue = [7, 0]'),\n",
       " Text(0.002523968546168765, 0.69, 'gini = 0.0\\nsamples = 2\\nvalue = [0, 2]'),\n",
       " Text(0.0033996311030028265, 0.71, 'x[3] <= 3.5\\ngini = 0.123\\nsamples = 106\\nvalue = [99, 7]'),\n",
       " Text(0.0031935928543359885, 0.69, 'x[1] <= 1675.5\\ngini = 0.034\\nsamples = 57\\nvalue = [56, 1]'),\n",
       " Text(0.0030905737300025693, 0.67, 'x[1] <= 1625.0\\ngini = 0.111\\nsamples = 17\\nvalue = [16, 1]'),\n",
       " Text(0.0029875546056691506, 0.65, 'gini = 0.0\\nsamples = 16\\nvalue = [16, 0]'),\n",
       " Text(0.0031935928543359885, 0.65, 'gini = 0.0\\nsamples = 1\\nvalue = [0, 1]'),\n",
       " Text(0.0032966119786694073, 0.67, 'gini = 0.0\\nsamples = 40\\nvalue = [40, 0]'),\n",
       " Text(0.0036056693516696645, 0.69, 'x[0] <= 30.5\\ngini = 0.215\\nsamples = 49\\nvalue = [43, 6]'),\n",
       " Text(0.0035026502273362453, 0.67, 'x[1] <= 1362.0\\ngini = 0.312\\nsamples = 31\\nvalue = [25, 6]'),\n",
       " Text(0.0033996311030028265, 0.65, 'gini = 0.0\\nsamples = 8\\nvalue = [8, 0]'),\n",
       " Text(0.0036056693516696645, 0.65, 'x[1] <= 1473.5\\ngini = 0.386\\nsamples = 23\\nvalue = [17, 6]'),\n",
       " Text(0.0035026502273362453, 0.63, 'gini = 0.0\\nsamples = 1\\nvalue = [0, 1]'),\n",
       " Text(0.0037086884760030832, 0.63, 'x[5] <= 2.5\\ngini = 0.351\\nsamples = 22\\nvalue = [17, 5]'),\n",
       " Text(0.0036056693516696645, 0.61, 'x[6] <= 2.0\\ngini = 0.43\\nsamples = 16\\nvalue = [11, 5]'),\n",
       " Text(0.0035026502273362453, 0.59, 'x[0] <= 29.5\\ngini = 0.391\\nsamples = 15\\nvalue = [11, 4]'),\n",
       " Text(0.0032966119786694073, 0.57, 'x[5] <= 1.0\\ngini = 0.278\\nsamples = 12\\nvalue = [10, 2]'),\n",
       " Text(0.0031935928543359885, 0.55, 'x[1] <= 3419.0\\ngini = 0.165\\nsamples = 11\\nvalue = [10, 1]'),\n",
       " Text(0.0030905737300025693, 0.53, 'gini = 0.0\\nsamples = 9\\nvalue = [9, 0]'),\n",
       " Text(0.0032966119786694073, 0.53, 'x[1] <= 3507.5\\ngini = 0.5\\nsamples = 2\\nvalue = [1, 1]'),\n",
       " Text(0.0031935928543359885, 0.51, 'gini = 0.0\\nsamples = 1\\nvalue = [0, 1]'),\n",
       " Text(0.0033996311030028265, 0.51, 'gini = 0.0\\nsamples = 1\\nvalue = [1, 0]'),\n",
       " Text(0.0033996311030028265, 0.55, 'gini = 0.0\\nsamples = 1\\nvalue = [0, 1]'),\n",
       " Text(0.0037086884760030832, 0.57, 'x[1] <= 2688.5\\ngini = 0.444\\nsamples = 3\\nvalue = [1, 2]'),\n",
       " Text(0.0036056693516696645, 0.55, 'gini = 0.0\\nsamples = 2\\nvalue = [0, 2]'),\n",
       " Text(0.0038117076003365024, 0.55, 'gini = 0.0\\nsamples = 1\\nvalue = [1, 0]'),\n",
       " Text(0.0037086884760030832, 0.59, 'gini = 0.0\\nsamples = 1\\nvalue = [0, 1]'),\n",
       " Text(0.0038117076003365024, 0.61, 'gini = 0.0\\nsamples = 6\\nvalue = [6, 0]'),\n",
       " Text(0.0037086884760030832, 0.67, 'gini = 0.0\\nsamples = 18\\nvalue = [18, 0]'),\n",
       " Text(0.006000863992421656, 0.75, 'x[0] <= 75.5\\ngini = 0.09\\nsamples = 295\\nvalue = [281, 14]'),\n",
       " Text(0.0055115231518379154, 0.73, 'x[1] <= 2344.0\\ngini = 0.08\\nsamples = 289\\nvalue = [277, 12]'),\n",
       " Text(0.004841898843670692, 0.71, 'x[4] <= 1.5\\ngini = 0.049\\nsamples = 198\\nvalue = [193, 5]'),\n",
       " Text(0.0047388797193372734, 0.69, 'x[0] <= 58.5\\ngini = 0.082\\nsamples = 117\\nvalue = [112, 5]'),\n",
       " Text(0.004223784097670178, 0.67, 'x[1] <= 216.5\\ngini = 0.046\\nsamples = 84\\nvalue = [82, 2]'),\n",
       " Text(0.00401774584900334, 0.65, 'x[1] <= 203.0\\ngini = 0.245\\nsamples = 7\\nvalue = [6, 1]'),\n",
       " Text(0.003914726724669922, 0.63, 'gini = 0.0\\nsamples = 6\\nvalue = [6, 0]'),\n",
       " Text(0.004120764973336759, 0.63, 'gini = 0.0\\nsamples = 1\\nvalue = [0, 1]'),\n",
       " Text(0.004429822346337016, 0.65, 'x[1] <= 1686.0\\ngini = 0.026\\nsamples = 77\\nvalue = [76, 1]'),\n",
       " Text(0.0043268032220035975, 0.63, 'gini = 0.0\\nsamples = 63\\nvalue = [63, 0]'),\n",
       " Text(0.004532841470670435, 0.63, 'x[1] <= 1763.0\\ngini = 0.133\\nsamples = 14\\nvalue = [13, 1]'),\n",
       " Text(0.004429822346337016, 0.61, 'gini = 0.0\\nsamples = 1\\nvalue = [0, 1]'),\n",
       " Text(0.004635860595003854, 0.61, 'gini = 0.0\\nsamples = 13\\nvalue = [13, 0]'),\n",
       " Text(0.005253975341004368, 0.67, 'x[0] <= 59.5\\ngini = 0.165\\nsamples = 33\\nvalue = [30, 3]'),\n",
       " Text(0.00504793709233753, 0.65, 'x[6] <= 0.5\\ngini = 0.444\\nsamples = 6\\nvalue = [4, 2]'),\n",
       " Text(0.004944917968004111, 0.63, 'x[7] <= 0.5\\ngini = 0.32\\nsamples = 5\\nvalue = [4, 1]'),\n",
       " Text(0.004841898843670692, 0.61, 'gini = 0.0\\nsamples = 1\\nvalue = [0, 1]'),\n",
       " Text(0.00504793709233753, 0.61, 'gini = 0.0\\nsamples = 4\\nvalue = [4, 0]'),\n",
       " Text(0.005150956216670949, 0.63, 'gini = 0.0\\nsamples = 1\\nvalue = [0, 1]'),\n",
       " Text(0.005460013589671206, 0.65, 'x[1] <= 1999.0\\ngini = 0.071\\nsamples = 27\\nvalue = [26, 1]'),\n",
       " Text(0.005356994465337787, 0.63, 'gini = 0.0\\nsamples = 24\\nvalue = [24, 0]'),\n",
       " Text(0.005563032714004625, 0.63, 'x[1] <= 2064.0\\ngini = 0.444\\nsamples = 3\\nvalue = [2, 1]'),\n",
       " Text(0.005460013589671206, 0.61, 'gini = 0.0\\nsamples = 1\\nvalue = [0, 1]'),\n",
       " Text(0.005666051838338044, 0.61, 'gini = 0.0\\nsamples = 2\\nvalue = [2, 0]'),\n",
       " Text(0.004944917968004111, 0.69, 'gini = 0.0\\nsamples = 81\\nvalue = [81, 0]'),\n",
       " Text(0.006181147460005139, 0.71, 'x[1] <= 2366.0\\ngini = 0.142\\nsamples = 91\\nvalue = [84, 7]'),\n",
       " Text(0.00607812833567172, 0.69, 'gini = 0.0\\nsamples = 1\\nvalue = [0, 1]'),\n",
       " Text(0.0062841665843385575, 0.69, 'x[0] <= 52.5\\ngini = 0.124\\nsamples = 90\\nvalue = [84, 6]'),\n",
       " Text(0.005975109211338301, 0.67, 'x[0] <= 42.5\\ngini = 0.042\\nsamples = 47\\nvalue = [46, 1]'),\n",
       " Text(0.0058720900870048815, 0.65, 'x[0] <= 41.5\\ngini = 0.091\\nsamples = 21\\nvalue = [20, 1]'),\n",
       " Text(0.005769070962671463, 0.63, 'gini = 0.0\\nsamples = 18\\nvalue = [18, 0]'),\n",
       " Text(0.005975109211338301, 0.63, 'x[1] <= 2944.0\\ngini = 0.444\\nsamples = 3\\nvalue = [2, 1]'),\n",
       " Text(0.0058720900870048815, 0.61, 'gini = 0.0\\nsamples = 2\\nvalue = [2, 0]'),\n",
       " Text(0.00607812833567172, 0.61, 'gini = 0.0\\nsamples = 1\\nvalue = [0, 1]'),\n",
       " Text(0.00607812833567172, 0.65, 'gini = 0.0\\nsamples = 26\\nvalue = [26, 0]'),\n",
       " Text(0.006593223957338815, 0.67, 'x[0] <= 62.5\\ngini = 0.206\\nsamples = 43\\nvalue = [38, 5]'),\n",
       " Text(0.006490204833005396, 0.65, 'x[0] <= 61.0\\ngini = 0.32\\nsamples = 25\\nvalue = [20, 5]'),\n",
       " Text(0.006387185708671977, 0.63, 'x[1] <= 2576.5\\ngini = 0.278\\nsamples = 24\\nvalue = [20, 4]'),\n",
       " Text(0.0062841665843385575, 0.61, 'gini = 0.0\\nsamples = 5\\nvalue = [5, 0]'),\n",
       " Text(0.006490204833005396, 0.61, 'x[1] <= 2705.5\\ngini = 0.332\\nsamples = 19\\nvalue = [15, 4]'),\n",
       " Text(0.006387185708671977, 0.59, 'gini = 0.0\\nsamples = 2\\nvalue = [0, 2]'),\n",
       " Text(0.006593223957338815, 0.59, 'x[0] <= 58.5\\ngini = 0.208\\nsamples = 17\\nvalue = [15, 2]'),\n",
       " Text(0.006490204833005396, 0.57, 'gini = 0.0\\nsamples = 11\\nvalue = [11, 0]'),\n",
       " Text(0.006696243081672233, 0.57, 'x[1] <= 3455.0\\ngini = 0.444\\nsamples = 6\\nvalue = [4, 2]'),\n",
       " Text(0.006593223957338815, 0.55, 'gini = 0.0\\nsamples = 3\\nvalue = [3, 0]'),\n",
       " Text(0.006799262206005653, 0.55, 'x[4] <= 1.5\\ngini = 0.444\\nsamples = 3\\nvalue = [1, 2]'),\n",
       " Text(0.006696243081672233, 0.53, 'gini = 0.0\\nsamples = 2\\nvalue = [0, 2]'),\n",
       " Text(0.006902281330339072, 0.53, 'gini = 0.0\\nsamples = 1\\nvalue = [1, 0]'),\n",
       " Text(0.006593223957338815, 0.63, 'gini = 0.0\\nsamples = 1\\nvalue = [0, 1]'),\n",
       " Text(0.006696243081672233, 0.65, 'gini = 0.0\\nsamples = 18\\nvalue = [18, 0]'),\n",
       " Text(0.006490204833005396, 0.73, 'x[5] <= 0.5\\ngini = 0.444\\nsamples = 6\\nvalue = [4, 2]'),\n",
       " Text(0.006387185708671977, 0.71, 'gini = 0.0\\nsamples = 4\\nvalue = [4, 0]'),\n",
       " Text(0.006593223957338815, 0.71, 'gini = 0.0\\nsamples = 2\\nvalue = [0, 2]'),\n",
       " Text(0.00956146247719545, 0.79, 'x[1] <= 2601.0\\ngini = 0.231\\nsamples = 277\\nvalue = [240, 37]'),\n",
       " Text(0.00945844335286203, 0.77, 'x[1] <= 936.5\\ngini = 0.227\\nsamples = 276\\nvalue = [240, 36]'),\n",
       " Text(0.00808700126017339, 0.75, 'x[1] <= 407.5\\ngini = 0.185\\nsamples = 184\\nvalue = [165, 19]'),\n",
       " Text(0.007571905638506295, 0.73, 'x[1] <= 388.5\\ngini = 0.258\\nsamples = 79\\nvalue = [67, 12]'),\n",
       " Text(0.007314357827672748, 0.71, 'x[1] <= 304.5\\ngini = 0.18\\nsamples = 70\\nvalue = [63, 7]'),\n",
       " Text(0.007211338703339329, 0.69, 'x[1] <= 287.0\\ngini = 0.278\\nsamples = 42\\nvalue = [35, 7]'),\n",
       " Text(0.0070053004546724905, 0.67, 'x[1] <= 198.0\\ngini = 0.224\\nsamples = 39\\nvalue = [34, 5]'),\n",
       " Text(0.006902281330339072, 0.65, 'gini = 0.0\\nsamples = 13\\nvalue = [13, 0]'),\n",
       " Text(0.007108319579005909, 0.65, 'x[1] <= 202.5\\ngini = 0.311\\nsamples = 26\\nvalue = [21, 5]'),\n",
       " Text(0.0070053004546724905, 0.63, 'gini = 0.0\\nsamples = 1\\nvalue = [0, 1]'),\n",
       " Text(0.007211338703339329, 0.63, 'x[11] <= 0.5\\ngini = 0.269\\nsamples = 25\\nvalue = [21, 4]'),\n",
       " Text(0.007108319579005909, 0.61, 'gini = 0.0\\nsamples = 8\\nvalue = [8, 0]'),\n",
       " Text(0.007314357827672748, 0.61, 'x[1] <= 211.0\\ngini = 0.36\\nsamples = 17\\nvalue = [13, 4]'),\n",
       " Text(0.007211338703339329, 0.59, 'gini = 0.0\\nsamples = 1\\nvalue = [0, 1]'),\n",
       " Text(0.0074173769520061664, 0.59, 'x[0] <= 14.5\\ngini = 0.305\\nsamples = 16\\nvalue = [13, 3]'),\n",
       " Text(0.007211338703339329, 0.57, 'x[0] <= 9.5\\ngini = 0.5\\nsamples = 4\\nvalue = [2, 2]'),\n",
       " Text(0.007108319579005909, 0.55, 'gini = 0.0\\nsamples = 2\\nvalue = [2, 0]'),\n",
       " Text(0.007314357827672748, 0.55, 'gini = 0.0\\nsamples = 2\\nvalue = [0, 2]'),\n",
       " Text(0.007623415200673005, 0.57, 'x[0] <= 62.5\\ngini = 0.153\\nsamples = 12\\nvalue = [11, 1]'),\n",
       " Text(0.007520396076339586, 0.55, 'gini = 0.0\\nsamples = 10\\nvalue = [10, 0]'),\n",
       " Text(0.007726434325006424, 0.55, 'x[7] <= 0.5\\ngini = 0.5\\nsamples = 2\\nvalue = [1, 1]'),\n",
       " Text(0.007623415200673005, 0.53, 'gini = 0.0\\nsamples = 1\\nvalue = [1, 0]'),\n",
       " Text(0.007829453449339843, 0.53, 'gini = 0.0\\nsamples = 1\\nvalue = [0, 1]'),\n",
       " Text(0.0074173769520061664, 0.67, 'x[0] <= 16.0\\ngini = 0.444\\nsamples = 3\\nvalue = [1, 2]'),\n",
       " Text(0.007314357827672748, 0.65, 'gini = 0.0\\nsamples = 1\\nvalue = [1, 0]'),\n",
       " Text(0.007520396076339586, 0.65, 'gini = 0.0\\nsamples = 2\\nvalue = [0, 2]'),\n",
       " Text(0.0074173769520061664, 0.69, 'gini = 0.0\\nsamples = 28\\nvalue = [28, 0]'),\n",
       " Text(0.007829453449339843, 0.71, 'x[11] <= 0.5\\ngini = 0.494\\nsamples = 9\\nvalue = [4, 5]'),\n",
       " Text(0.007726434325006424, 0.69, 'gini = 0.0\\nsamples = 1\\nvalue = [1, 0]'),\n",
       " Text(0.007932472573673261, 0.69, 'x[0] <= 44.5\\ngini = 0.469\\nsamples = 8\\nvalue = [3, 5]'),\n",
       " Text(0.007829453449339843, 0.67, 'x[1] <= 398.0\\ngini = 0.48\\nsamples = 5\\nvalue = [3, 2]'),\n",
       " Text(0.007726434325006424, 0.65, 'x[0] <= 28.0\\ngini = 0.444\\nsamples = 3\\nvalue = [1, 2]'),\n",
       " Text(0.007623415200673005, 0.63, 'gini = 0.0\\nsamples = 1\\nvalue = [0, 1]'),\n",
       " Text(0.007829453449339843, 0.63, 'x[7] <= 0.5\\ngini = 0.5\\nsamples = 2\\nvalue = [1, 1]'),\n",
       " Text(0.007726434325006424, 0.61, 'gini = 0.0\\nsamples = 1\\nvalue = [1, 0]'),\n",
       " Text(0.007932472573673261, 0.61, 'gini = 0.0\\nsamples = 1\\nvalue = [0, 1]'),\n",
       " Text(0.007932472573673261, 0.65, 'gini = 0.0\\nsamples = 2\\nvalue = [2, 0]'),\n",
       " Text(0.00803549169800668, 0.67, 'gini = 0.0\\nsamples = 3\\nvalue = [0, 3]'),\n",
       " Text(0.008602096881840484, 0.73, 'x[0] <= 12.5\\ngini = 0.124\\nsamples = 105\\nvalue = [98, 7]'),\n",
       " Text(0.008241529946673518, 0.71, 'x[7] <= 0.5\\ngini = 0.375\\nsamples = 12\\nvalue = [9, 3]'),\n",
       " Text(0.0081385108223401, 0.69, 'gini = 0.0\\nsamples = 6\\nvalue = [6, 0]'),\n",
       " Text(0.008344549071006938, 0.69, 'x[1] <= 528.5\\ngini = 0.5\\nsamples = 6\\nvalue = [3, 3]'),\n",
       " Text(0.008241529946673518, 0.67, 'gini = 0.0\\nsamples = 2\\nvalue = [2, 0]'),\n",
       " Text(0.008447568195340356, 0.67, 'x[1] <= 878.0\\ngini = 0.375\\nsamples = 4\\nvalue = [1, 3]'),\n",
       " Text(0.008344549071006938, 0.65, 'gini = 0.0\\nsamples = 3\\nvalue = [0, 3]'),\n",
       " Text(0.008550587319673775, 0.65, 'gini = 0.0\\nsamples = 1\\nvalue = [1, 0]'),\n",
       " Text(0.008962663817007452, 0.71, 'x[1] <= 663.5\\ngini = 0.082\\nsamples = 93\\nvalue = [89, 4]'),\n",
       " Text(0.008756625568340613, 0.69, 'x[4] <= 1.5\\ngini = 0.032\\nsamples = 62\\nvalue = [61, 1]'),\n",
       " Text(0.008653606444007195, 0.67, 'gini = 0.0\\nsamples = 52\\nvalue = [52, 0]'),\n",
       " Text(0.008859644692674033, 0.67, 'x[0] <= 52.5\\ngini = 0.18\\nsamples = 10\\nvalue = [9, 1]'),\n",
       " Text(0.008756625568340613, 0.65, 'x[11] <= 0.5\\ngini = 0.444\\nsamples = 3\\nvalue = [2, 1]'),\n",
       " Text(0.008653606444007195, 0.63, 'gini = 0.0\\nsamples = 1\\nvalue = [0, 1]'),\n",
       " Text(0.008859644692674033, 0.63, 'gini = 0.0\\nsamples = 2\\nvalue = [2, 0]'),\n",
       " Text(0.008962663817007452, 0.65, 'gini = 0.0\\nsamples = 7\\nvalue = [7, 0]'),\n",
       " Text(0.00916870206567429, 0.69, 'x[1] <= 671.0\\ngini = 0.175\\nsamples = 31\\nvalue = [28, 3]'),\n",
       " Text(0.00906568294134087, 0.67, 'gini = 0.0\\nsamples = 1\\nvalue = [0, 1]'),\n",
       " Text(0.009271721190007708, 0.67, 'x[0] <= 41.0\\ngini = 0.124\\nsamples = 30\\nvalue = [28, 2]'),\n",
       " Text(0.00916870206567429, 0.65, 'gini = 0.0\\nsamples = 18\\nvalue = [18, 0]'),\n",
       " Text(0.009374740314341127, 0.65, 'x[0] <= 42.5\\ngini = 0.278\\nsamples = 12\\nvalue = [10, 2]'),\n",
       " Text(0.009271721190007708, 0.63, 'gini = 0.0\\nsamples = 1\\nvalue = [0, 1]'),\n",
       " Text(0.009477759438674547, 0.63, 'x[5] <= 0.5\\ngini = 0.165\\nsamples = 11\\nvalue = [10, 1]'),\n",
       " Text(0.009374740314341127, 0.61, 'gini = 0.0\\nsamples = 8\\nvalue = [8, 0]'),\n",
       " Text(0.009580778563007965, 0.61, 'x[1] <= 739.5\\ngini = 0.444\\nsamples = 3\\nvalue = [2, 1]'),\n",
       " Text(0.009477759438674547, 0.59, 'gini = 0.0\\nsamples = 1\\nvalue = [1, 0]'),\n",
       " Text(0.009683797687341384, 0.59, 'x[1] <= 863.5\\ngini = 0.5\\nsamples = 2\\nvalue = [1, 1]'),\n",
       " Text(0.009580778563007965, 0.57, 'gini = 0.0\\nsamples = 1\\nvalue = [0, 1]'),\n",
       " Text(0.009786816811674804, 0.57, 'gini = 0.0\\nsamples = 1\\nvalue = [1, 0]'),\n",
       " Text(0.01082988544555067, 0.75, 'x[1] <= 1221.5\\ngini = 0.301\\nsamples = 92\\nvalue = [75, 17]'),\n",
       " Text(0.010276157652258543, 0.73, 'x[1] <= 1154.0\\ngini = 0.431\\nsamples = 35\\nvalue = [24, 11]'),\n",
       " Text(0.00994134549817493, 0.71, 'x[1] <= 968.5\\ngini = 0.328\\nsamples = 29\\nvalue = [23, 6]'),\n",
       " Text(0.009580778563007965, 0.69, 'x[0] <= 17.0\\ngini = 0.48\\nsamples = 5\\nvalue = [2, 3]'),\n",
       " Text(0.009477759438674547, 0.67, 'gini = 0.0\\nsamples = 2\\nvalue = [0, 2]'),\n",
       " Text(0.009683797687341384, 0.67, 'x[7] <= 0.5\\ngini = 0.444\\nsamples = 3\\nvalue = [2, 1]'),\n",
       " Text(0.009580778563007965, 0.65, 'gini = 0.0\\nsamples = 1\\nvalue = [0, 1]'),\n",
       " Text(0.009786816811674804, 0.65, 'gini = 0.0\\nsamples = 2\\nvalue = [2, 0]'),\n",
       " Text(0.010301912433341899, 0.69, 'x[5] <= 8.0\\ngini = 0.219\\nsamples = 24\\nvalue = [21, 3]'),\n",
       " Text(0.01009587418467506, 0.67, 'x[6] <= 1.5\\ngini = 0.091\\nsamples = 21\\nvalue = [20, 1]'),\n",
       " Text(0.009992855060341642, 0.65, 'gini = 0.0\\nsamples = 17\\nvalue = [17, 0]'),\n",
       " Text(0.010198893309008479, 0.65, 'x[0] <= 29.5\\ngini = 0.375\\nsamples = 4\\nvalue = [3, 1]'),\n",
       " Text(0.01009587418467506, 0.63, 'gini = 0.0\\nsamples = 3\\nvalue = [3, 0]'),\n",
       " Text(0.010301912433341899, 0.63, 'gini = 0.0\\nsamples = 1\\nvalue = [0, 1]'),\n",
       " Text(0.010507950682008736, 0.67, 'x[5] <= 17.5\\ngini = 0.444\\nsamples = 3\\nvalue = [1, 2]'),\n",
       " Text(0.010404931557675317, 0.65, 'gini = 0.0\\nsamples = 2\\nvalue = [0, 2]'),\n",
       " Text(0.010610969806342156, 0.65, 'gini = 0.0\\nsamples = 1\\nvalue = [1, 0]'),\n",
       " Text(0.010610969806342156, 0.71, 'x[0] <= 69.5\\ngini = 0.278\\nsamples = 6\\nvalue = [1, 5]'),\n",
       " Text(0.010507950682008736, 0.69, 'gini = 0.0\\nsamples = 5\\nvalue = [0, 5]'),\n",
       " Text(0.010713988930675574, 0.69, 'gini = 0.0\\nsamples = 1\\nvalue = [1, 0]'),\n",
       " Text(0.011383613238842797, 0.73, 'x[1] <= 2447.0\\ngini = 0.188\\nsamples = 57\\nvalue = [51, 6]'),\n",
       " Text(0.011280594114509379, 0.71, 'x[1] <= 2315.0\\ngini = 0.24\\nsamples = 43\\nvalue = [37, 6]'),\n",
       " Text(0.01117757499017596, 0.69, 'x[0] <= 28.5\\ngini = 0.176\\nsamples = 41\\nvalue = [37, 4]'),\n",
       " Text(0.010920027179342411, 0.67, 'x[0] <= 26.5\\ngini = 0.266\\nsamples = 19\\nvalue = [16, 3]'),\n",
       " Text(0.010817008055008993, 0.65, 'x[1] <= 2136.0\\ngini = 0.198\\nsamples = 18\\nvalue = [16, 2]'),\n",
       " Text(0.010610969806342156, 0.63, 'x[1] <= 1428.0\\ngini = 0.117\\nsamples = 16\\nvalue = [15, 1]'),\n",
       " Text(0.010507950682008736, 0.61, 'x[1] <= 1394.0\\ngini = 0.444\\nsamples = 3\\nvalue = [2, 1]'),\n",
       " Text(0.010404931557675317, 0.59, 'gini = 0.0\\nsamples = 2\\nvalue = [2, 0]'),\n",
       " Text(0.010610969806342156, 0.59, 'gini = 0.0\\nsamples = 1\\nvalue = [0, 1]'),\n",
       " Text(0.010713988930675574, 0.61, 'gini = 0.0\\nsamples = 13\\nvalue = [13, 0]'),\n",
       " Text(0.011023046303675831, 0.63, 'x[6] <= 0.5\\ngini = 0.5\\nsamples = 2\\nvalue = [1, 1]'),\n",
       " Text(0.010920027179342411, 0.61, 'gini = 0.0\\nsamples = 1\\nvalue = [0, 1]'),\n",
       " Text(0.01112606542800925, 0.61, 'gini = 0.0\\nsamples = 1\\nvalue = [1, 0]'),\n",
       " Text(0.011023046303675831, 0.65, 'gini = 0.0\\nsamples = 1\\nvalue = [0, 1]'),\n",
       " Text(0.011435122801009508, 0.67, 'x[3] <= 1.5\\ngini = 0.087\\nsamples = 22\\nvalue = [21, 1]'),\n",
       " Text(0.011332103676676088, 0.65, 'x[7] <= 0.5\\ngini = 0.245\\nsamples = 7\\nvalue = [6, 1]'),\n",
       " Text(0.011229084552342668, 0.63, 'gini = 0.0\\nsamples = 5\\nvalue = [5, 0]'),\n",
       " Text(0.011435122801009508, 0.63, 'x[4] <= 1.5\\ngini = 0.5\\nsamples = 2\\nvalue = [1, 1]'),\n",
       " Text(0.011332103676676088, 0.61, 'gini = 0.0\\nsamples = 1\\nvalue = [0, 1]'),\n",
       " Text(0.011538141925342926, 0.61, 'gini = 0.0\\nsamples = 1\\nvalue = [1, 0]'),\n",
       " Text(0.011538141925342926, 0.65, 'gini = 0.0\\nsamples = 15\\nvalue = [15, 0]'),\n",
       " Text(0.011383613238842797, 0.69, 'gini = 0.0\\nsamples = 2\\nvalue = [0, 2]'),\n",
       " Text(0.011486632363176217, 0.71, 'gini = 0.0\\nsamples = 14\\nvalue = [14, 0]'),\n",
       " Text(0.009664481601528867, 0.77, 'gini = 0.0\\nsamples = 1\\nvalue = [0, 1]'),\n",
       " Text(0.034698025852015445, 0.83, 'x[3] <= 3.5\\ngini = 0.285\\nsamples = 2122\\nvalue = [1757, 365]'),\n",
       " Text(0.021636224695676075, 0.81, 'x[1] <= 95.0\\ngini = 0.263\\nsamples = 1638\\nvalue = [1383, 255]'),\n",
       " Text(0.021533205571342653, 0.79, 'gini = 0.0\\nsamples = 2\\nvalue = [0, 2]'),\n",
       " Text(0.021739243820009493, 0.79, 'x[3] <= 1.5\\ngini = 0.261\\nsamples = 1636\\nvalue = [1383, 253]'),\n",
       " Text(0.01352769876403208, 0.77, 'x[9] <= 0.5\\ngini = 0.388\\nsamples = 91\\nvalue = [67, 24]'),\n",
       " Text(0.013147815743052597, 0.75, 'x[11] <= 0.5\\ngini = 0.46\\nsamples = 64\\nvalue = [41, 23]'),\n",
       " Text(0.012903145322760727, 0.73, 'x[6] <= 0.5\\ngini = 0.343\\nsamples = 50\\nvalue = [39, 11]'),\n",
       " Text(0.012800126198427308, 0.71, 'x[0] <= 34.0\\ngini = 0.282\\nsamples = 47\\nvalue = [39, 8]'),\n",
       " Text(0.012413804482176988, 0.69, 'x[0] <= 31.0\\ngini = 0.42\\nsamples = 20\\nvalue = [14, 6]'),\n",
       " Text(0.01215625667134344, 0.67, 'x[1] <= 2680.5\\ngini = 0.231\\nsamples = 15\\nvalue = [13, 2]'),\n",
       " Text(0.011950218422676602, 0.65, 'x[1] <= 669.0\\ngini = 0.142\\nsamples = 13\\nvalue = [12, 1]'),\n",
       " Text(0.011847199298343183, 0.63, 'x[1] <= 581.5\\ngini = 0.32\\nsamples = 5\\nvalue = [4, 1]'),\n",
       " Text(0.011744180174009763, 0.61, 'gini = 0.0\\nsamples = 4\\nvalue = [4, 0]'),\n",
       " Text(0.011950218422676602, 0.61, 'gini = 0.0\\nsamples = 1\\nvalue = [0, 1]'),\n",
       " Text(0.01205323754701002, 0.63, 'gini = 0.0\\nsamples = 8\\nvalue = [8, 0]'),\n",
       " Text(0.012362294920010277, 0.65, 'x[1] <= 2968.5\\ngini = 0.5\\nsamples = 2\\nvalue = [1, 1]'),\n",
       " Text(0.01225927579567686, 0.63, 'gini = 0.0\\nsamples = 1\\nvalue = [0, 1]'),\n",
       " Text(0.012465314044343697, 0.63, 'gini = 0.0\\nsamples = 1\\nvalue = [1, 0]'),\n",
       " Text(0.012671352293010535, 0.67, 'x[1] <= 434.5\\ngini = 0.32\\nsamples = 5\\nvalue = [1, 4]'),\n",
       " Text(0.012568333168677115, 0.65, 'gini = 0.0\\nsamples = 1\\nvalue = [1, 0]'),\n",
       " Text(0.012774371417343954, 0.65, 'gini = 0.0\\nsamples = 4\\nvalue = [0, 4]'),\n",
       " Text(0.01318644791467763, 0.69, 'x[1] <= 1079.0\\ngini = 0.137\\nsamples = 27\\nvalue = [25, 2]'),\n",
       " Text(0.013083428790344211, 0.67, 'x[1] <= 271.5\\ngini = 0.408\\nsamples = 7\\nvalue = [5, 2]'),\n",
       " Text(0.012980409666010792, 0.65, 'gini = 0.0\\nsamples = 5\\nvalue = [5, 0]'),\n",
       " Text(0.01318644791467763, 0.65, 'gini = 0.0\\nsamples = 2\\nvalue = [0, 2]'),\n",
       " Text(0.013289467039011049, 0.67, 'gini = 0.0\\nsamples = 20\\nvalue = [20, 0]'),\n",
       " Text(0.013006164447094147, 0.71, 'gini = 0.0\\nsamples = 3\\nvalue = [0, 3]'),\n",
       " Text(0.013392486163344467, 0.73, 'x[1] <= 158.0\\ngini = 0.245\\nsamples = 14\\nvalue = [2, 12]'),\n",
       " Text(0.013289467039011049, 0.71, 'gini = 0.0\\nsamples = 1\\nvalue = [1, 0]'),\n",
       " Text(0.013495505287677886, 0.71, 'x[1] <= 1734.0\\ngini = 0.142\\nsamples = 13\\nvalue = [1, 12]'),\n",
       " Text(0.013392486163344467, 0.69, 'gini = 0.0\\nsamples = 12\\nvalue = [0, 12]'),\n",
       " Text(0.013598524412011306, 0.69, 'gini = 0.0\\nsamples = 1\\nvalue = [1, 0]'),\n",
       " Text(0.013907581785011563, 0.75, 'x[1] <= 266.0\\ngini = 0.071\\nsamples = 27\\nvalue = [26, 1]'),\n",
       " Text(0.013804562660678144, 0.73, 'x[11] <= 0.5\\ngini = 0.375\\nsamples = 4\\nvalue = [3, 1]'),\n",
       " Text(0.013701543536344724, 0.71, 'gini = 0.0\\nsamples = 1\\nvalue = [0, 1]'),\n",
       " Text(0.013907581785011563, 0.71, 'gini = 0.0\\nsamples = 3\\nvalue = [3, 0]'),\n",
       " Text(0.014010600909344981, 0.73, 'gini = 0.0\\nsamples = 23\\nvalue = [23, 0]'),\n",
       " Text(0.029950788875986907, 0.77, 'x[2] <= 2.5\\ngini = 0.253\\nsamples = 1545\\nvalue = [1316, 229]'),\n",
       " Text(0.02425454622188428, 0.75, 'x[0] <= 61.5\\ngini = 0.225\\nsamples = 1004\\nvalue = [874, 130]'),\n",
       " Text(0.018775197683035507, 0.73, 'x[0] <= 27.5\\ngini = 0.237\\nsamples = 918\\nvalue = [792, 126]'),\n",
       " Text(0.014912018247262397, 0.71, 'x[5] <= 0.5\\ngini = 0.166\\nsamples = 230\\nvalue = [209, 21]'),\n",
       " Text(0.014062110471511692, 0.69, 'x[1] <= 1870.5\\ngini = 0.128\\nsamples = 174\\nvalue = [162, 12]'),\n",
       " Text(0.013495505287677886, 0.67, 'x[1] <= 462.0\\ngini = 0.071\\nsamples = 108\\nvalue = [104, 4]'),\n",
       " Text(0.013392486163344467, 0.65, 'gini = 0.0\\nsamples = 29\\nvalue = [29, 0]'),\n",
       " Text(0.013598524412011306, 0.65, 'x[1] <= 477.5\\ngini = 0.096\\nsamples = 79\\nvalue = [75, 4]'),\n",
       " Text(0.013495505287677886, 0.63, 'gini = 0.0\\nsamples = 1\\nvalue = [0, 1]'),\n",
       " Text(0.013701543536344724, 0.63, 'x[1] <= 519.5\\ngini = 0.074\\nsamples = 78\\nvalue = [75, 3]'),\n",
       " Text(0.013495505287677886, 0.61, 'x[11] <= 0.5\\ngini = 0.375\\nsamples = 4\\nvalue = [3, 1]'),\n",
       " Text(0.013392486163344467, 0.59, 'gini = 0.0\\nsamples = 1\\nvalue = [0, 1]'),\n",
       " Text(0.013598524412011306, 0.59, 'gini = 0.0\\nsamples = 3\\nvalue = [3, 0]'),\n",
       " Text(0.013907581785011563, 0.61, 'x[0] <= 21.5\\ngini = 0.053\\nsamples = 74\\nvalue = [72, 2]'),\n",
       " Text(0.013804562660678144, 0.59, 'gini = 0.0\\nsamples = 37\\nvalue = [37, 0]'),\n",
       " Text(0.014010600909344981, 0.59, 'x[0] <= 22.5\\ngini = 0.102\\nsamples = 37\\nvalue = [35, 2]'),\n",
       " Text(0.013804562660678144, 0.57, 'x[3] <= 2.5\\ngini = 0.278\\nsamples = 6\\nvalue = [5, 1]'),\n",
       " Text(0.013701543536344724, 0.55, 'gini = 0.0\\nsamples = 1\\nvalue = [0, 1]'),\n",
       " Text(0.013907581785011563, 0.55, 'gini = 0.0\\nsamples = 5\\nvalue = [5, 0]'),\n",
       " Text(0.014216639158011819, 0.57, 'x[9] <= 0.5\\ngini = 0.062\\nsamples = 31\\nvalue = [30, 1]'),\n",
       " Text(0.0141136200336784, 0.55, 'gini = 0.0\\nsamples = 25\\nvalue = [25, 0]'),\n",
       " Text(0.014319658282345238, 0.55, 'x[1] <= 1267.0\\ngini = 0.278\\nsamples = 6\\nvalue = [5, 1]'),\n",
       " Text(0.014216639158011819, 0.53, 'gini = 0.0\\nsamples = 5\\nvalue = [5, 0]'),\n",
       " Text(0.014422677406678658, 0.53, 'gini = 0.0\\nsamples = 1\\nvalue = [0, 1]'),\n",
       " Text(0.014628715655345495, 0.67, 'x[1] <= 1883.0\\ngini = 0.213\\nsamples = 66\\nvalue = [58, 8]'),\n",
       " Text(0.014525696531012076, 0.65, 'gini = 0.0\\nsamples = 1\\nvalue = [0, 1]'),\n",
       " Text(0.014731734779678915, 0.65, 'x[1] <= 2303.0\\ngini = 0.192\\nsamples = 65\\nvalue = [58, 7]'),\n",
       " Text(0.014525696531012076, 0.63, 'x[0] <= 24.5\\ngini = 0.32\\nsamples = 20\\nvalue = [16, 4]'),\n",
       " Text(0.014422677406678658, 0.61, 'x[1] <= 1944.0\\ngini = 0.408\\nsamples = 14\\nvalue = [10, 4]'),\n",
       " Text(0.014319658282345238, 0.59, 'gini = 0.0\\nsamples = 1\\nvalue = [0, 1]'),\n",
       " Text(0.014525696531012076, 0.59, 'x[1] <= 2083.5\\ngini = 0.355\\nsamples = 13\\nvalue = [10, 3]'),\n",
       " Text(0.014422677406678658, 0.57, 'gini = 0.0\\nsamples = 5\\nvalue = [5, 0]'),\n",
       " Text(0.014628715655345495, 0.57, 'x[0] <= 9.5\\ngini = 0.469\\nsamples = 8\\nvalue = [5, 3]'),\n",
       " Text(0.014525696531012076, 0.55, 'gini = 0.0\\nsamples = 1\\nvalue = [0, 1]'),\n",
       " Text(0.014731734779678915, 0.55, 'x[3] <= 2.5\\ngini = 0.408\\nsamples = 7\\nvalue = [5, 2]'),\n",
       " Text(0.014628715655345495, 0.53, 'x[9] <= 0.5\\ngini = 0.444\\nsamples = 3\\nvalue = [1, 2]'),\n",
       " Text(0.014525696531012076, 0.51, 'gini = 0.0\\nsamples = 2\\nvalue = [0, 2]'),\n",
       " Text(0.014731734779678915, 0.51, 'gini = 0.0\\nsamples = 1\\nvalue = [1, 0]'),\n",
       " Text(0.014834753904012333, 0.53, 'gini = 0.0\\nsamples = 4\\nvalue = [4, 0]'),\n",
       " Text(0.014628715655345495, 0.61, 'gini = 0.0\\nsamples = 6\\nvalue = [6, 0]'),\n",
       " Text(0.014937773028345753, 0.63, 'x[1] <= 2764.0\\ngini = 0.124\\nsamples = 45\\nvalue = [42, 3]'),\n",
       " Text(0.014834753904012333, 0.61, 'gini = 0.0\\nsamples = 20\\nvalue = [20, 0]'),\n",
       " Text(0.015040792152679172, 0.61, 'x[1] <= 2796.5\\ngini = 0.211\\nsamples = 25\\nvalue = [22, 3]'),\n",
       " Text(0.014937773028345753, 0.59, 'gini = 0.0\\nsamples = 1\\nvalue = [0, 1]'),\n",
       " Text(0.01514381127701259, 0.59, 'x[1] <= 3345.5\\ngini = 0.153\\nsamples = 24\\nvalue = [22, 2]'),\n",
       " Text(0.015040792152679172, 0.57, 'gini = 0.0\\nsamples = 11\\nvalue = [11, 0]'),\n",
       " Text(0.01524683040134601, 0.57, 'x[1] <= 3393.5\\ngini = 0.26\\nsamples = 13\\nvalue = [11, 2]'),\n",
       " Text(0.01514381127701259, 0.55, 'gini = 0.0\\nsamples = 1\\nvalue = [0, 1]'),\n",
       " Text(0.015349849525679428, 0.55, 'x[1] <= 3619.5\\ngini = 0.153\\nsamples = 12\\nvalue = [11, 1]'),\n",
       " Text(0.01524683040134601, 0.53, 'gini = 0.0\\nsamples = 7\\nvalue = [7, 0]'),\n",
       " Text(0.015452868650012847, 0.53, 'x[1] <= 3643.0\\ngini = 0.32\\nsamples = 5\\nvalue = [4, 1]'),\n",
       " Text(0.015349849525679428, 0.51, 'gini = 0.0\\nsamples = 1\\nvalue = [0, 1]'),\n",
       " Text(0.015555887774346267, 0.51, 'gini = 0.0\\nsamples = 4\\nvalue = [4, 0]'),\n",
       " Text(0.015761926023013104, 0.69, 'x[5] <= 4.5\\ngini = 0.27\\nsamples = 56\\nvalue = [47, 9]'),\n",
       " Text(0.015452868650012847, 0.67, 'x[1] <= 398.0\\ngini = 0.454\\nsamples = 23\\nvalue = [15, 8]'),\n",
       " Text(0.015349849525679428, 0.65, 'gini = 0.0\\nsamples = 1\\nvalue = [0, 1]'),\n",
       " Text(0.015555887774346267, 0.65, 'x[1] <= 632.5\\ngini = 0.434\\nsamples = 22\\nvalue = [15, 7]'),\n",
       " Text(0.015452868650012847, 0.63, 'gini = 0.0\\nsamples = 4\\nvalue = [4, 0]'),\n",
       " Text(0.015658906898679686, 0.63, 'x[5] <= 1.5\\ngini = 0.475\\nsamples = 18\\nvalue = [11, 7]'),\n",
       " Text(0.015452868650012847, 0.61, 'x[6] <= 4.0\\ngini = 0.278\\nsamples = 6\\nvalue = [5, 1]'),\n",
       " Text(0.015349849525679428, 0.59, 'gini = 0.0\\nsamples = 5\\nvalue = [5, 0]'),\n",
       " Text(0.015555887774346267, 0.59, 'gini = 0.0\\nsamples = 1\\nvalue = [0, 1]'),\n",
       " Text(0.015864945147346522, 0.61, 'x[1] <= 1343.0\\ngini = 0.5\\nsamples = 12\\nvalue = [6, 6]'),\n",
       " Text(0.015761926023013104, 0.59, 'gini = 0.0\\nsamples = 3\\nvalue = [3, 0]'),\n",
       " Text(0.015967964271679944, 0.59, 'x[5] <= 2.5\\ngini = 0.444\\nsamples = 9\\nvalue = [3, 6]'),\n",
       " Text(0.015864945147346522, 0.57, 'x[0] <= 11.0\\ngini = 0.5\\nsamples = 6\\nvalue = [3, 3]'),\n",
       " Text(0.015761926023013104, 0.55, 'gini = 0.0\\nsamples = 1\\nvalue = [0, 1]'),\n",
       " Text(0.015967964271679944, 0.55, 'x[1] <= 1597.0\\ngini = 0.48\\nsamples = 5\\nvalue = [3, 2]'),\n",
       " Text(0.015864945147346522, 0.53, 'gini = 0.0\\nsamples = 1\\nvalue = [0, 1]'),\n",
       " Text(0.01607098339601336, 0.53, 'x[1] <= 2235.5\\ngini = 0.375\\nsamples = 4\\nvalue = [3, 1]'),\n",
       " Text(0.015967964271679944, 0.51, 'gini = 0.0\\nsamples = 2\\nvalue = [2, 0]'),\n",
       " Text(0.01617400252034678, 0.51, 'x[1] <= 2780.5\\ngini = 0.5\\nsamples = 2\\nvalue = [1, 1]'),\n",
       " Text(0.01607098339601336, 0.49, 'gini = 0.0\\nsamples = 1\\nvalue = [0, 1]'),\n",
       " Text(0.0162770216446802, 0.49, 'gini = 0.0\\nsamples = 1\\nvalue = [1, 0]'),\n",
       " Text(0.01607098339601336, 0.57, 'gini = 0.0\\nsamples = 3\\nvalue = [0, 3]'),\n",
       " Text(0.01607098339601336, 0.67, 'x[0] <= 8.5\\ngini = 0.059\\nsamples = 33\\nvalue = [32, 1]'),\n",
       " Text(0.015967964271679944, 0.65, 'x[5] <= 9.0\\ngini = 0.5\\nsamples = 2\\nvalue = [1, 1]'),\n",
       " Text(0.015864945147346522, 0.63, 'gini = 0.0\\nsamples = 1\\nvalue = [0, 1]'),\n",
       " Text(0.01607098339601336, 0.63, 'gini = 0.0\\nsamples = 1\\nvalue = [1, 0]'),\n",
       " Text(0.01617400252034678, 0.65, 'gini = 0.0\\nsamples = 31\\nvalue = [31, 0]'),\n",
       " Text(0.022638377118808617, 0.71, 'x[1] <= 148.0\\ngini = 0.259\\nsamples = 688\\nvalue = [583, 105]'),\n",
       " Text(0.019852308403040593, 0.69, 'x[1] <= 136.5\\ngini = 0.49\\nsamples = 7\\nvalue = [4, 3]'),\n",
       " Text(0.019749289278707175, 0.67, 'x[6] <= 2.0\\ngini = 0.32\\nsamples = 5\\nvalue = [4, 1]'),\n",
       " Text(0.019646270154373754, 0.65, 'gini = 0.0\\nsamples = 4\\nvalue = [4, 0]'),\n",
       " Text(0.019852308403040593, 0.65, 'gini = 0.0\\nsamples = 1\\nvalue = [0, 1]'),\n",
       " Text(0.01995532752737401, 0.67, 'gini = 0.0\\nsamples = 2\\nvalue = [0, 2]'),\n",
       " Text(0.025424445834576637, 0.69, 'x[0] <= 50.5\\ngini = 0.255\\nsamples = 681\\nvalue = [579, 102]'),\n",
       " Text(0.022325471619337896, 0.67, 'x[1] <= 1718.5\\ngini = 0.278\\nsamples = 503\\nvalue = [419, 84]'),\n",
       " Text(0.020058346651707432, 0.65, 'x[0] <= 48.5\\ngini = 0.224\\nsamples = 280\\nvalue = [244, 36]'),\n",
       " Text(0.019345462359689262, 0.63, 'x[11] <= 0.5\\ngini = 0.206\\nsamples = 258\\nvalue = [228, 30]'),\n",
       " Text(0.018975639800070464, 0.61, 'x[1] <= 1602.0\\ngini = 0.24\\nsamples = 172\\nvalue = [148, 24]'),\n",
       " Text(0.018872620675737046, 0.59, 'x[1] <= 1597.5\\ngini = 0.262\\nsamples = 155\\nvalue = [131, 24]'),\n",
       " Text(0.018769601551403624, 0.57, 'x[5] <= 14.5\\ngini = 0.254\\nsamples = 154\\nvalue = [131, 23]'),\n",
       " Text(0.018313259024082932, 0.55, 'x[5] <= 1.5\\ngini = 0.248\\nsamples = 152\\nvalue = [130, 22]'),\n",
       " Text(0.017709631342441808, 0.53, 'x[0] <= 39.5\\ngini = 0.266\\nsamples = 133\\nvalue = [112, 21]'),\n",
       " Text(0.01691445247649323, 0.51, 'x[1] <= 1543.0\\ngini = 0.314\\nsamples = 82\\nvalue = [66, 16]'),\n",
       " Text(0.016483059893347037, 0.49, 'x[1] <= 428.5\\ngini = 0.292\\nsamples = 79\\nvalue = [65, 14]'),\n",
       " Text(0.01592933210005491, 0.47, 'x[1] <= 207.5\\ngini = 0.133\\nsamples = 28\\nvalue = [26, 2]'),\n",
       " Text(0.015826312975721492, 0.45, 'x[1] <= 202.5\\ngini = 0.444\\nsamples = 6\\nvalue = [4, 2]'),\n",
       " Text(0.01572329385138807, 0.43, 'x[9] <= 0.5\\ngini = 0.32\\nsamples = 5\\nvalue = [4, 1]'),\n",
       " Text(0.015620274727054653, 0.41, 'gini = 0.0\\nsamples = 3\\nvalue = [3, 0]'),\n",
       " Text(0.015826312975721492, 0.41, 'x[0] <= 32.0\\ngini = 0.5\\nsamples = 2\\nvalue = [1, 1]'),\n",
       " Text(0.01572329385138807, 0.39, 'gini = 0.0\\nsamples = 1\\nvalue = [1, 0]'),\n",
       " Text(0.01592933210005491, 0.39, 'gini = 0.0\\nsamples = 1\\nvalue = [0, 1]'),\n",
       " Text(0.01592933210005491, 0.43, 'gini = 0.0\\nsamples = 1\\nvalue = [0, 1]'),\n",
       " Text(0.016032351224388328, 0.45, 'gini = 0.0\\nsamples = 22\\nvalue = [22, 0]'),\n",
       " Text(0.017036787686639163, 0.47, 'x[3] <= 2.5\\ngini = 0.36\\nsamples = 51\\nvalue = [39, 12]'),\n",
       " Text(0.016392918159555295, 0.45, 'x[6] <= 0.5\\ngini = 0.48\\nsamples = 25\\nvalue = [15, 10]'),\n",
       " Text(0.016289899035221878, 0.43, 'x[1] <= 517.0\\ngini = 0.454\\nsamples = 23\\nvalue = [15, 8]'),\n",
       " Text(0.016186879910888456, 0.41, 'gini = 0.0\\nsamples = 2\\nvalue = [0, 2]'),\n",
       " Text(0.016392918159555295, 0.41, 'x[1] <= 844.0\\ngini = 0.408\\nsamples = 21\\nvalue = [15, 6]'),\n",
       " Text(0.01613537034872175, 0.39, 'x[0] <= 30.5\\ngini = 0.18\\nsamples = 10\\nvalue = [9, 1]'),\n",
       " Text(0.016032351224388328, 0.37, 'x[0] <= 29.5\\ngini = 0.5\\nsamples = 2\\nvalue = [1, 1]'),\n",
       " Text(0.01592933210005491, 0.35, 'gini = 0.0\\nsamples = 1\\nvalue = [1, 0]'),\n",
       " Text(0.01613537034872175, 0.35, 'gini = 0.0\\nsamples = 1\\nvalue = [0, 1]'),\n",
       " Text(0.016238389473055167, 0.37, 'gini = 0.0\\nsamples = 8\\nvalue = [8, 0]'),\n",
       " Text(0.016650465970388842, 0.39, 'x[0] <= 35.5\\ngini = 0.496\\nsamples = 11\\nvalue = [6, 5]'),\n",
       " Text(0.016444427721722006, 0.37, 'x[1] <= 977.0\\ngini = 0.375\\nsamples = 4\\nvalue = [1, 3]'),\n",
       " Text(0.016341408597388585, 0.35, 'gini = 0.0\\nsamples = 1\\nvalue = [1, 0]'),\n",
       " Text(0.016547446846055424, 0.35, 'gini = 0.0\\nsamples = 3\\nvalue = [0, 3]'),\n",
       " Text(0.01685650421905568, 0.37, 'x[1] <= 1044.5\\ngini = 0.408\\nsamples = 7\\nvalue = [5, 2]'),\n",
       " Text(0.016753485094722263, 0.35, 'x[0] <= 37.0\\ngini = 0.444\\nsamples = 3\\nvalue = [1, 2]'),\n",
       " Text(0.016650465970388842, 0.33, 'gini = 0.0\\nsamples = 1\\nvalue = [1, 0]'),\n",
       " Text(0.01685650421905568, 0.33, 'gini = 0.0\\nsamples = 2\\nvalue = [0, 2]'),\n",
       " Text(0.0169595233433891, 0.35, 'gini = 0.0\\nsamples = 4\\nvalue = [4, 0]'),\n",
       " Text(0.016495937283888713, 0.43, 'gini = 0.0\\nsamples = 2\\nvalue = [0, 2]'),\n",
       " Text(0.01768065721372303, 0.45, 'x[0] <= 29.5\\ngini = 0.142\\nsamples = 26\\nvalue = [24, 2]'),\n",
       " Text(0.017577638089389613, 0.43, 'x[1] <= 722.5\\ngini = 0.26\\nsamples = 13\\nvalue = [11, 2]'),\n",
       " Text(0.017474618965056195, 0.41, 'x[1] <= 682.0\\ngini = 0.375\\nsamples = 8\\nvalue = [6, 2]'),\n",
       " Text(0.017371599840722774, 0.39, 'x[1] <= 577.0\\ngini = 0.245\\nsamples = 7\\nvalue = [6, 1]'),\n",
       " Text(0.017268580716389356, 0.37, 'x[1] <= 524.0\\ngini = 0.444\\nsamples = 3\\nvalue = [2, 1]'),\n",
       " Text(0.01716556159205594, 0.35, 'gini = 0.0\\nsamples = 2\\nvalue = [2, 0]'),\n",
       " Text(0.017371599840722774, 0.35, 'gini = 0.0\\nsamples = 1\\nvalue = [0, 1]'),\n",
       " Text(0.017474618965056195, 0.37, 'gini = 0.0\\nsamples = 4\\nvalue = [4, 0]'),\n",
       " Text(0.017577638089389613, 0.39, 'gini = 0.0\\nsamples = 1\\nvalue = [0, 1]'),\n",
       " Text(0.01768065721372303, 0.41, 'gini = 0.0\\nsamples = 5\\nvalue = [5, 0]'),\n",
       " Text(0.017783676338056453, 0.43, 'gini = 0.0\\nsamples = 13\\nvalue = [13, 0]'),\n",
       " Text(0.01734584505963942, 0.49, 'x[6] <= 1.0\\ngini = 0.444\\nsamples = 3\\nvalue = [1, 2]'),\n",
       " Text(0.017242825935306003, 0.47, 'gini = 0.0\\nsamples = 2\\nvalue = [0, 2]'),\n",
       " Text(0.01744886418397284, 0.47, 'gini = 0.0\\nsamples = 1\\nvalue = [1, 0]'),\n",
       " Text(0.018504810208390385, 0.51, 'x[1] <= 359.5\\ngini = 0.177\\nsamples = 51\\nvalue = [46, 5]'),\n",
       " Text(0.018298771959723546, 0.49, 'x[7] <= 0.5\\ngini = 0.444\\nsamples = 12\\nvalue = [8, 4]'),\n",
       " Text(0.018195752835390128, 0.47, 'x[1] <= 263.5\\ngini = 0.444\\nsamples = 6\\nvalue = [2, 4]'),\n",
       " Text(0.01809273371105671, 0.45, 'x[0] <= 45.5\\ngini = 0.444\\nsamples = 3\\nvalue = [2, 1]'),\n",
       " Text(0.01798971458672329, 0.43, 'gini = 0.0\\nsamples = 1\\nvalue = [1, 0]'),\n",
       " Text(0.018195752835390128, 0.43, 'x[1] <= 232.5\\ngini = 0.5\\nsamples = 2\\nvalue = [1, 1]'),\n",
       " Text(0.01809273371105671, 0.41, 'gini = 0.0\\nsamples = 1\\nvalue = [1, 0]'),\n",
       " Text(0.018298771959723546, 0.41, 'gini = 0.0\\nsamples = 1\\nvalue = [0, 1]'),\n",
       " Text(0.018298771959723546, 0.45, 'gini = 0.0\\nsamples = 3\\nvalue = [0, 3]'),\n",
       " Text(0.018401791084056967, 0.47, 'gini = 0.0\\nsamples = 6\\nvalue = [6, 0]'),\n",
       " Text(0.018710848457057224, 0.49, 'x[0] <= 45.5\\ngini = 0.05\\nsamples = 39\\nvalue = [38, 1]'),\n",
       " Text(0.018607829332723803, 0.47, 'gini = 0.0\\nsamples = 30\\nvalue = [30, 0]'),\n",
       " Text(0.018813867581390642, 0.47, 'x[1] <= 1391.5\\ngini = 0.198\\nsamples = 9\\nvalue = [8, 1]'),\n",
       " Text(0.018710848457057224, 0.45, 'gini = 0.0\\nsamples = 8\\nvalue = [8, 0]'),\n",
       " Text(0.01891688670572406, 0.45, 'gini = 0.0\\nsamples = 1\\nvalue = [0, 1]'),\n",
       " Text(0.01891688670572406, 0.53, 'x[0] <= 45.5\\ngini = 0.1\\nsamples = 19\\nvalue = [18, 1]'),\n",
       " Text(0.018813867581390642, 0.51, 'gini = 0.0\\nsamples = 17\\nvalue = [17, 0]'),\n",
       " Text(0.019019905830057478, 0.51, 'x[4] <= 1.5\\ngini = 0.5\\nsamples = 2\\nvalue = [1, 1]'),\n",
       " Text(0.01891688670572406, 0.49, 'gini = 0.0\\nsamples = 1\\nvalue = [0, 1]'),\n",
       " Text(0.0191229249543909, 0.49, 'gini = 0.0\\nsamples = 1\\nvalue = [1, 0]'),\n",
       " Text(0.019225944078724317, 0.55, 'x[9] <= 0.5\\ngini = 0.5\\nsamples = 2\\nvalue = [1, 1]'),\n",
       " Text(0.0191229249543909, 0.53, 'gini = 0.0\\nsamples = 1\\nvalue = [1, 0]'),\n",
       " Text(0.019328963203057735, 0.53, 'gini = 0.0\\nsamples = 1\\nvalue = [0, 1]'),\n",
       " Text(0.018975639800070464, 0.57, 'gini = 0.0\\nsamples = 1\\nvalue = [0, 1]'),\n",
       " Text(0.01907865892440388, 0.59, 'gini = 0.0\\nsamples = 17\\nvalue = [17, 0]'),\n",
       " Text(0.019715284919308056, 0.61, 'x[0] <= 29.5\\ngini = 0.13\\nsamples = 86\\nvalue = [80, 6]'),\n",
       " Text(0.019431982327391156, 0.59, 'x[9] <= 0.5\\ngini = 0.278\\nsamples = 12\\nvalue = [10, 2]'),\n",
       " Text(0.019328963203057735, 0.57, 'gini = 0.0\\nsamples = 9\\nvalue = [9, 0]'),\n",
       " Text(0.019535001451724574, 0.57, 'x[3] <= 2.5\\ngini = 0.444\\nsamples = 3\\nvalue = [1, 2]'),\n",
       " Text(0.019431982327391156, 0.55, 'gini = 0.0\\nsamples = 1\\nvalue = [1, 0]'),\n",
       " Text(0.019638020576057992, 0.55, 'gini = 0.0\\nsamples = 2\\nvalue = [0, 2]'),\n",
       " Text(0.01999858751122496, 0.59, 'x[7] <= 0.5\\ngini = 0.102\\nsamples = 74\\nvalue = [70, 4]'),\n",
       " Text(0.019895568386891542, 0.57, 'gini = 0.0\\nsamples = 32\\nvalue = [32, 0]'),\n",
       " Text(0.020101606635558378, 0.57, 'x[0] <= 38.5\\ngini = 0.172\\nsamples = 42\\nvalue = [38, 4]'),\n",
       " Text(0.01984405882472483, 0.55, 'x[1] <= 234.0\\ngini = 0.091\\nsamples = 21\\nvalue = [20, 1]'),\n",
       " Text(0.019741039700391413, 0.53, 'x[0] <= 34.0\\ngini = 0.375\\nsamples = 4\\nvalue = [3, 1]'),\n",
       " Text(0.019638020576057992, 0.51, 'gini = 0.0\\nsamples = 1\\nvalue = [0, 1]'),\n",
       " Text(0.01984405882472483, 0.51, 'gini = 0.0\\nsamples = 3\\nvalue = [3, 0]'),\n",
       " Text(0.01994707794905825, 0.53, 'gini = 0.0\\nsamples = 17\\nvalue = [17, 0]'),\n",
       " Text(0.020359154446391928, 0.55, 'x[1] <= 692.0\\ngini = 0.245\\nsamples = 21\\nvalue = [18, 3]'),\n",
       " Text(0.02015311619772509, 0.53, 'x[1] <= 377.5\\ngini = 0.117\\nsamples = 16\\nvalue = [15, 1]'),\n",
       " Text(0.02005009707339167, 0.51, 'gini = 0.0\\nsamples = 9\\nvalue = [9, 0]'),\n",
       " Text(0.020256135322058506, 0.51, 'x[1] <= 441.0\\ngini = 0.245\\nsamples = 7\\nvalue = [6, 1]'),\n",
       " Text(0.02015311619772509, 0.49, 'gini = 0.0\\nsamples = 1\\nvalue = [0, 1]'),\n",
       " Text(0.020359154446391928, 0.49, 'gini = 0.0\\nsamples = 6\\nvalue = [6, 0]'),\n",
       " Text(0.020565192695058764, 0.53, 'x[1] <= 896.5\\ngini = 0.48\\nsamples = 5\\nvalue = [3, 2]'),\n",
       " Text(0.020462173570725346, 0.51, 'gini = 0.0\\nsamples = 1\\nvalue = [0, 1]'),\n",
       " Text(0.02066821181939218, 0.51, 'x[9] <= 0.5\\ngini = 0.375\\nsamples = 4\\nvalue = [3, 1]'),\n",
       " Text(0.020565192695058764, 0.49, 'gini = 0.0\\nsamples = 3\\nvalue = [3, 0]'),\n",
       " Text(0.020771230943725603, 0.49, 'gini = 0.0\\nsamples = 1\\nvalue = [0, 1]'),\n",
       " Text(0.020771230943725603, 0.63, 'x[11] <= 0.5\\ngini = 0.397\\nsamples = 22\\nvalue = [16, 6]'),\n",
       " Text(0.02066821181939218, 0.61, 'gini = 0.0\\nsamples = 11\\nvalue = [11, 0]'),\n",
       " Text(0.02087425006805902, 0.61, 'x[1] <= 341.5\\ngini = 0.496\\nsamples = 11\\nvalue = [5, 6]'),\n",
       " Text(0.020771230943725603, 0.59, 'gini = 0.0\\nsamples = 2\\nvalue = [2, 0]'),\n",
       " Text(0.02097726919239244, 0.59, 'x[1] <= 889.5\\ngini = 0.444\\nsamples = 9\\nvalue = [3, 6]'),\n",
       " Text(0.020771230943725603, 0.57, 'x[3] <= 2.5\\ngini = 0.278\\nsamples = 6\\nvalue = [1, 5]'),\n",
       " Text(0.02066821181939218, 0.55, 'gini = 0.0\\nsamples = 4\\nvalue = [0, 4]'),\n",
       " Text(0.02087425006805902, 0.55, 'x[0] <= 49.5\\ngini = 0.5\\nsamples = 2\\nvalue = [1, 1]'),\n",
       " Text(0.020771230943725603, 0.53, 'gini = 0.0\\nsamples = 1\\nvalue = [1, 0]'),\n",
       " Text(0.02097726919239244, 0.53, 'gini = 0.0\\nsamples = 1\\nvalue = [0, 1]'),\n",
       " Text(0.021183307441059278, 0.57, 'x[9] <= 0.5\\ngini = 0.444\\nsamples = 3\\nvalue = [2, 1]'),\n",
       " Text(0.02108028831672586, 0.55, 'gini = 0.0\\nsamples = 2\\nvalue = [2, 0]'),\n",
       " Text(0.021286326565392696, 0.55, 'gini = 0.0\\nsamples = 1\\nvalue = [0, 1]'),\n",
       " Text(0.024592596586968364, 0.65, 'x[1] <= 1721.5\\ngini = 0.338\\nsamples = 223\\nvalue = [175, 48]'),\n",
       " Text(0.024489577462634943, 0.63, 'gini = 0.0\\nsamples = 2\\nvalue = [0, 2]'),\n",
       " Text(0.024695615711301782, 0.63, 'x[0] <= 36.5\\ngini = 0.33\\nsamples = 221\\nvalue = [175, 46]'),\n",
       " Text(0.023256567318269333, 0.61, 'x[1] <= 3699.5\\ngini = 0.38\\nsamples = 98\\nvalue = [73, 25]'),\n",
       " Text(0.022548310838477078, 0.59, 'x[1] <= 2547.0\\ngini = 0.354\\nsamples = 87\\nvalue = [67, 20]'),\n",
       " Text(0.02195595087355992, 0.57, 'x[1] <= 2173.0\\ngini = 0.44\\nsamples = 46\\nvalue = [31, 15]'),\n",
       " Text(0.021492364814059535, 0.55, 'x[0] <= 29.5\\ngini = 0.302\\nsamples = 27\\nvalue = [22, 5]'),\n",
       " Text(0.021389345689726117, 0.53, 'gini = 0.0\\nsamples = 8\\nvalue = [8, 0]'),\n",
       " Text(0.021595383938392953, 0.53, 'x[1] <= 1907.5\\ngini = 0.388\\nsamples = 19\\nvalue = [14, 5]'),\n",
       " Text(0.021286326565392696, 0.51, 'x[0] <= 35.5\\ngini = 0.198\\nsamples = 9\\nvalue = [8, 1]'),\n",
       " Text(0.021183307441059278, 0.49, 'gini = 0.0\\nsamples = 7\\nvalue = [7, 0]'),\n",
       " Text(0.021389345689726117, 0.49, 'x[5] <= 7.0\\ngini = 0.5\\nsamples = 2\\nvalue = [1, 1]'),\n",
       " Text(0.021286326565392696, 0.47, 'gini = 0.0\\nsamples = 1\\nvalue = [0, 1]'),\n",
       " Text(0.021492364814059535, 0.47, 'gini = 0.0\\nsamples = 1\\nvalue = [1, 0]'),\n",
       " Text(0.02190444131139321, 0.51, 'x[1] <= 2131.0\\ngini = 0.48\\nsamples = 10\\nvalue = [6, 4]'),\n",
       " Text(0.021801422187059792, 0.49, 'x[4] <= 1.5\\ngini = 0.49\\nsamples = 7\\nvalue = [3, 4]'),\n",
       " Text(0.021698403062726374, 0.47, 'gini = 0.0\\nsamples = 2\\nvalue = [0, 2]'),\n",
       " Text(0.02190444131139321, 0.47, 'x[0] <= 31.5\\ngini = 0.48\\nsamples = 5\\nvalue = [3, 2]'),\n",
       " Text(0.021801422187059792, 0.45, 'gini = 0.0\\nsamples = 2\\nvalue = [0, 2]'),\n",
       " Text(0.02200746043572663, 0.45, 'gini = 0.0\\nsamples = 3\\nvalue = [3, 0]'),\n",
       " Text(0.02200746043572663, 0.49, 'gini = 0.0\\nsamples = 3\\nvalue = [3, 0]'),\n",
       " Text(0.022419536933060306, 0.55, 'x[0] <= 33.5\\ngini = 0.499\\nsamples = 19\\nvalue = [9, 10]'),\n",
       " Text(0.022213498684393467, 0.53, 'x[1] <= 2237.0\\ngini = 0.426\\nsamples = 13\\nvalue = [4, 9]'),\n",
       " Text(0.02211047956006005, 0.51, 'gini = 0.0\\nsamples = 4\\nvalue = [0, 4]'),\n",
       " Text(0.02231651780872689, 0.51, 'x[1] <= 2299.5\\ngini = 0.494\\nsamples = 9\\nvalue = [4, 5]'),\n",
       " Text(0.022213498684393467, 0.49, 'gini = 0.0\\nsamples = 2\\nvalue = [2, 0]'),\n",
       " Text(0.022419536933060306, 0.49, 'x[11] <= 0.5\\ngini = 0.408\\nsamples = 7\\nvalue = [2, 5]'),\n",
       " Text(0.02231651780872689, 0.47, 'x[0] <= 29.5\\ngini = 0.278\\nsamples = 6\\nvalue = [1, 5]'),\n",
       " Text(0.022213498684393467, 0.45, 'x[1] <= 2518.0\\ngini = 0.5\\nsamples = 2\\nvalue = [1, 1]'),\n",
       " Text(0.02211047956006005, 0.43, 'gini = 0.0\\nsamples = 1\\nvalue = [1, 0]'),\n",
       " Text(0.02231651780872689, 0.43, 'gini = 0.0\\nsamples = 1\\nvalue = [0, 1]'),\n",
       " Text(0.022419536933060306, 0.45, 'gini = 0.0\\nsamples = 4\\nvalue = [0, 4]'),\n",
       " Text(0.022522556057393724, 0.47, 'gini = 0.0\\nsamples = 1\\nvalue = [1, 0]'),\n",
       " Text(0.022625575181727142, 0.53, 'x[5] <= 9.0\\ngini = 0.278\\nsamples = 6\\nvalue = [5, 1]'),\n",
       " Text(0.022522556057393724, 0.51, 'gini = 0.0\\nsamples = 5\\nvalue = [5, 0]'),\n",
       " Text(0.022728594306060564, 0.51, 'gini = 0.0\\nsamples = 1\\nvalue = [0, 1]'),\n",
       " Text(0.02314067080339424, 0.57, 'x[1] <= 2998.0\\ngini = 0.214\\nsamples = 41\\nvalue = [36, 5]'),\n",
       " Text(0.02303765167906082, 0.55, 'gini = 0.0\\nsamples = 17\\nvalue = [17, 0]'),\n",
       " Text(0.023243689927727657, 0.55, 'x[0] <= 34.5\\ngini = 0.33\\nsamples = 24\\nvalue = [19, 5]'),\n",
       " Text(0.02303765167906082, 0.53, 'x[1] <= 3315.0\\ngini = 0.245\\nsamples = 21\\nvalue = [18, 3]'),\n",
       " Text(0.0229346325547274, 0.51, 'x[0] <= 31.5\\ngini = 0.5\\nsamples = 6\\nvalue = [3, 3]'),\n",
       " Text(0.02283161343039398, 0.49, 'x[7] <= 0.5\\ngini = 0.375\\nsamples = 4\\nvalue = [1, 3]'),\n",
       " Text(0.022728594306060564, 0.47, 'x[3] <= 2.5\\ngini = 0.5\\nsamples = 2\\nvalue = [1, 1]'),\n",
       " Text(0.022625575181727142, 0.45, 'gini = 0.0\\nsamples = 1\\nvalue = [1, 0]'),\n",
       " Text(0.02283161343039398, 0.45, 'gini = 0.0\\nsamples = 1\\nvalue = [0, 1]'),\n",
       " Text(0.0229346325547274, 0.47, 'gini = 0.0\\nsamples = 2\\nvalue = [0, 2]'),\n",
       " Text(0.02303765167906082, 0.49, 'gini = 0.0\\nsamples = 2\\nvalue = [2, 0]'),\n",
       " Text(0.02314067080339424, 0.51, 'gini = 0.0\\nsamples = 15\\nvalue = [15, 0]'),\n",
       " Text(0.023449728176394496, 0.53, 'x[5] <= 2.0\\ngini = 0.444\\nsamples = 3\\nvalue = [1, 2]'),\n",
       " Text(0.023346709052061078, 0.51, 'gini = 0.0\\nsamples = 2\\nvalue = [0, 2]'),\n",
       " Text(0.023552747300727914, 0.51, 'gini = 0.0\\nsamples = 1\\nvalue = [1, 0]'),\n",
       " Text(0.023964823798061592, 0.59, 'x[1] <= 3829.0\\ngini = 0.496\\nsamples = 11\\nvalue = [6, 5]'),\n",
       " Text(0.02386180467372817, 0.57, 'x[1] <= 3746.5\\ngini = 0.278\\nsamples = 6\\nvalue = [1, 5]'),\n",
       " Text(0.023758785549394753, 0.55, 'x[4] <= 1.5\\ngini = 0.5\\nsamples = 2\\nvalue = [1, 1]'),\n",
       " Text(0.023655766425061335, 0.53, 'gini = 0.0\\nsamples = 1\\nvalue = [1, 0]'),\n",
       " Text(0.02386180467372817, 0.53, 'gini = 0.0\\nsamples = 1\\nvalue = [0, 1]'),\n",
       " Text(0.023964823798061592, 0.55, 'gini = 0.0\\nsamples = 4\\nvalue = [0, 4]'),\n",
       " Text(0.02406784292239501, 0.57, 'gini = 0.0\\nsamples = 5\\nvalue = [5, 0]'),\n",
       " Text(0.026134664104334227, 0.61, 'x[6] <= 1.5\\ngini = 0.283\\nsamples = 123\\nvalue = [102, 21]'),\n",
       " Text(0.025110911556270876, 0.59, 'x[1] <= 2637.0\\ngini = 0.239\\nsamples = 108\\nvalue = [93, 15]'),\n",
       " Text(0.024376900295395267, 0.57, 'x[1] <= 1742.0\\ngini = 0.115\\nsamples = 49\\nvalue = [46, 3]'),\n",
       " Text(0.024170862046728428, 0.55, 'x[1] <= 1729.5\\ngini = 0.5\\nsamples = 2\\nvalue = [1, 1]'),\n",
       " Text(0.02406784292239501, 0.53, 'gini = 0.0\\nsamples = 1\\nvalue = [1, 0]'),\n",
       " Text(0.024273881171061846, 0.53, 'gini = 0.0\\nsamples = 1\\nvalue = [0, 1]'),\n",
       " Text(0.024582938544062103, 0.55, 'x[1] <= 2336.5\\ngini = 0.081\\nsamples = 47\\nvalue = [45, 2]'),\n",
       " Text(0.024479919419728685, 0.53, 'gini = 0.0\\nsamples = 29\\nvalue = [29, 0]'),\n",
       " Text(0.024685957668395524, 0.53, 'x[1] <= 2409.5\\ngini = 0.198\\nsamples = 18\\nvalue = [16, 2]'),\n",
       " Text(0.024582938544062103, 0.51, 'x[4] <= 1.5\\ngini = 0.444\\nsamples = 3\\nvalue = [1, 2]'),\n",
       " Text(0.024479919419728685, 0.49, 'gini = 0.0\\nsamples = 2\\nvalue = [0, 2]'),\n",
       " Text(0.024685957668395524, 0.49, 'gini = 0.0\\nsamples = 1\\nvalue = [1, 0]'),\n",
       " Text(0.024788976792728942, 0.51, 'gini = 0.0\\nsamples = 15\\nvalue = [15, 0]'),\n",
       " Text(0.025844922817146485, 0.57, 'x[1] <= 3162.0\\ngini = 0.324\\nsamples = 59\\nvalue = [47, 12]'),\n",
       " Text(0.025355581976562746, 0.55, 'x[0] <= 43.5\\ngini = 0.491\\nsamples = 23\\nvalue = [13, 10]'),\n",
       " Text(0.0250980341657292, 0.53, 'x[7] <= 0.5\\ngini = 0.375\\nsamples = 8\\nvalue = [2, 6]'),\n",
       " Text(0.02499501504139578, 0.51, 'gini = 0.0\\nsamples = 2\\nvalue = [2, 0]'),\n",
       " Text(0.025201053290062617, 0.51, 'gini = 0.0\\nsamples = 6\\nvalue = [0, 6]'),\n",
       " Text(0.025613129787396296, 0.53, 'x[0] <= 48.5\\ngini = 0.391\\nsamples = 15\\nvalue = [11, 4]'),\n",
       " Text(0.025407091538729457, 0.51, 'x[0] <= 46.5\\ngini = 0.165\\nsamples = 11\\nvalue = [10, 1]'),\n",
       " Text(0.02530407241439604, 0.49, 'gini = 0.0\\nsamples = 8\\nvalue = [8, 0]'),\n",
       " Text(0.025510110663062874, 0.49, 'x[7] <= 0.5\\ngini = 0.444\\nsamples = 3\\nvalue = [2, 1]'),\n",
       " Text(0.025407091538729457, 0.47, 'gini = 0.0\\nsamples = 2\\nvalue = [2, 0]'),\n",
       " Text(0.025613129787396296, 0.47, 'gini = 0.0\\nsamples = 1\\nvalue = [0, 1]'),\n",
       " Text(0.02581916803606313, 0.51, 'x[0] <= 49.5\\ngini = 0.375\\nsamples = 4\\nvalue = [1, 3]'),\n",
       " Text(0.025716148911729714, 0.49, 'gini = 0.0\\nsamples = 3\\nvalue = [0, 3]'),\n",
       " Text(0.02592218716039655, 0.49, 'gini = 0.0\\nsamples = 1\\nvalue = [1, 0]'),\n",
       " Text(0.026334263657730228, 0.55, 'x[1] <= 3961.5\\ngini = 0.105\\nsamples = 36\\nvalue = [34, 2]'),\n",
       " Text(0.02612822540906339, 0.53, 'x[0] <= 46.5\\ngini = 0.061\\nsamples = 32\\nvalue = [31, 1]'),\n",
       " Text(0.02602520628472997, 0.51, 'gini = 0.0\\nsamples = 24\\nvalue = [24, 0]'),\n",
       " Text(0.026231244533396807, 0.51, 'x[4] <= 1.5\\ngini = 0.219\\nsamples = 8\\nvalue = [7, 1]'),\n",
       " Text(0.02612822540906339, 0.49, 'gini = 0.0\\nsamples = 7\\nvalue = [7, 0]'),\n",
       " Text(0.026334263657730228, 0.49, 'gini = 0.0\\nsamples = 1\\nvalue = [0, 1]'),\n",
       " Text(0.026540301906397064, 0.53, 'x[0] <= 41.5\\ngini = 0.375\\nsamples = 4\\nvalue = [3, 1]'),\n",
       " Text(0.026437282782063646, 0.51, 'gini = 0.0\\nsamples = 1\\nvalue = [0, 1]'),\n",
       " Text(0.026643321030730485, 0.51, 'gini = 0.0\\nsamples = 3\\nvalue = [3, 0]'),\n",
       " Text(0.027158416652397578, 0.59, 'x[5] <= 3.0\\ngini = 0.48\\nsamples = 15\\nvalue = [9, 6]'),\n",
       " Text(0.02705539752806416, 0.57, 'x[0] <= 41.5\\ngini = 0.496\\nsamples = 11\\nvalue = [5, 6]'),\n",
       " Text(0.02684935927939732, 0.55, 'x[1] <= 1785.5\\ngini = 0.32\\nsamples = 5\\nvalue = [4, 1]'),\n",
       " Text(0.026746340155063903, 0.53, 'gini = 0.0\\nsamples = 1\\nvalue = [0, 1]'),\n",
       " Text(0.026952378403730742, 0.53, 'gini = 0.0\\nsamples = 4\\nvalue = [4, 0]'),\n",
       " Text(0.027261435776731, 0.55, 'x[1] <= 3444.5\\ngini = 0.278\\nsamples = 6\\nvalue = [1, 5]'),\n",
       " Text(0.027158416652397578, 0.53, 'gini = 0.0\\nsamples = 5\\nvalue = [0, 5]'),\n",
       " Text(0.027364454901064417, 0.53, 'gini = 0.0\\nsamples = 1\\nvalue = [1, 0]'),\n",
       " Text(0.027261435776731, 0.57, 'gini = 0.0\\nsamples = 4\\nvalue = [4, 0]'),\n",
       " Text(0.02852342004981538, 0.67, 'x[1] <= 425.0\\ngini = 0.182\\nsamples = 178\\nvalue = [160, 18]'),\n",
       " Text(0.027725021836231382, 0.65, 'x[7] <= 0.5\\ngini = 0.353\\nsamples = 35\\nvalue = [27, 8]'),\n",
       " Text(0.027364454901064417, 0.63, 'x[1] <= 368.0\\ngini = 0.091\\nsamples = 21\\nvalue = [20, 1]'),\n",
       " Text(0.027261435776731, 0.61, 'gini = 0.0\\nsamples = 19\\nvalue = [19, 0]'),\n",
       " Text(0.027467474025397835, 0.61, 'x[6] <= 1.0\\ngini = 0.5\\nsamples = 2\\nvalue = [1, 1]'),\n",
       " Text(0.027364454901064417, 0.59, 'gini = 0.0\\nsamples = 1\\nvalue = [0, 1]'),\n",
       " Text(0.027570493149731253, 0.59, 'gini = 0.0\\nsamples = 1\\nvalue = [1, 0]'),\n",
       " Text(0.02808558877139835, 0.63, 'x[1] <= 329.5\\ngini = 0.5\\nsamples = 14\\nvalue = [7, 7]'),\n",
       " Text(0.02787955052273151, 0.61, 'x[0] <= 59.5\\ngini = 0.375\\nsamples = 8\\nvalue = [6, 2]'),\n",
       " Text(0.027776531398398092, 0.59, 'gini = 0.0\\nsamples = 5\\nvalue = [5, 0]'),\n",
       " Text(0.02798256964706493, 0.59, 'x[1] <= 322.5\\ngini = 0.444\\nsamples = 3\\nvalue = [1, 2]'),\n",
       " Text(0.02787955052273151, 0.57, 'gini = 0.0\\nsamples = 2\\nvalue = [0, 2]'),\n",
       " Text(0.02808558877139835, 0.57, 'gini = 0.0\\nsamples = 1\\nvalue = [1, 0]'),\n",
       " Text(0.02829162702006519, 0.61, 'x[1] <= 403.0\\ngini = 0.278\\nsamples = 6\\nvalue = [1, 5]'),\n",
       " Text(0.028188607895731767, 0.59, 'gini = 0.0\\nsamples = 4\\nvalue = [0, 4]'),\n",
       " Text(0.028394646144398607, 0.59, 'x[1] <= 414.0\\ngini = 0.5\\nsamples = 2\\nvalue = [1, 1]'),\n",
       " Text(0.02829162702006519, 0.57, 'gini = 0.0\\nsamples = 1\\nvalue = [1, 0]'),\n",
       " Text(0.028497665268732025, 0.57, 'gini = 0.0\\nsamples = 1\\nvalue = [0, 1]'),\n",
       " Text(0.029321818263399378, 0.65, 'x[0] <= 56.5\\ngini = 0.13\\nsamples = 143\\nvalue = [133, 10]'),\n",
       " Text(0.028909741766065703, 0.63, 'x[1] <= 2082.0\\ngini = 0.08\\nsamples = 96\\nvalue = [92, 4]'),\n",
       " Text(0.028703703517398864, 0.61, 'x[11] <= 0.5\\ngini = 0.036\\nsamples = 54\\nvalue = [53, 1]'),\n",
       " Text(0.028600684393065446, 0.59, 'gini = 0.0\\nsamples = 40\\nvalue = [40, 0]'),\n",
       " Text(0.028806722641732282, 0.59, 'x[0] <= 52.5\\ngini = 0.133\\nsamples = 14\\nvalue = [13, 1]'),\n",
       " Text(0.028703703517398864, 0.57, 'x[3] <= 2.5\\ngini = 0.245\\nsamples = 7\\nvalue = [6, 1]'),\n",
       " Text(0.028600684393065446, 0.55, 'x[7] <= 0.5\\ngini = 0.444\\nsamples = 3\\nvalue = [2, 1]'),\n",
       " Text(0.028497665268732025, 0.53, 'gini = 0.0\\nsamples = 2\\nvalue = [2, 0]'),\n",
       " Text(0.028703703517398864, 0.53, 'gini = 0.0\\nsamples = 1\\nvalue = [0, 1]'),\n",
       " Text(0.028806722641732282, 0.55, 'gini = 0.0\\nsamples = 4\\nvalue = [4, 0]'),\n",
       " Text(0.028909741766065703, 0.57, 'gini = 0.0\\nsamples = 7\\nvalue = [7, 0]'),\n",
       " Text(0.02911578001473254, 0.61, 'x[1] <= 2112.5\\ngini = 0.133\\nsamples = 42\\nvalue = [39, 3]'),\n",
       " Text(0.02901276089039912, 0.59, 'gini = 0.0\\nsamples = 1\\nvalue = [0, 1]'),\n",
       " Text(0.02921879913906596, 0.59, 'x[1] <= 3086.5\\ngini = 0.093\\nsamples = 41\\nvalue = [39, 2]'),\n",
       " Text(0.02911578001473254, 0.57, 'x[1] <= 3016.5\\ngini = 0.208\\nsamples = 17\\nvalue = [15, 2]'),\n",
       " Text(0.02901276089039912, 0.55, 'x[1] <= 2663.0\\ngini = 0.117\\nsamples = 16\\nvalue = [15, 1]'),\n",
       " Text(0.028909741766065703, 0.53, 'gini = 0.0\\nsamples = 11\\nvalue = [11, 0]'),\n",
       " Text(0.02911578001473254, 0.53, 'x[1] <= 2725.5\\ngini = 0.32\\nsamples = 5\\nvalue = [4, 1]'),\n",
       " Text(0.02901276089039912, 0.51, 'gini = 0.0\\nsamples = 1\\nvalue = [0, 1]'),\n",
       " Text(0.02921879913906596, 0.51, 'gini = 0.0\\nsamples = 4\\nvalue = [4, 0]'),\n",
       " Text(0.02921879913906596, 0.55, 'gini = 0.0\\nsamples = 1\\nvalue = [0, 1]'),\n",
       " Text(0.029321818263399378, 0.57, 'gini = 0.0\\nsamples = 24\\nvalue = [24, 0]'),\n",
       " Text(0.029733894760733053, 0.63, 'x[1] <= 791.5\\ngini = 0.223\\nsamples = 47\\nvalue = [41, 6]'),\n",
       " Text(0.029630875636399635, 0.61, 'gini = 0.0\\nsamples = 10\\nvalue = [10, 0]'),\n",
       " Text(0.02983691388506647, 0.61, 'x[1] <= 1115.0\\ngini = 0.272\\nsamples = 37\\nvalue = [31, 6]'),\n",
       " Text(0.029630875636399635, 0.59, 'x[0] <= 57.5\\ngini = 0.444\\nsamples = 3\\nvalue = [1, 2]'),\n",
       " Text(0.029527856512066214, 0.57, 'gini = 0.0\\nsamples = 1\\nvalue = [1, 0]'),\n",
       " Text(0.029733894760733053, 0.57, 'gini = 0.0\\nsamples = 2\\nvalue = [0, 2]'),\n",
       " Text(0.03004295213373331, 0.59, 'x[7] <= 0.5\\ngini = 0.208\\nsamples = 34\\nvalue = [30, 4]'),\n",
       " Text(0.029939933009399892, 0.57, 'x[1] <= 2347.0\\ngini = 0.287\\nsamples = 23\\nvalue = [19, 4]'),\n",
       " Text(0.029733894760733053, 0.55, 'x[1] <= 1515.5\\ngini = 0.124\\nsamples = 15\\nvalue = [14, 1]'),\n",
       " Text(0.029630875636399635, 0.53, 'x[5] <= 0.5\\ngini = 0.444\\nsamples = 3\\nvalue = [2, 1]'),\n",
       " Text(0.029527856512066214, 0.51, 'gini = 0.0\\nsamples = 1\\nvalue = [0, 1]'),\n",
       " Text(0.029733894760733053, 0.51, 'gini = 0.0\\nsamples = 2\\nvalue = [2, 0]'),\n",
       " Text(0.02983691388506647, 0.53, 'gini = 0.0\\nsamples = 12\\nvalue = [12, 0]'),\n",
       " Text(0.03014597125806673, 0.55, 'x[1] <= 2478.5\\ngini = 0.469\\nsamples = 8\\nvalue = [5, 3]'),\n",
       " Text(0.03004295213373331, 0.53, 'gini = 0.0\\nsamples = 1\\nvalue = [0, 1]'),\n",
       " Text(0.03024899038240015, 0.53, 'x[0] <= 57.5\\ngini = 0.408\\nsamples = 7\\nvalue = [5, 2]'),\n",
       " Text(0.03014597125806673, 0.51, 'x[1] <= 2827.0\\ngini = 0.444\\nsamples = 3\\nvalue = [1, 2]'),\n",
       " Text(0.03004295213373331, 0.49, 'gini = 0.0\\nsamples = 1\\nvalue = [0, 1]'),\n",
       " Text(0.03024899038240015, 0.49, 'x[4] <= 1.5\\ngini = 0.5\\nsamples = 2\\nvalue = [1, 1]'),\n",
       " Text(0.03014597125806673, 0.47, 'gini = 0.0\\nsamples = 1\\nvalue = [1, 0]'),\n",
       " Text(0.030352009506733568, 0.47, 'gini = 0.0\\nsamples = 1\\nvalue = [0, 1]'),\n",
       " Text(0.030352009506733568, 0.51, 'gini = 0.0\\nsamples = 4\\nvalue = [4, 0]'),\n",
       " Text(0.03014597125806673, 0.57, 'gini = 0.0\\nsamples = 11\\nvalue = [11, 0]'),\n",
       " Text(0.029733894760733053, 0.73, 'x[1] <= 1808.5\\ngini = 0.089\\nsamples = 86\\nvalue = [82, 4]'),\n",
       " Text(0.029527856512066214, 0.71, 'x[0] <= 75.5\\ngini = 0.036\\nsamples = 55\\nvalue = [54, 1]'),\n",
       " Text(0.029424837387732796, 0.69, 'gini = 0.0\\nsamples = 49\\nvalue = [49, 0]'),\n",
       " Text(0.029630875636399635, 0.69, 'x[0] <= 76.5\\ngini = 0.278\\nsamples = 6\\nvalue = [5, 1]'),\n",
       " Text(0.029527856512066214, 0.67, 'gini = 0.0\\nsamples = 1\\nvalue = [0, 1]'),\n",
       " Text(0.029733894760733053, 0.67, 'gini = 0.0\\nsamples = 5\\nvalue = [5, 0]'),\n",
       " Text(0.029939933009399892, 0.71, 'x[1] <= 1873.0\\ngini = 0.175\\nsamples = 31\\nvalue = [28, 3]'),\n",
       " Text(0.02983691388506647, 0.69, 'gini = 0.0\\nsamples = 1\\nvalue = [0, 1]'),\n",
       " Text(0.03004295213373331, 0.69, 'x[0] <= 67.5\\ngini = 0.124\\nsamples = 30\\nvalue = [28, 2]'),\n",
       " Text(0.029939933009399892, 0.67, 'gini = 0.0\\nsamples = 22\\nvalue = [22, 0]'),\n",
       " Text(0.03014597125806673, 0.67, 'x[0] <= 69.0\\ngini = 0.375\\nsamples = 8\\nvalue = [6, 2]'),\n",
       " Text(0.03004295213373331, 0.65, 'x[9] <= 0.5\\ngini = 0.444\\nsamples = 3\\nvalue = [1, 2]'),\n",
       " Text(0.029939933009399892, 0.63, 'gini = 0.0\\nsamples = 1\\nvalue = [0, 1]'),\n",
       " Text(0.03014597125806673, 0.63, 'x[1] <= 2269.5\\ngini = 0.5\\nsamples = 2\\nvalue = [1, 1]'),\n",
       " Text(0.03004295213373331, 0.61, 'gini = 0.0\\nsamples = 1\\nvalue = [0, 1]'),\n",
       " Text(0.03024899038240015, 0.61, 'gini = 0.0\\nsamples = 1\\nvalue = [1, 0]'),\n",
       " Text(0.03024899038240015, 0.65, 'gini = 0.0\\nsamples = 5\\nvalue = [5, 0]'),\n",
       " Text(0.03564703153008953, 0.75, 'x[1] <= 3994.0\\ngini = 0.299\\nsamples = 541\\nvalue = [442, 99]'),\n",
       " Text(0.035544012405756116, 0.73, 'x[1] <= 658.0\\ngini = 0.295\\nsamples = 539\\nvalue = [442, 97]'),\n",
       " Text(0.03293875533179301, 0.71, 'x[1] <= 590.0\\ngini = 0.37\\nsamples = 143\\nvalue = [108, 35]'),\n",
       " Text(0.03233190830251646, 0.69, 'x[1] <= 441.0\\ngini = 0.341\\nsamples = 133\\nvalue = [104, 29]'),\n",
       " Text(0.03163330986563047, 0.67, 'x[0] <= 61.5\\ngini = 0.378\\nsamples = 99\\nvalue = [74, 25]'),\n",
       " Text(0.031060265986525823, 0.65, 'x[1] <= 428.0\\ngini = 0.335\\nsamples = 80\\nvalue = [63, 17]'),\n",
       " Text(0.0307898407851506, 0.63, 'x[1] <= 122.5\\ngini = 0.304\\nsamples = 75\\nvalue = [61, 14]'),\n",
       " Text(0.030558047755400407, 0.61, 'x[5] <= 0.5\\ngini = 0.49\\nsamples = 7\\nvalue = [4, 3]'),\n",
       " Text(0.030455028631066985, 0.59, 'x[0] <= 51.0\\ngini = 0.32\\nsamples = 5\\nvalue = [4, 1]'),\n",
       " Text(0.030352009506733568, 0.57, 'gini = 0.0\\nsamples = 3\\nvalue = [3, 0]'),\n",
       " Text(0.030558047755400407, 0.57, 'x[4] <= 1.5\\ngini = 0.5\\nsamples = 2\\nvalue = [1, 1]'),\n",
       " Text(0.030455028631066985, 0.55, 'gini = 0.0\\nsamples = 1\\nvalue = [0, 1]'),\n",
       " Text(0.030661066879733825, 0.55, 'gini = 0.0\\nsamples = 1\\nvalue = [1, 0]'),\n",
       " Text(0.030661066879733825, 0.59, 'gini = 0.0\\nsamples = 2\\nvalue = [0, 2]'),\n",
       " Text(0.03102163381490079, 0.61, 'x[1] <= 223.5\\ngini = 0.271\\nsamples = 68\\nvalue = [57, 11]'),\n",
       " Text(0.03091861469056737, 0.59, 'gini = 0.0\\nsamples = 17\\nvalue = [17, 0]'),\n",
       " Text(0.03112465293923421, 0.59, 'x[1] <= 228.5\\ngini = 0.338\\nsamples = 51\\nvalue = [40, 11]'),\n",
       " Text(0.03102163381490079, 0.57, 'gini = 0.0\\nsamples = 2\\nvalue = [0, 2]'),\n",
       " Text(0.03122767206356763, 0.57, 'x[1] <= 267.5\\ngini = 0.3\\nsamples = 49\\nvalue = [40, 9]'),\n",
       " Text(0.030867105128400664, 0.55, 'x[0] <= 38.5\\ngini = 0.469\\nsamples = 8\\nvalue = [5, 3]'),\n",
       " Text(0.030764086004067243, 0.53, 'gini = 0.0\\nsamples = 3\\nvalue = [3, 0]'),\n",
       " Text(0.030970124252734082, 0.53, 'x[6] <= 1.0\\ngini = 0.48\\nsamples = 5\\nvalue = [2, 3]'),\n",
       " Text(0.030867105128400664, 0.51, 'gini = 0.0\\nsamples = 3\\nvalue = [0, 3]'),\n",
       " Text(0.0310731433770675, 0.51, 'gini = 0.0\\nsamples = 2\\nvalue = [2, 0]'),\n",
       " Text(0.03158823899873459, 0.55, 'x[5] <= 4.5\\ngini = 0.25\\nsamples = 41\\nvalue = [35, 6]'),\n",
       " Text(0.03138220075006776, 0.53, 'x[0] <= 51.5\\ngini = 0.188\\nsamples = 38\\nvalue = [34, 4]'),\n",
       " Text(0.031279181625734336, 0.51, 'x[1] <= 391.0\\ngini = 0.26\\nsamples = 26\\nvalue = [22, 4]'),\n",
       " Text(0.031176162501400918, 0.49, 'x[1] <= 374.5\\ngini = 0.346\\nsamples = 18\\nvalue = [14, 4]'),\n",
       " Text(0.0310731433770675, 0.47, 'x[0] <= 50.0\\ngini = 0.219\\nsamples = 16\\nvalue = [14, 2]'),\n",
       " Text(0.030867105128400664, 0.45, 'x[7] <= 0.5\\ngini = 0.133\\nsamples = 14\\nvalue = [13, 1]'),\n",
       " Text(0.030764086004067243, 0.43, 'x[0] <= 40.0\\ngini = 0.278\\nsamples = 6\\nvalue = [5, 1]'),\n",
       " Text(0.030661066879733825, 0.41, 'x[1] <= 324.0\\ngini = 0.5\\nsamples = 2\\nvalue = [1, 1]'),\n",
       " Text(0.030558047755400407, 0.39, 'gini = 0.0\\nsamples = 1\\nvalue = [1, 0]'),\n",
       " Text(0.030764086004067243, 0.39, 'gini = 0.0\\nsamples = 1\\nvalue = [0, 1]'),\n",
       " Text(0.030867105128400664, 0.41, 'gini = 0.0\\nsamples = 4\\nvalue = [4, 0]'),\n",
       " Text(0.030970124252734082, 0.43, 'gini = 0.0\\nsamples = 8\\nvalue = [8, 0]'),\n",
       " Text(0.031279181625734336, 0.45, 'x[7] <= 0.5\\ngini = 0.5\\nsamples = 2\\nvalue = [1, 1]'),\n",
       " Text(0.031176162501400918, 0.43, 'gini = 0.0\\nsamples = 1\\nvalue = [1, 0]'),\n",
       " Text(0.03138220075006776, 0.43, 'gini = 0.0\\nsamples = 1\\nvalue = [0, 1]'),\n",
       " Text(0.031279181625734336, 0.47, 'gini = 0.0\\nsamples = 2\\nvalue = [0, 2]'),\n",
       " Text(0.03138220075006776, 0.49, 'gini = 0.0\\nsamples = 8\\nvalue = [8, 0]'),\n",
       " Text(0.03148521987440118, 0.51, 'gini = 0.0\\nsamples = 12\\nvalue = [12, 0]'),\n",
       " Text(0.031794277247401435, 0.53, 'x[0] <= 49.5\\ngini = 0.444\\nsamples = 3\\nvalue = [1, 2]'),\n",
       " Text(0.031691258123068014, 0.51, 'gini = 0.0\\nsamples = 2\\nvalue = [0, 2]'),\n",
       " Text(0.03189729637173485, 0.51, 'gini = 0.0\\nsamples = 1\\nvalue = [1, 0]'),\n",
       " Text(0.03133069118790105, 0.63, 'x[0] <= 52.5\\ngini = 0.48\\nsamples = 5\\nvalue = [2, 3]'),\n",
       " Text(0.03122767206356763, 0.61, 'gini = 0.0\\nsamples = 3\\nvalue = [0, 3]'),\n",
       " Text(0.031433710312234464, 0.61, 'gini = 0.0\\nsamples = 2\\nvalue = [2, 0]'),\n",
       " Text(0.03220635374473511, 0.65, 'x[1] <= 185.5\\ngini = 0.488\\nsamples = 19\\nvalue = [11, 8]'),\n",
       " Text(0.03210333462040169, 0.63, 'gini = 0.0\\nsamples = 4\\nvalue = [4, 0]'),\n",
       " Text(0.03230937286906853, 0.63, 'x[6] <= 1.0\\ngini = 0.498\\nsamples = 15\\nvalue = [7, 8]'),\n",
       " Text(0.03210333462040169, 0.61, 'x[0] <= 78.0\\ngini = 0.42\\nsamples = 10\\nvalue = [3, 7]'),\n",
       " Text(0.03200031549606827, 0.59, 'x[0] <= 63.5\\ngini = 0.346\\nsamples = 9\\nvalue = [2, 7]'),\n",
       " Text(0.03189729637173485, 0.57, 'x[4] <= 1.5\\ngini = 0.5\\nsamples = 4\\nvalue = [2, 2]'),\n",
       " Text(0.031794277247401435, 0.55, 'gini = 0.0\\nsamples = 2\\nvalue = [2, 0]'),\n",
       " Text(0.03200031549606827, 0.55, 'gini = 0.0\\nsamples = 2\\nvalue = [0, 2]'),\n",
       " Text(0.03210333462040169, 0.57, 'gini = 0.0\\nsamples = 5\\nvalue = [0, 5]'),\n",
       " Text(0.03220635374473511, 0.59, 'gini = 0.0\\nsamples = 1\\nvalue = [1, 0]'),\n",
       " Text(0.032515411117735364, 0.61, 'x[1] <= 212.0\\ngini = 0.32\\nsamples = 5\\nvalue = [4, 1]'),\n",
       " Text(0.03241239199340195, 0.59, 'gini = 0.0\\nsamples = 1\\nvalue = [0, 1]'),\n",
       " Text(0.032618430242068785, 0.59, 'gini = 0.0\\nsamples = 4\\nvalue = [4, 0]'),\n",
       " Text(0.033030506739402464, 0.67, 'x[0] <= 50.5\\ngini = 0.208\\nsamples = 34\\nvalue = [30, 4]'),\n",
       " Text(0.03292748761506904, 0.65, 'x[0] <= 49.0\\ngini = 0.287\\nsamples = 23\\nvalue = [19, 4]'),\n",
       " Text(0.03282446849073562, 0.63, 'x[0] <= 41.0\\ngini = 0.236\\nsamples = 22\\nvalue = [19, 3]'),\n",
       " Text(0.03272144936640221, 0.61, 'gini = 0.0\\nsamples = 9\\nvalue = [9, 0]'),\n",
       " Text(0.03292748761506904, 0.61, 'x[1] <= 501.0\\ngini = 0.355\\nsamples = 13\\nvalue = [10, 3]'),\n",
       " Text(0.03282446849073562, 0.59, 'gini = 0.0\\nsamples = 5\\nvalue = [5, 0]'),\n",
       " Text(0.033030506739402464, 0.59, 'x[7] <= 0.5\\ngini = 0.469\\nsamples = 8\\nvalue = [5, 3]'),\n",
       " Text(0.03292748761506904, 0.57, 'x[4] <= 1.5\\ngini = 0.408\\nsamples = 7\\nvalue = [5, 2]'),\n",
       " Text(0.03282446849073562, 0.55, 'x[5] <= 0.5\\ngini = 0.444\\nsamples = 3\\nvalue = [1, 2]'),\n",
       " Text(0.03272144936640221, 0.53, 'gini = 0.0\\nsamples = 2\\nvalue = [0, 2]'),\n",
       " Text(0.03292748761506904, 0.53, 'gini = 0.0\\nsamples = 1\\nvalue = [1, 0]'),\n",
       " Text(0.033030506739402464, 0.55, 'gini = 0.0\\nsamples = 4\\nvalue = [4, 0]'),\n",
       " Text(0.03313352586373588, 0.57, 'gini = 0.0\\nsamples = 1\\nvalue = [0, 1]'),\n",
       " Text(0.033030506739402464, 0.63, 'gini = 0.0\\nsamples = 1\\nvalue = [0, 1]'),\n",
       " Text(0.03313352586373588, 0.65, 'gini = 0.0\\nsamples = 11\\nvalue = [11, 0]'),\n",
       " Text(0.03354560236106956, 0.69, 'x[0] <= 54.0\\ngini = 0.48\\nsamples = 10\\nvalue = [4, 6]'),\n",
       " Text(0.033442583236736136, 0.67, 'x[0] <= 48.0\\ngini = 0.49\\nsamples = 7\\nvalue = [4, 3]'),\n",
       " Text(0.03333956411240272, 0.65, 'x[1] <= 642.0\\ngini = 0.375\\nsamples = 4\\nvalue = [1, 3]'),\n",
       " Text(0.0332365449880693, 0.63, 'gini = 0.0\\nsamples = 3\\nvalue = [0, 3]'),\n",
       " Text(0.033442583236736136, 0.63, 'gini = 0.0\\nsamples = 1\\nvalue = [1, 0]'),\n",
       " Text(0.03354560236106956, 0.65, 'gini = 0.0\\nsamples = 3\\nvalue = [3, 0]'),\n",
       " Text(0.03364862148540297, 0.67, 'gini = 0.0\\nsamples = 3\\nvalue = [0, 3]'),\n",
       " Text(0.038149269479719215, 0.71, 'x[1] <= 2489.0\\ngini = 0.264\\nsamples = 396\\nvalue = [334, 62]'),\n",
       " Text(0.035464333551779484, 0.69, 'x[0] <= 36.5\\ngini = 0.181\\nsamples = 229\\nvalue = [206, 23]'),\n",
       " Text(0.034266736231403486, 0.67, 'x[0] <= 35.5\\ngini = 0.365\\nsamples = 25\\nvalue = [19, 6]'),\n",
       " Text(0.03395767885840323, 0.65, 'x[1] <= 964.0\\ngini = 0.266\\nsamples = 19\\nvalue = [16, 3]'),\n",
       " Text(0.03364862148540297, 0.63, 'x[1] <= 867.0\\ngini = 0.444\\nsamples = 3\\nvalue = [1, 2]'),\n",
       " Text(0.03354560236106956, 0.61, 'gini = 0.0\\nsamples = 1\\nvalue = [0, 1]'),\n",
       " Text(0.03375164060973639, 0.61, 'x[1] <= 904.5\\ngini = 0.5\\nsamples = 2\\nvalue = [1, 1]'),\n",
       " Text(0.03364862148540297, 0.59, 'gini = 0.0\\nsamples = 1\\nvalue = [1, 0]'),\n",
       " Text(0.033854659734069814, 0.59, 'gini = 0.0\\nsamples = 1\\nvalue = [0, 1]'),\n",
       " Text(0.034266736231403486, 0.63, 'x[0] <= 33.5\\ngini = 0.117\\nsamples = 16\\nvalue = [15, 1]'),\n",
       " Text(0.03416371710707007, 0.61, 'x[1] <= 1783.0\\ngini = 0.375\\nsamples = 4\\nvalue = [3, 1]'),\n",
       " Text(0.03406069798273665, 0.59, 'gini = 0.0\\nsamples = 1\\nvalue = [0, 1]'),\n",
       " Text(0.034266736231403486, 0.59, 'gini = 0.0\\nsamples = 3\\nvalue = [3, 0]'),\n",
       " Text(0.03436975535573691, 0.61, 'gini = 0.0\\nsamples = 12\\nvalue = [12, 0]'),\n",
       " Text(0.03457579360440374, 0.65, 'x[1] <= 1310.0\\ngini = 0.5\\nsamples = 6\\nvalue = [3, 3]'),\n",
       " Text(0.03447277448007033, 0.63, 'gini = 0.0\\nsamples = 2\\nvalue = [2, 0]'),\n",
       " Text(0.034678812728737164, 0.63, 'x[1] <= 1535.0\\ngini = 0.375\\nsamples = 4\\nvalue = [1, 3]'),\n",
       " Text(0.03457579360440374, 0.61, 'gini = 0.0\\nsamples = 2\\nvalue = [0, 2]'),\n",
       " Text(0.034781831853070586, 0.61, 'x[1] <= 1877.5\\ngini = 0.5\\nsamples = 2\\nvalue = [1, 1]'),\n",
       " Text(0.034678812728737164, 0.59, 'gini = 0.0\\nsamples = 1\\nvalue = [1, 0]'),\n",
       " Text(0.034884850977404, 0.59, 'gini = 0.0\\nsamples = 1\\nvalue = [0, 1]'),\n",
       " Text(0.03666193087215548, 0.67, 'x[1] <= 1307.5\\ngini = 0.153\\nsamples = 204\\nvalue = [187, 17]'),\n",
       " Text(0.03565749440990464, 0.65, 'x[1] <= 1283.0\\ngini = 0.225\\nsamples = 62\\nvalue = [54, 8]'),\n",
       " Text(0.03555447528557123, 0.63, 'x[1] <= 1043.5\\ngini = 0.203\\nsamples = 61\\nvalue = [54, 7]'),\n",
       " Text(0.03519390835040426, 0.61, 'x[0] <= 37.5\\ngini = 0.1\\nsamples = 38\\nvalue = [36, 2]'),\n",
       " Text(0.03509088922607084, 0.59, 'gini = 0.0\\nsamples = 1\\nvalue = [0, 1]'),\n",
       " Text(0.03529692747473768, 0.59, 'x[1] <= 706.0\\ngini = 0.053\\nsamples = 37\\nvalue = [36, 1]'),\n",
       " Text(0.03519390835040426, 0.57, 'x[1] <= 692.0\\ngini = 0.219\\nsamples = 8\\nvalue = [7, 1]'),\n",
       " Text(0.03509088922607084, 0.55, 'gini = 0.0\\nsamples = 7\\nvalue = [7, 0]'),\n",
       " Text(0.03529692747473768, 0.55, 'gini = 0.0\\nsamples = 1\\nvalue = [0, 1]'),\n",
       " Text(0.0353999465990711, 0.57, 'gini = 0.0\\nsamples = 29\\nvalue = [29, 0]'),\n",
       " Text(0.03591504222073819, 0.61, 'x[1] <= 1089.0\\ngini = 0.34\\nsamples = 23\\nvalue = [18, 5]'),\n",
       " Text(0.03570900397207136, 0.59, 'x[4] <= 1.5\\ngini = 0.375\\nsamples = 4\\nvalue = [1, 3]'),\n",
       " Text(0.035605984847737936, 0.57, 'gini = 0.0\\nsamples = 2\\nvalue = [0, 2]'),\n",
       " Text(0.03581202309640477, 0.57, 'x[1] <= 1065.5\\ngini = 0.5\\nsamples = 2\\nvalue = [1, 1]'),\n",
       " Text(0.03570900397207136, 0.55, 'gini = 0.0\\nsamples = 1\\nvalue = [0, 1]'),\n",
       " Text(0.03591504222073819, 0.55, 'gini = 0.0\\nsamples = 1\\nvalue = [1, 0]'),\n",
       " Text(0.03612108046940503, 0.59, 'x[6] <= 1.5\\ngini = 0.188\\nsamples = 19\\nvalue = [17, 2]'),\n",
       " Text(0.036018061345071614, 0.57, 'gini = 0.0\\nsamples = 16\\nvalue = [16, 0]'),\n",
       " Text(0.03622409959373845, 0.57, 'x[7] <= 0.5\\ngini = 0.444\\nsamples = 3\\nvalue = [1, 2]'),\n",
       " Text(0.03612108046940503, 0.55, 'gini = 0.0\\nsamples = 1\\nvalue = [1, 0]'),\n",
       " Text(0.03632711871807187, 0.55, 'gini = 0.0\\nsamples = 2\\nvalue = [0, 2]'),\n",
       " Text(0.035760513534238064, 0.63, 'gini = 0.0\\nsamples = 1\\nvalue = [0, 1]'),\n",
       " Text(0.037666367334406314, 0.65, 'x[0] <= 58.5\\ngini = 0.119\\nsamples = 142\\nvalue = [133, 9]'),\n",
       " Text(0.03756334821007289, 0.63, 'x[0] <= 48.5\\ngini = 0.15\\nsamples = 110\\nvalue = [101, 9]'),\n",
       " Text(0.036945233464072386, 0.61, 'x[1] <= 2376.0\\ngini = 0.068\\nsamples = 57\\nvalue = [55, 2]'),\n",
       " Text(0.03673919521540554, 0.59, 'x[0] <= 39.5\\ngini = 0.036\\nsamples = 54\\nvalue = [53, 1]'),\n",
       " Text(0.03663617609107213, 0.57, 'x[7] <= 0.5\\ngini = 0.111\\nsamples = 17\\nvalue = [16, 1]'),\n",
       " Text(0.03653315696673871, 0.55, 'gini = 0.0\\nsamples = 9\\nvalue = [9, 0]'),\n",
       " Text(0.03673919521540554, 0.55, 'x[1] <= 1753.0\\ngini = 0.219\\nsamples = 8\\nvalue = [7, 1]'),\n",
       " Text(0.03663617609107213, 0.53, 'gini = 0.0\\nsamples = 4\\nvalue = [4, 0]'),\n",
       " Text(0.036842214339738964, 0.53, 'x[1] <= 1972.0\\ngini = 0.375\\nsamples = 4\\nvalue = [3, 1]'),\n",
       " Text(0.03673919521540554, 0.51, 'gini = 0.0\\nsamples = 1\\nvalue = [0, 1]'),\n",
       " Text(0.036945233464072386, 0.51, 'gini = 0.0\\nsamples = 3\\nvalue = [3, 0]'),\n",
       " Text(0.036842214339738964, 0.57, 'gini = 0.0\\nsamples = 37\\nvalue = [37, 0]'),\n",
       " Text(0.03715127171273922, 0.59, 'x[1] <= 2433.5\\ngini = 0.444\\nsamples = 3\\nvalue = [2, 1]'),\n",
       " Text(0.0370482525884058, 0.57, 'gini = 0.0\\nsamples = 1\\nvalue = [0, 1]'),\n",
       " Text(0.037254290837072636, 0.57, 'gini = 0.0\\nsamples = 2\\nvalue = [2, 0]'),\n",
       " Text(0.03818146295607341, 0.61, 'x[5] <= 3.5\\ngini = 0.229\\nsamples = 53\\nvalue = [46, 7]'),\n",
       " Text(0.037769386458739736, 0.59, 'x[1] <= 1975.5\\ngini = 0.162\\nsamples = 45\\nvalue = [41, 4]'),\n",
       " Text(0.03746032908573948, 0.57, 'x[4] <= 1.5\\ngini = 0.071\\nsamples = 27\\nvalue = [26, 1]'),\n",
       " Text(0.03735730996140606, 0.55, 'gini = 0.0\\nsamples = 17\\nvalue = [17, 0]'),\n",
       " Text(0.03756334821007289, 0.55, 'x[0] <= 53.5\\ngini = 0.18\\nsamples = 10\\nvalue = [9, 1]'),\n",
       " Text(0.03746032908573948, 0.53, 'x[0] <= 52.5\\ngini = 0.375\\nsamples = 4\\nvalue = [3, 1]'),\n",
       " Text(0.03735730996140606, 0.51, 'gini = 0.0\\nsamples = 3\\nvalue = [3, 0]'),\n",
       " Text(0.03756334821007289, 0.51, 'gini = 0.0\\nsamples = 1\\nvalue = [0, 1]'),\n",
       " Text(0.037666367334406314, 0.53, 'gini = 0.0\\nsamples = 6\\nvalue = [6, 0]'),\n",
       " Text(0.03807844383173999, 0.57, 'x[1] <= 2276.5\\ngini = 0.278\\nsamples = 18\\nvalue = [15, 3]'),\n",
       " Text(0.03797542470740657, 0.55, 'x[6] <= 1.0\\ngini = 0.5\\nsamples = 6\\nvalue = [3, 3]'),\n",
       " Text(0.03787240558307315, 0.53, 'x[4] <= 1.5\\ngini = 0.48\\nsamples = 5\\nvalue = [3, 2]'),\n",
       " Text(0.037769386458739736, 0.51, 'x[1] <= 1992.0\\ngini = 0.444\\nsamples = 3\\nvalue = [1, 2]'),\n",
       " Text(0.037666367334406314, 0.49, 'gini = 0.0\\nsamples = 1\\nvalue = [0, 1]'),\n",
       " Text(0.03787240558307315, 0.49, 'x[5] <= 0.5\\ngini = 0.5\\nsamples = 2\\nvalue = [1, 1]'),\n",
       " Text(0.037769386458739736, 0.47, 'gini = 0.0\\nsamples = 1\\nvalue = [1, 0]'),\n",
       " Text(0.03797542470740657, 0.47, 'gini = 0.0\\nsamples = 1\\nvalue = [0, 1]'),\n",
       " Text(0.03797542470740657, 0.51, 'gini = 0.0\\nsamples = 2\\nvalue = [2, 0]'),\n",
       " Text(0.03807844383173999, 0.53, 'gini = 0.0\\nsamples = 1\\nvalue = [0, 1]'),\n",
       " Text(0.03818146295607341, 0.55, 'gini = 0.0\\nsamples = 12\\nvalue = [12, 0]'),\n",
       " Text(0.038593539453407086, 0.59, 'x[5] <= 8.5\\ngini = 0.469\\nsamples = 8\\nvalue = [5, 3]'),\n",
       " Text(0.038490520329073664, 0.57, 'x[1] <= 1908.0\\ngini = 0.48\\nsamples = 5\\nvalue = [2, 3]'),\n",
       " Text(0.03838750120474025, 0.55, 'gini = 0.0\\nsamples = 2\\nvalue = [0, 2]'),\n",
       " Text(0.038593539453407086, 0.55, 'x[4] <= 1.5\\ngini = 0.444\\nsamples = 3\\nvalue = [2, 1]'),\n",
       " Text(0.038490520329073664, 0.53, 'gini = 0.0\\nsamples = 1\\nvalue = [0, 1]'),\n",
       " Text(0.03869655857774051, 0.53, 'gini = 0.0\\nsamples = 2\\nvalue = [2, 0]'),\n",
       " Text(0.03869655857774051, 0.57, 'gini = 0.0\\nsamples = 3\\nvalue = [3, 0]'),\n",
       " Text(0.037769386458739736, 0.63, 'gini = 0.0\\nsamples = 32\\nvalue = [32, 0]'),\n",
       " Text(0.04083420540765895, 0.69, 'x[0] <= 46.5\\ngini = 0.358\\nsamples = 167\\nvalue = [128, 39]'),\n",
       " Text(0.040087316756241664, 0.67, 'x[0] <= 45.5\\ngini = 0.432\\nsamples = 76\\nvalue = [52, 24]'),\n",
       " Text(0.03972674982107469, 0.65, 'x[1] <= 2511.5\\ngini = 0.389\\nsamples = 68\\nvalue = [50, 18]'),\n",
       " Text(0.03962373069674128, 0.63, 'gini = 0.0\\nsamples = 1\\nvalue = [0, 1]'),\n",
       " Text(0.039829768945408114, 0.63, 'x[4] <= 1.5\\ngini = 0.379\\nsamples = 67\\nvalue = [50, 17]'),\n",
       " Text(0.039417692448074436, 0.61, 'x[1] <= 3802.0\\ngini = 0.45\\nsamples = 38\\nvalue = [25, 13]'),\n",
       " Text(0.0392116541994076, 0.59, 'x[1] <= 3600.0\\ngini = 0.415\\nsamples = 34\\nvalue = [24, 10]'),\n",
       " Text(0.03910863507507418, 0.57, 'x[6] <= 3.0\\ngini = 0.466\\nsamples = 27\\nvalue = [17, 10]'),\n",
       " Text(0.039005615950740764, 0.55, 'x[1] <= 2552.5\\ngini = 0.486\\nsamples = 24\\nvalue = [14, 10]'),\n",
       " Text(0.03890259682640734, 0.53, 'gini = 0.0\\nsamples = 2\\nvalue = [2, 0]'),\n",
       " Text(0.03910863507507418, 0.53, 'x[1] <= 2593.0\\ngini = 0.496\\nsamples = 22\\nvalue = [12, 10]'),\n",
       " Text(0.039005615950740764, 0.51, 'gini = 0.0\\nsamples = 2\\nvalue = [0, 2]'),\n",
       " Text(0.0392116541994076, 0.51, 'x[7] <= 0.5\\ngini = 0.48\\nsamples = 20\\nvalue = [12, 8]'),\n",
       " Text(0.038851087264240636, 0.49, 'x[0] <= 43.5\\ngini = 0.494\\nsamples = 9\\nvalue = [4, 5]'),\n",
       " Text(0.038748068139907214, 0.47, 'x[1] <= 3055.5\\ngini = 0.49\\nsamples = 7\\nvalue = [4, 3]'),\n",
       " Text(0.03864504901557379, 0.45, 'gini = 0.0\\nsamples = 2\\nvalue = [2, 0]'),\n",
       " Text(0.038851087264240636, 0.45, 'x[0] <= 36.5\\ngini = 0.48\\nsamples = 5\\nvalue = [2, 3]'),\n",
       " Text(0.038748068139907214, 0.43, 'x[1] <= 3515.0\\ngini = 0.444\\nsamples = 3\\nvalue = [2, 1]'),\n",
       " Text(0.03864504901557379, 0.41, 'gini = 0.0\\nsamples = 2\\nvalue = [2, 0]'),\n",
       " Text(0.038851087264240636, 0.41, 'gini = 0.0\\nsamples = 1\\nvalue = [0, 1]'),\n",
       " Text(0.03895410638857405, 0.43, 'gini = 0.0\\nsamples = 2\\nvalue = [0, 2]'),\n",
       " Text(0.03895410638857405, 0.47, 'gini = 0.0\\nsamples = 2\\nvalue = [0, 2]'),\n",
       " Text(0.039572221134574564, 0.49, 'x[5] <= 1.0\\ngini = 0.397\\nsamples = 11\\nvalue = [8, 3]'),\n",
       " Text(0.03936618288590773, 0.47, 'x[0] <= 34.5\\ngini = 0.219\\nsamples = 8\\nvalue = [7, 1]'),\n",
       " Text(0.03926316376157431, 0.45, 'x[1] <= 2887.0\\ngini = 0.5\\nsamples = 2\\nvalue = [1, 1]'),\n",
       " Text(0.03916014463724089, 0.43, 'gini = 0.0\\nsamples = 1\\nvalue = [0, 1]'),\n",
       " Text(0.03936618288590773, 0.43, 'gini = 0.0\\nsamples = 1\\nvalue = [1, 0]'),\n",
       " Text(0.03946920201024115, 0.45, 'gini = 0.0\\nsamples = 6\\nvalue = [6, 0]'),\n",
       " Text(0.03977825938324141, 0.47, 'x[1] <= 2965.5\\ngini = 0.444\\nsamples = 3\\nvalue = [1, 2]'),\n",
       " Text(0.039675240258907986, 0.45, 'gini = 0.0\\nsamples = 1\\nvalue = [1, 0]'),\n",
       " Text(0.03988127850757482, 0.45, 'gini = 0.0\\nsamples = 2\\nvalue = [0, 2]'),\n",
       " Text(0.0392116541994076, 0.55, 'gini = 0.0\\nsamples = 3\\nvalue = [3, 0]'),\n",
       " Text(0.03931467332374102, 0.57, 'gini = 0.0\\nsamples = 7\\nvalue = [7, 0]'),\n",
       " Text(0.03962373069674128, 0.59, 'x[1] <= 3924.0\\ngini = 0.375\\nsamples = 4\\nvalue = [1, 3]'),\n",
       " Text(0.03952071157240786, 0.57, 'gini = 0.0\\nsamples = 3\\nvalue = [0, 3]'),\n",
       " Text(0.03972674982107469, 0.57, 'gini = 0.0\\nsamples = 1\\nvalue = [1, 0]'),\n",
       " Text(0.04024184544274179, 0.61, 'x[0] <= 41.5\\ngini = 0.238\\nsamples = 29\\nvalue = [25, 4]'),\n",
       " Text(0.04003580719407495, 0.59, 'x[7] <= 0.5\\ngini = 0.1\\nsamples = 19\\nvalue = [18, 1]'),\n",
       " Text(0.039932788069741536, 0.57, 'gini = 0.0\\nsamples = 14\\nvalue = [14, 0]'),\n",
       " Text(0.04013882631840837, 0.57, 'x[0] <= 39.5\\ngini = 0.32\\nsamples = 5\\nvalue = [4, 1]'),\n",
       " Text(0.04003580719407495, 0.55, 'gini = 0.0\\nsamples = 2\\nvalue = [2, 0]'),\n",
       " Text(0.04024184544274179, 0.55, 'x[0] <= 40.5\\ngini = 0.444\\nsamples = 3\\nvalue = [2, 1]'),\n",
       " Text(0.04013882631840837, 0.53, 'gini = 0.0\\nsamples = 1\\nvalue = [0, 1]'),\n",
       " Text(0.04034486456707521, 0.53, 'gini = 0.0\\nsamples = 2\\nvalue = [2, 0]'),\n",
       " Text(0.04044788369140863, 0.59, 'x[1] <= 2955.0\\ngini = 0.42\\nsamples = 10\\nvalue = [7, 3]'),\n",
       " Text(0.04034486456707521, 0.57, 'gini = 0.0\\nsamples = 3\\nvalue = [3, 0]'),\n",
       " Text(0.04055090281574204, 0.57, 'x[1] <= 2980.5\\ngini = 0.49\\nsamples = 7\\nvalue = [4, 3]'),\n",
       " Text(0.04044788369140863, 0.55, 'gini = 0.0\\nsamples = 1\\nvalue = [0, 1]'),\n",
       " Text(0.040653921940075465, 0.55, 'x[0] <= 43.5\\ngini = 0.444\\nsamples = 6\\nvalue = [4, 2]'),\n",
       " Text(0.04055090281574204, 0.53, 'x[1] <= 3279.5\\ngini = 0.444\\nsamples = 3\\nvalue = [1, 2]'),\n",
       " Text(0.04044788369140863, 0.51, 'gini = 0.0\\nsamples = 1\\nvalue = [1, 0]'),\n",
       " Text(0.040653921940075465, 0.51, 'gini = 0.0\\nsamples = 2\\nvalue = [0, 2]'),\n",
       " Text(0.040756941064408886, 0.53, 'gini = 0.0\\nsamples = 3\\nvalue = [3, 0]'),\n",
       " Text(0.04044788369140863, 0.65, 'x[1] <= 2821.0\\ngini = 0.375\\nsamples = 8\\nvalue = [2, 6]'),\n",
       " Text(0.04034486456707521, 0.63, 'gini = 0.0\\nsamples = 4\\nvalue = [0, 4]'),\n",
       " Text(0.04055090281574204, 0.63, 'x[1] <= 3167.0\\ngini = 0.5\\nsamples = 4\\nvalue = [2, 2]'),\n",
       " Text(0.04044788369140863, 0.61, 'gini = 0.0\\nsamples = 2\\nvalue = [2, 0]'),\n",
       " Text(0.040653921940075465, 0.61, 'gini = 0.0\\nsamples = 2\\nvalue = [0, 2]'),\n",
       " Text(0.041581094059076236, 0.67, 'x[9] <= 0.5\\ngini = 0.275\\nsamples = 91\\nvalue = [76, 15]'),\n",
       " Text(0.041478074934742815, 0.65, 'x[5] <= 11.5\\ngini = 0.263\\nsamples = 90\\nvalue = [76, 14]'),\n",
       " Text(0.04127203668607598, 0.63, 'x[0] <= 50.5\\ngini = 0.24\\nsamples = 86\\nvalue = [74, 12]'),\n",
       " Text(0.04116901756174256, 0.61, 'gini = 0.0\\nsamples = 22\\nvalue = [22, 0]'),\n",
       " Text(0.0413750558104094, 0.61, 'x[1] <= 2999.5\\ngini = 0.305\\nsamples = 64\\nvalue = [52, 12]'),\n",
       " Text(0.0408599601887423, 0.59, 'x[0] <= 57.5\\ngini = 0.147\\nsamples = 25\\nvalue = [23, 2]'),\n",
       " Text(0.040756941064408886, 0.57, 'gini = 0.0\\nsamples = 14\\nvalue = [14, 0]'),\n",
       " Text(0.04096297931307572, 0.57, 'x[7] <= 0.5\\ngini = 0.298\\nsamples = 11\\nvalue = [9, 2]'),\n",
       " Text(0.0408599601887423, 0.55, 'gini = 0.0\\nsamples = 8\\nvalue = [8, 0]'),\n",
       " Text(0.04106599843740914, 0.55, 'x[0] <= 60.5\\ngini = 0.444\\nsamples = 3\\nvalue = [1, 2]'),\n",
       " Text(0.04096297931307572, 0.53, 'gini = 0.0\\nsamples = 2\\nvalue = [0, 2]'),\n",
       " Text(0.04116901756174256, 0.53, 'gini = 0.0\\nsamples = 1\\nvalue = [1, 0]'),\n",
       " Text(0.04189015143207649, 0.59, 'x[1] <= 3096.5\\ngini = 0.381\\nsamples = 39\\nvalue = [29, 10]'),\n",
       " Text(0.041581094059076236, 0.57, 'x[1] <= 3041.0\\ngini = 0.32\\nsamples = 5\\nvalue = [1, 4]'),\n",
       " Text(0.041478074934742815, 0.55, 'x[1] <= 3010.5\\ngini = 0.5\\nsamples = 2\\nvalue = [1, 1]'),\n",
       " Text(0.0413750558104094, 0.53, 'gini = 0.0\\nsamples = 1\\nvalue = [0, 1]'),\n",
       " Text(0.041581094059076236, 0.53, 'gini = 0.0\\nsamples = 1\\nvalue = [1, 0]'),\n",
       " Text(0.04168411318340966, 0.55, 'gini = 0.0\\nsamples = 3\\nvalue = [0, 3]'),\n",
       " Text(0.04219920880507675, 0.57, 'x[0] <= 52.5\\ngini = 0.291\\nsamples = 34\\nvalue = [28, 6]'),\n",
       " Text(0.04189015143207649, 0.55, 'x[7] <= 0.5\\ngini = 0.48\\nsamples = 5\\nvalue = [3, 2]'),\n",
       " Text(0.04178713230774307, 0.53, 'gini = 0.0\\nsamples = 3\\nvalue = [3, 0]'),\n",
       " Text(0.041993170556409914, 0.53, 'gini = 0.0\\nsamples = 2\\nvalue = [0, 2]'),\n",
       " Text(0.04250826617807701, 0.55, 'x[1] <= 3301.0\\ngini = 0.238\\nsamples = 29\\nvalue = [25, 4]'),\n",
       " Text(0.04219920880507675, 0.53, 'x[7] <= 0.5\\ngini = 0.48\\nsamples = 5\\nvalue = [3, 2]'),\n",
       " Text(0.04209618968074333, 0.51, 'gini = 0.0\\nsamples = 2\\nvalue = [2, 0]'),\n",
       " Text(0.04230222792941017, 0.51, 'x[0] <= 60.5\\ngini = 0.444\\nsamples = 3\\nvalue = [1, 2]'),\n",
       " Text(0.04219920880507675, 0.49, 'gini = 0.0\\nsamples = 1\\nvalue = [1, 0]'),\n",
       " Text(0.042405247053743586, 0.49, 'gini = 0.0\\nsamples = 2\\nvalue = [0, 2]'),\n",
       " Text(0.042817323551077265, 0.53, 'x[0] <= 59.5\\ngini = 0.153\\nsamples = 24\\nvalue = [22, 2]'),\n",
       " Text(0.04271430442674384, 0.51, 'x[0] <= 58.5\\ngini = 0.298\\nsamples = 11\\nvalue = [9, 2]'),\n",
       " Text(0.04261128530241043, 0.49, 'x[4] <= 1.5\\ngini = 0.18\\nsamples = 10\\nvalue = [9, 1]'),\n",
       " Text(0.04250826617807701, 0.47, 'gini = 0.0\\nsamples = 6\\nvalue = [6, 0]'),\n",
       " Text(0.04271430442674384, 0.47, 'x[1] <= 3742.5\\ngini = 0.375\\nsamples = 4\\nvalue = [3, 1]'),\n",
       " Text(0.04261128530241043, 0.45, 'gini = 0.0\\nsamples = 2\\nvalue = [2, 0]'),\n",
       " Text(0.042817323551077265, 0.45, 'x[1] <= 3894.0\\ngini = 0.5\\nsamples = 2\\nvalue = [1, 1]'),\n",
       " Text(0.04271430442674384, 0.43, 'gini = 0.0\\nsamples = 1\\nvalue = [0, 1]'),\n",
       " Text(0.042920342675410686, 0.43, 'gini = 0.0\\nsamples = 1\\nvalue = [1, 0]'),\n",
       " Text(0.042817323551077265, 0.49, 'gini = 0.0\\nsamples = 1\\nvalue = [0, 1]'),\n",
       " Text(0.042920342675410686, 0.51, 'gini = 0.0\\nsamples = 13\\nvalue = [13, 0]'),\n",
       " Text(0.04168411318340966, 0.63, 'x[0] <= 53.5\\ngini = 0.5\\nsamples = 4\\nvalue = [2, 2]'),\n",
       " Text(0.041581094059076236, 0.61, 'gini = 0.0\\nsamples = 2\\nvalue = [0, 2]'),\n",
       " Text(0.04178713230774307, 0.61, 'gini = 0.0\\nsamples = 2\\nvalue = [2, 0]'),\n",
       " Text(0.04168411318340966, 0.65, 'gini = 0.0\\nsamples = 1\\nvalue = [0, 1]'),\n",
       " Text(0.03575005065442295, 0.73, 'gini = 0.0\\nsamples = 2\\nvalue = [0, 2]'),\n",
       " Text(0.04775982700835481, 0.81, 'x[11] <= 0.5\\ngini = 0.351\\nsamples = 484\\nvalue = [374, 110]'),\n",
       " Text(0.04495014135954258, 0.79, 'x[0] <= 18.5\\ngini = 0.418\\nsamples = 306\\nvalue = [215, 91]'),\n",
       " Text(0.04235373749157688, 0.77, 'x[6] <= 4.0\\ngini = 0.208\\nsamples = 51\\nvalue = [45, 6]'),\n",
       " Text(0.04225071836724346, 0.75, 'x[1] <= 3196.5\\ngini = 0.15\\nsamples = 49\\nvalue = [45, 4]'),\n",
       " Text(0.041993170556409914, 0.73, 'x[0] <= 7.5\\ngini = 0.093\\nsamples = 41\\nvalue = [39, 2]'),\n",
       " Text(0.04178713230774307, 0.71, 'x[1] <= 1250.0\\ngini = 0.444\\nsamples = 3\\nvalue = [2, 1]'),\n",
       " Text(0.04168411318340966, 0.69, 'gini = 0.0\\nsamples = 2\\nvalue = [2, 0]'),\n",
       " Text(0.04189015143207649, 0.69, 'gini = 0.0\\nsamples = 1\\nvalue = [0, 1]'),\n",
       " Text(0.04219920880507675, 0.71, 'x[0] <= 9.5\\ngini = 0.051\\nsamples = 38\\nvalue = [37, 1]'),\n",
       " Text(0.04209618968074333, 0.69, 'x[1] <= 598.0\\ngini = 0.18\\nsamples = 10\\nvalue = [9, 1]'),\n",
       " Text(0.041993170556409914, 0.67, 'x[1] <= 589.5\\ngini = 0.375\\nsamples = 4\\nvalue = [3, 1]'),\n",
       " Text(0.04189015143207649, 0.65, 'gini = 0.0\\nsamples = 3\\nvalue = [3, 0]'),\n",
       " Text(0.04209618968074333, 0.65, 'gini = 0.0\\nsamples = 1\\nvalue = [0, 1]'),\n",
       " Text(0.04219920880507675, 0.67, 'gini = 0.0\\nsamples = 6\\nvalue = [6, 0]'),\n",
       " Text(0.04230222792941017, 0.69, 'gini = 0.0\\nsamples = 28\\nvalue = [28, 0]'),\n",
       " Text(0.04250826617807701, 0.73, 'x[1] <= 3285.0\\ngini = 0.375\\nsamples = 8\\nvalue = [6, 2]'),\n",
       " Text(0.042405247053743586, 0.71, 'gini = 0.0\\nsamples = 1\\nvalue = [0, 1]'),\n",
       " Text(0.04261128530241043, 0.71, 'x[1] <= 3559.5\\ngini = 0.245\\nsamples = 7\\nvalue = [6, 1]'),\n",
       " Text(0.04250826617807701, 0.69, 'gini = 0.0\\nsamples = 3\\nvalue = [3, 0]'),\n",
       " Text(0.04271430442674384, 0.69, 'x[1] <= 3687.0\\ngini = 0.375\\nsamples = 4\\nvalue = [3, 1]'),\n",
       " Text(0.04261128530241043, 0.67, 'gini = 0.0\\nsamples = 1\\nvalue = [0, 1]'),\n",
       " Text(0.042817323551077265, 0.67, 'gini = 0.0\\nsamples = 3\\nvalue = [3, 0]'),\n",
       " Text(0.0424567566159103, 0.75, 'gini = 0.0\\nsamples = 2\\nvalue = [0, 2]'),\n",
       " Text(0.04754654522750828, 0.77, 'x[5] <= 0.5\\ngini = 0.444\\nsamples = 255\\nvalue = [170, 85]'),\n",
       " Text(0.04585638771891312, 0.75, 'x[1] <= 3453.5\\ngini = 0.417\\nsamples = 199\\nvalue = [140, 59]'),\n",
       " Text(0.04487770603774564, 0.73, 'x[1] <= 1084.5\\ngini = 0.392\\nsamples = 179\\nvalue = [131, 48]'),\n",
       " Text(0.0439891660903699, 0.71, 'x[1] <= 490.5\\ngini = 0.48\\nsamples = 65\\nvalue = [39, 26]'),\n",
       " Text(0.04312638092407752, 0.69, 'x[0] <= 28.5\\ngini = 0.32\\nsamples = 30\\nvalue = [24, 6]'),\n",
       " Text(0.0430233617997441, 0.67, 'gini = 0.0\\nsamples = 8\\nvalue = [8, 0]'),\n",
       " Text(0.04322940004841094, 0.67, 'x[0] <= 29.5\\ngini = 0.397\\nsamples = 22\\nvalue = [16, 6]'),\n",
       " Text(0.04297185223757739, 0.65, 'x[1] <= 337.5\\ngini = 0.444\\nsamples = 3\\nvalue = [1, 2]'),\n",
       " Text(0.04286883311324397, 0.63, 'gini = 0.0\\nsamples = 2\\nvalue = [0, 2]'),\n",
       " Text(0.043074871361910815, 0.63, 'gini = 0.0\\nsamples = 1\\nvalue = [1, 0]'),\n",
       " ...]"
      ]
     },
     "execution_count": 92,
     "metadata": {},
     "output_type": "execute_result"
    },
    {
     "name": "stdout",
     "output_type": "stream",
     "text": [
      "Error in callback <function flush_figures at 0x000002392D34C400> (for post_execute):\n"
     ]
    },
    {
     "name": "stderr",
     "output_type": "stream",
     "text": [
      "\n",
      "KeyboardInterrupt\n",
      "\n"
     ]
    }
   ],
   "source": [
    "plot_tree(dt)"
   ]
  },
  {
   "cell_type": "code",
   "execution_count": null,
   "id": "f82c6b2b-5c2f-4964-ac5c-33bdeec8e38e",
   "metadata": {},
   "outputs": [],
   "source": [
    "## classification_report , confusion matrix \n",
    "## prediction  , model save "
   ]
  },
  {
   "cell_type": "code",
   "execution_count": null,
   "id": "0e0a1960-86f4-4fe0-8a5e-8808db78309b",
   "metadata": {},
   "outputs": [],
   "source": [
    "## RANDOM FOREST "
   ]
  },
  {
   "cell_type": "code",
   "execution_count": 93,
   "id": "6dc0e783-0870-44ca-9b63-8b819ae5e687",
   "metadata": {},
   "outputs": [],
   "source": [
    "from sklearn.ensemble import  RandomForestClassifier"
   ]
  },
  {
   "cell_type": "code",
   "execution_count": 94,
   "id": "c4e76a2b-6d68-4e5e-beef-b3d78cfc0eeb",
   "metadata": {},
   "outputs": [],
   "source": [
    "rdf = RandomForestClassifier()"
   ]
  },
  {
   "cell_type": "code",
   "execution_count": 99,
   "id": "d73fcc32-dc21-4b0c-afa3-6dcc2099dd53",
   "metadata": {},
   "outputs": [],
   "source": [
    "rdf2 = RandomForestClassifier(max_depth=8,min_samples_split=55,min_samples_leaf=25)"
   ]
  },
  {
   "cell_type": "code",
   "execution_count": 100,
   "id": "728aab29-3f8d-4eef-b2ab-e204bccddc8f",
   "metadata": {},
   "outputs": [
    {
     "name": "stderr",
     "output_type": "stream",
     "text": [
      "C:\\Users\\Ranjit\\AppData\\Local\\Programs\\Python\\Python311\\Lib\\site-packages\\sklearn\\base.py:1152: DataConversionWarning: A column-vector y was passed when a 1d array was expected. Please change the shape of y to (n_samples,), for example using ravel().\n",
      "  return fit_method(estimator, *args, **kwargs)\n",
      "C:\\Users\\Ranjit\\AppData\\Local\\Programs\\Python\\Python311\\Lib\\site-packages\\sklearn\\base.py:1152: DataConversionWarning: A column-vector y was passed when a 1d array was expected. Please change the shape of y to (n_samples,), for example using ravel().\n",
      "  return fit_method(estimator, *args, **kwargs)\n"
     ]
    },
    {
     "data": {
      "text/html": [
       "<style>#sk-container-id-3 {color: black;}#sk-container-id-3 pre{padding: 0;}#sk-container-id-3 div.sk-toggleable {background-color: white;}#sk-container-id-3 label.sk-toggleable__label {cursor: pointer;display: block;width: 100%;margin-bottom: 0;padding: 0.3em;box-sizing: border-box;text-align: center;}#sk-container-id-3 label.sk-toggleable__label-arrow:before {content: \"▸\";float: left;margin-right: 0.25em;color: #696969;}#sk-container-id-3 label.sk-toggleable__label-arrow:hover:before {color: black;}#sk-container-id-3 div.sk-estimator:hover label.sk-toggleable__label-arrow:before {color: black;}#sk-container-id-3 div.sk-toggleable__content {max-height: 0;max-width: 0;overflow: hidden;text-align: left;background-color: #f0f8ff;}#sk-container-id-3 div.sk-toggleable__content pre {margin: 0.2em;color: black;border-radius: 0.25em;background-color: #f0f8ff;}#sk-container-id-3 input.sk-toggleable__control:checked~div.sk-toggleable__content {max-height: 200px;max-width: 100%;overflow: auto;}#sk-container-id-3 input.sk-toggleable__control:checked~label.sk-toggleable__label-arrow:before {content: \"▾\";}#sk-container-id-3 div.sk-estimator input.sk-toggleable__control:checked~label.sk-toggleable__label {background-color: #d4ebff;}#sk-container-id-3 div.sk-label input.sk-toggleable__control:checked~label.sk-toggleable__label {background-color: #d4ebff;}#sk-container-id-3 input.sk-hidden--visually {border: 0;clip: rect(1px 1px 1px 1px);clip: rect(1px, 1px, 1px, 1px);height: 1px;margin: -1px;overflow: hidden;padding: 0;position: absolute;width: 1px;}#sk-container-id-3 div.sk-estimator {font-family: monospace;background-color: #f0f8ff;border: 1px dotted black;border-radius: 0.25em;box-sizing: border-box;margin-bottom: 0.5em;}#sk-container-id-3 div.sk-estimator:hover {background-color: #d4ebff;}#sk-container-id-3 div.sk-parallel-item::after {content: \"\";width: 100%;border-bottom: 1px solid gray;flex-grow: 1;}#sk-container-id-3 div.sk-label:hover label.sk-toggleable__label {background-color: #d4ebff;}#sk-container-id-3 div.sk-serial::before {content: \"\";position: absolute;border-left: 1px solid gray;box-sizing: border-box;top: 0;bottom: 0;left: 50%;z-index: 0;}#sk-container-id-3 div.sk-serial {display: flex;flex-direction: column;align-items: center;background-color: white;padding-right: 0.2em;padding-left: 0.2em;position: relative;}#sk-container-id-3 div.sk-item {position: relative;z-index: 1;}#sk-container-id-3 div.sk-parallel {display: flex;align-items: stretch;justify-content: center;background-color: white;position: relative;}#sk-container-id-3 div.sk-item::before, #sk-container-id-3 div.sk-parallel-item::before {content: \"\";position: absolute;border-left: 1px solid gray;box-sizing: border-box;top: 0;bottom: 0;left: 50%;z-index: -1;}#sk-container-id-3 div.sk-parallel-item {display: flex;flex-direction: column;z-index: 1;position: relative;background-color: white;}#sk-container-id-3 div.sk-parallel-item:first-child::after {align-self: flex-end;width: 50%;}#sk-container-id-3 div.sk-parallel-item:last-child::after {align-self: flex-start;width: 50%;}#sk-container-id-3 div.sk-parallel-item:only-child::after {width: 0;}#sk-container-id-3 div.sk-dashed-wrapped {border: 1px dashed gray;margin: 0 0.4em 0.5em 0.4em;box-sizing: border-box;padding-bottom: 0.4em;background-color: white;}#sk-container-id-3 div.sk-label label {font-family: monospace;font-weight: bold;display: inline-block;line-height: 1.2em;}#sk-container-id-3 div.sk-label-container {text-align: center;}#sk-container-id-3 div.sk-container {/* jupyter's `normalize.less` sets `[hidden] { display: none; }` but bootstrap.min.css set `[hidden] { display: none !important; }` so we also need the `!important` here to be able to override the default hidden behavior on the sphinx rendered scikit-learn.org. See: https://github.com/scikit-learn/scikit-learn/issues/21755 */display: inline-block !important;position: relative;}#sk-container-id-3 div.sk-text-repr-fallback {display: none;}</style><div id=\"sk-container-id-3\" class=\"sk-top-container\"><div class=\"sk-text-repr-fallback\"><pre>RandomForestClassifier(max_depth=8, min_samples_leaf=25, min_samples_split=55)</pre><b>In a Jupyter environment, please rerun this cell to show the HTML representation or trust the notebook. <br />On GitHub, the HTML representation is unable to render, please try loading this page with nbviewer.org.</b></div><div class=\"sk-container\" hidden><div class=\"sk-item\"><div class=\"sk-estimator sk-toggleable\"><input class=\"sk-toggleable__control sk-hidden--visually\" id=\"sk-estimator-id-3\" type=\"checkbox\" checked><label for=\"sk-estimator-id-3\" class=\"sk-toggleable__label sk-toggleable__label-arrow\">RandomForestClassifier</label><div class=\"sk-toggleable__content\"><pre>RandomForestClassifier(max_depth=8, min_samples_leaf=25, min_samples_split=55)</pre></div></div></div></div></div>"
      ],
      "text/plain": [
       "RandomForestClassifier(max_depth=8, min_samples_leaf=25, min_samples_split=55)"
      ]
     },
     "execution_count": 100,
     "metadata": {},
     "output_type": "execute_result"
    }
   ],
   "source": [
    "rdf.fit(x_train,y_train)\n",
    "rdf2.fit(x_train,y_train)\n"
   ]
  },
  {
   "cell_type": "code",
   "execution_count": 102,
   "id": "0cda45b4-a802-4cb3-9b64-7ebc811b2acb",
   "metadata": {},
   "outputs": [
    {
     "name": "stdout",
     "output_type": "stream",
     "text": [
      "0.9996132322902692\n",
      "0.8720812182741117\n",
      "\n",
      "0.8758475651764024\n",
      "0.8772540488276529\n"
     ]
    }
   ],
   "source": [
    "print(rdf.score(x_train,y_train))\n",
    "print(rdf.score(x_test,y_test))\n",
    "\n",
    "print()\n",
    "print(rdf2.score(x_train,y_train))\n",
    "print(rdf2.score(x_test,y_test))"
   ]
  },
  {
   "cell_type": "code",
   "execution_count": null,
   "id": "027060f6-07e5-47ab-9d7a-cd218aafdba0",
   "metadata": {},
   "outputs": [],
   "source": []
  }
 ],
 "metadata": {
  "kernelspec": {
   "display_name": "Python 3 (ipykernel)",
   "language": "python",
   "name": "python3"
  },
  "language_info": {
   "codemirror_mode": {
    "name": "ipython",
    "version": 3
   },
   "file_extension": ".py",
   "mimetype": "text/x-python",
   "name": "python",
   "nbconvert_exporter": "python",
   "pygments_lexer": "ipython3",
   "version": "3.11.5"
  }
 },
 "nbformat": 4,
 "nbformat_minor": 5
}
