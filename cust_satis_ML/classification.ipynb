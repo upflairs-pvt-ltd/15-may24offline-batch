{
 "cells": [
  {
   "cell_type": "code",
   "execution_count": 53,
   "id": "f8962700-dee6-445f-9d8f-77274d6c922b",
   "metadata": {},
   "outputs": [],
   "source": [
    "import pandas as pd "
   ]
  },
  {
   "cell_type": "code",
   "execution_count": 54,
   "id": "bb324510-fea4-4fb6-97a4-fd7af23d8961",
   "metadata": {},
   "outputs": [
    {
     "data": {
      "text/html": [
       "<div>\n",
       "<style scoped>\n",
       "    .dataframe tbody tr th:only-of-type {\n",
       "        vertical-align: middle;\n",
       "    }\n",
       "\n",
       "    .dataframe tbody tr th {\n",
       "        vertical-align: top;\n",
       "    }\n",
       "\n",
       "    .dataframe thead th {\n",
       "        text-align: right;\n",
       "    }\n",
       "</style>\n",
       "<table border=\"1\" class=\"dataframe\">\n",
       "  <thead>\n",
       "    <tr style=\"text-align: right;\">\n",
       "      <th></th>\n",
       "      <th>Gender</th>\n",
       "      <th>Customer Type</th>\n",
       "      <th>Type of Travel</th>\n",
       "      <th>Class</th>\n",
       "      <th>satisfaction</th>\n",
       "      <th>Age</th>\n",
       "      <th>Flight Distance</th>\n",
       "      <th>Inflight entertainment</th>\n",
       "      <th>Baggage handling</th>\n",
       "      <th>Cleanliness</th>\n",
       "      <th>Departure Delay in Minutes</th>\n",
       "      <th>Arrival Delay in Minutes</th>\n",
       "    </tr>\n",
       "  </thead>\n",
       "  <tbody>\n",
       "    <tr>\n",
       "      <th>0</th>\n",
       "      <td>Male</td>\n",
       "      <td>Loyal Customer</td>\n",
       "      <td>Personal Travel</td>\n",
       "      <td>Eco Plus</td>\n",
       "      <td>neutral or dissatisfied</td>\n",
       "      <td>13</td>\n",
       "      <td>460</td>\n",
       "      <td>5</td>\n",
       "      <td>4</td>\n",
       "      <td>5</td>\n",
       "      <td>25</td>\n",
       "      <td>18.0</td>\n",
       "    </tr>\n",
       "    <tr>\n",
       "      <th>1</th>\n",
       "      <td>Male</td>\n",
       "      <td>disloyal Customer</td>\n",
       "      <td>Business travel</td>\n",
       "      <td>Business</td>\n",
       "      <td>neutral or dissatisfied</td>\n",
       "      <td>25</td>\n",
       "      <td>235</td>\n",
       "      <td>1</td>\n",
       "      <td>3</td>\n",
       "      <td>1</td>\n",
       "      <td>1</td>\n",
       "      <td>6.0</td>\n",
       "    </tr>\n",
       "    <tr>\n",
       "      <th>2</th>\n",
       "      <td>Female</td>\n",
       "      <td>Loyal Customer</td>\n",
       "      <td>Business travel</td>\n",
       "      <td>Business</td>\n",
       "      <td>satisfied</td>\n",
       "      <td>26</td>\n",
       "      <td>1142</td>\n",
       "      <td>5</td>\n",
       "      <td>4</td>\n",
       "      <td>5</td>\n",
       "      <td>0</td>\n",
       "      <td>0.0</td>\n",
       "    </tr>\n",
       "    <tr>\n",
       "      <th>3</th>\n",
       "      <td>Female</td>\n",
       "      <td>Loyal Customer</td>\n",
       "      <td>Business travel</td>\n",
       "      <td>Business</td>\n",
       "      <td>neutral or dissatisfied</td>\n",
       "      <td>25</td>\n",
       "      <td>562</td>\n",
       "      <td>2</td>\n",
       "      <td>3</td>\n",
       "      <td>2</td>\n",
       "      <td>11</td>\n",
       "      <td>9.0</td>\n",
       "    </tr>\n",
       "    <tr>\n",
       "      <th>4</th>\n",
       "      <td>Male</td>\n",
       "      <td>Loyal Customer</td>\n",
       "      <td>Business travel</td>\n",
       "      <td>Business</td>\n",
       "      <td>satisfied</td>\n",
       "      <td>61</td>\n",
       "      <td>214</td>\n",
       "      <td>3</td>\n",
       "      <td>4</td>\n",
       "      <td>3</td>\n",
       "      <td>0</td>\n",
       "      <td>0.0</td>\n",
       "    </tr>\n",
       "  </tbody>\n",
       "</table>\n",
       "</div>"
      ],
      "text/plain": [
       "   Gender      Customer Type   Type of Travel     Class  \\\n",
       "0    Male     Loyal Customer  Personal Travel  Eco Plus   \n",
       "1    Male  disloyal Customer  Business travel  Business   \n",
       "2  Female     Loyal Customer  Business travel  Business   \n",
       "3  Female     Loyal Customer  Business travel  Business   \n",
       "4    Male     Loyal Customer  Business travel  Business   \n",
       "\n",
       "              satisfaction  Age  Flight Distance  Inflight entertainment  \\\n",
       "0  neutral or dissatisfied   13              460                       5   \n",
       "1  neutral or dissatisfied   25              235                       1   \n",
       "2                satisfied   26             1142                       5   \n",
       "3  neutral or dissatisfied   25              562                       2   \n",
       "4                satisfied   61              214                       3   \n",
       "\n",
       "   Baggage handling  Cleanliness  Departure Delay in Minutes  \\\n",
       "0                 4            5                          25   \n",
       "1                 3            1                           1   \n",
       "2                 4            5                           0   \n",
       "3                 3            2                          11   \n",
       "4                 4            3                           0   \n",
       "\n",
       "   Arrival Delay in Minutes  \n",
       "0                      18.0  \n",
       "1                       6.0  \n",
       "2                       0.0  \n",
       "3                       9.0  \n",
       "4                       0.0  "
      ]
     },
     "execution_count": 54,
     "metadata": {},
     "output_type": "execute_result"
    }
   ],
   "source": [
    "df = pd.read_csv('cust_satisfaction.csv')\n",
    "df.head()"
   ]
  },
  {
   "cell_type": "code",
   "execution_count": 55,
   "id": "fbd5b76f-3c98-4d33-8433-57461451c6a9",
   "metadata": {},
   "outputs": [
    {
     "data": {
      "text/plain": [
       "satisfaction\n",
       "neutral or dissatisfied    58879\n",
       "satisfied                  45025\n",
       "Name: count, dtype: int64"
      ]
     },
     "execution_count": 55,
     "metadata": {},
     "output_type": "execute_result"
    }
   ],
   "source": [
    "df['satisfaction'].value_counts()"
   ]
  },
  {
   "cell_type": "code",
   "execution_count": 56,
   "id": "bd018921-1b1b-4ca4-a87b-02134f9d4ea0",
   "metadata": {},
   "outputs": [
    {
     "name": "stdout",
     "output_type": "stream",
     "text": [
      "<class 'pandas.core.frame.DataFrame'>\n",
      "RangeIndex: 103904 entries, 0 to 103903\n",
      "Data columns (total 12 columns):\n",
      " #   Column                      Non-Null Count   Dtype  \n",
      "---  ------                      --------------   -----  \n",
      " 0   Gender                      103904 non-null  object \n",
      " 1   Customer Type               103904 non-null  object \n",
      " 2   Type of Travel              103904 non-null  object \n",
      " 3   Class                       103904 non-null  object \n",
      " 4   satisfaction                103904 non-null  object \n",
      " 5   Age                         103904 non-null  int64  \n",
      " 6   Flight Distance             103904 non-null  int64  \n",
      " 7   Inflight entertainment      103904 non-null  int64  \n",
      " 8   Baggage handling            103904 non-null  int64  \n",
      " 9   Cleanliness                 103904 non-null  int64  \n",
      " 10  Departure Delay in Minutes  103904 non-null  int64  \n",
      " 11  Arrival Delay in Minutes    103594 non-null  float64\n",
      "dtypes: float64(1), int64(6), object(5)\n",
      "memory usage: 9.5+ MB\n"
     ]
    }
   ],
   "source": [
    "df.info() "
   ]
  },
  {
   "cell_type": "code",
   "execution_count": 57,
   "id": "1165d8a4-feb7-4182-abad-b60a912193dc",
   "metadata": {},
   "outputs": [
    {
     "data": {
      "text/plain": [
       "172"
      ]
     },
     "execution_count": 57,
     "metadata": {},
     "output_type": "execute_result"
    }
   ],
   "source": [
    "df.duplicated().sum() "
   ]
  },
  {
   "cell_type": "code",
   "execution_count": 58,
   "id": "cb3baba3-d366-4274-9784-7d61b46737be",
   "metadata": {},
   "outputs": [],
   "source": [
    "df.drop_duplicates(inplace=True) "
   ]
  },
  {
   "cell_type": "code",
   "execution_count": 59,
   "id": "0afa8799-cd39-4fee-9db4-4a3c44f587d9",
   "metadata": {},
   "outputs": [
    {
     "data": {
      "text/plain": [
       "0"
      ]
     },
     "execution_count": 59,
     "metadata": {},
     "output_type": "execute_result"
    }
   ],
   "source": [
    "df.duplicated().sum() \n"
   ]
  },
  {
   "cell_type": "code",
   "execution_count": 60,
   "id": "127330ad-bc35-42d8-861a-826957f29284",
   "metadata": {},
   "outputs": [
    {
     "data": {
      "text/plain": [
       "Gender                          0\n",
       "Customer Type                   0\n",
       "Type of Travel                  0\n",
       "Class                           0\n",
       "satisfaction                    0\n",
       "Age                             0\n",
       "Flight Distance                 0\n",
       "Inflight entertainment          0\n",
       "Baggage handling                0\n",
       "Cleanliness                     0\n",
       "Departure Delay in Minutes      0\n",
       "Arrival Delay in Minutes      310\n",
       "dtype: int64"
      ]
     },
     "execution_count": 60,
     "metadata": {},
     "output_type": "execute_result"
    }
   ],
   "source": [
    "df.isnull().sum()"
   ]
  },
  {
   "cell_type": "code",
   "execution_count": 61,
   "id": "cdc3c72e-8daa-4138-9d03-5ae1d0fc48c9",
   "metadata": {},
   "outputs": [
    {
     "data": {
      "text/plain": [
       "(103732, 12)"
      ]
     },
     "execution_count": 61,
     "metadata": {},
     "output_type": "execute_result"
    }
   ],
   "source": [
    "df.shape "
   ]
  },
  {
   "cell_type": "code",
   "execution_count": 62,
   "id": "1c750a5d-1fec-4474-9364-926dfa4b00d6",
   "metadata": {},
   "outputs": [],
   "source": [
    "df.dropna(inplace=True)   # each every row delete where the missing is present "
   ]
  },
  {
   "cell_type": "code",
   "execution_count": 63,
   "id": "f8ee70d9-3abd-4938-8253-d625220f472f",
   "metadata": {},
   "outputs": [
    {
     "data": {
      "text/plain": [
       "Gender                        0\n",
       "Customer Type                 0\n",
       "Type of Travel                0\n",
       "Class                         0\n",
       "satisfaction                  0\n",
       "Age                           0\n",
       "Flight Distance               0\n",
       "Inflight entertainment        0\n",
       "Baggage handling              0\n",
       "Cleanliness                   0\n",
       "Departure Delay in Minutes    0\n",
       "Arrival Delay in Minutes      0\n",
       "dtype: int64"
      ]
     },
     "execution_count": 63,
     "metadata": {},
     "output_type": "execute_result"
    }
   ],
   "source": [
    "df.isnull().sum()\n"
   ]
  },
  {
   "cell_type": "code",
   "execution_count": 64,
   "id": "ecaf9dc5-ca6d-4373-9330-7773d4599de3",
   "metadata": {},
   "outputs": [
    {
     "data": {
      "text/plain": [
       "satisfaction\n",
       "neutral or dissatisfied    58636\n",
       "satisfied                  44786\n",
       "Name: count, dtype: int64"
      ]
     },
     "execution_count": 64,
     "metadata": {},
     "output_type": "execute_result"
    }
   ],
   "source": [
    "df['satisfaction'].value_counts() "
   ]
  },
  {
   "cell_type": "code",
   "execution_count": 65,
   "id": "16fea2cc-c6c7-436b-a553-b6e25bf2cfd8",
   "metadata": {},
   "outputs": [
    {
     "data": {
      "text/plain": [
       "Type of Travel\n",
       "Business travel    71331\n",
       "Personal Travel    32091\n",
       "Name: count, dtype: int64"
      ]
     },
     "execution_count": 65,
     "metadata": {},
     "output_type": "execute_result"
    }
   ],
   "source": [
    "df['Type of Travel'].value_counts()"
   ]
  },
  {
   "cell_type": "code",
   "execution_count": 66,
   "id": "45b9bf87-768c-4d77-9736-e44ce04d7a14",
   "metadata": {},
   "outputs": [
    {
     "data": {
      "text/plain": [
       "Class\n",
       "Business    49423\n",
       "Eco         46532\n",
       "Eco Plus     7467\n",
       "Name: count, dtype: int64"
      ]
     },
     "execution_count": 66,
     "metadata": {},
     "output_type": "execute_result"
    }
   ],
   "source": [
    "df['Class'].value_counts()"
   ]
  },
  {
   "cell_type": "code",
   "execution_count": 67,
   "id": "8525a3e6-f1d4-470d-8bf9-5d667f67ff3e",
   "metadata": {},
   "outputs": [
    {
     "data": {
      "text/plain": [
       "5"
      ]
     },
     "execution_count": 67,
     "metadata": {},
     "output_type": "execute_result"
    }
   ],
   "source": [
    "df['Cleanliness'].max()"
   ]
  },
  {
   "cell_type": "code",
   "execution_count": 68,
   "id": "c85f6746-19d0-4435-b3c3-554a8526cd32",
   "metadata": {},
   "outputs": [
    {
     "data": {
      "text/html": [
       "<div>\n",
       "<style scoped>\n",
       "    .dataframe tbody tr th:only-of-type {\n",
       "        vertical-align: middle;\n",
       "    }\n",
       "\n",
       "    .dataframe tbody tr th {\n",
       "        vertical-align: top;\n",
       "    }\n",
       "\n",
       "    .dataframe thead th {\n",
       "        text-align: right;\n",
       "    }\n",
       "</style>\n",
       "<table border=\"1\" class=\"dataframe\">\n",
       "  <thead>\n",
       "    <tr style=\"text-align: right;\">\n",
       "      <th></th>\n",
       "      <th>Gender</th>\n",
       "      <th>Customer Type</th>\n",
       "      <th>Type of Travel</th>\n",
       "      <th>Class</th>\n",
       "      <th>satisfaction</th>\n",
       "      <th>Age</th>\n",
       "      <th>Flight Distance</th>\n",
       "      <th>Inflight entertainment</th>\n",
       "      <th>Baggage handling</th>\n",
       "      <th>Cleanliness</th>\n",
       "      <th>Departure Delay in Minutes</th>\n",
       "      <th>Arrival Delay in Minutes</th>\n",
       "    </tr>\n",
       "  </thead>\n",
       "  <tbody>\n",
       "    <tr>\n",
       "      <th>17</th>\n",
       "      <td>Male</td>\n",
       "      <td>Loyal Customer</td>\n",
       "      <td>Business travel</td>\n",
       "      <td>Business</td>\n",
       "      <td>satisfied</td>\n",
       "      <td>41</td>\n",
       "      <td>2075</td>\n",
       "      <td>5</td>\n",
       "      <td>5</td>\n",
       "      <td>5</td>\n",
       "      <td>0</td>\n",
       "      <td>10.0</td>\n",
       "    </tr>\n",
       "    <tr>\n",
       "      <th>36</th>\n",
       "      <td>Female</td>\n",
       "      <td>disloyal Customer</td>\n",
       "      <td>Business travel</td>\n",
       "      <td>Business</td>\n",
       "      <td>neutral or dissatisfied</td>\n",
       "      <td>34</td>\n",
       "      <td>883</td>\n",
       "      <td>5</td>\n",
       "      <td>5</td>\n",
       "      <td>5</td>\n",
       "      <td>0</td>\n",
       "      <td>0.0</td>\n",
       "    </tr>\n",
       "    <tr>\n",
       "      <th>45</th>\n",
       "      <td>Male</td>\n",
       "      <td>Loyal Customer</td>\n",
       "      <td>Business travel</td>\n",
       "      <td>Business</td>\n",
       "      <td>satisfied</td>\n",
       "      <td>29</td>\n",
       "      <td>529</td>\n",
       "      <td>5</td>\n",
       "      <td>5</td>\n",
       "      <td>5</td>\n",
       "      <td>4</td>\n",
       "      <td>0.0</td>\n",
       "    </tr>\n",
       "    <tr>\n",
       "      <th>56</th>\n",
       "      <td>Female</td>\n",
       "      <td>Loyal Customer</td>\n",
       "      <td>Business travel</td>\n",
       "      <td>Business</td>\n",
       "      <td>satisfied</td>\n",
       "      <td>57</td>\n",
       "      <td>2496</td>\n",
       "      <td>5</td>\n",
       "      <td>5</td>\n",
       "      <td>5</td>\n",
       "      <td>0</td>\n",
       "      <td>5.0</td>\n",
       "    </tr>\n",
       "    <tr>\n",
       "      <th>70</th>\n",
       "      <td>Female</td>\n",
       "      <td>Loyal Customer</td>\n",
       "      <td>Business travel</td>\n",
       "      <td>Business</td>\n",
       "      <td>satisfied</td>\n",
       "      <td>53</td>\n",
       "      <td>1506</td>\n",
       "      <td>5</td>\n",
       "      <td>5</td>\n",
       "      <td>5</td>\n",
       "      <td>0</td>\n",
       "      <td>0.0</td>\n",
       "    </tr>\n",
       "  </tbody>\n",
       "</table>\n",
       "</div>"
      ],
      "text/plain": [
       "    Gender      Customer Type   Type of Travel     Class  \\\n",
       "17    Male     Loyal Customer  Business travel  Business   \n",
       "36  Female  disloyal Customer  Business travel  Business   \n",
       "45    Male     Loyal Customer  Business travel  Business   \n",
       "56  Female     Loyal Customer  Business travel  Business   \n",
       "70  Female     Loyal Customer  Business travel  Business   \n",
       "\n",
       "               satisfaction  Age  Flight Distance  Inflight entertainment  \\\n",
       "17                satisfied   41             2075                       5   \n",
       "36  neutral or dissatisfied   34              883                       5   \n",
       "45                satisfied   29              529                       5   \n",
       "56                satisfied   57             2496                       5   \n",
       "70                satisfied   53             1506                       5   \n",
       "\n",
       "    Baggage handling  Cleanliness  Departure Delay in Minutes  \\\n",
       "17                 5            5                           0   \n",
       "36                 5            5                           0   \n",
       "45                 5            5                           4   \n",
       "56                 5            5                           0   \n",
       "70                 5            5                           0   \n",
       "\n",
       "    Arrival Delay in Minutes  \n",
       "17                      10.0  \n",
       "36                       0.0  \n",
       "45                       0.0  \n",
       "56                       5.0  \n",
       "70                       0.0  "
      ]
     },
     "execution_count": 68,
     "metadata": {},
     "output_type": "execute_result"
    }
   ],
   "source": [
    "df2  = df[(df['Inflight entertainment']==5)&(df['Cleanliness']==5)&(df['Baggage handling']==5)]\n",
    "df2.head()"
   ]
  },
  {
   "cell_type": "code",
   "execution_count": 69,
   "id": "ec610104-f4c6-46f0-bcd1-ea3f67f1d38a",
   "metadata": {},
   "outputs": [
    {
     "data": {
      "text/plain": [
       "(6729, 12)"
      ]
     },
     "execution_count": 69,
     "metadata": {},
     "output_type": "execute_result"
    }
   ],
   "source": [
    "df2.shape "
   ]
  },
  {
   "cell_type": "code",
   "execution_count": 70,
   "id": "b435e163-e1cb-42bb-8cfd-5296858dab2a",
   "metadata": {},
   "outputs": [
    {
     "data": {
      "text/plain": [
       "satisfaction\n",
       "satisfied                  4777\n",
       "neutral or dissatisfied    1952\n",
       "Name: count, dtype: int64"
      ]
     },
     "execution_count": 70,
     "metadata": {},
     "output_type": "execute_result"
    }
   ],
   "source": [
    "df2['satisfaction'].value_counts()"
   ]
  },
  {
   "cell_type": "code",
   "execution_count": 71,
   "id": "bf7f867a-4440-4e8c-bad0-e91ced337ab0",
   "metadata": {},
   "outputs": [
    {
     "data": {
      "text/plain": [
       "Customer Type\n",
       "Loyal Customer       5805\n",
       "disloyal Customer     924\n",
       "Name: count, dtype: int64"
      ]
     },
     "execution_count": 71,
     "metadata": {},
     "output_type": "execute_result"
    }
   ],
   "source": [
    "df2['Customer Type'].value_counts()\n"
   ]
  },
  {
   "cell_type": "code",
   "execution_count": 72,
   "id": "a2818f83-c5ef-4aa1-a5c9-8db0d4c7ea43",
   "metadata": {},
   "outputs": [
    {
     "data": {
      "text/plain": [
       "Customer Type\n",
       "Loyal Customer       42272\n",
       "disloyal Customer    10228\n",
       "Name: count, dtype: int64"
      ]
     },
     "execution_count": 72,
     "metadata": {},
     "output_type": "execute_result"
    }
   ],
   "source": [
    "df[df['Gender'] ==\"Female\"]['Customer Type'].value_counts()\n",
    "# data filter gender == female --> loyal or disloyal "
   ]
  },
  {
   "cell_type": "code",
   "execution_count": 73,
   "id": "04064e72-25a7-416b-8ea2-e5d4f01f8091",
   "metadata": {},
   "outputs": [
    {
     "data": {
      "text/plain": [
       "Customer Type\n",
       "Loyal Customer       42245\n",
       "disloyal Customer     8677\n",
       "Name: count, dtype: int64"
      ]
     },
     "execution_count": 73,
     "metadata": {},
     "output_type": "execute_result"
    }
   ],
   "source": [
    "df[df['Gender'] ==\"Male\"]['Customer Type'].value_counts()\n"
   ]
  },
  {
   "cell_type": "code",
   "execution_count": 74,
   "id": "b05c157b-4c42-45c3-bc5c-778422062a23",
   "metadata": {},
   "outputs": [],
   "source": [
    "df3 = df[(df['Gender'] == \"Female\" ) & (df['satisfaction']==\"satisfied\")]\n"
   ]
  },
  {
   "cell_type": "code",
   "execution_count": 75,
   "id": "633a6b75-bf75-4082-988b-98aa21a2b74e",
   "metadata": {},
   "outputs": [
    {
     "data": {
      "text/plain": [
       "(22415, 12)"
      ]
     },
     "execution_count": 75,
     "metadata": {},
     "output_type": "execute_result"
    }
   ],
   "source": [
    "df3.shape "
   ]
  },
  {
   "cell_type": "code",
   "execution_count": 76,
   "id": "8b68e226-fa17-4c89-a6ac-1dce42561316",
   "metadata": {},
   "outputs": [
    {
     "data": {
      "text/plain": [
       "Inflight entertainment\n",
       "4    8873\n",
       "5    8104\n",
       "3    2619\n",
       "2    1937\n",
       "1     882\n",
       "Name: count, dtype: int64"
      ]
     },
     "execution_count": 76,
     "metadata": {},
     "output_type": "execute_result"
    }
   ],
   "source": [
    "df3['Inflight entertainment'].value_counts()"
   ]
  },
  {
   "cell_type": "code",
   "execution_count": 77,
   "id": "0692accf-4e85-4a25-979b-de00d76bd50e",
   "metadata": {},
   "outputs": [],
   "source": [
    "# matplotlib and seaborn \n",
    "# auto eda --> pandas-profiling "
   ]
  },
  {
   "cell_type": "code",
   "execution_count": 78,
   "id": "9112fbde-0013-4068-9f40-81f5457dc6d7",
   "metadata": {},
   "outputs": [
    {
     "data": {
      "text/plain": [
       "Gender\n",
       "Female    52500\n",
       "Male      50922\n",
       "Name: count, dtype: int64"
      ]
     },
     "execution_count": 78,
     "metadata": {},
     "output_type": "execute_result"
    }
   ],
   "source": [
    "df['Gender'].value_counts()"
   ]
  },
  {
   "cell_type": "code",
   "execution_count": 92,
   "id": "d02c2468-d2b5-4de4-b224-8ec43d68f1f8",
   "metadata": {},
   "outputs": [
    {
     "data": {
      "text/html": [
       "<div>\n",
       "<style scoped>\n",
       "    .dataframe tbody tr th:only-of-type {\n",
       "        vertical-align: middle;\n",
       "    }\n",
       "\n",
       "    .dataframe tbody tr th {\n",
       "        vertical-align: top;\n",
       "    }\n",
       "\n",
       "    .dataframe thead th {\n",
       "        text-align: right;\n",
       "    }\n",
       "</style>\n",
       "<table border=\"1\" class=\"dataframe\">\n",
       "  <thead>\n",
       "    <tr style=\"text-align: right;\">\n",
       "      <th></th>\n",
       "      <th>Gender</th>\n",
       "      <th>Customer Type</th>\n",
       "      <th>Type of Travel</th>\n",
       "      <th>Class</th>\n",
       "      <th>satisfaction</th>\n",
       "      <th>Age</th>\n",
       "      <th>Flight Distance</th>\n",
       "      <th>Inflight entertainment</th>\n",
       "      <th>Baggage handling</th>\n",
       "      <th>Cleanliness</th>\n",
       "      <th>Departure Delay in Minutes</th>\n",
       "      <th>Arrival Delay in Minutes</th>\n",
       "    </tr>\n",
       "  </thead>\n",
       "  <tbody>\n",
       "    <tr>\n",
       "      <th>0</th>\n",
       "      <td>Male</td>\n",
       "      <td>Loyal Customer</td>\n",
       "      <td>Personal Travel</td>\n",
       "      <td>Eco Plus</td>\n",
       "      <td>neutral or dissatisfied</td>\n",
       "      <td>13</td>\n",
       "      <td>460</td>\n",
       "      <td>5</td>\n",
       "      <td>4</td>\n",
       "      <td>5</td>\n",
       "      <td>25</td>\n",
       "      <td>18.0</td>\n",
       "    </tr>\n",
       "    <tr>\n",
       "      <th>1</th>\n",
       "      <td>Male</td>\n",
       "      <td>disloyal Customer</td>\n",
       "      <td>Business travel</td>\n",
       "      <td>Business</td>\n",
       "      <td>neutral or dissatisfied</td>\n",
       "      <td>25</td>\n",
       "      <td>235</td>\n",
       "      <td>1</td>\n",
       "      <td>3</td>\n",
       "      <td>1</td>\n",
       "      <td>1</td>\n",
       "      <td>6.0</td>\n",
       "    </tr>\n",
       "    <tr>\n",
       "      <th>2</th>\n",
       "      <td>Female</td>\n",
       "      <td>Loyal Customer</td>\n",
       "      <td>Business travel</td>\n",
       "      <td>Business</td>\n",
       "      <td>satisfied</td>\n",
       "      <td>26</td>\n",
       "      <td>1142</td>\n",
       "      <td>5</td>\n",
       "      <td>4</td>\n",
       "      <td>5</td>\n",
       "      <td>0</td>\n",
       "      <td>0.0</td>\n",
       "    </tr>\n",
       "    <tr>\n",
       "      <th>3</th>\n",
       "      <td>Female</td>\n",
       "      <td>Loyal Customer</td>\n",
       "      <td>Business travel</td>\n",
       "      <td>Business</td>\n",
       "      <td>neutral or dissatisfied</td>\n",
       "      <td>25</td>\n",
       "      <td>562</td>\n",
       "      <td>2</td>\n",
       "      <td>3</td>\n",
       "      <td>2</td>\n",
       "      <td>11</td>\n",
       "      <td>9.0</td>\n",
       "    </tr>\n",
       "    <tr>\n",
       "      <th>4</th>\n",
       "      <td>Male</td>\n",
       "      <td>Loyal Customer</td>\n",
       "      <td>Business travel</td>\n",
       "      <td>Business</td>\n",
       "      <td>satisfied</td>\n",
       "      <td>61</td>\n",
       "      <td>214</td>\n",
       "      <td>3</td>\n",
       "      <td>4</td>\n",
       "      <td>3</td>\n",
       "      <td>0</td>\n",
       "      <td>0.0</td>\n",
       "    </tr>\n",
       "  </tbody>\n",
       "</table>\n",
       "</div>"
      ],
      "text/plain": [
       "   Gender      Customer Type   Type of Travel     Class  \\\n",
       "0    Male     Loyal Customer  Personal Travel  Eco Plus   \n",
       "1    Male  disloyal Customer  Business travel  Business   \n",
       "2  Female     Loyal Customer  Business travel  Business   \n",
       "3  Female     Loyal Customer  Business travel  Business   \n",
       "4    Male     Loyal Customer  Business travel  Business   \n",
       "\n",
       "              satisfaction  Age  Flight Distance  Inflight entertainment  \\\n",
       "0  neutral or dissatisfied   13              460                       5   \n",
       "1  neutral or dissatisfied   25              235                       1   \n",
       "2                satisfied   26             1142                       5   \n",
       "3  neutral or dissatisfied   25              562                       2   \n",
       "4                satisfied   61              214                       3   \n",
       "\n",
       "   Baggage handling  Cleanliness  Departure Delay in Minutes  \\\n",
       "0                 4            5                          25   \n",
       "1                 3            1                           1   \n",
       "2                 4            5                           0   \n",
       "3                 3            2                          11   \n",
       "4                 4            3                           0   \n",
       "\n",
       "   Arrival Delay in Minutes  \n",
       "0                      18.0  \n",
       "1                       6.0  \n",
       "2                       0.0  \n",
       "3                       9.0  \n",
       "4                       0.0  "
      ]
     },
     "execution_count": 92,
     "metadata": {},
     "output_type": "execute_result"
    }
   ],
   "source": [
    "df.head()"
   ]
  },
  {
   "cell_type": "code",
   "execution_count": 91,
   "id": "c4861be8-7f5f-4f21-8fce-34301286d2f2",
   "metadata": {},
   "outputs": [
    {
     "data": {
      "text/html": [
       "<div>\n",
       "<style scoped>\n",
       "    .dataframe tbody tr th:only-of-type {\n",
       "        vertical-align: middle;\n",
       "    }\n",
       "\n",
       "    .dataframe tbody tr th {\n",
       "        vertical-align: top;\n",
       "    }\n",
       "\n",
       "    .dataframe thead th {\n",
       "        text-align: right;\n",
       "    }\n",
       "</style>\n",
       "<table border=\"1\" class=\"dataframe\">\n",
       "  <thead>\n",
       "    <tr style=\"text-align: right;\">\n",
       "      <th></th>\n",
       "      <th>Age</th>\n",
       "      <th>Flight Distance</th>\n",
       "      <th>Inflight entertainment</th>\n",
       "      <th>Baggage handling</th>\n",
       "      <th>Cleanliness</th>\n",
       "      <th>Departure Delay in Minutes</th>\n",
       "      <th>Arrival Delay in Minutes</th>\n",
       "      <th>Gender_Male</th>\n",
       "      <th>Customer Type_disloyal Customer</th>\n",
       "      <th>Type of Travel_Personal Travel</th>\n",
       "      <th>Class_Eco</th>\n",
       "      <th>Class_Eco Plus</th>\n",
       "      <th>satisfaction_satisfied</th>\n",
       "    </tr>\n",
       "  </thead>\n",
       "  <tbody>\n",
       "    <tr>\n",
       "      <th>0</th>\n",
       "      <td>13</td>\n",
       "      <td>460</td>\n",
       "      <td>5</td>\n",
       "      <td>4</td>\n",
       "      <td>5</td>\n",
       "      <td>25</td>\n",
       "      <td>18</td>\n",
       "      <td>1</td>\n",
       "      <td>0</td>\n",
       "      <td>1</td>\n",
       "      <td>0</td>\n",
       "      <td>1</td>\n",
       "      <td>0</td>\n",
       "    </tr>\n",
       "    <tr>\n",
       "      <th>1</th>\n",
       "      <td>25</td>\n",
       "      <td>235</td>\n",
       "      <td>1</td>\n",
       "      <td>3</td>\n",
       "      <td>1</td>\n",
       "      <td>1</td>\n",
       "      <td>6</td>\n",
       "      <td>1</td>\n",
       "      <td>1</td>\n",
       "      <td>0</td>\n",
       "      <td>0</td>\n",
       "      <td>0</td>\n",
       "      <td>0</td>\n",
       "    </tr>\n",
       "    <tr>\n",
       "      <th>2</th>\n",
       "      <td>26</td>\n",
       "      <td>1142</td>\n",
       "      <td>5</td>\n",
       "      <td>4</td>\n",
       "      <td>5</td>\n",
       "      <td>0</td>\n",
       "      <td>0</td>\n",
       "      <td>0</td>\n",
       "      <td>0</td>\n",
       "      <td>0</td>\n",
       "      <td>0</td>\n",
       "      <td>0</td>\n",
       "      <td>1</td>\n",
       "    </tr>\n",
       "    <tr>\n",
       "      <th>3</th>\n",
       "      <td>25</td>\n",
       "      <td>562</td>\n",
       "      <td>2</td>\n",
       "      <td>3</td>\n",
       "      <td>2</td>\n",
       "      <td>11</td>\n",
       "      <td>9</td>\n",
       "      <td>0</td>\n",
       "      <td>0</td>\n",
       "      <td>0</td>\n",
       "      <td>0</td>\n",
       "      <td>0</td>\n",
       "      <td>0</td>\n",
       "    </tr>\n",
       "    <tr>\n",
       "      <th>4</th>\n",
       "      <td>61</td>\n",
       "      <td>214</td>\n",
       "      <td>3</td>\n",
       "      <td>4</td>\n",
       "      <td>3</td>\n",
       "      <td>0</td>\n",
       "      <td>0</td>\n",
       "      <td>1</td>\n",
       "      <td>0</td>\n",
       "      <td>0</td>\n",
       "      <td>0</td>\n",
       "      <td>0</td>\n",
       "      <td>1</td>\n",
       "    </tr>\n",
       "  </tbody>\n",
       "</table>\n",
       "</div>"
      ],
      "text/plain": [
       "   Age  Flight Distance  Inflight entertainment  Baggage handling  \\\n",
       "0   13              460                       5                 4   \n",
       "1   25              235                       1                 3   \n",
       "2   26             1142                       5                 4   \n",
       "3   25              562                       2                 3   \n",
       "4   61              214                       3                 4   \n",
       "\n",
       "   Cleanliness  Departure Delay in Minutes  Arrival Delay in Minutes  \\\n",
       "0            5                          25                        18   \n",
       "1            1                           1                         6   \n",
       "2            5                           0                         0   \n",
       "3            2                          11                         9   \n",
       "4            3                           0                         0   \n",
       "\n",
       "   Gender_Male  Customer Type_disloyal Customer  \\\n",
       "0            1                                0   \n",
       "1            1                                1   \n",
       "2            0                                0   \n",
       "3            0                                0   \n",
       "4            1                                0   \n",
       "\n",
       "   Type of Travel_Personal Travel  Class_Eco  Class_Eco Plus  \\\n",
       "0                               1          0               1   \n",
       "1                               0          0               0   \n",
       "2                               0          0               0   \n",
       "3                               0          0               0   \n",
       "4                               0          0               0   \n",
       "\n",
       "   satisfaction_satisfied  \n",
       "0                       0  \n",
       "1                       0  \n",
       "2                       1  \n",
       "3                       0  \n",
       "4                       1  "
      ]
     },
     "execution_count": 91,
     "metadata": {},
     "output_type": "execute_result"
    }
   ],
   "source": [
    "df3 = pd.get_dummies(df,drop_first=\"if_binary\").astype(int)\n",
    "df3.head()"
   ]
  },
  {
   "cell_type": "code",
   "execution_count": 93,
   "id": "0470bea3-55ab-48b5-82b2-5d0909d92a89",
   "metadata": {},
   "outputs": [
    {
     "data": {
      "text/plain": [
       "Age                                0\n",
       "Flight Distance                    0\n",
       "Inflight entertainment             0\n",
       "Baggage handling                   0\n",
       "Cleanliness                        0\n",
       "Departure Delay in Minutes         0\n",
       "Arrival Delay in Minutes           0\n",
       "Gender_Male                        0\n",
       "Customer Type_disloyal Customer    0\n",
       "Type of Travel_Personal Travel     0\n",
       "Class_Eco                          0\n",
       "Class_Eco Plus                     0\n",
       "satisfaction_satisfied             0\n",
       "dtype: int64"
      ]
     },
     "execution_count": 93,
     "metadata": {},
     "output_type": "execute_result"
    }
   ],
   "source": [
    "df3.isnull().sum()"
   ]
  },
  {
   "cell_type": "code",
   "execution_count": 99,
   "id": "f296cdbb-a85e-49ab-9e3d-4f1e70e9aa71",
   "metadata": {},
   "outputs": [],
   "source": [
    "## independent variable or dependent variables  ( X or Y)\n",
    "\n",
    "x = df3.drop('satisfaction_satisfied',axis=1)\n",
    "y = df3[['satisfaction_satisfied']]"
   ]
  },
  {
   "cell_type": "code",
   "execution_count": 100,
   "id": "440d57f4-d0b2-4466-b05c-a61642bc6699",
   "metadata": {},
   "outputs": [],
   "source": [
    "# train test split \n",
    "from sklearn.model_selection import train_test_split "
   ]
  },
  {
   "cell_type": "code",
   "execution_count": 101,
   "id": "98af6568-a87a-47b0-9a3a-cad5dc3271e7",
   "metadata": {},
   "outputs": [],
   "source": [
    "x_train,x_test , y_train, y_test = train_test_split(x,y,test_size=0.2)"
   ]
  },
  {
   "cell_type": "code",
   "execution_count": 105,
   "id": "8c106abc-77eb-424d-837e-0e7d95bb68cb",
   "metadata": {},
   "outputs": [],
   "source": [
    "## MODEL TRAINING \n",
    "# !pip install scikit-learn  \n",
    "from sklearn.linear_model import LogisticRegression "
   ]
  },
  {
   "cell_type": "code",
   "execution_count": 106,
   "id": "0fc1a6fd-d243-4935-96f6-d9d168a7cbb2",
   "metadata": {},
   "outputs": [],
   "source": [
    "lg = LogisticRegression()"
   ]
  },
  {
   "cell_type": "code",
   "execution_count": 107,
   "id": "411fd6bb-bc8a-4a07-812b-2aa8eed264c2",
   "metadata": {},
   "outputs": [
    {
     "name": "stderr",
     "output_type": "stream",
     "text": [
      "C:\\Users\\Ranjit\\AppData\\Local\\Programs\\Python\\Python311\\Lib\\site-packages\\sklearn\\utils\\validation.py:1183: DataConversionWarning: A column-vector y was passed when a 1d array was expected. Please change the shape of y to (n_samples, ), for example using ravel().\n",
      "  y = column_or_1d(y, warn=True)\n",
      "C:\\Users\\Ranjit\\AppData\\Local\\Programs\\Python\\Python311\\Lib\\site-packages\\sklearn\\linear_model\\_logistic.py:460: ConvergenceWarning: lbfgs failed to converge (status=1):\n",
      "STOP: TOTAL NO. of ITERATIONS REACHED LIMIT.\n",
      "\n",
      "Increase the number of iterations (max_iter) or scale the data as shown in:\n",
      "    https://scikit-learn.org/stable/modules/preprocessing.html\n",
      "Please also refer to the documentation for alternative solver options:\n",
      "    https://scikit-learn.org/stable/modules/linear_model.html#logistic-regression\n",
      "  n_iter_i = _check_optimize_result(\n"
     ]
    },
    {
     "data": {
      "text/html": [
       "<style>#sk-container-id-1 {color: black;}#sk-container-id-1 pre{padding: 0;}#sk-container-id-1 div.sk-toggleable {background-color: white;}#sk-container-id-1 label.sk-toggleable__label {cursor: pointer;display: block;width: 100%;margin-bottom: 0;padding: 0.3em;box-sizing: border-box;text-align: center;}#sk-container-id-1 label.sk-toggleable__label-arrow:before {content: \"▸\";float: left;margin-right: 0.25em;color: #696969;}#sk-container-id-1 label.sk-toggleable__label-arrow:hover:before {color: black;}#sk-container-id-1 div.sk-estimator:hover label.sk-toggleable__label-arrow:before {color: black;}#sk-container-id-1 div.sk-toggleable__content {max-height: 0;max-width: 0;overflow: hidden;text-align: left;background-color: #f0f8ff;}#sk-container-id-1 div.sk-toggleable__content pre {margin: 0.2em;color: black;border-radius: 0.25em;background-color: #f0f8ff;}#sk-container-id-1 input.sk-toggleable__control:checked~div.sk-toggleable__content {max-height: 200px;max-width: 100%;overflow: auto;}#sk-container-id-1 input.sk-toggleable__control:checked~label.sk-toggleable__label-arrow:before {content: \"▾\";}#sk-container-id-1 div.sk-estimator input.sk-toggleable__control:checked~label.sk-toggleable__label {background-color: #d4ebff;}#sk-container-id-1 div.sk-label input.sk-toggleable__control:checked~label.sk-toggleable__label {background-color: #d4ebff;}#sk-container-id-1 input.sk-hidden--visually {border: 0;clip: rect(1px 1px 1px 1px);clip: rect(1px, 1px, 1px, 1px);height: 1px;margin: -1px;overflow: hidden;padding: 0;position: absolute;width: 1px;}#sk-container-id-1 div.sk-estimator {font-family: monospace;background-color: #f0f8ff;border: 1px dotted black;border-radius: 0.25em;box-sizing: border-box;margin-bottom: 0.5em;}#sk-container-id-1 div.sk-estimator:hover {background-color: #d4ebff;}#sk-container-id-1 div.sk-parallel-item::after {content: \"\";width: 100%;border-bottom: 1px solid gray;flex-grow: 1;}#sk-container-id-1 div.sk-label:hover label.sk-toggleable__label {background-color: #d4ebff;}#sk-container-id-1 div.sk-serial::before {content: \"\";position: absolute;border-left: 1px solid gray;box-sizing: border-box;top: 0;bottom: 0;left: 50%;z-index: 0;}#sk-container-id-1 div.sk-serial {display: flex;flex-direction: column;align-items: center;background-color: white;padding-right: 0.2em;padding-left: 0.2em;position: relative;}#sk-container-id-1 div.sk-item {position: relative;z-index: 1;}#sk-container-id-1 div.sk-parallel {display: flex;align-items: stretch;justify-content: center;background-color: white;position: relative;}#sk-container-id-1 div.sk-item::before, #sk-container-id-1 div.sk-parallel-item::before {content: \"\";position: absolute;border-left: 1px solid gray;box-sizing: border-box;top: 0;bottom: 0;left: 50%;z-index: -1;}#sk-container-id-1 div.sk-parallel-item {display: flex;flex-direction: column;z-index: 1;position: relative;background-color: white;}#sk-container-id-1 div.sk-parallel-item:first-child::after {align-self: flex-end;width: 50%;}#sk-container-id-1 div.sk-parallel-item:last-child::after {align-self: flex-start;width: 50%;}#sk-container-id-1 div.sk-parallel-item:only-child::after {width: 0;}#sk-container-id-1 div.sk-dashed-wrapped {border: 1px dashed gray;margin: 0 0.4em 0.5em 0.4em;box-sizing: border-box;padding-bottom: 0.4em;background-color: white;}#sk-container-id-1 div.sk-label label {font-family: monospace;font-weight: bold;display: inline-block;line-height: 1.2em;}#sk-container-id-1 div.sk-label-container {text-align: center;}#sk-container-id-1 div.sk-container {/* jupyter's `normalize.less` sets `[hidden] { display: none; }` but bootstrap.min.css set `[hidden] { display: none !important; }` so we also need the `!important` here to be able to override the default hidden behavior on the sphinx rendered scikit-learn.org. See: https://github.com/scikit-learn/scikit-learn/issues/21755 */display: inline-block !important;position: relative;}#sk-container-id-1 div.sk-text-repr-fallback {display: none;}</style><div id=\"sk-container-id-1\" class=\"sk-top-container\"><div class=\"sk-text-repr-fallback\"><pre>LogisticRegression()</pre><b>In a Jupyter environment, please rerun this cell to show the HTML representation or trust the notebook. <br />On GitHub, the HTML representation is unable to render, please try loading this page with nbviewer.org.</b></div><div class=\"sk-container\" hidden><div class=\"sk-item\"><div class=\"sk-estimator sk-toggleable\"><input class=\"sk-toggleable__control sk-hidden--visually\" id=\"sk-estimator-id-1\" type=\"checkbox\" checked><label for=\"sk-estimator-id-1\" class=\"sk-toggleable__label sk-toggleable__label-arrow\">LogisticRegression</label><div class=\"sk-toggleable__content\"><pre>LogisticRegression()</pre></div></div></div></div></div>"
      ],
      "text/plain": [
       "LogisticRegression()"
      ]
     },
     "execution_count": 107,
     "metadata": {},
     "output_type": "execute_result"
    }
   ],
   "source": [
    "## model trainer \n",
    "lg.fit(x_train,y_train)\n"
   ]
  },
  {
   "cell_type": "code",
   "execution_count": 112,
   "id": "d0236a66-ec9e-4e2f-a14b-3c2291c9a1c2",
   "metadata": {},
   "outputs": [
    {
     "name": "stdout",
     "output_type": "stream",
     "text": [
      "Training score :  80.0\n",
      "Testing score :  80.0\n"
     ]
    },
    {
     "data": {
      "text/html": [
       "<div>\n",
       "<style scoped>\n",
       "    .dataframe tbody tr th:only-of-type {\n",
       "        vertical-align: middle;\n",
       "    }\n",
       "\n",
       "    .dataframe tbody tr th {\n",
       "        vertical-align: top;\n",
       "    }\n",
       "\n",
       "    .dataframe thead th {\n",
       "        text-align: right;\n",
       "    }\n",
       "</style>\n",
       "<table border=\"1\" class=\"dataframe\">\n",
       "  <thead>\n",
       "    <tr style=\"text-align: right;\">\n",
       "      <th></th>\n",
       "      <th>satisfaction_satisfied</th>\n",
       "      <th>satisfaction_prediction</th>\n",
       "    </tr>\n",
       "  </thead>\n",
       "  <tbody>\n",
       "    <tr>\n",
       "      <th>1770</th>\n",
       "      <td>0</td>\n",
       "      <td>0</td>\n",
       "    </tr>\n",
       "    <tr>\n",
       "      <th>43867</th>\n",
       "      <td>0</td>\n",
       "      <td>1</td>\n",
       "    </tr>\n",
       "    <tr>\n",
       "      <th>28809</th>\n",
       "      <td>1</td>\n",
       "      <td>1</td>\n",
       "    </tr>\n",
       "    <tr>\n",
       "      <th>42294</th>\n",
       "      <td>0</td>\n",
       "      <td>0</td>\n",
       "    </tr>\n",
       "    <tr>\n",
       "      <th>29485</th>\n",
       "      <td>1</td>\n",
       "      <td>1</td>\n",
       "    </tr>\n",
       "    <tr>\n",
       "      <th>53982</th>\n",
       "      <td>0</td>\n",
       "      <td>0</td>\n",
       "    </tr>\n",
       "    <tr>\n",
       "      <th>32960</th>\n",
       "      <td>0</td>\n",
       "      <td>0</td>\n",
       "    </tr>\n",
       "    <tr>\n",
       "      <th>98432</th>\n",
       "      <td>0</td>\n",
       "      <td>0</td>\n",
       "    </tr>\n",
       "    <tr>\n",
       "      <th>80339</th>\n",
       "      <td>0</td>\n",
       "      <td>0</td>\n",
       "    </tr>\n",
       "    <tr>\n",
       "      <th>34328</th>\n",
       "      <td>0</td>\n",
       "      <td>0</td>\n",
       "    </tr>\n",
       "    <tr>\n",
       "      <th>22481</th>\n",
       "      <td>1</td>\n",
       "      <td>1</td>\n",
       "    </tr>\n",
       "    <tr>\n",
       "      <th>69758</th>\n",
       "      <td>1</td>\n",
       "      <td>0</td>\n",
       "    </tr>\n",
       "    <tr>\n",
       "      <th>12965</th>\n",
       "      <td>1</td>\n",
       "      <td>1</td>\n",
       "    </tr>\n",
       "    <tr>\n",
       "      <th>36554</th>\n",
       "      <td>1</td>\n",
       "      <td>1</td>\n",
       "    </tr>\n",
       "    <tr>\n",
       "      <th>56810</th>\n",
       "      <td>1</td>\n",
       "      <td>0</td>\n",
       "    </tr>\n",
       "    <tr>\n",
       "      <th>56275</th>\n",
       "      <td>0</td>\n",
       "      <td>0</td>\n",
       "    </tr>\n",
       "    <tr>\n",
       "      <th>69398</th>\n",
       "      <td>1</td>\n",
       "      <td>0</td>\n",
       "    </tr>\n",
       "    <tr>\n",
       "      <th>16006</th>\n",
       "      <td>1</td>\n",
       "      <td>1</td>\n",
       "    </tr>\n",
       "    <tr>\n",
       "      <th>19470</th>\n",
       "      <td>1</td>\n",
       "      <td>1</td>\n",
       "    </tr>\n",
       "    <tr>\n",
       "      <th>55371</th>\n",
       "      <td>1</td>\n",
       "      <td>0</td>\n",
       "    </tr>\n",
       "    <tr>\n",
       "      <th>41303</th>\n",
       "      <td>0</td>\n",
       "      <td>1</td>\n",
       "    </tr>\n",
       "    <tr>\n",
       "      <th>17351</th>\n",
       "      <td>0</td>\n",
       "      <td>1</td>\n",
       "    </tr>\n",
       "    <tr>\n",
       "      <th>27119</th>\n",
       "      <td>0</td>\n",
       "      <td>0</td>\n",
       "    </tr>\n",
       "    <tr>\n",
       "      <th>42432</th>\n",
       "      <td>1</td>\n",
       "      <td>1</td>\n",
       "    </tr>\n",
       "    <tr>\n",
       "      <th>25429</th>\n",
       "      <td>0</td>\n",
       "      <td>0</td>\n",
       "    </tr>\n",
       "  </tbody>\n",
       "</table>\n",
       "</div>"
      ],
      "text/plain": [
       "       satisfaction_satisfied  satisfaction_prediction\n",
       "1770                        0                        0\n",
       "43867                       0                        1\n",
       "28809                       1                        1\n",
       "42294                       0                        0\n",
       "29485                       1                        1\n",
       "53982                       0                        0\n",
       "32960                       0                        0\n",
       "98432                       0                        0\n",
       "80339                       0                        0\n",
       "34328                       0                        0\n",
       "22481                       1                        1\n",
       "69758                       1                        0\n",
       "12965                       1                        1\n",
       "36554                       1                        1\n",
       "56810                       1                        0\n",
       "56275                       0                        0\n",
       "69398                       1                        0\n",
       "16006                       1                        1\n",
       "19470                       1                        1\n",
       "55371                       1                        0\n",
       "41303                       0                        1\n",
       "17351                       0                        1\n",
       "27119                       0                        0\n",
       "42432                       1                        1\n",
       "25429                       0                        0"
      ]
     },
     "execution_count": 112,
     "metadata": {},
     "output_type": "execute_result"
    }
   ],
   "source": [
    "# model performance (model evaluation)\n",
    "print(\"Training score : \",round(lg.score(x_train,y_train),2)*100)\n",
    "print(\"Testing score : \",round(lg.score(x_test,y_test),2)*100)\n",
    "\n",
    "###  Get prediction \n",
    "prediction = lg.predict(x_test)\n",
    "\n",
    "# adding prediction column with actual dataset \n",
    "y_test['satisfaction_prediction'] = prediction \n",
    "y_test.head(25)"
   ]
  },
  {
   "cell_type": "code",
   "execution_count": 114,
   "id": "5135fa8f-b742-4ee9-9cca-38aad2cdb9d6",
   "metadata": {},
   "outputs": [],
   "source": [
    "## CONFUSION MATRIX  \n",
    "from sklearn.metrics import confusion_matrix "
   ]
  },
  {
   "cell_type": "code",
   "execution_count": 118,
   "id": "eb0aa034-f2a4-4dc8-bbfe-5f801a57a19f",
   "metadata": {},
   "outputs": [
    {
     "data": {
      "text/plain": [
       "array([[9549, 2065],\n",
       "       [2037, 7034]], dtype=int64)"
      ]
     },
     "execution_count": 118,
     "metadata": {},
     "output_type": "execute_result"
    }
   ],
   "source": [
    "# confusion(actual,prediction) \n",
    "matrix = confusion_matrix(y_test['satisfaction_satisfied'],y_test['satisfaction_prediction'])\n",
    "matrix"
   ]
  },
  {
   "cell_type": "code",
   "execution_count": 119,
   "id": "9d368c3f-0929-4050-b51c-95f32d173e51",
   "metadata": {},
   "outputs": [],
   "source": [
    "import matplotlib.pyplot as  plt \n",
    "import seaborn as sns "
   ]
  },
  {
   "cell_type": "code",
   "execution_count": 129,
   "id": "70a68634-1f05-42f5-8520-634be1f25bd2",
   "metadata": {},
   "outputs": [
    {
     "data": {
      "image/png": "[encoded data removed]",
      "text/plain": [
       "<Figure size 640x480 with 2 Axes>"
      ]
     },
     "metadata": {},
     "output_type": "display_data"
    }
   ],
   "source": [
    "sns.heatmap(matrix,annot=True,fmt='d')\n",
    "plt.title('Confusion matrix ')\n",
    "plt.axis('off')\n",
    "plt.show()"
   ]
  },
  {
   "cell_type": "code",
   "execution_count": 115,
   "id": "3fe39a9f-adea-4752-b9ab-27009b4a3727",
   "metadata": {},
   "outputs": [
    {
     "data": {
      "text/html": [
       "<div>\n",
       "<style scoped>\n",
       "    .dataframe tbody tr th:only-of-type {\n",
       "        vertical-align: middle;\n",
       "    }\n",
       "\n",
       "    .dataframe tbody tr th {\n",
       "        vertical-align: top;\n",
       "    }\n",
       "\n",
       "    .dataframe thead th {\n",
       "        text-align: right;\n",
       "    }\n",
       "</style>\n",
       "<table border=\"1\" class=\"dataframe\">\n",
       "  <thead>\n",
       "    <tr style=\"text-align: right;\">\n",
       "      <th></th>\n",
       "      <th>satisfaction_satisfied</th>\n",
       "      <th>satisfaction_prediction</th>\n",
       "    </tr>\n",
       "  </thead>\n",
       "  <tbody>\n",
       "    <tr>\n",
       "      <th>1770</th>\n",
       "      <td>0</td>\n",
       "      <td>0</td>\n",
       "    </tr>\n",
       "    <tr>\n",
       "      <th>43867</th>\n",
       "      <td>0</td>\n",
       "      <td>1</td>\n",
       "    </tr>\n",
       "    <tr>\n",
       "      <th>28809</th>\n",
       "      <td>1</td>\n",
       "      <td>1</td>\n",
       "    </tr>\n",
       "    <tr>\n",
       "      <th>42294</th>\n",
       "      <td>0</td>\n",
       "      <td>0</td>\n",
       "    </tr>\n",
       "    <tr>\n",
       "      <th>29485</th>\n",
       "      <td>1</td>\n",
       "      <td>1</td>\n",
       "    </tr>\n",
       "    <tr>\n",
       "      <th>...</th>\n",
       "      <td>...</td>\n",
       "      <td>...</td>\n",
       "    </tr>\n",
       "    <tr>\n",
       "      <th>16250</th>\n",
       "      <td>1</td>\n",
       "      <td>1</td>\n",
       "    </tr>\n",
       "    <tr>\n",
       "      <th>71728</th>\n",
       "      <td>0</td>\n",
       "      <td>0</td>\n",
       "    </tr>\n",
       "    <tr>\n",
       "      <th>18735</th>\n",
       "      <td>1</td>\n",
       "      <td>1</td>\n",
       "    </tr>\n",
       "    <tr>\n",
       "      <th>46942</th>\n",
       "      <td>0</td>\n",
       "      <td>0</td>\n",
       "    </tr>\n",
       "    <tr>\n",
       "      <th>92015</th>\n",
       "      <td>1</td>\n",
       "      <td>1</td>\n",
       "    </tr>\n",
       "  </tbody>\n",
       "</table>\n",
       "<p>20685 rows × 2 columns</p>\n",
       "</div>"
      ],
      "text/plain": [
       "       satisfaction_satisfied  satisfaction_prediction\n",
       "1770                        0                        0\n",
       "43867                       0                        1\n",
       "28809                       1                        1\n",
       "42294                       0                        0\n",
       "29485                       1                        1\n",
       "...                       ...                      ...\n",
       "16250                       1                        1\n",
       "71728                       0                        0\n",
       "18735                       1                        1\n",
       "46942                       0                        0\n",
       "92015                       1                        1\n",
       "\n",
       "[20685 rows x 2 columns]"
      ]
     },
     "execution_count": 115,
     "metadata": {},
     "output_type": "execute_result"
    }
   ],
   "source": [
    "y_test"
   ]
  },
  {
   "cell_type": "code",
   "execution_count": 136,
   "id": "56e03c49-063a-4705-93aa-73474a3c2548",
   "metadata": {},
   "outputs": [
    {
     "name": "stdout",
     "output_type": "stream",
     "text": [
      "Testing score :  80.0\n"
     ]
    }
   ],
   "source": [
    "# print(\"Training score : \",round(lg.score(x_train,y_train),2)*100)\n",
    "print(\"Testing score : \",round(lg.score(x_test,y_test['satisfaction_satisfied']),2)*100)"
   ]
  },
  {
   "cell_type": "code",
   "execution_count": 135,
   "id": "11e39b10-52b2-403a-9d91-d34ad98684f8",
   "metadata": {},
   "outputs": [
    {
     "data": {
      "text/plain": [
       "80.0"
      ]
     },
     "execution_count": 135,
     "metadata": {},
     "output_type": "execute_result"
    }
   ],
   "source": [
    "round((9549+7034)/(9549+7034+2065+2037),2)*100"
   ]
  },
  {
   "cell_type": "code",
   "execution_count": 137,
   "id": "9cf116c3-e9f2-4f81-b2e3-b8faedb84d84",
   "metadata": {},
   "outputs": [],
   "source": [
    "from sklearn.metrics import classification_report\n"
   ]
  },
  {
   "cell_type": "code",
   "execution_count": 139,
   "id": "b2854731-1498-4693-816e-6f33721cb338",
   "metadata": {},
   "outputs": [
    {
     "name": "stdout",
     "output_type": "stream",
     "text": [
      "              precision    recall  f1-score   support\n",
      "\n",
      "           0       0.82      0.82      0.82     11614\n",
      "           1       0.77      0.78      0.77      9071\n",
      "\n",
      "    accuracy                           0.80     20685\n",
      "   macro avg       0.80      0.80      0.80     20685\n",
      "weighted avg       0.80      0.80      0.80     20685\n",
      "\n"
     ]
    }
   ],
   "source": [
    "# classification_report(actual,prediction)\n",
    "\n",
    "print(classification_report(y_test['satisfaction_satisfied'],y_test['satisfaction_prediction']))"
   ]
  },
  {
   "cell_type": "code",
   "execution_count": 140,
   "id": "56ff39c3-7df1-429b-9b7f-5a83fa58b38b",
   "metadata": {},
   "outputs": [
    {
     "data": {
      "text/plain": [
       "(20685, 2)"
      ]
     },
     "execution_count": 140,
     "metadata": {},
     "output_type": "execute_result"
    }
   ],
   "source": [
    "y_test.shape"
   ]
  },
  {
   "cell_type": "code",
   "execution_count": 141,
   "id": "ea9f71a3-4c3f-459b-99cc-f48fe8c5746f",
   "metadata": {},
   "outputs": [
    {
     "data": {
      "text/plain": [
       "20685"
      ]
     },
     "execution_count": 141,
     "metadata": {},
     "output_type": "execute_result"
    }
   ],
   "source": [
    "11614 + 9071 "
   ]
  }
 ],
 "metadata": {
  "kernelspec": {
   "display_name": "Python 3 (ipykernel)",
   "language": "python",
   "name": "python3"
  },
  "language_info": {
   "codemirror_mode": {
    "name": "ipython",
    "version": 3
   },
   "file_extension": ".py",
   "mimetype": "text/x-python",
   "name": "python",
   "nbconvert_exporter": "python",
   "pygments_lexer": "ipython3",
   "version": "3.11.5"
  }
 },
 "nbformat": 4,
 "nbformat_minor": 5
}
