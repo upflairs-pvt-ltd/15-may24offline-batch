{
 "cells": [
  {
   "cell_type": "code",
   "execution_count": 12,
   "id": "ae946605-d465-4b75-8db4-631a6ab61d63",
   "metadata": {},
   "outputs": [],
   "source": [
    "from tensorflow.keras.preprocessing import image\n",
    "from tensorflow.keras.applications.resnet50 import ResNet50,preprocess_input,decode_predictions\n",
    "import numpy as np "
   ]
  },
  {
   "cell_type": "code",
   "execution_count": null,
   "id": "2a819e98-e240-4e70-b569-2f5ee0fd857f",
   "metadata": {},
   "outputs": [],
   "source": [
    "# !pip install keras \n"
   ]
  },
  {
   "cell_type": "code",
   "execution_count": null,
   "id": "33080842-0fb2-4f99-b40b-d82a66fff658",
   "metadata": {},
   "outputs": [],
   "source": [
    "## 1. pre-trained prediction \n",
    "## 2. transfer learning "
   ]
  },
  {
   "cell_type": "code",
   "execution_count": 2,
   "id": "749d1138-17ed-485f-a87c-db427cccce36",
   "metadata": {},
   "outputs": [
    {
     "name": "stdout",
     "output_type": "stream",
     "text": [
      "WARNING:tensorflow:From C:\\Users\\Ranjit\\AppData\\Local\\Programs\\Python\\Python311\\Lib\\site-packages\\keras\\src\\backend.py:1398: The name tf.executing_eagerly_outside_functions is deprecated. Please use tf.compat.v1.executing_eagerly_outside_functions instead.\n",
      "\n",
      "WARNING:tensorflow:From C:\\Users\\Ranjit\\AppData\\Local\\Programs\\Python\\Python311\\Lib\\site-packages\\keras\\src\\layers\\normalization\\batch_normalization.py:979: The name tf.nn.fused_batch_norm is deprecated. Please use tf.compat.v1.nn.fused_batch_norm instead.\n",
      "\n"
     ]
    }
   ],
   "source": [
    "model = ResNet50(weights='imagenet',input_shape=(224,224,3))\n"
   ]
  },
  {
   "cell_type": "code",
   "execution_count": 8,
   "id": "cc9b0754-502f-4bb6-8b83-e3e7463f483e",
   "metadata": {},
   "outputs": [],
   "source": [
    "img_path = 'fish.jpeg'\n",
    "img = image.load_img(img_path, target_size=(224,224))\n",
    "x = image.img_to_array(img)     # (224, 224, 3)"
   ]
  },
  {
   "cell_type": "code",
   "execution_count": 10,
   "id": "9681c307-0636-43b3-a56a-5b8a296367bd",
   "metadata": {},
   "outputs": [
    {
     "data": {
      "text/plain": [
       "(224, 224, 3)"
      ]
     },
     "execution_count": 10,
     "metadata": {},
     "output_type": "execute_result"
    }
   ],
   "source": [
    "x.shape"
   ]
  },
  {
   "cell_type": "code",
   "execution_count": 13,
   "id": "418dc001-a1b1-4818-b8ab-c6f628a3129a",
   "metadata": {
    "scrolled": true
   },
   "outputs": [
    {
     "data": {
      "text/plain": [
       "(1, 224, 224, 3)"
      ]
     },
     "execution_count": 13,
     "metadata": {},
     "output_type": "execute_result"
    }
   ],
   "source": [
    "x = np.expand_dims(x, axis=0)   # (1, 224, 224, 3)\n",
    "x.shape "
   ]
  },
  {
   "cell_type": "code",
   "execution_count": null,
   "id": "8c452ab8-8484-4333-8369-cf5ce30e66f6",
   "metadata": {},
   "outputs": [],
   "source": []
  },
  {
   "cell_type": "code",
   "execution_count": 15,
   "id": "52bb02d7-6a5f-41dc-9e59-bd8c93029d82",
   "metadata": {},
   "outputs": [],
   "source": [
    "x = preprocess_input(x)  "
   ]
  },
  {
   "cell_type": "code",
   "execution_count": 18,
   "id": "2041d189-165f-45cd-b087-18d55bd7a9cb",
   "metadata": {},
   "outputs": [
    {
     "name": "stdout",
     "output_type": "stream",
     "text": [
      "1/1 [==============================] - 4s 4s/step\n"
     ]
    }
   ],
   "source": [
    "pred = model.predict(x)"
   ]
  },
  {
   "cell_type": "code",
   "execution_count": 20,
   "id": "62b964d9-1e41-45c2-a63a-461f949fff51",
   "metadata": {},
   "outputs": [
    {
     "data": {
      "text/plain": [
       "(1, 1000)"
      ]
     },
     "execution_count": 20,
     "metadata": {},
     "output_type": "execute_result"
    }
   ],
   "source": [
    "pred.shape  \n",
    "# 1000 class "
   ]
  },
  {
   "cell_type": "code",
   "execution_count": 22,
   "id": "ea178056-ad75-4dc6-bec3-28c229f32259",
   "metadata": {},
   "outputs": [
    {
     "data": {
      "text/plain": [
       "1"
      ]
     },
     "execution_count": 22,
     "metadata": {},
     "output_type": "execute_result"
    }
   ],
   "source": [
    "label_index = np.argmax(pred,axis=1)[0]\n",
    "label_index"
   ]
  },
  {
   "cell_type": "code",
   "execution_count": 23,
   "id": "70079c17-334c-42f3-bd82-c2c79ce219a5",
   "metadata": {},
   "outputs": [],
   "source": [
    "with open('labels.txt','r') as file: \n",
    "    labels = file.readlines()\n"
   ]
  },
  {
   "cell_type": "code",
   "execution_count": 25,
   "id": "88467e67-5a1c-4df5-86ff-ce734d373e1d",
   "metadata": {},
   "outputs": [
    {
     "data": {
      "text/plain": [
       "' goldfish, Carassius auratus,\\n'"
      ]
     },
     "execution_count": 25,
     "metadata": {},
     "output_type": "execute_result"
    }
   ],
   "source": [
    "labels[label_index] "
   ]
  }
 ],
 "metadata": {
  "kernelspec": {
   "display_name": "Python 3 (ipykernel)",
   "language": "python",
   "name": "python3"
  },
  "language_info": {
   "codemirror_mode": {
    "name": "ipython",
    "version": 3
   },
   "file_extension": ".py",
   "mimetype": "text/x-python",
   "name": "python",
   "nbconvert_exporter": "python",
   "pygments_lexer": "ipython3",
   "version": "3.11.5"
  }
 },
 "nbformat": 4,
 "nbformat_minor": 5
}
