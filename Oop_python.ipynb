{
 "cells": [
  {
   "cell_type": "code",
   "execution_count": 20,
   "id": "a078eed5-8b38-4885-8317-91e876889fbe",
   "metadata": {},
   "outputs": [
    {
     "name": "stdout",
     "output_type": "stream",
     "text": [
      "constructor is executed \n",
      "0\n",
      "1\n",
      "2\n",
      "3\n",
      "4\n",
      "5\n",
      "6\n",
      "7\n",
      "8\n",
      "9\n"
     ]
    }
   ],
   "source": [
    "#oop in pythonn\n",
    "# object oreinted \n",
    "\n",
    "# def fun(self):\n",
    "#     pass \n",
    " \n",
    "class Student:\n",
    "    #public variable or global variable or class variable \n",
    "    student_name = \"Rohit kumar\"\n",
    "    student_branch = \"cse\"\n",
    "    student_roll_no = 101 \n",
    "\n",
    "\n",
    "    ## public variable , private var , protected \n",
    "   \n",
    "    def __init__(self,college_name , college_city):   # constructor variable initialazation \n",
    "        # instance variable \n",
    "        self.college = college_name\n",
    "        self.college_city = college_city\n",
    "        print('constructor is executed ')\n",
    "\n",
    "\n",
    "\n",
    "    # what is the difference between method and function \n",
    "    def display(self):   # oop method \n",
    "        print(\"sutudent name : \",self.student_name)\n",
    "        print(\"student_branch : \",self.student_branch)\n",
    "\n",
    "\n",
    "obj  = Student(college_name='jecrc',college_city='jaipur')  # object or instance \n",
    "# obj2 = Student(college_name='poornima',college_city='jodhpur')"
   ]
  },
  {
   "cell_type": "code",
   "execution_count": null,
   "id": "3a70cf96-96fb-4951-9f53-9f63d69d2bd0",
   "metadata": {},
   "outputs": [],
   "source": []
  },
  {
   "cell_type": "code",
   "execution_count": 13,
   "id": "106b5df8-6163-4783-bcde-fc75847fcb68",
   "metadata": {},
   "outputs": [
    {
     "data": {
      "text/plain": [
       "'poornima'"
      ]
     },
     "execution_count": 13,
     "metadata": {},
     "output_type": "execute_result"
    }
   ],
   "source": [
    "obj2.college"
   ]
  },
  {
   "cell_type": "code",
   "execution_count": 15,
   "id": "82c05c6c-344f-4390-a834-630f66de6176",
   "metadata": {},
   "outputs": [
    {
     "data": {
      "text/plain": [
       "'Rohit kumar'"
      ]
     },
     "execution_count": 15,
     "metadata": {},
     "output_type": "execute_result"
    }
   ],
   "source": [
    "obj2.student_name "
   ]
  },
  {
   "cell_type": "code",
   "execution_count": 17,
   "id": "25367f7e-eac7-4f08-98d2-6e6910e7fd1b",
   "metadata": {},
   "outputs": [],
   "source": [
    "obj.student_name = \"mohit sharma\""
   ]
  },
  {
   "cell_type": "code",
   "execution_count": 18,
   "id": "4c51ae3f-d042-4e1d-afda-485db9bc1506",
   "metadata": {},
   "outputs": [
    {
     "data": {
      "text/plain": [
       "'mohit sharma'"
      ]
     },
     "execution_count": 18,
     "metadata": {},
     "output_type": "execute_result"
    }
   ],
   "source": [
    "obj.student_name"
   ]
  },
  {
   "cell_type": "code",
   "execution_count": 19,
   "id": "6328495e-6413-4389-a1d2-51be41e90651",
   "metadata": {},
   "outputs": [
    {
     "data": {
      "text/plain": [
       "'Rohit kumar'"
      ]
     },
     "execution_count": 19,
     "metadata": {},
     "output_type": "execute_result"
    }
   ],
   "source": [
    "obj2.student_name"
   ]
  },
  {
   "cell_type": "code",
   "execution_count": null,
   "id": "bef4d20c-e3e6-4369-83a2-2c44a19590bb",
   "metadata": {},
   "outputs": [],
   "source": []
  },
  {
   "cell_type": "code",
   "execution_count": null,
   "id": "cec1db25-f70d-44b3-99d6-75bed6eb393a",
   "metadata": {},
   "outputs": [],
   "source": []
  },
  {
   "cell_type": "code",
   "execution_count": 24,
   "id": "b8aa7098-4eff-406b-9e68-12eaf5a921e1",
   "metadata": {
    "scrolled": true
   },
   "outputs": [
    {
     "name": "stdout",
     "output_type": "stream",
     "text": [
      "constructor executed \n"
     ]
    }
   ],
   "source": [
    "class Student: \n",
    "    name = \"rohit kumar\"\n",
    "    student_age = 21 \n",
    "    \n",
    "    def __init__(self,name,branch,roll_no,ls_of_subjects):\n",
    "        self.student_name = name\n",
    "        self.student_branch = branch\n",
    "        self.roll_no = roll_no\n",
    "        self.student_sub = ls_of_subjects\n",
    "        print('constructor executed ')\n",
    "\n",
    "    @classmethod   # decorator  \n",
    "    def display(cls):   \n",
    "        print(cls.student_age)\n",
    "        print(cls.name)\n",
    "\n",
    "# self ==> object or instance \n",
    "# cls  ==> class student \n",
    "# static  \n",
    "        \n",
    "\n",
    "\n",
    "## instance method \n",
    "## class method \n",
    "## static method \n",
    "\n",
    "\n",
    "obj = Student(name=\"MOhit sharma\",branch='cse',roll_no=101,ls_of_subjects=['physics','math','chemistry'])"
   ]
  },
  {
   "cell_type": "code",
   "execution_count": 25,
   "id": "7c3012f3-8d86-4b99-9dae-5bd9892b5302",
   "metadata": {},
   "outputs": [
    {
     "name": "stdout",
     "output_type": "stream",
     "text": [
      "21\n",
      "rohit kumar\n"
     ]
    }
   ],
   "source": [
    "obj.display()   # by instance "
   ]
  },
  {
   "cell_type": "code",
   "execution_count": 26,
   "id": "46dea95a-3011-4e60-937c-69212cdc2348",
   "metadata": {},
   "outputs": [
    {
     "name": "stdout",
     "output_type": "stream",
     "text": [
      "21\n",
      "rohit kumar\n"
     ]
    }
   ],
   "source": [
    "Student.display()  # by class name "
   ]
  },
  {
   "cell_type": "code",
   "execution_count": 32,
   "id": "036b04a9-c96b-4ab2-91de-507ea301fac6",
   "metadata": {},
   "outputs": [
    {
     "data": {
      "text/plain": [
       "[4]"
      ]
     },
     "execution_count": 32,
     "metadata": {},
     "output_type": "execute_result"
    }
   ],
   "source": [
    "class Abc: \n",
    "    def __init__(self):\n",
    "        self.ls = [25,41,63,9685,74,85,14,52,63,54,56,85]\n",
    "\n",
    "    # instance method \n",
    "    def average_finder(self):\n",
    "        count = 0 \n",
    "        total_sum = 0 \n",
    "        for item in self.ls: \n",
    "            count +=1 \n",
    "            total_sum += item \n",
    "        print(\"your list average is : \",round(total_sum/count,2))    \n",
    "\n",
    "\n",
    "    ### target position finder  (target)\n",
    "    def find_position(self, target): \n",
    "        position = []\n",
    "        for idx, num in enumerate(self.ls):\n",
    "            if num == target:\n",
    "                position.append(idx)\n",
    "        return position\n",
    "\n",
    "\n",
    "obj = Abc()\n",
    "# obj.average_finder() \n",
    "obj.find_position(target=74) "
   ]
  },
  {
   "cell_type": "code",
   "execution_count": null,
   "id": "4a42c530-f27c-4153-a6d6-8fd8fe17b651",
   "metadata": {},
   "outputs": [],
   "source": [
    "# object.call() "
   ]
  },
  {
   "cell_type": "code",
   "execution_count": 34,
   "id": "d7396512-7027-4fe4-87de-fcd84942d8dc",
   "metadata": {},
   "outputs": [],
   "source": [
    "# class , object , variables , methods \n",
    "\n",
    "# inheritence "
   ]
  },
  {
   "cell_type": "code",
   "execution_count": null,
   "id": "7198f48f-96e4-4fd7-a6a9-adea50fd4ddd",
   "metadata": {},
   "outputs": [],
   "source": [
    "class A:  #super class , parent class bas class \n",
    "    # class properties\n",
    "    pass \n",
    "\n",
    "class B:   # child class , sub class , inherted class , derived class \n",
    "    # class properties \n",
    "    pass "
   ]
  },
  {
   "cell_type": "code",
   "execution_count": null,
   "id": "f5d00252-e0cf-40ad-963b-3e765cb52029",
   "metadata": {},
   "outputs": [],
   "source": [
    "# parent --> child "
   ]
  },
  {
   "cell_type": "code",
   "execution_count": 42,
   "id": "010b3698-9fdd-4222-a418-b51fdaf1dc2b",
   "metadata": {},
   "outputs": [],
   "source": [
    "#inheritence \n",
    "# 1. single   A---B\n",
    "# 2. multiple \n",
    "# 3. multilevel \n",
    "# 4. hybrid \n",
    "# 5. heirarchical\n",
    "\n",
    "\n",
    "# without constructor \n",
    "class A:\n",
    "    var1 = 'from class A'\n",
    "\n",
    "class B(A): \n",
    "    var2 = \"from class B\""
   ]
  },
  {
   "cell_type": "code",
   "execution_count": 43,
   "id": "d793649e-fb29-4915-81a2-f7dbcc586df2",
   "metadata": {},
   "outputs": [],
   "source": [
    "obj_a  = A()\n",
    "obj_b = B()"
   ]
  },
  {
   "cell_type": "code",
   "execution_count": 44,
   "id": "e13c1852-bbe6-4f08-b63e-6f474b9f91b3",
   "metadata": {},
   "outputs": [
    {
     "data": {
      "text/plain": [
       "'from class A'"
      ]
     },
     "execution_count": 44,
     "metadata": {},
     "output_type": "execute_result"
    }
   ],
   "source": [
    "obj_b.var1"
   ]
  },
  {
   "cell_type": "code",
   "execution_count": 45,
   "id": "a2b09ba8-d52d-410f-9fcc-0e8822ce9fe1",
   "metadata": {},
   "outputs": [
    {
     "ename": "AttributeError",
     "evalue": "'A' object has no attribute 'var2'",
     "output_type": "error",
     "traceback": [
      "\u001b[1;31m---------------------------------------------------------------------------\u001b[0m",
      "\u001b[1;31mAttributeError\u001b[0m                            Traceback (most recent call last)",
      "Cell \u001b[1;32mIn[45], line 1\u001b[0m\n\u001b[1;32m----> 1\u001b[0m \u001b[43mobj_a\u001b[49m\u001b[38;5;241;43m.\u001b[39;49m\u001b[43mvar2\u001b[49m \n",
      "\u001b[1;31mAttributeError\u001b[0m: 'A' object has no attribute 'var2'"
     ]
    }
   ],
   "source": [
    "obj_a.var2 "
   ]
  },
  {
   "cell_type": "code",
   "execution_count": null,
   "id": "5ec22d23-777a-4de0-9c68-f60a0328bec4",
   "metadata": {},
   "outputs": [],
   "source": []
  },
  {
   "cell_type": "code",
   "execution_count": null,
   "id": "b2a3cfa0-6974-4060-9325-d7cb8f680463",
   "metadata": {},
   "outputs": [],
   "source": []
  },
  {
   "cell_type": "code",
   "execution_count": null,
   "id": "ab6bcf37-932e-4b4d-85cc-bd3cbd4552c1",
   "metadata": {},
   "outputs": [],
   "source": []
  },
  {
   "cell_type": "code",
   "execution_count": null,
   "id": "ea354cfd-05ed-44ee-bd47-145a0fb30648",
   "metadata": {},
   "outputs": [],
   "source": []
  },
  {
   "cell_type": "code",
   "execution_count": 51,
   "id": "f337e30e-45fa-433a-ad87-5828d29d44c5",
   "metadata": {},
   "outputs": [],
   "source": [
    "## single inheritence with constructor \n",
    "class Father: \n",
    "    def __init__(self,father_name,father_age):\n",
    "        self.father_name = father_name\n",
    "        self.father_age = father_age \n",
    "\n",
    "\n",
    "    def father_hii(self): \n",
    "        print(\"my father name is : \", self.father_name)\n",
    "        print(\"and my father age is : \",self.father_age)\n",
    "\n",
    "\n",
    "class Son(Father): \n",
    "    son_name = \"mohit sharma\"\n",
    "    son_age = 50 \n",
    "\n",
    "    def son_hii(self): \n",
    "        print(\"my father name is : \", self.son_name)\n",
    "        print(\"and my father age is : \",self.son_age)\n",
    "\n",
    "\n",
    "\n"
   ]
  },
  {
   "cell_type": "code",
   "execution_count": 52,
   "id": "d4c26d52-0b76-47fd-b457-3bc9fe7c2839",
   "metadata": {},
   "outputs": [
    {
     "name": "stdout",
     "output_type": "stream",
     "text": [
      "my father name is :  sanjay \n",
      "and my father age is :  52\n",
      "\n",
      "my father name is :  mohit sharma\n",
      "and my father age is :  50\n"
     ]
    }
   ],
   "source": [
    "# Father(father_name=,)\n",
    "son_obj = Son(father_name=\"sanjay \",father_age=52)\n",
    "son_obj.father_hii() \n",
    "print()\n",
    "son_obj.son_hii()"
   ]
  },
  {
   "cell_type": "code",
   "execution_count": null,
   "id": "2c96f45c-8f29-4d48-a701-8d2ae04044b7",
   "metadata": {},
   "outputs": [],
   "source": [
    "# static method \n",
    "# create constructor in son class \n"
   ]
  }
 ],
 "metadata": {
  "kernelspec": {
   "display_name": "Python 3 (ipykernel)",
   "language": "python",
   "name": "python3"
  },
  "language_info": {
   "codemirror_mode": {
    "name": "ipython",
    "version": 3
   },
   "file_extension": ".py",
   "mimetype": "text/x-python",
   "name": "python",
   "nbconvert_exporter": "python",
   "pygments_lexer": "ipython3",
   "version": "3.11.5"
  }
 },
 "nbformat": 4,
 "nbformat_minor": 5
}
