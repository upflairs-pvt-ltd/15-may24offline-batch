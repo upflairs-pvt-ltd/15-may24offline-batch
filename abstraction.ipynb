{
 "cells": [
  {
   "cell_type": "code",
   "execution_count": 6,
   "id": "c610df88-98c9-4a8e-968a-9e2534fcd2e0",
   "metadata": {},
   "outputs": [],
   "source": [
    "from abc import ABC ,abstractmethod\n",
    "\n",
    "class Manager(ABC): \n",
    "    def __init__(self):\n",
    "        self.var1 = 'hii'\n",
    "        self.var2 = 'hooooooooo'\n",
    "\n",
    "    @abstractmethod\n",
    "    def display(self): \n",
    "        pass \n",
    "\n",
    "class Employee(Manager): \n",
    "\n",
    "    var3 = 'hhhhhh'\n",
    "    var4 = 'llllllll'\n",
    "\n",
    "    def display(self): \n",
    "        print(self.var1)\n",
    "        print(self.var2)\n",
    "        print(self.var3)\n",
    "        print(self.var4)"
   ]
  },
  {
   "cell_type": "code",
   "execution_count": 7,
   "id": "29b48980-0455-48b6-be91-5eeab1b92e83",
   "metadata": {},
   "outputs": [
    {
     "name": "stdout",
     "output_type": "stream",
     "text": [
      "hii\n",
      "hooooooooo\n",
      "hhhhhh\n",
      "llllllll\n"
     ]
    }
   ],
   "source": [
    "obj = Employee()\n",
    "obj.display()"
   ]
  }
 ],
 "metadata": {
  "kernelspec": {
   "display_name": "Python 3 (ipykernel)",
   "language": "python",
   "name": "python3"
  },
  "language_info": {
   "codemirror_mode": {
    "name": "ipython",
    "version": 3
   },
   "file_extension": ".py",
   "mimetype": "text/x-python",
   "name": "python",
   "nbconvert_exporter": "python",
   "pygments_lexer": "ipython3",
   "version": "3.11.5"
  }
 },
 "nbformat": 4,
 "nbformat_minor": 5
}
