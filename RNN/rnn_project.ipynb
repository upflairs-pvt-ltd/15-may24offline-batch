{
 "cells": [
  {
   "cell_type": "code",
   "execution_count": 21,
   "id": "ee865590-2ca7-4496-99f7-e47e4cbca5ed",
   "metadata": {},
   "outputs": [
    {
     "name": "stdout",
     "output_type": "stream",
     "text": [
      "libraries imported \n"
     ]
    }
   ],
   "source": [
    "import numpy as np\n",
    "import pandas as pd\n",
    "import nltk\n",
    "import tensorflow\n",
    "from nltk.corpus import stopwords\n",
    "from nltk.stem import PorterStemmer   # stemming \n",
    "from nltk.stem import WordNetLemmatizer  # Lemmatizer\n",
    "from sklearn.model_selection import train_test_split\n",
    "from tensorflow.keras.models import Sequential\n",
    "from sklearn.feature_extraction.text import CountVectorizer\n",
    "from sklearn.feature_extraction.text import TfidfVectorizer\n",
    "from tensorflow.keras.preprocessing.text import Tokenizer  # transform our data into num\n",
    "from tensorflow.keras.utils import pad_sequences\n",
    "from tensorflow.keras.layers import LSTM,Dense , SimpleRNN\n",
    "print('libraries imported ')\n"
   ]
  },
  {
   "cell_type": "code",
   "execution_count": 2,
   "id": "a29536f2-b03d-420e-9143-f16b9c36ad7d",
   "metadata": {},
   "outputs": [],
   "source": [
    "#reading data from text file \n",
    "train_data = open(\"Data/train.txt\").readlines()\n",
    "test_data = open(\"Data/test.txt\").readlines()\n",
    "val_data = open(\"Data/val.txt\").readlines()"
   ]
  },
  {
   "cell_type": "code",
   "execution_count": 3,
   "id": "6eeb2d3d-d6bd-479f-ae16-113f331282e5",
   "metadata": {},
   "outputs": [
    {
     "data": {
      "text/plain": [
       "16000"
      ]
     },
     "execution_count": 3,
     "metadata": {},
     "output_type": "execute_result"
    }
   ],
   "source": [
    "len(train_data)"
   ]
  },
  {
   "cell_type": "code",
   "execution_count": 4,
   "id": "34d5780e-ce6b-4ef2-8378-ac1615c2578b",
   "metadata": {},
   "outputs": [
    {
     "data": {
      "text/plain": [
       "2000"
      ]
     },
     "execution_count": 4,
     "metadata": {},
     "output_type": "execute_result"
    }
   ],
   "source": [
    "len(test_data)\n"
   ]
  },
  {
   "cell_type": "code",
   "execution_count": 5,
   "id": "57d513f9-b384-4953-948a-48b16cb16e97",
   "metadata": {},
   "outputs": [
    {
     "data": {
      "text/plain": [
       "2000"
      ]
     },
     "execution_count": 5,
     "metadata": {},
     "output_type": "execute_result"
    }
   ],
   "source": [
    "len(val_data)\n"
   ]
  },
  {
   "cell_type": "code",
   "execution_count": 6,
   "id": "91d6ed40-0bcb-4185-9420-d569b5a8781d",
   "metadata": {},
   "outputs": [
    {
     "data": {
      "text/plain": [
       "[1, 2, 3, 4, 5, 6, 7, 8, 9]"
      ]
     },
     "execution_count": 6,
     "metadata": {},
     "output_type": "execute_result"
    }
   ],
   "source": [
    "ls1 = [1,2,3]\n",
    "ls2 = [4,5,6]\n",
    "ls3 = [7,8,9]\n",
    "ls1 + ls2 + ls3 "
   ]
  },
  {
   "cell_type": "code",
   "execution_count": 3,
   "id": "f614c963-d911-42fa-8a1c-51536e552412",
   "metadata": {},
   "outputs": [
    {
     "data": {
      "text/plain": [
       "20000"
      ]
     },
     "execution_count": 3,
     "metadata": {},
     "output_type": "execute_result"
    }
   ],
   "source": [
    "total_message = train_data + test_data + val_data \n",
    "len(total_message)"
   ]
  },
  {
   "cell_type": "code",
   "execution_count": 8,
   "id": "6d9fc21d-8615-4888-9189-c0843d948ff5",
   "metadata": {},
   "outputs": [
    {
     "data": {
      "text/plain": [
       "'i feel like i have to make the suffering i m seeing mean something;sadness\\n'"
      ]
     },
     "execution_count": 8,
     "metadata": {},
     "output_type": "execute_result"
    }
   ],
   "source": [
    "total_message[10]"
   ]
  },
  {
   "cell_type": "code",
   "execution_count": 4,
   "id": "d888aaf2-920d-4a27-9bd9-3d52c870ef4d",
   "metadata": {},
   "outputs": [],
   "source": [
    "x = []  # message \n",
    "y = []  # lables \n",
    "for item in total_message:\n",
    "    text,label = item.split(';')\n",
    "    label = label.replace('\\n','')\n",
    "    x.append(text)\n",
    "    y.append(label)\n",
    "\n",
    "# unique lables "
   ]
  },
  {
   "cell_type": "code",
   "execution_count": 20,
   "id": "e1493277-6610-40ba-b0fb-5b9529c243f3",
   "metadata": {},
   "outputs": [
    {
     "data": {
      "text/plain": [
       "6"
      ]
     },
     "execution_count": 20,
     "metadata": {},
     "output_type": "execute_result"
    }
   ],
   "source": [
    "len(set(y))\n",
    "\n",
    "### \n",
    "# joy         6761\n",
    "# sadness     5797\n",
    "# anger       2709\n",
    "# fear        2373\n",
    "# love        1641\n",
    "# surprise     719"
   ]
  },
  {
   "cell_type": "code",
   "execution_count": 12,
   "id": "ab1bafed-5ad4-4118-8bce-1ca55a4472f4",
   "metadata": {},
   "outputs": [
    {
     "data": {
      "text/plain": [
       "['sadness', 'sadness', 'anger', 'love', 'anger']"
      ]
     },
     "execution_count": 12,
     "metadata": {},
     "output_type": "execute_result"
    }
   ],
   "source": [
    "y[:5]"
   ]
  },
  {
   "cell_type": "code",
   "execution_count": 13,
   "id": "4939561c-1db7-4d60-81e8-0069befa3607",
   "metadata": {},
   "outputs": [
    {
     "data": {
      "text/plain": [
       "['i didnt feel humiliated',\n",
       " 'i can go from feeling so hopeless to so damned hopeful just from being around someone who cares and is awake',\n",
       " 'im grabbing a minute to post i feel greedy wrong',\n",
       " 'i am ever feeling nostalgic about the fireplace i will know that it is still on the property',\n",
       " 'i am feeling grouchy']"
      ]
     },
     "execution_count": 13,
     "metadata": {},
     "output_type": "execute_result"
    }
   ],
   "source": [
    "x[:5]"
   ]
  },
  {
   "cell_type": "code",
   "execution_count": 5,
   "id": "8c03c1be-7415-4b49-b1e6-5af8ff9fa089",
   "metadata": {},
   "outputs": [],
   "source": [
    "stemming = PorterStemmer()\n",
    "def text_cleaning(ls_sentences):\n",
    "    clean_message_ls = []\n",
    "    for sentece in ls_sentences:\n",
    "        lower_sentence = sentece.lower() # lower case\n",
    "        ls_of_words = nltk.word_tokenize(lower_sentence)\n",
    "        ls_of_words_removed_stopwords = [i for i in ls_of_words if i not in stopwords.words('english')]  # stopwords removing\n",
    "        \n",
    "        stemmed_word_ls = [stemming.stem(word)  for word in ls_of_words_removed_stopwords]  # stemming apply\n",
    "        cleaned_message = \" \".join(stemmed_word_ls) # joining and making a sentence\n",
    "        clean_message_ls.append(cleaned_message)\n",
    "    return clean_message_ls\n",
    "        \n",
    "\n",
    "\n",
    "cleaned_message_ls = text_cleaning(x)"
   ]
  },
  {
   "cell_type": "code",
   "execution_count": 45,
   "id": "355ce67f-2d2f-4bc3-89f3-d9e6c0243fa1",
   "metadata": {},
   "outputs": [
    {
     "data": {
      "text/plain": [
       "(20000, 20000)"
      ]
     },
     "execution_count": 45,
     "metadata": {},
     "output_type": "execute_result"
    }
   ],
   "source": [
    "len(cleaned_message_ls)  , len(x)"
   ]
  },
  {
   "cell_type": "code",
   "execution_count": 46,
   "id": "d99e4b70-272f-48a6-98fc-e176074f111f",
   "metadata": {},
   "outputs": [
    {
     "data": {
      "text/plain": [
       "'i still love my so and wish the best for him i can no longer tolerate the effect that bm has on our lives and the fact that is has turned my so into a bitter angry person who is not always particularly kind to the people around him when he is feeling stressed'"
      ]
     },
     "execution_count": 46,
     "metadata": {},
     "output_type": "execute_result"
    }
   ],
   "source": [
    "x[25]"
   ]
  },
  {
   "cell_type": "code",
   "execution_count": 47,
   "id": "461408f5-c9e1-4d23-947c-1ccdc7238e7a",
   "metadata": {},
   "outputs": [
    {
     "data": {
      "text/plain": [
       "'still love wish best longer toler effect bm live fact turn bitter angri person alway particularli kind peopl around feel stress'"
      ]
     },
     "execution_count": 47,
     "metadata": {},
     "output_type": "execute_result"
    }
   ],
   "source": [
    "cleaned_message_ls[25]"
   ]
  },
  {
   "cell_type": "code",
   "execution_count": 6,
   "id": "f980754f-2245-4555-87a6-942cbe1f5fb2",
   "metadata": {},
   "outputs": [],
   "source": [
    "tokenizer = Tokenizer(oov_token=\"<nothing>\")"
   ]
  },
  {
   "cell_type": "code",
   "execution_count": 7,
   "id": "cd97f1a8-c77f-4c5c-8ddd-7be761676be8",
   "metadata": {},
   "outputs": [],
   "source": [
    "tokenizer.fit_on_texts(cleaned_message_ls)"
   ]
  },
  {
   "cell_type": "code",
   "execution_count": 51,
   "id": "57513857-92ce-4ca7-86c1-ea32c587fb31",
   "metadata": {},
   "outputs": [
    {
     "data": {
      "text/plain": [
       "20000"
      ]
     },
     "execution_count": 51,
     "metadata": {},
     "output_type": "execute_result"
    }
   ],
   "source": [
    "tokenizer.document_count"
   ]
  },
  {
   "cell_type": "code",
   "execution_count": 64,
   "id": "0c24c4ba-62ad-4183-a80f-1619f6ae8e05",
   "metadata": {},
   "outputs": [],
   "source": [
    "# tokenizer.word_counts "
   ]
  },
  {
   "cell_type": "code",
   "execution_count": 63,
   "id": "bfda6bcd-b86b-4689-8163-2a46e9bc8ffc",
   "metadata": {},
   "outputs": [],
   "source": [
    "# tokenizer.word_index "
   ]
  },
  {
   "cell_type": "code",
   "execution_count": 8,
   "id": "d6fd26fd-b168-4e0e-97ee-28a25c3a70d8",
   "metadata": {},
   "outputs": [],
   "source": [
    "sequence = tokenizer.texts_to_sequences(cleaned_message_ls)"
   ]
  },
  {
   "cell_type": "code",
   "execution_count": 61,
   "id": "8c33bfc8-85b4-4a4d-af74-fb3b2632cc8c",
   "metadata": {},
   "outputs": [
    {
     "data": {
      "text/plain": [
       "'didnt feel humili'"
      ]
     },
     "execution_count": 61,
     "metadata": {},
     "output_type": "execute_result"
    }
   ],
   "source": [
    "cleaned_message_ls[0]"
   ]
  },
  {
   "cell_type": "code",
   "execution_count": 60,
   "id": "0e4b95bd-9a89-4b88-a82d-e703b2076fc8",
   "metadata": {},
   "outputs": [
    {
     "data": {
      "text/plain": [
       "[61, 2, 522]"
      ]
     },
     "execution_count": 60,
     "metadata": {},
     "output_type": "execute_result"
    }
   ],
   "source": [
    "sequence[0]"
   ]
  },
  {
   "cell_type": "code",
   "execution_count": 69,
   "id": "db4b8551-6138-4c6b-a0d8-e227966cab6d",
   "metadata": {},
   "outputs": [
    {
     "data": {
      "text/plain": [
       "35"
      ]
     },
     "execution_count": 69,
     "metadata": {},
     "output_type": "execute_result"
    }
   ],
   "source": [
    "max(list(map(len,sequence)))"
   ]
  },
  {
   "cell_type": "code",
   "execution_count": 9,
   "id": "f735e0e9-5a49-4bc4-beea-977cb2584b6f",
   "metadata": {},
   "outputs": [],
   "source": [
    "sequences  = pad_sequences(sequences=sequence , padding='post',maxlen=35)"
   ]
  },
  {
   "cell_type": "code",
   "execution_count": 10,
   "id": "aa89a974-df66-43bf-bbd8-45eed5448ed4",
   "metadata": {},
   "outputs": [
    {
     "data": {
      "text/plain": [
       "array([[  61,    2,  522, ...,    0,    0,    0],\n",
       "       [  10,    2,  419, ...,    0,    0,    0],\n",
       "       [   4, 1230,  431, ...,    0,    0,    0],\n",
       "       ...,\n",
       "       [   2,  194,  157, ...,    0,    0,    0],\n",
       "       [ 328,    2,  175, ...,    0,    0,    0],\n",
       "       [   2,    3,  916, ...,    0,    0,    0]])"
      ]
     },
     "execution_count": 10,
     "metadata": {},
     "output_type": "execute_result"
    }
   ],
   "source": [
    "sequences"
   ]
  },
  {
   "cell_type": "code",
   "execution_count": 13,
   "id": "40913b9f-fd79-4bd4-938e-0bf09704fc60",
   "metadata": {},
   "outputs": [],
   "source": [
    "\n",
    "# label encoding \n",
    "# y1 = 0 1 2 3 4 5 \n",
    "# y2 = one hot encoding \n",
    "# a    b    c     d    e    f     g \n",
    "# 1    0    0     0    0    0     0\n",
    "# 0    0    1     0    0    0     0\n",
    "\n",
    "\n",
    "# binary classification  \n",
    "# multiclass \n",
    "label_dict = {\n",
    "    'sadness':0,\n",
    "    'anger':1,\n",
    "    'love':2,\n",
    "    'surprise':3,\n",
    "    'fear':4,\n",
    "    'joy':5\n",
    "}\n",
    "\n",
    "\n",
    "\n",
    "def label_encoder(labels):\n",
    "    label = []\n",
    "    for lab in labels:\n",
    "        label.append(label_dict[lab]) # label_dict['sadness']\n",
    "    label = np.array(label)\n",
    "    return label\n",
    "\n",
    "# label encoding  \n",
    "label = label_encoder(y)\n"
   ]
  },
  {
   "cell_type": "code",
   "execution_count": 15,
   "id": "8bfc0dea-8f36-4d0e-aff2-4f1acf864383",
   "metadata": {},
   "outputs": [
    {
     "data": {
      "text/plain": [
       "array([0, 0, 1, ..., 5, 5, 5])"
      ]
     },
     "execution_count": 15,
     "metadata": {},
     "output_type": "execute_result"
    }
   ],
   "source": [
    "label"
   ]
  },
  {
   "cell_type": "code",
   "execution_count": null,
   "id": "fc6a1841-1fcb-44a0-9c4a-8fa7977765b2",
   "metadata": {},
   "outputs": [],
   "source": [
    "   # x , y "
   ]
  },
  {
   "cell_type": "code",
   "execution_count": 18,
   "id": "48ba9f70-4d9e-43e0-889d-d68005dbd640",
   "metadata": {},
   "outputs": [],
   "source": [
    "x_train,x_test , y_train,y_test = train_test_split(sequences , label,test_size=0.2)"
   ]
  },
  {
   "cell_type": "code",
   "execution_count": 19,
   "id": "e5bc5d57-c44f-45f1-96a6-cf8ed0e6de1d",
   "metadata": {},
   "outputs": [
    {
     "data": {
      "text/plain": [
       "((16000, 35), (16000,))"
      ]
     },
     "execution_count": 19,
     "metadata": {},
     "output_type": "execute_result"
    }
   ],
   "source": [
    "x_train.shape , y_train.shape"
   ]
  },
  {
   "cell_type": "code",
   "execution_count": 20,
   "id": "222de163-69cf-4c7c-be36-3f9409833fb5",
   "metadata": {},
   "outputs": [
    {
     "data": {
      "text/plain": [
       "((4000, 35), (4000,))"
      ]
     },
     "execution_count": 20,
     "metadata": {},
     "output_type": "execute_result"
    }
   ],
   "source": [
    "x_test.shape , y_test.shape "
   ]
  },
  {
   "cell_type": "code",
   "execution_count": null,
   "id": "3c1ddd25-7eb2-4dc8-8618-d199cd9bff63",
   "metadata": {},
   "outputs": [],
   "source": [
    "# model train \n",
    "# ML , ANN , CNN , RNN \n",
    "# ANN --> ML algorithms related like classification, regression \n",
    "# CNN --> when we have graphical data like image videos (computer vision)\n",
    "# RNN --> text data (Natural language processing)"
   ]
  },
  {
   "cell_type": "code",
   "execution_count": 22,
   "id": "df0e2960-0f9f-4feb-9d9d-50bc70492ecc",
   "metadata": {},
   "outputs": [
    {
     "data": {
      "text/plain": [
       "(16000, 35)"
      ]
     },
     "execution_count": 22,
     "metadata": {},
     "output_type": "execute_result"
    }
   ],
   "source": [
    "x_train.shape "
   ]
  },
  {
   "cell_type": "code",
   "execution_count": 28,
   "id": "8882646e-1917-4acf-a322-023cdae577d6",
   "metadata": {},
   "outputs": [
    {
     "data": {
      "text/plain": [
       "array([4, 5, 0, ..., 2, 0, 1])"
      ]
     },
     "execution_count": 28,
     "metadata": {},
     "output_type": "execute_result"
    }
   ],
   "source": [
    "y_train"
   ]
  },
  {
   "cell_type": "code",
   "execution_count": 26,
   "id": "eb3efa80-1e94-4733-9fea-565369a2686c",
   "metadata": {},
   "outputs": [
    {
     "name": "stdout",
     "output_type": "stream",
     "text": [
      "WARNING:tensorflow:From C:\\Users\\Ranjit\\AppData\\Local\\Programs\\Python\\Python311\\Lib\\site-packages\\keras\\src\\optimizers\\__init__.py:309: The name tf.train.Optimizer is deprecated. Please use tf.compat.v1.train.Optimizer instead.\n",
      "\n",
      "Model: \"sequential_1\"\n",
      "_________________________________________________________________\n",
      " Layer (type)                Output Shape              Param #   \n",
      "=================================================================\n",
      " simple_rnn_1 (SimpleRNN)    (None, 32)                1088      \n",
      "                                                                 \n",
      " dense_1 (Dense)             (None, 6)                 198       \n",
      "                                                                 \n",
      "=================================================================\n",
      "Total params: 1286 (5.02 KB)\n",
      "Trainable params: 1286 (5.02 KB)\n",
      "Non-trainable params: 0 (0.00 Byte)\n",
      "_________________________________________________________________\n"
     ]
    }
   ],
   "source": [
    "model = Sequential()\n",
    "model.add(SimpleRNN(32,input_shape=(35,1),return_sequences=False))  # hidden and input\n",
    "\n",
    "model.add(Dense(6,activation='softmax'))  # output layer \n",
    "\n",
    "\n",
    "\n",
    "model.compile(optimizer='adam',loss='sparse_categorical_crossentropy',metrics=['accuracy'])\n",
    "model.summary()"
   ]
  },
  {
   "cell_type": "code",
   "execution_count": 24,
   "id": "42593454-fc74-4603-a679-8b97370130b5",
   "metadata": {},
   "outputs": [
    {
     "data": {
      "text/plain": [
       "{'sadness': 0, 'anger': 1, 'love': 2, 'surprise': 3, 'fear': 4, 'joy': 5}"
      ]
     },
     "execution_count": 24,
     "metadata": {},
     "output_type": "execute_result"
    }
   ],
   "source": [
    "label_dict"
   ]
  },
  {
   "cell_type": "code",
   "execution_count": 29,
   "id": "0c9c3da7-884a-4edd-9333-514692fec88c",
   "metadata": {},
   "outputs": [
    {
     "name": "stdout",
     "output_type": "stream",
     "text": [
      "Epoch 1/5\n",
      "WARNING:tensorflow:From C:\\Users\\Ranjit\\AppData\\Local\\Programs\\Python\\Python311\\Lib\\site-packages\\keras\\src\\utils\\tf_utils.py:492: The name tf.ragged.RaggedTensorValue is deprecated. Please use tf.compat.v1.ragged.RaggedTensorValue instead.\n",
      "\n",
      "WARNING:tensorflow:From C:\\Users\\Ranjit\\AppData\\Local\\Programs\\Python\\Python311\\Lib\\site-packages\\keras\\src\\engine\\base_layer_utils.py:384: The name tf.executing_eagerly_outside_functions is deprecated. Please use tf.compat.v1.executing_eagerly_outside_functions instead.\n",
      "\n",
      "500/500 [==============================] - 9s 12ms/step - loss: 1.5881 - accuracy: 0.3264 - val_loss: 1.5856 - val_accuracy: 0.3410\n",
      "Epoch 2/5\n",
      "500/500 [==============================] - 6s 12ms/step - loss: 1.5745 - accuracy: 0.3338 - val_loss: 1.5862 - val_accuracy: 0.3392\n",
      "Epoch 3/5\n",
      "500/500 [==============================] - 6s 11ms/step - loss: 1.5743 - accuracy: 0.3349 - val_loss: 1.5855 - val_accuracy: 0.3392\n",
      "Epoch 4/5\n",
      "500/500 [==============================] - 5s 11ms/step - loss: 1.5740 - accuracy: 0.3352 - val_loss: 1.5866 - val_accuracy: 0.3397\n",
      "Epoch 5/5\n",
      "500/500 [==============================] - 5s 11ms/step - loss: 1.5734 - accuracy: 0.3339 - val_loss: 1.5842 - val_accuracy: 0.3390\n"
     ]
    }
   ],
   "source": [
    "history = model.fit(x_train,y_train,epochs=5,validation_data=(x_test,y_test))"
   ]
  },
  {
   "cell_type": "code",
   "execution_count": null,
   "id": "249fd5d4-7840-45ac-af5b-a15784aa99d1",
   "metadata": {},
   "outputs": [],
   "source": []
  },
  {
   "cell_type": "code",
   "execution_count": null,
   "id": "dc232404-1f3b-40ff-9ff1-285387fe3057",
   "metadata": {},
   "outputs": [],
   "source": []
  },
  {
   "cell_type": "code",
   "execution_count": null,
   "id": "e5fc57de-9b81-47f0-ac06-f3a1afcc07dc",
   "metadata": {},
   "outputs": [],
   "source": [
    "\n",
    "\n",
    "\n",
    "\n",
    "\n",
    "## compiling the model\n",
    "model.compile(optimizer='adam',loss='sparse_categorical_crossentropy',metrics=['accuracy'])\n",
    "model.summary()"
   ]
  }
 ],
 "metadata": {
  "kernelspec": {
   "display_name": "Python 3 (ipykernel)",
   "language": "python",
   "name": "python3"
  },
  "language_info": {
   "codemirror_mode": {
    "name": "ipython",
    "version": 3
   },
   "file_extension": ".py",
   "mimetype": "text/x-python",
   "name": "python",
   "nbconvert_exporter": "python",
   "pygments_lexer": "ipython3",
   "version": "3.11.5"
  }
 },
 "nbformat": 4,
 "nbformat_minor": 5
}
