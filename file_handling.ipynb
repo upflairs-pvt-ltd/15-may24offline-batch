{
 "cells": [
  {
   "cell_type": "code",
   "execution_count": 3,
   "id": "561a6be4-d95a-46ec-a742-093839fb7a50",
   "metadata": {
    "scrolled": true
   },
   "outputs": [
    {
     "name": "stdout",
     "output_type": "stream",
     "text": [
      "hello world\n"
     ]
    }
   ],
   "source": [
    "print(\"hello world\")"
   ]
  },
  {
   "cell_type": "markdown",
   "id": "6c1669ea-b4ab-411a-840c-0717655457c8",
   "metadata": {},
   "source": [
    "<h2>FILE HANDLING </h2>"
   ]
  },
  {
   "cell_type": "code",
   "execution_count": 5,
   "id": "0977a590-dbcd-4b24-b85d-cf2d04664d98",
   "metadata": {},
   "outputs": [
    {
     "data": {
      "text/plain": [
       "'C:\\\\Users\\\\Ranjit\\\\Desktop\\\\offline batch'"
      ]
     },
     "execution_count": 5,
     "metadata": {},
     "output_type": "execute_result"
    }
   ],
   "source": [
    "pwd "
   ]
  },
  {
   "cell_type": "code",
   "execution_count": 6,
   "id": "e6ac0aab-1a3b-4a09-89cb-8b82722a4535",
   "metadata": {},
   "outputs": [
    {
     "name": "stdout",
     "output_type": "stream",
     "text": [
      " Volume in drive C has no label.\n",
      " Volume Serial Number is 9C35-B5F9\n",
      "\n",
      " Directory of C:\\Users\\Ranjit\\Desktop\\offline batch\n",
      "\n",
      "18-05-2024  18:16    <DIR>          .\n",
      "18-05-2024  18:16    <DIR>          ..\n",
      "18-05-2024  18:10    <DIR>          .ipynb_checkpoints\n",
      "17-05-2024  18:29    <DIR>          __pycache__\n",
      "15-05-2024  18:28               836 day1.py\n",
      "16-05-2024  18:42             1,769 day2.py\n",
      "17-05-2024  18:03             1,707 day3.py\n",
      "18-05-2024  18:00               976 day4.py\n",
      "18-05-2024  18:16             3,711 file_handling.ipynb\n",
      "17-05-2024  18:24               243 hellllllllllllllllllllllllllllo.py\n",
      "17-05-2024  18:31               283 test.py\n",
      "18-05-2024  17:14    <DIR>          testing\n",
      "18-05-2024  17:31    <DIR>          testing2\n",
      "               7 File(s)          9,525 bytes\n",
      "               6 Dir(s)  30,422,536,192 bytes free\n"
     ]
    }
   ],
   "source": [
    "ls "
   ]
  },
  {
   "cell_type": "code",
   "execution_count": 7,
   "id": "5d3d1c02-0c2a-4ddc-8de0-e2dd91db3f11",
   "metadata": {},
   "outputs": [],
   "source": [
    "import os "
   ]
  },
  {
   "cell_type": "code",
   "execution_count": 9,
   "id": "1f4932da-2264-4c20-863f-fb3d4af7efb3",
   "metadata": {},
   "outputs": [],
   "source": [
    "os.chdir('testing')"
   ]
  },
  {
   "cell_type": "code",
   "execution_count": 10,
   "id": "2dd222ec-dd71-4d75-a821-1309d5a630f6",
   "metadata": {},
   "outputs": [
    {
     "data": {
      "text/plain": [
       "'C:\\\\Users\\\\Ranjit\\\\Desktop\\\\offline batch\\\\testing'"
      ]
     },
     "execution_count": 10,
     "metadata": {},
     "output_type": "execute_result"
    }
   ],
   "source": [
    "pwd "
   ]
  },
  {
   "cell_type": "code",
   "execution_count": 20,
   "id": "a0586346-6f50-477f-a4b2-b464cb43c059",
   "metadata": {},
   "outputs": [],
   "source": [
    "file = open('test.txt','w')   # file open , create\n",
    "data = \"\"\"\n",
    "this is my first file that i \n",
    "created using file handling, good evening to all of youu!\n",
    "\"\"\"\n",
    "file.write(data)\n",
    "file.close()"
   ]
  },
  {
   "cell_type": "code",
   "execution_count": 1,
   "id": "81b5e44e-05af-4518-ba95-7165d89289fe",
   "metadata": {},
   "outputs": [
    {
     "data": {
      "text/plain": [
       "'C:\\\\Users\\\\Ranjit\\\\Desktop\\\\offline batch'"
      ]
     },
     "execution_count": 1,
     "metadata": {},
     "output_type": "execute_result"
    }
   ],
   "source": [
    "pwd"
   ]
  },
  {
   "cell_type": "code",
   "execution_count": 2,
   "id": "2bcf2b23-15f0-4a75-ac3a-32c6ce97f98c",
   "metadata": {},
   "outputs": [
    {
     "name": "stdout",
     "output_type": "stream",
     "text": [
      " Volume in drive C has no label.\n",
      " Volume Serial Number is 9C35-B5F9\n",
      "\n",
      " Directory of C:\\Users\\Ranjit\\Desktop\\offline batch\n",
      "\n",
      "18-05-2024  18:30    <DIR>          .\n",
      "18-05-2024  18:30    <DIR>          ..\n",
      "18-05-2024  18:10    <DIR>          .ipynb_checkpoints\n",
      "17-05-2024  18:29    <DIR>          __pycache__\n",
      "15-05-2024  18:28               836 day1.py\n",
      "16-05-2024  18:42             1,769 day2.py\n",
      "17-05-2024  18:03             1,707 day3.py\n",
      "18-05-2024  18:00               976 day4.py\n",
      "18-05-2024  18:30             5,802 file_handling.ipynb\n",
      "17-05-2024  18:24               243 hellllllllllllllllllllllllllllo.py\n",
      "17-05-2024  18:31               283 test.py\n",
      "18-05-2024  18:24    <DIR>          testing\n",
      "18-05-2024  17:31    <DIR>          testing2\n",
      "               7 File(s)         11,616 bytes\n",
      "               6 Dir(s)  29,956,624,384 bytes free\n"
     ]
    }
   ],
   "source": [
    "ls "
   ]
  },
  {
   "cell_type": "code",
   "execution_count": 3,
   "id": "99635f8d-b5e8-4fd4-abad-cc2e38cdde25",
   "metadata": {},
   "outputs": [
    {
     "name": "stdout",
     "output_type": "stream",
     "text": [
      "C:\\Users\\Ranjit\\Desktop\\offline batch\\testing\n"
     ]
    }
   ],
   "source": [
    "cd testing/"
   ]
  },
  {
   "cell_type": "code",
   "execution_count": 4,
   "id": "b08075d3-bc54-4354-90a5-1029accc245e",
   "metadata": {},
   "outputs": [
    {
     "name": "stdout",
     "output_type": "stream",
     "text": [
      " Volume in drive C has no label.\n",
      " Volume Serial Number is 9C35-B5F9\n",
      "\n",
      " Directory of C:\\Users\\Ranjit\\Desktop\\offline batch\\testing\n",
      "\n",
      "18-05-2024  18:24    <DIR>          .\n",
      "18-05-2024  18:24    <DIR>          ..\n",
      "18-05-2024  17:15                 8 hello.txt\n",
      "18-05-2024  18:27                92 test.txt\n",
      "               2 File(s)            100 bytes\n",
      "               2 Dir(s)  29,957,050,368 bytes free\n"
     ]
    }
   ],
   "source": [
    "ls "
   ]
  },
  {
   "cell_type": "code",
   "execution_count": 8,
   "id": "4af85f5a-a937-4017-a0da-0c397bfcaabf",
   "metadata": {},
   "outputs": [
    {
     "name": "stdout",
     "output_type": "stream",
     "text": [
      "\n",
      "this is my first file that i \n",
      "created using file handling, good evening to all of youu!\n",
      "\n"
     ]
    }
   ],
   "source": [
    "file = open(\"test.txt\")   # mode = bydefault === 'r'\n",
    "data = file.read()\n",
    "print(data)\n",
    "        "
   ]
  },
  {
   "cell_type": "code",
   "execution_count": 9,
   "id": "7a814abd-2955-4d41-8d29-ea258d342638",
   "metadata": {},
   "outputs": [
    {
     "name": "stdout",
     "output_type": "stream",
     "text": [
      "\n",
      "this is my first file th\n"
     ]
    }
   ],
   "source": [
    "file = open(\"test.txt\",'r')  \n",
    "data = file.read(25)\n",
    "\n",
    "print(data)"
   ]
  },
  {
   "cell_type": "code",
   "execution_count": 10,
   "id": "4aa17fe5-62ab-4514-9dd5-e9303e531f8b",
   "metadata": {},
   "outputs": [],
   "source": [
    "data = file.read(25)"
   ]
  },
  {
   "cell_type": "code",
   "execution_count": 11,
   "id": "8a46f71d-a56f-450d-b753-2ceaa81d855b",
   "metadata": {},
   "outputs": [
    {
     "name": "stdout",
     "output_type": "stream",
     "text": [
      "at i \n",
      "created using file \n"
     ]
    }
   ],
   "source": [
    "print(data)"
   ]
  },
  {
   "cell_type": "code",
   "execution_count": 12,
   "id": "61802e61-bafd-4a41-9205-287981f14c57",
   "metadata": {},
   "outputs": [
    {
     "name": "stdout",
     "output_type": "stream",
     "text": [
      "handling, good evening to\n"
     ]
    }
   ],
   "source": [
    "data = file.read(25)\n",
    "print(data)"
   ]
  },
  {
   "cell_type": "code",
   "execution_count": 13,
   "id": "ca78baf8-11a6-4df9-9e48-e2a4cb9788dc",
   "metadata": {},
   "outputs": [
    {
     "name": "stdout",
     "output_type": "stream",
     "text": [
      " all of youu!\n",
      "\n"
     ]
    }
   ],
   "source": [
    "data = file.read(25)\n",
    "print(data)"
   ]
  },
  {
   "cell_type": "code",
   "execution_count": 14,
   "id": "466ce43e-ba41-49ef-869c-047e9f8aee50",
   "metadata": {},
   "outputs": [
    {
     "name": "stdout",
     "output_type": "stream",
     "text": [
      "\n"
     ]
    }
   ],
   "source": [
    "data = file.read(25)\n",
    "print(data)"
   ]
  },
  {
   "cell_type": "code",
   "execution_count": 15,
   "id": "9a1b0e88-ce6e-4516-90e5-56e67479d9d1",
   "metadata": {},
   "outputs": [
    {
     "name": "stdout",
     "output_type": "stream",
     "text": [
      " Volume in drive C has no label.\n",
      " Volume Serial Number is 9C35-B5F9\n",
      "\n",
      " Directory of C:\\Users\\Ranjit\\Desktop\\offline batch\\testing\n",
      "\n",
      "18-05-2024  18:24    <DIR>          .\n",
      "18-05-2024  18:24    <DIR>          ..\n",
      "18-05-2024  17:15                 8 hello.txt\n",
      "18-05-2024  18:27                92 test.txt\n",
      "               2 File(s)            100 bytes\n",
      "               2 Dir(s)  29,718,994,944 bytes free\n"
     ]
    }
   ],
   "source": [
    "ls "
   ]
  },
  {
   "cell_type": "code",
   "execution_count": 17,
   "id": "72747df6-43af-4041-9652-7f9d07f711b6",
   "metadata": {},
   "outputs": [
    {
     "name": "stdout",
     "output_type": "stream",
     "text": [
      " Volume in drive C has no label.\n",
      " Volume Serial Number is 9C35-B5F9\n",
      "\n",
      " Directory of C:\\Users\\Ranjit\\Desktop\\offline batch\\testing\n",
      "\n",
      "20-05-2024  16:56    <DIR>          .\n",
      "20-05-2024  16:56    <DIR>          ..\n",
      "20-05-2024  16:56                 0 demo.txt\n",
      "18-05-2024  17:15                 8 hello.txt\n",
      "18-05-2024  18:27                92 test.txt\n",
      "               3 File(s)            100 bytes\n",
      "               2 Dir(s)  29,718,929,408 bytes free\n"
     ]
    }
   ],
   "source": [
    "ls %%SVG"
   ]
  },
  {
   "cell_type": "code",
   "execution_count": 35,
   "id": "382654ed-1e5d-450d-8cc1-f00356af03f2",
   "metadata": {},
   "outputs": [],
   "source": [
    "file = open('demo.txt','w',encoding='utf-8')  #\n",
    "message = \"we are jodhpur, learning data science 😚☺🙂🤗\"\n",
    "file.write(message)  # clear old data \n",
    "file.close()  # save, close "
   ]
  },
  {
   "cell_type": "code",
   "execution_count": 31,
   "id": "94d6440d-c776-447f-a579-31a187de3f0c",
   "metadata": {},
   "outputs": [],
   "source": [
    "file = open('demo.txt','a')  # append \n",
    "message = \"\\n we are jodhpur, learning data science\"\n",
    "file.write(message)  # clear old data \n",
    "file.close()  # save, close "
   ]
  },
  {
   "cell_type": "code",
   "execution_count": 33,
   "id": "33733faa-6f99-459d-b66b-d5b89cdc0953",
   "metadata": {},
   "outputs": [
    {
     "name": "stdout",
     "output_type": "stream",
     "text": [
      "we are jodhpur, learning data sciencewe are jodhpur, learning data sciencewe are jodhpur, learning data sciencewe are jodhpur, learning data science\n",
      " we are jodhpur, learning data science\n",
      " we are jodhpur, learning data science\n",
      " we are jodhpur, learning data science\n",
      " we are jodhpur, learning data science\n",
      " we are jodhpur, learning data science 😉😉😀\n"
     ]
    }
   ],
   "source": [
    "file = open('demo2.txt','r',encoding='utf-8')\n",
    "data = file.read()\n",
    "print(data) "
   ]
  },
  {
   "cell_type": "code",
   "execution_count": 38,
   "id": "3d12e4e9-c1c9-4283-a728-1e063c0c0413",
   "metadata": {},
   "outputs": [
    {
     "ename": "FileExistsError",
     "evalue": "[Errno 17] File exists: 'upflairs.txt'",
     "output_type": "error",
     "traceback": [
      "\u001b[1;31m---------------------------------------------------------------------------\u001b[0m",
      "\u001b[1;31mFileExistsError\u001b[0m                           Traceback (most recent call last)",
      "Cell \u001b[1;32mIn[38], line 3\u001b[0m\n\u001b[0;32m      1\u001b[0m \u001b[38;5;66;03m# r , w , a , x \u001b[39;00m\n\u001b[1;32m----> 3\u001b[0m file \u001b[38;5;241m=\u001b[39m \u001b[38;5;28;43mopen\u001b[39;49m\u001b[43m(\u001b[49m\u001b[38;5;124;43m'\u001b[39;49m\u001b[38;5;124;43mupflairs.txt\u001b[39;49m\u001b[38;5;124;43m'\u001b[39;49m\u001b[43m,\u001b[49m\u001b[38;5;124;43m'\u001b[39;49m\u001b[38;5;124;43mx\u001b[39;49m\u001b[38;5;124;43m'\u001b[39;49m\u001b[43m)\u001b[49m\n\u001b[0;32m      4\u001b[0m file\u001b[38;5;241m.\u001b[39mclose()\n",
      "File \u001b[1;32m~\\AppData\\Local\\Programs\\Python\\Python311\\Lib\\site-packages\\IPython\\core\\interactiveshell.py:286\u001b[0m, in \u001b[0;36m_modified_open\u001b[1;34m(file, *args, **kwargs)\u001b[0m\n\u001b[0;32m    279\u001b[0m \u001b[38;5;28;01mif\u001b[39;00m file \u001b[38;5;129;01min\u001b[39;00m {\u001b[38;5;241m0\u001b[39m, \u001b[38;5;241m1\u001b[39m, \u001b[38;5;241m2\u001b[39m}:\n\u001b[0;32m    280\u001b[0m     \u001b[38;5;28;01mraise\u001b[39;00m \u001b[38;5;167;01mValueError\u001b[39;00m(\n\u001b[0;32m    281\u001b[0m         \u001b[38;5;124mf\u001b[39m\u001b[38;5;124m\"\u001b[39m\u001b[38;5;124mIPython won\u001b[39m\u001b[38;5;124m'\u001b[39m\u001b[38;5;124mt let you open fd=\u001b[39m\u001b[38;5;132;01m{\u001b[39;00mfile\u001b[38;5;132;01m}\u001b[39;00m\u001b[38;5;124m by default \u001b[39m\u001b[38;5;124m\"\u001b[39m\n\u001b[0;32m    282\u001b[0m         \u001b[38;5;124m\"\u001b[39m\u001b[38;5;124mas it is likely to crash IPython. If you know what you are doing, \u001b[39m\u001b[38;5;124m\"\u001b[39m\n\u001b[0;32m    283\u001b[0m         \u001b[38;5;124m\"\u001b[39m\u001b[38;5;124myou can use builtins\u001b[39m\u001b[38;5;124m'\u001b[39m\u001b[38;5;124m open.\u001b[39m\u001b[38;5;124m\"\u001b[39m\n\u001b[0;32m    284\u001b[0m     )\n\u001b[1;32m--> 286\u001b[0m \u001b[38;5;28;01mreturn\u001b[39;00m \u001b[43mio_open\u001b[49m\u001b[43m(\u001b[49m\u001b[43mfile\u001b[49m\u001b[43m,\u001b[49m\u001b[43m \u001b[49m\u001b[38;5;241;43m*\u001b[39;49m\u001b[43margs\u001b[49m\u001b[43m,\u001b[49m\u001b[43m \u001b[49m\u001b[38;5;241;43m*\u001b[39;49m\u001b[38;5;241;43m*\u001b[39;49m\u001b[43mkwargs\u001b[49m\u001b[43m)\u001b[49m\n",
      "\u001b[1;31mFileExistsError\u001b[0m: [Errno 17] File exists: 'upflairs.txt'"
     ]
    }
   ],
   "source": [
    "# r , w , a , x \n",
    "\n",
    "file = open('upflairs.txt','x')\n",
    "file.close()"
   ]
  },
  {
   "cell_type": "code",
   "execution_count": 37,
   "id": "7b3493ba-1960-48f4-a592-9b5526f6ac53",
   "metadata": {},
   "outputs": [
    {
     "name": "stdout",
     "output_type": "stream",
     "text": [
      " Volume in drive C has no label.\n",
      " Volume Serial Number is 9C35-B5F9\n",
      "\n",
      " Directory of C:\\Users\\Ranjit\\Desktop\\offline batch\\testing\n",
      "\n",
      "20-05-2024  17:13    <DIR>          .\n",
      "20-05-2024  17:13    <DIR>          ..\n",
      "20-05-2024  17:11                53 demo.txt\n",
      "20-05-2024  17:09               361 demo2.txt\n",
      "18-05-2024  17:15                 8 hello.txt\n",
      "18-05-2024  18:27                92 test.txt\n",
      "20-05-2024  17:13                 0 upflairs.txt\n",
      "               5 File(s)            514 bytes\n",
      "               2 Dir(s)  29,719,113,728 bytes free\n"
     ]
    }
   ],
   "source": [
    "ls "
   ]
  },
  {
   "cell_type": "code",
   "execution_count": 42,
   "id": "429ca2d9-740d-4f30-aa3c-c0d19bfeaa59",
   "metadata": {},
   "outputs": [
    {
     "name": "stdout",
     "output_type": "stream",
     "text": [
      "6\n"
     ]
    }
   ],
   "source": [
    "with open('demo2.txt','r',encoding='utf-8') as file:\n",
    "    data = file.readlines()\n",
    "    print(len(data)) "
   ]
  },
  {
   "cell_type": "code",
   "execution_count": 43,
   "id": "6ffbfcb6-df9a-464b-aa30-4d747e789d80",
   "metadata": {},
   "outputs": [
    {
     "name": "stdout",
     "output_type": "stream",
     "text": [
      "we are jodhpur, learning data sciencewe are jodhpur, learning data sciencewe are jodhpur, learning data sciencewe are jodhpur, learning data science\n",
      " we are jodhpur, learning data science\n",
      " we are jodhpur, learning data science\n",
      " we are jodhpur, learning data science\n",
      " we are jodhpur, learning data science\n",
      " we are jodhpur, learning data science\n"
     ]
    }
   ],
   "source": [
    "with open('demo2.txt','r',encoding='utf-8') as file:\n",
    "    data = file.read()\n",
    "    print(data) "
   ]
  },
  {
   "cell_type": "code",
   "execution_count": 46,
   "id": "207b0478-b9ae-4a42-b369-b96424ec0c92",
   "metadata": {},
   "outputs": [],
   "source": [
    "new_ls = []\n",
    "for item in data.split():\n",
    "    new_ls.append(len(item))\n",
    "    "
   ]
  },
  {
   "cell_type": "code",
   "execution_count": 48,
   "id": "ada1b916-f910-47f9-a70f-8bcc61725a1f",
   "metadata": {},
   "outputs": [
    {
     "data": {
      "text/plain": [
       "9"
      ]
     },
     "execution_count": 48,
     "metadata": {},
     "output_type": "execute_result"
    }
   ],
   "source": [
    "max(new_ls )"
   ]
  },
  {
   "cell_type": "code",
   "execution_count": null,
   "id": "afa9d413-1db6-404f-aeac-d9d03542e2c1",
   "metadata": {},
   "outputs": [],
   "source": [
    "# 1. text file , count each and every character\n",
    "# character count program from the file and using file handling \n",
    "# a --> \n",
    "\n",
    "# 2. 'b'  mode "
   ]
  },
  {
   "cell_type": "markdown",
   "id": "d5cdafc5-7748-436d-9f8a-3861a4f46694",
   "metadata": {},
   "source": [
    "### EXCEPTION HANDLING \n",
    "\n",
    "<!-- try , except , else , finally  -->"
   ]
  },
  {
   "cell_type": "code",
   "execution_count": 54,
   "id": "8980bb21-c048-4c37-86ab-0c7606240343",
   "metadata": {},
   "outputs": [
    {
     "name": "stdout",
     "output_type": "stream",
     "text": [
      "program execution started \n"
     ]
    },
    {
     "name": "stdin",
     "output_type": "stream",
     "text": [
      "enter your age :  nine\n"
     ]
    },
    {
     "name": "stdout",
     "output_type": "stream",
     "text": [
      "error is occure\n",
      "hello world\n",
      "hello world\n",
      "hello world\n",
      "hello world\n",
      "till the end\n"
     ]
    }
   ],
   "source": [
    "try:\n",
    "    print('program execution started ')\n",
    "    age = int(input('enter your age : '))\n",
    "    print(age) \n",
    "except:\n",
    "    print('plz enter valid input')\n",
    "\n",
    "else:\n",
    "    print('hiii from else block') # if error then not execute\n",
    "\n",
    "finally:\n",
    "    print('i will execute always')\n",
    "\n",
    "print('hello world')\n",
    "print('hello world')\n",
    "print('hello world')\n",
    "print('hello world')\n",
    "print('till the end')\n"
   ]
  },
  {
   "cell_type": "code",
   "execution_count": 56,
   "id": "9571381b-6537-4e0b-a4a4-1e65156eb957",
   "metadata": {},
   "outputs": [
    {
     "ename": "ZeroDivisionError",
     "evalue": "division by zero",
     "output_type": "error",
     "traceback": [
      "\u001b[1;31m---------------------------------------------------------------------------\u001b[0m",
      "\u001b[1;31mZeroDivisionError\u001b[0m                         Traceback (most recent call last)",
      "Cell \u001b[1;32mIn[56], line 1\u001b[0m\n\u001b[1;32m----> 1\u001b[0m \u001b[38;5;241;43m10\u001b[39;49m\u001b[38;5;241;43m/\u001b[39;49m\u001b[38;5;241;43m0\u001b[39;49m\n",
      "\u001b[1;31mZeroDivisionError\u001b[0m: division by zero"
     ]
    }
   ],
   "source": [
    "10/0"
   ]
  },
  {
   "cell_type": "code",
   "execution_count": 61,
   "id": "b0d374cc-b18d-4629-950a-c7587a882bd4",
   "metadata": {},
   "outputs": [],
   "source": [
    "def func(): \n",
    "    pass \n"
   ]
  },
  {
   "cell_type": "code",
   "execution_count": 66,
   "id": "a95ba246-12ad-405d-94a5-5998a353508e",
   "metadata": {},
   "outputs": [
    {
     "name": "stdin",
     "output_type": "stream",
     "text": [
      "enter your first number ;  10\n",
      "enter your second number ;  2\n"
     ]
    },
    {
     "name": "stdout",
     "output_type": "stream",
     "text": [
      "5.0\n",
      "can only concatenate str (not \"int\") to str\n"
     ]
    }
   ],
   "source": [
    "try:\n",
    "    num1 = int(input('enter your first number ; '))\n",
    "    num2 = int(input('enter your second number ; '))\n",
    "    \n",
    "    result =  num1/ num2\n",
    "    print(result)\n",
    "\n",
    "    s1 = 'hello'\n",
    "    s2 = ' world'\n",
    "    num3 = 4\n",
    "    output = s1 + s2 + num3\n",
    "    print(output) \n",
    "    \n",
    "except ValueError:\n",
    "    print(\"plz enter only numeric value\") \n",
    "\n",
    "except ZeroDivisionError:\n",
    "    print('plz dont insert zero')\n",
    "\n",
    "except Exception as e:\n",
    "    print(e) \n",
    "    \n",
    "\n",
    "# ValueError"
   ]
  },
  {
   "cell_type": "code",
   "execution_count": 67,
   "id": "e8499648-d7a8-43b5-b383-7c392fe3e885",
   "metadata": {},
   "outputs": [
    {
     "ename": "TypeError",
     "evalue": "can only concatenate str (not \"int\") to str",
     "output_type": "error",
     "traceback": [
      "\u001b[1;31m---------------------------------------------------------------------------\u001b[0m",
      "\u001b[1;31mTypeError\u001b[0m                                 Traceback (most recent call last)",
      "Cell \u001b[1;32mIn[67], line 1\u001b[0m\n\u001b[1;32m----> 1\u001b[0m \u001b[38;5;124;43m'\u001b[39;49m\u001b[38;5;124;43mhello \u001b[39;49m\u001b[38;5;124;43m'\u001b[39;49m\u001b[43m \u001b[49m\u001b[38;5;241;43m+\u001b[39;49m\u001b[43m \u001b[49m\u001b[38;5;241;43m25\u001b[39;49m \n",
      "\u001b[1;31mTypeError\u001b[0m: can only concatenate str (not \"int\") to str"
     ]
    }
   ],
   "source": [
    "'hello ' + 25 "
   ]
  },
  {
   "cell_type": "code",
   "execution_count": 68,
   "id": "cc5a45ed-39b6-4fe8-b077-c34912fb23fd",
   "metadata": {},
   "outputs": [],
   "source": [
    "### oops \n"
   ]
  },
  {
   "cell_type": "code",
   "execution_count": null,
   "id": "179fc7f1-5666-41c8-842c-2c8ad6b9b4b6",
   "metadata": {},
   "outputs": [],
   "source": [
    "#### progrming \n",
    "core part -->\n",
    "oop part -- > oop \n"
   ]
  },
  {
   "cell_type": "code",
   "execution_count": null,
   "id": "23ca05a2-75d1-460a-ba0d-b7579f529ea9",
   "metadata": {},
   "outputs": [],
   "source": [
    "# var \n",
    "# if else \n",
    "# for loop \n",
    "# def \n",
    "# def \n",
    "# var \n"
   ]
  },
  {
   "cell_type": "code",
   "execution_count": null,
   "id": "892040de-9339-4306-96c4-5bad6aecb5b7",
   "metadata": {},
   "outputs": [],
   "source": [
    "# class is a blueprint to write the code , atribut and method \n",
    "# variable , function --> class properties \n",
    "\n",
    "\n",
    "# oob  --> object oriented programing - "
   ]
  },
  {
   "cell_type": "code",
   "execution_count": 71,
   "id": "b50f6a63-2245-4d80-adfe-5aa70fcc7a2c",
   "metadata": {},
   "outputs": [],
   "source": [
    "name = 'upflairs '"
   ]
  },
  {
   "cell_type": "code",
   "execution_count": 80,
   "id": "365eea1d-f646-4d89-a3b5-66ae4e945d5c",
   "metadata": {},
   "outputs": [
    {
     "name": "stdout",
     "output_type": "stream",
     "text": [
      "sutudent name :  Rohit kumar\n",
      "student_branch :  cse\n"
     ]
    }
   ],
   "source": [
    "class Student:\n",
    "\n",
    "    #public variable or global variable or class variable \n",
    "    student_name = \"Rohit kumar\"\n",
    "    student_branch = \"cse\"\n",
    "    student_roll_no = 101 \n",
    "\n",
    "    def display(self):   # oop method \n",
    "        print(\"sutudent name : \",self.student_name)\n",
    "        print(\"student_branch : \",self.student_branch)\n",
    "        \n",
    "\n",
    "    \n",
    "    # print(student_name)\n",
    "\n",
    "# object or instance create \n",
    "obj  = Student()\n",
    "obj.display()\n"
   ]
  },
  {
   "cell_type": "code",
   "execution_count": 76,
   "id": "34e07a78-d630-4418-9b34-e9d13b7e8441",
   "metadata": {},
   "outputs": [
    {
     "data": {
      "text/plain": [
       "'Rohit kumar'"
      ]
     },
     "execution_count": 76,
     "metadata": {},
     "output_type": "execute_result"
    }
   ],
   "source": [
    "obj.student_name"
   ]
  }
 ],
 "metadata": {
  "kernelspec": {
   "display_name": "Python 3 (ipykernel)",
   "language": "python",
   "name": "python3"
  },
  "language_info": {
   "codemirror_mode": {
    "name": "ipython",
    "version": 3
   },
   "file_extension": ".py",
   "mimetype": "text/x-python",
   "name": "python",
   "nbconvert_exporter": "python",
   "pygments_lexer": "ipython3",
   "version": "3.11.5"
  }
 },
 "nbformat": 4,
 "nbformat_minor": 5
}
