{
 "cells": [
  {
   "cell_type": "code",
   "execution_count": 3,
   "id": "561a6be4-d95a-46ec-a742-093839fb7a50",
   "metadata": {
    "scrolled": true
   },
   "outputs": [
    {
     "name": "stdout",
     "output_type": "stream",
     "text": [
      "hello world\n"
     ]
    }
   ],
   "source": [
    "print(\"hello world\")"
   ]
  },
  {
   "cell_type": "markdown",
   "id": "6c1669ea-b4ab-411a-840c-0717655457c8",
   "metadata": {},
   "source": [
    "<h2>FILE HANDLING </h2>"
   ]
  },
  {
   "cell_type": "code",
   "execution_count": 5,
   "id": "0977a590-dbcd-4b24-b85d-cf2d04664d98",
   "metadata": {},
   "outputs": [
    {
     "data": {
      "text/plain": [
       "'C:\\\\Users\\\\Ranjit\\\\Desktop\\\\offline batch'"
      ]
     },
     "execution_count": 5,
     "metadata": {},
     "output_type": "execute_result"
    }
   ],
   "source": [
    "pwd "
   ]
  },
  {
   "cell_type": "code",
   "execution_count": 6,
   "id": "e6ac0aab-1a3b-4a09-89cb-8b82722a4535",
   "metadata": {},
   "outputs": [
    {
     "name": "stdout",
     "output_type": "stream",
     "text": [
      " Volume in drive C has no label.\n",
      " Volume Serial Number is 9C35-B5F9\n",
      "\n",
      " Directory of C:\\Users\\Ranjit\\Desktop\\offline batch\n",
      "\n",
      "18-05-2024  18:16    <DIR>          .\n",
      "18-05-2024  18:16    <DIR>          ..\n",
      "18-05-2024  18:10    <DIR>          .ipynb_checkpoints\n",
      "17-05-2024  18:29    <DIR>          __pycache__\n",
      "15-05-2024  18:28               836 day1.py\n",
      "16-05-2024  18:42             1,769 day2.py\n",
      "17-05-2024  18:03             1,707 day3.py\n",
      "18-05-2024  18:00               976 day4.py\n",
      "18-05-2024  18:16             3,711 file_handling.ipynb\n",
      "17-05-2024  18:24               243 hellllllllllllllllllllllllllllo.py\n",
      "17-05-2024  18:31               283 test.py\n",
      "18-05-2024  17:14    <DIR>          testing\n",
      "18-05-2024  17:31    <DIR>          testing2\n",
      "               7 File(s)          9,525 bytes\n",
      "               6 Dir(s)  30,422,536,192 bytes free\n"
     ]
    }
   ],
   "source": [
    "ls "
   ]
  },
  {
   "cell_type": "code",
   "execution_count": 7,
   "id": "5d3d1c02-0c2a-4ddc-8de0-e2dd91db3f11",
   "metadata": {},
   "outputs": [],
   "source": [
    "import os "
   ]
  },
  {
   "cell_type": "code",
   "execution_count": 9,
   "id": "1f4932da-2264-4c20-863f-fb3d4af7efb3",
   "metadata": {},
   "outputs": [],
   "source": [
    "os.chdir('testing')"
   ]
  },
  {
   "cell_type": "code",
   "execution_count": 10,
   "id": "2dd222ec-dd71-4d75-a821-1309d5a630f6",
   "metadata": {},
   "outputs": [
    {
     "data": {
      "text/plain": [
       "'C:\\\\Users\\\\Ranjit\\\\Desktop\\\\offline batch\\\\testing'"
      ]
     },
     "execution_count": 10,
     "metadata": {},
     "output_type": "execute_result"
    }
   ],
   "source": [
    "pwd "
   ]
  },
  {
   "cell_type": "code",
   "execution_count": 20,
   "id": "a0586346-6f50-477f-a4b2-b464cb43c059",
   "metadata": {},
   "outputs": [],
   "source": [
    "file = open('test.txt','w')   # file open , create\n",
    "data = \"\"\"\n",
    "this is my first file that i \n",
    "created using file handling, good evening to all of youu!\n",
    "\"\"\"\n",
    "file.write(data)\n",
    "file.close()"
   ]
  },
  {
   "cell_type": "code",
   "execution_count": 21,
   "id": "4af85f5a-a937-4017-a0da-0c397bfcaabf",
   "metadata": {},
   "outputs": [
    {
     "name": "stdout",
     "output_type": "stream",
     "text": [
      "\n",
      "this is my first file that i \n",
      "created using file handling, good evening to all of youu!\n",
      "\n"
     ]
    }
   ],
   "source": [
    "file = open(\"test.txt\",'r') \n",
    "data = file.read()\n",
    "print(data)\n",
    "        "
   ]
  },
  {
   "cell_type": "code",
   "execution_count": null,
   "id": "7a814abd-2955-4d41-8d29-ea258d342638",
   "metadata": {},
   "outputs": [],
   "source": []
  },
  {
   "cell_type": "code",
   "execution_count": null,
   "id": "4aa17fe5-62ab-4514-9dd5-e9303e531f8b",
   "metadata": {},
   "outputs": [],
   "source": []
  },
  {
   "cell_type": "code",
   "execution_count": null,
   "id": "8a46f71d-a56f-450d-b753-2ceaa81d855b",
   "metadata": {},
   "outputs": [],
   "source": []
  },
  {
   "cell_type": "code",
   "execution_count": null,
   "id": "61802e61-bafd-4a41-9205-287981f14c57",
   "metadata": {},
   "outputs": [],
   "source": []
  },
  {
   "cell_type": "code",
   "execution_count": null,
   "id": "ca78baf8-11a6-4df9-9e48-e2a4cb9788dc",
   "metadata": {},
   "outputs": [],
   "source": []
  },
  {
   "cell_type": "code",
   "execution_count": null,
   "id": "466ce43e-ba41-49ef-869c-047e9f8aee50",
   "metadata": {},
   "outputs": [],
   "source": []
  },
  {
   "cell_type": "code",
   "execution_count": null,
   "id": "382654ed-1e5d-450d-8cc1-f00356af03f2",
   "metadata": {},
   "outputs": [],
   "source": []
  },
  {
   "cell_type": "code",
   "execution_count": null,
   "id": "94d6440d-c776-447f-a579-31a187de3f0c",
   "metadata": {},
   "outputs": [],
   "source": []
  },
  {
   "cell_type": "code",
   "execution_count": null,
   "id": "33733faa-6f99-459d-b66b-d5b89cdc0953",
   "metadata": {},
   "outputs": [],
   "source": []
  }
 ],
 "metadata": {
  "kernelspec": {
   "display_name": "Python 3 (ipykernel)",
   "language": "python",
   "name": "python3"
  },
  "language_info": {
   "codemirror_mode": {
    "name": "ipython",
    "version": 3
   },
   "file_extension": ".py",
   "mimetype": "text/x-python",
   "name": "python",
   "nbconvert_exporter": "python",
   "pygments_lexer": "ipython3",
   "version": "3.11.5"
  }
 },
 "nbformat": 4,
 "nbformat_minor": 5
}
