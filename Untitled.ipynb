{
 "cells": [
  {
   "cell_type": "code",
   "execution_count": 1,
   "id": "e2b63551-5249-4151-abdc-cc64e40fbe21",
   "metadata": {},
   "outputs": [
    {
     "name": "stdout",
     "output_type": "stream",
     "text": [
      "mohit kumar\n"
     ]
    }
   ],
   "source": [
    "from abc import ABC,abstractmethod\n",
    "class Manger(ABC): \n",
    "    ## abastract method ,\n",
    "    ## concrete method \n",
    "    manager_name = 'suresh chandra'\n",
    "    \n",
    "    @abstractmethod \n",
    "    def display(): \n",
    "        print(manager_name) \n",
    "\n",
    "class Employee(Manger):\n",
    "    employee_name = \"mohit kumar\"\n",
    "    def display(self):\n",
    "        print(self.employee_name)\n",
    "\n",
    "obj = Employee()\n",
    "obj.display()\n",
    "\n",
    "    \n",
    "            "
   ]
  },
  {
   "cell_type": "code",
   "execution_count": 2,
   "id": "72bde17d-4e51-49ee-8fa2-5a9175655126",
   "metadata": {},
   "outputs": [
    {
     "data": {
      "text/plain": [
       "[__main__.Employee, __main__.Manger, abc.ABC, object]"
      ]
     },
     "execution_count": 2,
     "metadata": {},
     "output_type": "execute_result"
    }
   ],
   "source": [
    "Employee.mro()  # method resolution order "
   ]
  },
  {
   "cell_type": "code",
   "execution_count": 5,
   "id": "f77766b6-3ec3-40cc-a561-f970b3ed697e",
   "metadata": {},
   "outputs": [
    {
     "name": "stdout",
     "output_type": "stream",
     "text": [
      "__main__\n"
     ]
    }
   ],
   "source": [
    "     # helo.py \n",
    "print(__name__)\n",
    "\n",
    " python helo.py "
   ]
  },
  {
   "cell_type": "code",
   "execution_count": 4,
   "id": "57a9a0ee-58c5-4d80-b9f4-ee591352dec0",
   "metadata": {},
   "outputs": [
    {
     "data": {
      "text/plain": [
       "[__main__.Employeee, __main__.Student, object]"
      ]
     },
     "execution_count": 4,
     "metadata": {},
     "output_type": "execute_result"
    }
   ],
   "source": [
    "class Student:\n",
    "    pass \n",
    "class Employeee(Student):\n",
    "    pass \n",
    "\n",
    "Employeee.mro()"
   ]
  },
  {
   "cell_type": "code",
   "execution_count": null,
   "id": "f9ef368d-846d-4e57-9e0a-775b8502e255",
   "metadata": {},
   "outputs": [],
   "source": [
    "if __name__ ==\"__main__\":\n",
    "    dhfdfl \n",
    "    "
   ]
  },
  {
   "cell_type": "code",
   "execution_count": null,
   "id": "4b1dc520-1675-4c8e-9cc5-4a3e1f677dc5",
   "metadata": {},
   "outputs": [],
   "source": [
    "## abstract , interface   "
   ]
  },
  {
   "cell_type": "code",
   "execution_count": null,
   "id": "82edcc69-e41e-411f-b579-e8753e74b610",
   "metadata": {},
   "outputs": [],
   "source": [
    "## project \n",
    "email sending program  <-- as a assignment \n",
    "ranjit.upflairs@gmail.com \n",
    "name , "
   ]
  },
  {
   "cell_type": "code",
   "execution_count": null,
   "id": "a72aa666-5ef7-4e52-8129-fd9ea2113893",
   "metadata": {},
   "outputs": [],
   "source": [
    "# CLI BASED CHAT APPLICATION \n",
    "\n",
    "# python libraries or module  (os )  \n",
    "# numpy  \n",
    "\n",
    "pip --> package manager \n",
    "\n",
    "pip install numpy \n",
    "\n",
    "pip uninstall numpy \n",
    "\n",
    "pip3 install library_name "
   ]
  },
  {
   "cell_type": "code",
   "execution_count": null,
   "id": "1926e4c2-58a5-456a-bfe1-80be02f5cc25",
   "metadata": {},
   "outputs": [],
   "source": []
  }
 ],
 "metadata": {
  "kernelspec": {
   "display_name": "Python 3 (ipykernel)",
   "language": "python",
   "name": "python3"
  },
  "language_info": {
   "codemirror_mode": {
    "name": "ipython",
    "version": 3
   },
   "file_extension": ".py",
   "mimetype": "text/x-python",
   "name": "python",
   "nbconvert_exporter": "python",
   "pygments_lexer": "ipython3",
   "version": "3.11.5"
  }
 },
 "nbformat": 4,
 "nbformat_minor": 5
}
